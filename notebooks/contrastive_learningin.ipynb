{
 "cells": [
  {
   "cell_type": "code",
   "execution_count": null,
   "metadata": {},
   "outputs": [],
   "source": [
    "# https://github.com/ivanpanshin/SupCon-Framework/tree/main\n",
    "# https://towardsdatascience.com/how-to-use-metric-learning-embedding-is-all-you-need-f26e01597375"
   ]
  }
 ],
 "metadata": {
  "language_info": {
   "name": "python"
  },
  "orig_nbformat": 4
 },
 "nbformat": 4,
 "nbformat_minor": 2
}
