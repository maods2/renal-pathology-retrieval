{
 "cells": [
  {
   "cell_type": "markdown",
   "id": "cafd6470-bc08-46fd-8e5b-19b5adfdfd2b",
   "metadata": {},
   "source": [
    "## Imports"
   ]
  },
  {
   "cell_type": "code",
   "execution_count": 1,
   "id": "f86c7dd6-4e3d-4a6f-90ef-c4c7ae87b114",
   "metadata": {},
   "outputs": [],
   "source": [
    "import os\n",
    "import torch\n",
    "import torch.nn as nn\n",
    "import torch.optim as optim\n",
    "from torch.utils.data import DataLoader, Dataset\n",
    "#from torchvision.datasets import ImageFolder\n",
    "import torch.nn.functional as F\n",
    "import torchvision.transforms as transforms\n",
    "#rom torchvision.models import efficientnet_b0, EfficientNet_B0_Weights\n",
    "from torchvision.models import resnet18, ResNet18_Weights\n",
    "# from efficientnet_pytorch import EfficientNet\n",
    "\n",
    "import random\n",
    "from PIL import Image, ImageFile\n",
    "ImageFile.LOAD_TRUNCATED_IMAGES = True\n",
    "import numpy as np\n",
    "\n",
    "import torchvision\n",
    "import matplotlib.pyplot as plt\n",
    "import pandas as pd\n",
    "\n",
    "from tqdm import tqdm\n",
    "# from cv2 import INTER_CUBIC\n",
    "import albumentations as A\n",
    "from albumentations.pytorch import ToTensorV2"
   ]
  },
  {
   "cell_type": "markdown",
   "id": "3478dd2c-7dbc-4b33-b849-eff80bf09f7d",
   "metadata": {},
   "source": [
    "## Statistics"
   ]
  },
  {
   "cell_type": "markdown",
   "id": "5cc8ee81-5f4f-47ec-bec8-bdfd3b7916e8",
   "metadata": {},
   "source": [
    "### Number of images"
   ]
  },
  {
   "cell_type": "code",
   "execution_count": 2,
   "id": "c2f65fad-bac0-4f77-b858-93e1782e0530",
   "metadata": {},
   "outputs": [
    {
     "name": "stdout",
     "output_type": "stream",
     "text": [
      "There are 16824 images\n"
     ]
    }
   ],
   "source": [
    "input_dir = 'folds-novos/'\n",
    "img_filenames = set()\n",
    "for filename in sorted(os.listdir(input_dir)):\n",
    "    if filename.endswith('.txt'):\n",
    "        with open(os.path.join(input_dir, filename)) as file:\n",
    "            for line in file:\n",
    "                if line.strip():\n",
    "                    img_filenames.add(line.strip())\n",
    "\n",
    "print(f'There are {len(img_filenames)} images')"
   ]
  },
  {
   "cell_type": "markdown",
   "id": "05837444-b441-49de-8533-797a5375720c",
   "metadata": {},
   "source": [
    "### Number of unique patients"
   ]
  },
  {
   "cell_type": "code",
   "execution_count": 3,
   "id": "6d020f6c-b6a2-4587-a297-6c2c29ad5f6b",
   "metadata": {},
   "outputs": [
    {
     "name": "stdout",
     "output_type": "stream",
     "text": [
      "There are 13155 patients\n"
     ]
    }
   ],
   "source": [
    "unique_pids = set()\n",
    "for img_filename in img_filenames:\n",
    "    unique_pids.add(img_filename.split('-')[3])\n",
    "print(f'There are {len(unique_pids)} patients')"
   ]
  },
  {
   "cell_type": "markdown",
   "id": "aae5decb-26d9-4543-939f-5a9f1f654538",
   "metadata": {},
   "source": [
    "## Porcentagem de duplicatas"
   ]
  },
  {
   "cell_type": "code",
   "execution_count": 4,
   "id": "6e44648f-0d47-4a94-ad4c-9469a5b0934b",
   "metadata": {},
   "outputs": [
    {
     "name": "stdout",
     "output_type": "stream",
     "text": [
      "There are 21.81 % same images\n"
     ]
    }
   ],
   "source": [
    "n = 1 - len(unique_pids)/len(img_filenames)\n",
    "print(f\"There are {n*100:.2f} % same images\")"
   ]
  },
  {
   "cell_type": "code",
   "execution_count": 5,
   "id": "1cdcc026-298d-404c-8727-9c8d8fde36e7",
   "metadata": {},
   "outputs": [],
   "source": [
    "class SiameseNetwork(nn.Module):\n",
    "    def __init__(self):\n",
    "        super(SiameseNetwork, self).__init__()\n",
    "        #self.backbone = efficientnet_b0(weights=EfficientNet_B0_Weights.DEFAULT)\n",
    "        self.backbone = resnet18(weights=ResNet18_Weights.DEFAULT)\n",
    "        self.fc1 = nn.Sequential(nn.Linear(2*1000, 512),\n",
    "                                nn.ReLU(inplace=True))\n",
    "\n",
    "        self.fc2 = nn.Linear(512, 512)\n",
    "        self.fc3 = nn.Linear(512, 2)\n",
    "\n",
    "    def forward_once(self,x):\n",
    "        output = self.backbone(x)\n",
    "        output = output.view(output.size()[0], -1)\n",
    "        return output\n",
    "        \n",
    "    def forward(self, x1, x2):\n",
    "        output1 = self.forward_once(x1)\n",
    "        output2 = self.forward_once(x2)\n",
    "\n",
    "        output1 = output1.view(output1.size()[0], -1)\n",
    "        output2 = output2.view(output2.size()[0], -1)\n",
    "        \n",
    "        output = torch.cat((output1, output2), 1)\n",
    "        output = F.relu(self.fc1(output))\n",
    "        output = F.relu(self.fc2(output))\n",
    "        output = self.fc3(output)\n",
    "        return output\n",
    "        \n",
    "        return output1, output2"
   ]
  },
  {
   "cell_type": "code",
   "execution_count": 6,
   "id": "d43849c4-6a31-4f47-a387-59445839bb84",
   "metadata": {},
   "outputs": [],
   "source": [
    "#from efficientnet_pytorch import EfficientNet\n",
    "\n",
    "#model = EfficientNet.from_pretrained('efficientnet-b0')\n",
    "# model = resnet18(weights=ResNet18_Weights.DEFAULT)\n",
    "siamese_net = SiameseNetwork()"
   ]
  },
  {
   "cell_type": "code",
   "execution_count": 7,
   "id": "776d62f3-bbdc-4ffc-9495-d287397f1e56",
   "metadata": {},
   "outputs": [],
   "source": [
    "class ContrastiveLoss(nn.Module):\n",
    "    def __init__(self, margin=1): # TODO: threshold of the positive and negative results\n",
    "        super(ContrastiveLoss, self).__init__()\n",
    "        self.margin = margin\n",
    " \n",
    "    #valor 1 indica que as entradas pertencem à mesma classe\n",
    "    #valor 0 indica que elas pertencem a classes diferentes\n",
    "    \n",
    "    def forward(self, output1, output2, label):\n",
    "        euclidean_distance = torch.norm(output1 - output2, p=2, dim=1)\n",
    "        loss_contrastive = torch.mean((1-label) * torch.pow(euclidean_distance, 2) +\n",
    "                                      (label) * torch.pow(torch.clamp(self.margin - euclidean_distance, min=0.0), 2))\n",
    "\n",
    "        return loss_contrastive"
   ]
  },
  {
   "cell_type": "code",
   "execution_count": 8,
   "id": "2df0556e-c438-4462-93ce-c8ad34ce8581",
   "metadata": {},
   "outputs": [],
   "source": [
    "transform1 = A.Compose([\n",
    "                A.Resize(height=224, width=224),\n",
    "                A.Normalize(mean=[0.485, 0.456, 0.406], std=[0.229, 0.224, 0.225]),\n",
    "                ToTensorV2()])"
   ]
  },
  {
   "cell_type": "code",
   "execution_count": 9,
   "id": "cd3f725e-8f9d-4334-add4-a9c003c709c5",
   "metadata": {},
   "outputs": [],
   "source": [
    "class SiameseDataset(Dataset):\n",
    "    def __init__(\n",
    "        self,\n",
    "        root_dir: str,\n",
    "        fold_nums: list,\n",
    "        fold_txt_dir: str,\n",
    "        train,\n",
    "        img_transforms\n",
    "    ):\n",
    "        \n",
    "        super(SiameseDataset, self).__init__()\n",
    "        \n",
    "        self.root_dir = root_dir\n",
    "        self.fold_nums = fold_nums\n",
    "        self.img_transforms = img_transforms\n",
    "\n",
    "        self.fold_txt_dir = fold_txt_dir\n",
    "        self.train = train\n",
    "        self.filepaths = []\n",
    "        file, ids = [], []\n",
    "\n",
    "        for i in fold_nums:\n",
    "            filepath = os.path.join(root_dir, fold_txt_dir, f'fold-{i}.txt')\n",
    "            with open(filepath) as txt_file:\n",
    "                for line in txt_file:\n",
    "                    if line.strip():\n",
    "                        filename = line.strip()\n",
    "                        if filename.startswith('panreport'):\n",
    "                            self.filepaths.append(os.path.join(root_dir, filename))\n",
    "                        else:\n",
    "                            self.filepaths.append(os.path.join(root_dir, filename))\n",
    "\n",
    "        # this maybe useful later for reproducibility\n",
    "        self.filepaths.sort()\n",
    "        # self.filepaths = self.filepaths[:1000]  #split do dataset para 1000 imagens\n",
    "        print(f'Number of images is {len(self.filepaths)}')\n",
    "\n",
    "    def __len__(self):\n",
    "        return len(self.filepaths)\n",
    "\n",
    "    def _get_pid(self, img_filepath):\n",
    "        return img_filepath.split('/')[-1].split('-')[3]\n",
    "        \n",
    "    def __getitem__(self, idx):\n",
    "        img_filepath_01 = self.filepaths[idx]\n",
    "        target = random.randint(0, 1)\n",
    "\n",
    "        # Nós escolhemos entre dois tipos de target:\n",
    "        # 0 - Pacientes diferentes\n",
    "        # 1 - Mesmo paciente\n",
    "        # Se target == 1 e não encontramos um paciente correspondente a imagem\n",
    "        # img_filepath_01, alteramos o target para 0 e selecionamos uma imagem aleatória\n",
    "        \n",
    "        if target == 1:\n",
    "            random.shuffle(self.filepaths)\n",
    "            for img_filepath_02 in self.filepaths:\n",
    "                if self._get_pid(img_filepath_01) == self._get_pid(img_filepath_02) and img_filepath_01 != img_filepath_02:\n",
    "                    break\n",
    "            else:\n",
    "                target = 0\n",
    "                img_filepath_02 = random.choice(self.filepaths)\n",
    "        else:\n",
    "            random.shuffle(self.filepaths)\n",
    "            for img_filepath_02 in self.filepaths:\n",
    "                if self._get_pid(img_filepath_01) != self._get_pid(img_filepath_02):\n",
    "                    break\n",
    "\n",
    "        image1 = Image.open(img_filepath_01).convert('RGB')\n",
    "        image2 = Image.open(img_filepath_02).convert('RGB')\n",
    "        \n",
    "        \n",
    "        # apply transforms\n",
    "        if self.train:\n",
    "            image1, image2 = np.array(image1), np.array(image2)\n",
    "\n",
    "            image1 = self.img_transforms(image = image1)['image']\n",
    "\n",
    "            if img_filepath_01 == img_filepath_02: \n",
    "                image2 = self.img_transforms(image = image2)['image']\n",
    "            else:\n",
    "                image2 = self.img_transforms(image = image2)['image']\n",
    "        else:\n",
    "            image1, image2 = np.array(image1), np.array(image2)\n",
    "            image1 = self.img_transforms(image = image1)['image']\n",
    "            image2 = self.img_transforms(image = image2)['image']\n",
    "\n",
    "\n",
    "\n",
    "        return (image1, image2, target, img_filepath_01, img_filepath_02)"
   ]
  },
  {
   "cell_type": "code",
   "execution_count": 10,
   "id": "c1d1afe2-3b1d-45c8-a41e-54d82e3291c4",
   "metadata": {
    "jupyter": {
     "source_hidden": true
    }
   },
   "outputs": [],
   "source": [
    "# class siamese_dataset_2(Dataset):\n",
    "#     def __init__(self,\n",
    "#                 root_dir: str,\n",
    "#                 fold_nums: list,\n",
    "#                 fold_txt_dir: str,\n",
    "#                 train,\n",
    "#                 transforms1,\n",
    "#                 transforms2):\n",
    "        \n",
    "#         super(siamese_dataset_2, self).__init__()\n",
    "        \n",
    "#         self.root_dir = root_dir\n",
    "#         self.fold_nums = fold_nums\n",
    "#         self.transforms1 = transforms1\n",
    "#         self.transforms2 = transforms2\n",
    "\n",
    "#         self.fold_txt_dir = fold_txt_dir\n",
    "#         self.train = train\n",
    "#         self.data = []\n",
    "#         self.use_1st = False\n",
    "#         self.dic = {}\n",
    "#         file,ids = [],[]\n",
    "\n",
    "#         for i in fold_nums:\n",
    "#             filepath = os.path.join(root_dir, fold_txt_dir, f'fold-{i}.txt')\n",
    "#             #filepath = os.path.join(root_dir, fold_txt_dir, f'{i:02d}.txt')\n",
    "#             with open(filepath) as txt_file:\n",
    "#                 for line in txt_file:\n",
    "#                     img_relpath = line.strip()\n",
    "#                     # if not self.use_1st and img_relpath.startswith('1st-set/'):\n",
    "#                     #     continue\n",
    "#                     filename = img_relpath.split('/')[-1]\n",
    "#                     # pid = filename.split('-')[3]\n",
    "#                     try:\n",
    "#                         pid = filename.split('-')[3]\n",
    "#                         # file.append(pid)\n",
    "#                         # ids.append(pid)\n",
    "#                         self.data.append(os.path.join(root_dir, img_relpath))\n",
    "#                     except:\n",
    "#                         print(\"An exception occurred\")\n",
    "                    \n",
    "\n",
    "#         # this maybe useful later for reproducibility\n",
    "#         self.data.sort()\n",
    "#         df = pd.DataFrame(self.data, columns=['path'])\n",
    "#         df['id'] = df.path.apply(lambda x : x.strip().split('/')[-1].split('-')[3])\n",
    "        \n",
    "#         for a, i in df.iterrows():\n",
    "#             self.dic[i.id] = list(df[df.id == i.id].path) # cria um dicionario com id iguais\n",
    "\n",
    "\n",
    "#     def __len__(self):\n",
    "#         return len(self.data)\n",
    "        \n",
    "#     def __getitem__(self, idx):\n",
    "\n",
    "        \n",
    "\n",
    "\n",
    "#         target = np.random.randint(0,2) # 0 ou 1\n",
    "\n",
    "#         image_1_id = random.choice(list(self.dic.keys())) # escolhe aleatoriamente a primeira imagem\n",
    "#         images = self.dic[image_1_id]\n",
    "#         image_1_filepath = random.choice(images)\n",
    "\n",
    "#         if target == 1:\n",
    "#             image_2_filepath = random.choice(images)\n",
    "\n",
    "#         else: \n",
    "#         # Escolher um elemento aleatório da lista_total, se target igual a 0, image_1 nunca deve ser igual a image_2\n",
    "#             image_2_id = image_1_id\n",
    "#             while image_1_id == image_2_id:\n",
    "#                 image_2_id = random.choice(list(self.dic.keys()))\n",
    "#                 images = self.dic[image_2_id]\n",
    "#                 image_2_filepath = random.choice(images)\n",
    "\n",
    "#         image1 = Image.open(image_1_filepath).convert('RGB')\n",
    "#         image2 = Image.open(image_2_filepath).convert('RGB')\n",
    "        \n",
    "        \n",
    "#         # apply transforms\n",
    "#         if self.train:\n",
    "#             image1, image2 = np.array(image1), np.array(image2)\n",
    "\n",
    "#             image1 = self.transforms1(image = image1)['image']\n",
    "\n",
    "#             if image_1_filepath == image_2_filepath: \n",
    "#                 image2 = self.transforms2(image = image2)['image']\n",
    "#             else:\n",
    "#                 image2 = self.transforms1(image = image2)['image']\n",
    "#         else:\n",
    "#             image1, image2 = np.array(image1), np.array(image2)\n",
    "#             image1 = self.transforms1(image = image1)['image']\n",
    "#             image2 = self.transforms1(image = image2)['image']\n",
    "\n",
    "#         return (image1, image2, target, image_1_filepath, image_2_filepath)"
   ]
  },
  {
   "cell_type": "code",
   "execution_count": 11,
   "id": "6bab4eb3-cbbe-4fd9-9768-bb9bc3f51fae",
   "metadata": {},
   "outputs": [
    {
     "name": "stdout",
     "output_type": "stream",
     "text": [
      "Number of images is 11212\n",
      "Number of images is 2808\n",
      "Number of images is 2804\n"
     ]
    }
   ],
   "source": [
    "# definir diretório de imagens\n",
    "data_dir = '/home/bernardo/github/sex-age-estimation/backup-bia/patch-1/data/pan-radiographs/images/'\n",
    "#fold_txt_dir = '/home/bernardo/github/sex-age-estimation/backup-bia/patch-1/folds-filtrados/'\n",
    "fold_txt_dir = '/home/bernardo/github/sex-age-estimation/backup-bia/patch-1/folds-novos/'\n",
    "\n",
    "batch_size = 64\n",
    "train_folds = [1,2,3,4]\n",
    "val_fold = [5]\n",
    "test_fold = [6] # fold-6 para teste\n",
    "\n",
    "# folds 1,2,3,4,5 para treino e validação\n",
    "\n",
    "# conjuntos de treinamento e teste\n",
    "\n",
    "train_dataset = SiameseDataset(data_dir, train_folds, fold_txt_dir, True, transform1)\n",
    "train_dataloader = DataLoader(train_dataset, batch_size=batch_size, shuffle=True)\n",
    "\n",
    "val_dataset = SiameseDataset(data_dir, val_fold, fold_txt_dir, True, transform1)\n",
    "val_dataloader = DataLoader(val_dataset, batch_size=batch_size, shuffle=True)\n",
    "\n",
    "test_dataset = SiameseDataset(data_dir,test_fold, fold_txt_dir, False, transform1)\n",
    "test_dataloader = DataLoader(test_dataset, batch_size=batch_size, shuffle=True)"
   ]
  },
  {
   "cell_type": "markdown",
   "id": "bf2aa16b-28ab-4fe3-a369-25bdf313077b",
   "metadata": {},
   "source": [
    "# visualizar imagens"
   ]
  },
  {
   "cell_type": "markdown",
   "id": "6ebf3dd2-efea-43da-b11a-098d416a6504",
   "metadata": {},
   "source": [
    "## Checkpoint (pesos)"
   ]
  },
  {
   "cell_type": "code",
   "execution_count": 12,
   "id": "291c872e-d17b-432e-9686-2b7d1dbcb2c0",
   "metadata": {},
   "outputs": [],
   "source": [
    "def load_checkpoint(checkpoint_path, siamese_net, optimizer):\n",
    "\n",
    "    checkpoint = torch.load(checkpoint_path)\n",
    "\n",
    "    # load variables\n",
    "    siamese_net.load_state_dict(checkpoint['state_dict'])\n",
    "    optimizer.load_state_dict(checkpoint['optimizer'])\n",
    "\n",
    "    return step\n",
    "\n",
    "def save_checkpoint(state, filename=\"my_checkpoint.pth.tar\"):\n",
    "    print(\"Saving checkpoint...\")\n",
    "    torch.save(state, filename)"
   ]
  },
  {
   "cell_type": "markdown",
   "id": "e47a3d7f-7a78-4b34-875d-9a8cfbe656ff",
   "metadata": {},
   "source": [
    "## Metrics"
   ]
  },
  {
   "cell_type": "code",
   "execution_count": 13,
   "id": "98d52f29-2666-41a6-ab7d-3dbc7db43bcc",
   "metadata": {},
   "outputs": [],
   "source": [
    "def compute_accuracy(confusion):\n",
    "    return (confusion['tp'] + confusion['tn'])/(confusion['tp'] + confusion['tn'] + confusion['fp'] + confusion['fn'])\n",
    "\n",
    "def compute_precision(confusion):\n",
    "    if confusion['tp'] + confusion['fp'] == 0:\n",
    "        return 0\n",
    "    return confusion['tp'] / (confusion['tp'] + confusion['fp'])\n",
    "\n",
    "def compute_recall(confusion):\n",
    "    if confusion['tp'] + confusion['fn'] == 0:\n",
    "        return 0\n",
    "    return confusion['tp'] / (confusion['tp'] + confusion['fn'])\n",
    "\n",
    "def compute_f1(confusion):\n",
    "    if 2 * confusion['tp'] + confusion['fp'] + confusion['fn'] == 0:\n",
    "        return 0\n",
    "    return 2 * confusion['tp'] / (2 * confusion['tp'] + confusion['fp'] + confusion['fn'])"
   ]
  },
  {
   "cell_type": "markdown",
   "id": "068523f4-e413-4872-adca-bd4db24951b9",
   "metadata": {},
   "source": [
    "## Primeiro treinamento"
   ]
  },
  {
   "cell_type": "code",
   "execution_count": 14,
   "id": "307636c5-c3bb-45fa-a3b6-a058e481ca77",
   "metadata": {
    "collapsed": true,
    "jupyter": {
     "outputs_hidden": true
    },
    "scrolled": true,
    "tags": []
   },
   "outputs": [
    {
     "name": "stdout",
     "output_type": "stream",
     "text": [
      "Epoch 1/200\n"
     ]
    },
    {
     "name": "stderr",
     "output_type": "stream",
     "text": [
      "100%|█████████████████████████████████████████████████████████████████████████████████████████████████████| 176/176 [15:08<00:00,  5.16s/it]\n"
     ]
    },
    {
     "name": "stdout",
     "output_type": "stream",
     "text": [
      "Training loss: 0.38243\n",
      "Train precision: 0.5927\n",
      "Train recall: 0.2027\n",
      "Train F1: 0.3021\n",
      "Training accuracy: 81.82 (%)\n",
      "\n",
      "Accuracy aumentou de 0.0000 para 0.8182 (1/200)\n",
      "Saving checkpoint...\n",
      "F1 aumentou de 0.0000 para 0.3021 (1/200)\n",
      "Saving checkpoint...\n",
      "\n"
     ]
    },
    {
     "name": "stderr",
     "output_type": "stream",
     "text": [
      "100%|███████████████████████████████████████████████████████████████████████████████████████████████████████| 44/44 [03:23<00:00,  4.63s/it]\n"
     ]
    },
    {
     "name": "stdout",
     "output_type": "stream",
     "text": [
      "Validation loss: 0.34821\n",
      "Validation precision: 0.7000\n",
      "Validation recall: 0.3357\n",
      "Validation F1: 0.4538\n",
      "Validation accuracy: 83.80 (%)\n",
      "\n",
      "Accuracy aumentou de 0.0000 para 0.8380 (1/200)\n",
      "Saving checkpoint...\n",
      "F1 aumentou de 0.0000 para 0.4538 (1/200)\n",
      "Saving checkpoint...\n",
      "\n",
      "Epoch 2/200\n"
     ]
    },
    {
     "name": "stderr",
     "output_type": "stream",
     "text": [
      "100%|█████████████████████████████████████████████████████████████████████████████████████████████████████| 176/176 [15:37<00:00,  5.33s/it]\n"
     ]
    },
    {
     "name": "stdout",
     "output_type": "stream",
     "text": [
      "Training loss: 0.29661\n",
      "Train precision: 0.7183\n",
      "Train recall: 0.5732\n",
      "Train F1: 0.6376\n",
      "Training accuracy: 87.17 (%)\n",
      "\n",
      "Accuracy aumentou de 0.8182 para 0.8717 (2/200)\n",
      "Saving checkpoint...\n",
      "F1 aumentou de 0.3021 para 0.6376 (2/200)\n",
      "Saving checkpoint...\n",
      "\n"
     ]
    },
    {
     "name": "stderr",
     "output_type": "stream",
     "text": [
      "100%|███████████████████████████████████████████████████████████████████████████████████████████████████████| 44/44 [03:22<00:00,  4.60s/it]\n"
     ]
    },
    {
     "name": "stdout",
     "output_type": "stream",
     "text": [
      "Validation loss: 0.28547\n",
      "Validation precision: 0.7642\n",
      "Validation recall: 0.6978\n",
      "Validation F1: 0.7295\n",
      "Validation accuracy: 88.96 (%)\n",
      "\n",
      "Accuracy aumentou de 0.8380 para 0.8896 (2/200)\n",
      "Saving checkpoint...\n",
      "F1 aumentou de 0.4538 para 0.7295 (2/200)\n",
      "Saving checkpoint...\n",
      "\n",
      "Epoch 3/200\n"
     ]
    },
    {
     "name": "stderr",
     "output_type": "stream",
     "text": [
      "100%|█████████████████████████████████████████████████████████████████████████████████████████████████████| 176/176 [13:14<00:00,  4.51s/it]\n"
     ]
    },
    {
     "name": "stdout",
     "output_type": "stream",
     "text": [
      "Training loss: 0.22138\n",
      "Train precision: 0.7899\n",
      "Train recall: 0.7700\n",
      "Train F1: 0.7798\n",
      "Training accuracy: 91.40 (%)\n",
      "\n",
      "Accuracy aumentou de 0.8717 para 0.9140 (3/200)\n",
      "Saving checkpoint...\n",
      "F1 aumentou de 0.6376 para 0.7798 (3/200)\n",
      "Saving checkpoint...\n",
      "\n"
     ]
    },
    {
     "name": "stderr",
     "output_type": "stream",
     "text": [
      "100%|███████████████████████████████████████████████████████████████████████████████████████████████████████| 44/44 [02:47<00:00,  3.82s/it]\n"
     ]
    },
    {
     "name": "stdout",
     "output_type": "stream",
     "text": [
      "Validation loss: 0.22899\n",
      "Validation precision: 0.8197\n",
      "Validation recall: 0.6641\n",
      "Validation F1: 0.7338\n",
      "Validation accuracy: 90.95 (%)\n",
      "\n",
      "Accuracy aumentou de 0.8896 para 0.9095 (3/200)\n",
      "Saving checkpoint...\n",
      "F1 aumentou de 0.7295 para 0.7338 (3/200)\n",
      "Saving checkpoint...\n",
      "\n",
      "Epoch 4/200\n"
     ]
    },
    {
     "name": "stderr",
     "output_type": "stream",
     "text": [
      "100%|█████████████████████████████████████████████████████████████████████████████████████████████████████| 176/176 [13:24<00:00,  4.57s/it]\n"
     ]
    },
    {
     "name": "stdout",
     "output_type": "stream",
     "text": [
      "Training loss: 0.16565\n",
      "Train precision: 0.8393\n",
      "Train recall: 0.8165\n",
      "Train F1: 0.8277\n",
      "Training accuracy: 93.51 (%)\n",
      "\n",
      "Accuracy aumentou de 0.9140 para 0.9351 (4/200)\n",
      "Saving checkpoint...\n",
      "F1 aumentou de 0.7798 para 0.8277 (4/200)\n",
      "Saving checkpoint...\n",
      "\n"
     ]
    },
    {
     "name": "stderr",
     "output_type": "stream",
     "text": [
      "100%|███████████████████████████████████████████████████████████████████████████████████████████████████████| 44/44 [02:50<00:00,  3.88s/it]\n"
     ]
    },
    {
     "name": "stdout",
     "output_type": "stream",
     "text": [
      "Validation loss: 0.16421\n",
      "Validation precision: 0.8514\n",
      "Validation recall: 0.8416\n",
      "Validation F1: 0.8464\n",
      "Validation accuracy: 94.30 (%)\n",
      "\n",
      "Accuracy aumentou de 0.9095 para 0.9430 (4/200)\n",
      "Saving checkpoint...\n",
      "F1 aumentou de 0.7338 para 0.8464 (4/200)\n",
      "Saving checkpoint...\n",
      "\n",
      "Epoch 5/200\n"
     ]
    },
    {
     "name": "stderr",
     "output_type": "stream",
     "text": [
      "100%|█████████████████████████████████████████████████████████████████████████████████████████████████████| 176/176 [13:36<00:00,  4.64s/it]\n"
     ]
    },
    {
     "name": "stdout",
     "output_type": "stream",
     "text": [
      "Training loss: 0.13228\n",
      "Train precision: 0.8766\n",
      "Train recall: 0.8766\n",
      "Train F1: 0.8766\n",
      "Training accuracy: 95.24 (%)\n",
      "\n",
      "Accuracy aumentou de 0.9351 para 0.9524 (5/200)\n",
      "Saving checkpoint...\n",
      "F1 aumentou de 0.8277 para 0.8766 (5/200)\n",
      "Saving checkpoint...\n",
      "\n"
     ]
    },
    {
     "name": "stderr",
     "output_type": "stream",
     "text": [
      "100%|███████████████████████████████████████████████████████████████████████████████████████████████████████| 44/44 [02:55<00:00,  3.99s/it]\n"
     ]
    },
    {
     "name": "stdout",
     "output_type": "stream",
     "text": [
      "Validation loss: 0.17428\n",
      "Validation precision: 0.8531\n",
      "Validation recall: 0.8046\n",
      "Validation F1: 0.8281\n",
      "Validation accuracy: 93.73 (%)\n",
      "\n",
      "\n",
      "Epoch 6/200\n"
     ]
    },
    {
     "name": "stderr",
     "output_type": "stream",
     "text": [
      "100%|█████████████████████████████████████████████████████████████████████████████████████████████████████| 176/176 [13:32<00:00,  4.62s/it]\n"
     ]
    },
    {
     "name": "stdout",
     "output_type": "stream",
     "text": [
      "Training loss: 0.11737\n",
      "Train precision: 0.8818\n",
      "Train recall: 0.8996\n",
      "Train F1: 0.8906\n",
      "Training accuracy: 95.62 (%)\n",
      "\n",
      "Accuracy aumentou de 0.9524 para 0.9562 (6/200)\n",
      "Saving checkpoint...\n",
      "F1 aumentou de 0.8766 para 0.8906 (6/200)\n",
      "Saving checkpoint...\n",
      "\n"
     ]
    },
    {
     "name": "stderr",
     "output_type": "stream",
     "text": [
      "100%|███████████████████████████████████████████████████████████████████████████████████████████████████████| 44/44 [02:55<00:00,  3.98s/it]\n"
     ]
    },
    {
     "name": "stdout",
     "output_type": "stream",
     "text": [
      "Validation loss: 0.16949\n",
      "Validation precision: 0.9151\n",
      "Validation recall: 0.7307\n",
      "Validation F1: 0.8126\n",
      "Validation accuracy: 93.63 (%)\n",
      "\n",
      "\n",
      "Epoch 7/200\n"
     ]
    },
    {
     "name": "stderr",
     "output_type": "stream",
     "text": [
      "100%|█████████████████████████████████████████████████████████████████████████████████████████████████████| 176/176 [13:37<00:00,  4.64s/it]\n"
     ]
    },
    {
     "name": "stdout",
     "output_type": "stream",
     "text": [
      "Training loss: 0.09294\n",
      "Train precision: 0.9103\n",
      "Train recall: 0.9237\n",
      "Train F1: 0.9169\n",
      "Training accuracy: 96.66 (%)\n",
      "\n",
      "Accuracy aumentou de 0.9562 para 0.9666 (7/200)\n",
      "Saving checkpoint...\n",
      "F1 aumentou de 0.8906 para 0.9169 (7/200)\n",
      "Saving checkpoint...\n",
      "\n"
     ]
    },
    {
     "name": "stderr",
     "output_type": "stream",
     "text": [
      "100%|███████████████████████████████████████████████████████████████████████████████████████████████████████| 44/44 [02:55<00:00,  4.00s/it]\n"
     ]
    },
    {
     "name": "stdout",
     "output_type": "stream",
     "text": [
      "Validation loss: 0.16541\n",
      "Validation precision: 0.8277\n",
      "Validation recall: 0.8829\n",
      "Validation F1: 0.8544\n",
      "Validation accuracy: 94.05 (%)\n",
      "\n",
      "F1 aumentou de 0.8464 para 0.8544 (7/200)\n",
      "Saving checkpoint...\n",
      "\n",
      "Epoch 8/200\n"
     ]
    },
    {
     "name": "stderr",
     "output_type": "stream",
     "text": [
      "100%|█████████████████████████████████████████████████████████████████████████████████████████████████████| 176/176 [13:43<00:00,  4.68s/it]\n"
     ]
    },
    {
     "name": "stdout",
     "output_type": "stream",
     "text": [
      "Training loss: 0.08672\n",
      "Train precision: 0.9027\n",
      "Train recall: 0.9350\n",
      "Train F1: 0.9186\n",
      "Training accuracy: 96.86 (%)\n",
      "\n",
      "Accuracy aumentou de 0.9666 para 0.9686 (8/200)\n",
      "Saving checkpoint...\n",
      "F1 aumentou de 0.9169 para 0.9186 (8/200)\n",
      "Saving checkpoint...\n",
      "\n"
     ]
    },
    {
     "name": "stderr",
     "output_type": "stream",
     "text": [
      "100%|███████████████████████████████████████████████████████████████████████████████████████████████████████| 44/44 [02:55<00:00,  3.98s/it]\n"
     ]
    },
    {
     "name": "stdout",
     "output_type": "stream",
     "text": [
      "Validation loss: 0.13027\n",
      "Validation precision: 0.9246\n",
      "Validation recall: 0.8336\n",
      "Validation F1: 0.8768\n",
      "Validation accuracy: 95.33 (%)\n",
      "\n",
      "Accuracy aumentou de 0.9430 para 0.9533 (8/200)\n",
      "Saving checkpoint...\n",
      "F1 aumentou de 0.8544 para 0.8768 (8/200)\n",
      "Saving checkpoint...\n",
      "\n",
      "Epoch 9/200\n"
     ]
    },
    {
     "name": "stderr",
     "output_type": "stream",
     "text": [
      "100%|█████████████████████████████████████████████████████████████████████████████████████████████████████| 176/176 [13:37<00:00,  4.65s/it]\n"
     ]
    },
    {
     "name": "stdout",
     "output_type": "stream",
     "text": [
      "Training loss: 0.07413\n",
      "Train precision: 0.9152\n",
      "Train recall: 0.9411\n",
      "Train F1: 0.9280\n",
      "Training accuracy: 97.28 (%)\n",
      "\n",
      "Accuracy aumentou de 0.9686 para 0.9728 (9/200)\n",
      "Saving checkpoint...\n",
      "F1 aumentou de 0.9186 para 0.9280 (9/200)\n",
      "Saving checkpoint...\n",
      "\n"
     ]
    },
    {
     "name": "stderr",
     "output_type": "stream",
     "text": [
      "100%|███████████████████████████████████████████████████████████████████████████████████████████████████████| 44/44 [02:54<00:00,  3.97s/it]\n"
     ]
    },
    {
     "name": "stdout",
     "output_type": "stream",
     "text": [
      "Validation loss: 0.19209\n",
      "Validation precision: 0.8769\n",
      "Validation recall: 0.8261\n",
      "Validation F1: 0.8507\n",
      "Validation accuracy: 94.30 (%)\n",
      "\n",
      "\n",
      "Epoch 10/200\n"
     ]
    },
    {
     "name": "stderr",
     "output_type": "stream",
     "text": [
      "100%|█████████████████████████████████████████████████████████████████████████████████████████████████████| 176/176 [13:36<00:00,  4.64s/it]\n"
     ]
    },
    {
     "name": "stdout",
     "output_type": "stream",
     "text": [
      "Training loss: 0.06857\n",
      "Train precision: 0.9250\n",
      "Train recall: 0.9515\n",
      "Train F1: 0.9381\n",
      "Training accuracy: 97.57 (%)\n",
      "\n",
      "Accuracy aumentou de 0.9728 para 0.9757 (10/200)\n",
      "Saving checkpoint...\n",
      "F1 aumentou de 0.9280 para 0.9381 (10/200)\n",
      "Saving checkpoint...\n",
      "\n"
     ]
    },
    {
     "name": "stderr",
     "output_type": "stream",
     "text": [
      "100%|███████████████████████████████████████████████████████████████████████████████████████████████████████| 44/44 [02:56<00:00,  4.01s/it]\n"
     ]
    },
    {
     "name": "stdout",
     "output_type": "stream",
     "text": [
      "Validation loss: 0.16175\n",
      "Validation precision: 0.9269\n",
      "Validation recall: 0.8330\n",
      "Validation F1: 0.8775\n",
      "Validation accuracy: 95.58 (%)\n",
      "\n",
      "Accuracy aumentou de 0.9533 para 0.9558 (10/200)\n",
      "Saving checkpoint...\n",
      "F1 aumentou de 0.8768 para 0.8775 (10/200)\n",
      "Saving checkpoint...\n",
      "\n",
      "Epoch 11/200\n"
     ]
    },
    {
     "name": "stderr",
     "output_type": "stream",
     "text": [
      "100%|█████████████████████████████████████████████████████████████████████████████████████████████████████| 176/176 [13:41<00:00,  4.67s/it]\n"
     ]
    },
    {
     "name": "stdout",
     "output_type": "stream",
     "text": [
      "Training loss: 0.06026\n",
      "Train precision: 0.9335\n",
      "Train recall: 0.9596\n",
      "Train F1: 0.9464\n",
      "Training accuracy: 97.91 (%)\n",
      "\n",
      "Accuracy aumentou de 0.9757 para 0.9791 (11/200)\n",
      "Saving checkpoint...\n",
      "F1 aumentou de 0.9381 para 0.9464 (11/200)\n",
      "Saving checkpoint...\n",
      "\n"
     ]
    },
    {
     "name": "stderr",
     "output_type": "stream",
     "text": [
      "100%|███████████████████████████████████████████████████████████████████████████████████████████████████████| 44/44 [02:53<00:00,  3.95s/it]\n"
     ]
    },
    {
     "name": "stdout",
     "output_type": "stream",
     "text": [
      "Validation loss: 0.17927\n",
      "Validation precision: 0.8935\n",
      "Validation recall: 0.8030\n",
      "Validation F1: 0.8458\n",
      "Validation accuracy: 94.44 (%)\n",
      "\n",
      "\n",
      "Epoch 12/200\n"
     ]
    },
    {
     "name": "stderr",
     "output_type": "stream",
     "text": [
      "100%|█████████████████████████████████████████████████████████████████████████████████████████████████████| 176/176 [14:44<00:00,  5.03s/it]\n"
     ]
    },
    {
     "name": "stdout",
     "output_type": "stream",
     "text": [
      "Training loss: 0.05948\n",
      "Train precision: 0.9373\n",
      "Train recall: 0.9586\n",
      "Train F1: 0.9479\n",
      "Training accuracy: 97.93 (%)\n",
      "\n",
      "Accuracy aumentou de 0.9791 para 0.9793 (12/200)\n",
      "Saving checkpoint...\n",
      "F1 aumentou de 0.9464 para 0.9479 (12/200)\n",
      "Saving checkpoint...\n",
      "\n"
     ]
    },
    {
     "name": "stderr",
     "output_type": "stream",
     "text": [
      "100%|███████████████████████████████████████████████████████████████████████████████████████████████████████| 44/44 [02:54<00:00,  3.96s/it]\n"
     ]
    },
    {
     "name": "stdout",
     "output_type": "stream",
     "text": [
      "Validation loss: 0.20212\n",
      "Validation precision: 0.9238\n",
      "Validation recall: 0.7491\n",
      "Validation F1: 0.8273\n",
      "Validation accuracy: 94.05 (%)\n",
      "\n",
      "\n",
      "Epoch 13/200\n"
     ]
    },
    {
     "name": "stderr",
     "output_type": "stream",
     "text": [
      "100%|█████████████████████████████████████████████████████████████████████████████████████████████████████| 176/176 [14:09<00:00,  4.83s/it]\n"
     ]
    },
    {
     "name": "stdout",
     "output_type": "stream",
     "text": [
      "Training loss: 0.05142\n",
      "Train precision: 0.9404\n",
      "Train recall: 0.9612\n",
      "Train F1: 0.9507\n",
      "Training accuracy: 98.07 (%)\n",
      "\n",
      "Accuracy aumentou de 0.9793 para 0.9807 (13/200)\n",
      "Saving checkpoint...\n",
      "F1 aumentou de 0.9479 para 0.9507 (13/200)\n",
      "Saving checkpoint...\n",
      "\n"
     ]
    },
    {
     "name": "stderr",
     "output_type": "stream",
     "text": [
      "100%|███████████████████████████████████████████████████████████████████████████████████████████████████████| 44/44 [03:17<00:00,  4.50s/it]\n"
     ]
    },
    {
     "name": "stdout",
     "output_type": "stream",
     "text": [
      "Validation loss: 0.17905\n",
      "Validation precision: 0.8360\n",
      "Validation recall: 0.8577\n",
      "Validation F1: 0.8467\n",
      "Validation accuracy: 94.02 (%)\n",
      "\n",
      "\n",
      "Epoch 14/200\n"
     ]
    },
    {
     "name": "stderr",
     "output_type": "stream",
     "text": [
      "100%|█████████████████████████████████████████████████████████████████████████████████████████████████████| 176/176 [15:03<00:00,  5.13s/it]\n"
     ]
    },
    {
     "name": "stdout",
     "output_type": "stream",
     "text": [
      "Training loss: 0.05154\n",
      "Train precision: 0.9362\n",
      "Train recall: 0.9664\n",
      "Train F1: 0.9510\n",
      "Training accuracy: 98.05 (%)\n",
      "\n",
      "F1 aumentou de 0.9507 para 0.9510 (14/200)\n",
      "Saving checkpoint...\n",
      "\n"
     ]
    },
    {
     "name": "stderr",
     "output_type": "stream",
     "text": [
      "100%|███████████████████████████████████████████████████████████████████████████████████████████████████████| 44/44 [03:18<00:00,  4.51s/it]\n"
     ]
    },
    {
     "name": "stdout",
     "output_type": "stream",
     "text": [
      "Validation loss: 0.17438\n",
      "Validation precision: 0.9556\n",
      "Validation recall: 0.8028\n",
      "Validation F1: 0.8726\n",
      "Validation accuracy: 95.30 (%)\n",
      "\n",
      "\n",
      "Epoch 15/200\n"
     ]
    },
    {
     "name": "stderr",
     "output_type": "stream",
     "text": [
      "100%|█████████████████████████████████████████████████████████████████████████████████████████████████████| 176/176 [15:06<00:00,  5.15s/it]\n"
     ]
    },
    {
     "name": "stdout",
     "output_type": "stream",
     "text": [
      "Training loss: 0.04837\n",
      "Train precision: 0.9387\n",
      "Train recall: 0.9722\n",
      "Train F1: 0.9552\n",
      "Training accuracy: 98.27 (%)\n",
      "\n",
      "Accuracy aumentou de 0.9807 para 0.9827 (15/200)\n",
      "Saving checkpoint...\n",
      "F1 aumentou de 0.9510 para 0.9552 (15/200)\n",
      "Saving checkpoint...\n",
      "\n"
     ]
    },
    {
     "name": "stderr",
     "output_type": "stream",
     "text": [
      "100%|███████████████████████████████████████████████████████████████████████████████████████████████████████| 44/44 [03:18<00:00,  4.50s/it]\n"
     ]
    },
    {
     "name": "stdout",
     "output_type": "stream",
     "text": [
      "Validation loss: 0.20606\n",
      "Validation precision: 0.9557\n",
      "Validation recall: 0.8319\n",
      "Validation F1: 0.8895\n",
      "Validation accuracy: 95.80 (%)\n",
      "\n",
      "Accuracy aumentou de 0.9558 para 0.9580 (15/200)\n",
      "Saving checkpoint...\n",
      "F1 aumentou de 0.8775 para 0.8895 (15/200)\n",
      "Saving checkpoint...\n",
      "\n",
      "Epoch 16/200\n"
     ]
    },
    {
     "name": "stderr",
     "output_type": "stream",
     "text": [
      "100%|█████████████████████████████████████████████████████████████████████████████████████████████████████| 176/176 [15:07<00:00,  5.15s/it]\n"
     ]
    },
    {
     "name": "stdout",
     "output_type": "stream",
     "text": [
      "Training loss: 0.03993\n",
      "Train precision: 0.9513\n",
      "Train recall: 0.9770\n",
      "Train F1: 0.9640\n",
      "Training accuracy: 98.58 (%)\n",
      "\n",
      "Accuracy aumentou de 0.9827 para 0.9858 (16/200)\n",
      "Saving checkpoint...\n",
      "F1 aumentou de 0.9552 para 0.9640 (16/200)\n",
      "Saving checkpoint...\n",
      "\n"
     ]
    },
    {
     "name": "stderr",
     "output_type": "stream",
     "text": [
      "100%|███████████████████████████████████████████████████████████████████████████████████████████████████████| 44/44 [03:17<00:00,  4.49s/it]\n"
     ]
    },
    {
     "name": "stdout",
     "output_type": "stream",
     "text": [
      "Validation loss: 0.18314\n",
      "Validation precision: 0.9302\n",
      "Validation recall: 0.8178\n",
      "Validation F1: 0.8704\n",
      "Validation accuracy: 95.62 (%)\n",
      "\n",
      "\n",
      "Epoch 17/200\n"
     ]
    },
    {
     "name": "stderr",
     "output_type": "stream",
     "text": [
      "100%|█████████████████████████████████████████████████████████████████████████████████████████████████████| 176/176 [15:06<00:00,  5.15s/it]\n"
     ]
    },
    {
     "name": "stdout",
     "output_type": "stream",
     "text": [
      "Training loss: 0.04038\n",
      "Train precision: 0.9558\n",
      "Train recall: 0.9816\n",
      "Train F1: 0.9685\n",
      "Training accuracy: 98.80 (%)\n",
      "\n",
      "Accuracy aumentou de 0.9858 para 0.9880 (17/200)\n",
      "Saving checkpoint...\n",
      "F1 aumentou de 0.9640 para 0.9685 (17/200)\n",
      "Saving checkpoint...\n",
      "\n"
     ]
    },
    {
     "name": "stderr",
     "output_type": "stream",
     "text": [
      "100%|███████████████████████████████████████████████████████████████████████████████████████████████████████| 44/44 [03:18<00:00,  4.50s/it]\n"
     ]
    },
    {
     "name": "stdout",
     "output_type": "stream",
     "text": [
      "Validation loss: 0.27357\n",
      "Validation precision: 0.8770\n",
      "Validation recall: 0.8095\n",
      "Validation F1: 0.8419\n",
      "Validation accuracy: 94.09 (%)\n",
      "\n",
      "\n",
      "Epoch 18/200\n"
     ]
    },
    {
     "name": "stderr",
     "output_type": "stream",
     "text": [
      "100%|█████████████████████████████████████████████████████████████████████████████████████████████████████| 176/176 [15:03<00:00,  5.13s/it]\n"
     ]
    },
    {
     "name": "stdout",
     "output_type": "stream",
     "text": [
      "Training loss: 0.04613\n",
      "Train precision: 0.9482\n",
      "Train recall: 0.9705\n",
      "Train F1: 0.9592\n",
      "Training accuracy: 98.40 (%)\n",
      "\n",
      "\n"
     ]
    },
    {
     "name": "stderr",
     "output_type": "stream",
     "text": [
      "100%|███████████████████████████████████████████████████████████████████████████████████████████████████████| 44/44 [03:17<00:00,  4.49s/it]\n"
     ]
    },
    {
     "name": "stdout",
     "output_type": "stream",
     "text": [
      "Validation loss: 0.23922\n",
      "Validation precision: 0.8745\n",
      "Validation recall: 0.8160\n",
      "Validation F1: 0.8442\n",
      "Validation accuracy: 94.23 (%)\n",
      "\n",
      "\n",
      "Epoch 19/200\n"
     ]
    },
    {
     "name": "stderr",
     "output_type": "stream",
     "text": [
      "100%|█████████████████████████████████████████████████████████████████████████████████████████████████████| 176/176 [15:05<00:00,  5.14s/it]\n"
     ]
    },
    {
     "name": "stdout",
     "output_type": "stream",
     "text": [
      "Training loss: 0.04484\n",
      "Train precision: 0.9495\n",
      "Train recall: 0.9766\n",
      "Train F1: 0.9629\n",
      "Training accuracy: 98.56 (%)\n",
      "\n",
      "\n"
     ]
    },
    {
     "name": "stderr",
     "output_type": "stream",
     "text": [
      "100%|███████████████████████████████████████████████████████████████████████████████████████████████████████| 44/44 [03:17<00:00,  4.49s/it]\n"
     ]
    },
    {
     "name": "stdout",
     "output_type": "stream",
     "text": [
      "Validation loss: 0.24425\n",
      "Validation precision: 0.9308\n",
      "Validation recall: 0.7215\n",
      "Validation F1: 0.8129\n",
      "Validation accuracy: 93.16 (%)\n",
      "\n",
      "\n",
      "Epoch 20/200\n"
     ]
    },
    {
     "name": "stderr",
     "output_type": "stream",
     "text": [
      "100%|█████████████████████████████████████████████████████████████████████████████████████████████████████| 176/176 [15:05<00:00,  5.14s/it]\n"
     ]
    },
    {
     "name": "stdout",
     "output_type": "stream",
     "text": [
      "Training loss: 0.03240\n",
      "Train precision: 0.9599\n",
      "Train recall: 0.9848\n",
      "Train F1: 0.9722\n",
      "Training accuracy: 98.91 (%)\n",
      "\n",
      "Accuracy aumentou de 0.9880 para 0.9891 (20/200)\n",
      "Saving checkpoint...\n",
      "F1 aumentou de 0.9685 para 0.9722 (20/200)\n",
      "Saving checkpoint...\n",
      "\n"
     ]
    },
    {
     "name": "stderr",
     "output_type": "stream",
     "text": [
      "100%|███████████████████████████████████████████████████████████████████████████████████████████████████████| 44/44 [02:56<00:00,  4.01s/it]\n"
     ]
    },
    {
     "name": "stdout",
     "output_type": "stream",
     "text": [
      "Validation loss: 0.22470\n",
      "Validation precision: 0.9731\n",
      "Validation recall: 0.7806\n",
      "Validation F1: 0.8663\n",
      "Validation accuracy: 95.23 (%)\n",
      "\n",
      "\n",
      "Epoch 21/200\n"
     ]
    },
    {
     "name": "stderr",
     "output_type": "stream",
     "text": [
      "100%|█████████████████████████████████████████████████████████████████████████████████████████████████████| 176/176 [13:40<00:00,  4.66s/it]\n"
     ]
    },
    {
     "name": "stdout",
     "output_type": "stream",
     "text": [
      "Training loss: 0.03398\n",
      "Train precision: 0.9573\n",
      "Train recall: 0.9811\n",
      "Train F1: 0.9691\n",
      "Training accuracy: 98.79 (%)\n",
      "\n",
      "\n"
     ]
    },
    {
     "name": "stderr",
     "output_type": "stream",
     "text": [
      "100%|███████████████████████████████████████████████████████████████████████████████████████████████████████| 44/44 [02:56<00:00,  4.02s/it]\n"
     ]
    },
    {
     "name": "stdout",
     "output_type": "stream",
     "text": [
      "Validation loss: 0.18702\n",
      "Validation precision: 0.9455\n",
      "Validation recall: 0.8283\n",
      "Validation F1: 0.8830\n",
      "Validation accuracy: 95.58 (%)\n",
      "\n",
      "\n",
      "Epoch 22/200\n"
     ]
    },
    {
     "name": "stderr",
     "output_type": "stream",
     "text": [
      "100%|█████████████████████████████████████████████████████████████████████████████████████████████████████| 176/176 [13:36<00:00,  4.64s/it]\n"
     ]
    },
    {
     "name": "stdout",
     "output_type": "stream",
     "text": [
      "Training loss: 0.03224\n",
      "Train precision: 0.9625\n",
      "Train recall: 0.9802\n",
      "Train F1: 0.9713\n",
      "Training accuracy: 98.88 (%)\n",
      "\n",
      "\n"
     ]
    },
    {
     "name": "stderr",
     "output_type": "stream",
     "text": [
      "100%|███████████████████████████████████████████████████████████████████████████████████████████████████████| 44/44 [03:00<00:00,  4.11s/it]\n"
     ]
    },
    {
     "name": "stdout",
     "output_type": "stream",
     "text": [
      "Validation loss: 0.20173\n",
      "Validation precision: 0.9354\n",
      "Validation recall: 0.8472\n",
      "Validation F1: 0.8891\n",
      "Validation accuracy: 96.01 (%)\n",
      "\n",
      "Accuracy aumentou de 0.9580 para 0.9601 (22/200)\n",
      "Saving checkpoint...\n",
      "\n",
      "Epoch 23/200\n"
     ]
    },
    {
     "name": "stderr",
     "output_type": "stream",
     "text": [
      "100%|█████████████████████████████████████████████████████████████████████████████████████████████████████| 176/176 [14:52<00:00,  5.07s/it]\n"
     ]
    },
    {
     "name": "stdout",
     "output_type": "stream",
     "text": [
      "Training loss: 0.02943\n",
      "Train precision: 0.9672\n",
      "Train recall: 0.9873\n",
      "Train F1: 0.9771\n",
      "Training accuracy: 99.09 (%)\n",
      "\n",
      "Accuracy aumentou de 0.9891 para 0.9909 (23/200)\n",
      "Saving checkpoint...\n",
      "F1 aumentou de 0.9722 para 0.9771 (23/200)\n",
      "Saving checkpoint...\n",
      "\n"
     ]
    },
    {
     "name": "stderr",
     "output_type": "stream",
     "text": [
      "100%|███████████████████████████████████████████████████████████████████████████████████████████████████████| 44/44 [02:59<00:00,  4.07s/it]\n"
     ]
    },
    {
     "name": "stdout",
     "output_type": "stream",
     "text": [
      "Validation loss: 0.19532\n",
      "Validation precision: 0.9468\n",
      "Validation recall: 0.8196\n",
      "Validation F1: 0.8786\n",
      "Validation accuracy: 95.80 (%)\n",
      "\n",
      "\n",
      "Epoch 24/200\n"
     ]
    },
    {
     "name": "stderr",
     "output_type": "stream",
     "text": [
      "100%|█████████████████████████████████████████████████████████████████████████████████████████████████████| 176/176 [13:44<00:00,  4.68s/it]\n"
     ]
    },
    {
     "name": "stdout",
     "output_type": "stream",
     "text": [
      "Training loss: 0.02621\n",
      "Train precision: 0.9692\n",
      "Train recall: 0.9862\n",
      "Train F1: 0.9776\n",
      "Training accuracy: 99.13 (%)\n",
      "\n",
      "Accuracy aumentou de 0.9909 para 0.9913 (24/200)\n",
      "Saving checkpoint...\n",
      "F1 aumentou de 0.9771 para 0.9776 (24/200)\n",
      "Saving checkpoint...\n",
      "\n"
     ]
    },
    {
     "name": "stderr",
     "output_type": "stream",
     "text": [
      "100%|███████████████████████████████████████████████████████████████████████████████████████████████████████| 44/44 [02:54<00:00,  3.98s/it]\n"
     ]
    },
    {
     "name": "stdout",
     "output_type": "stream",
     "text": [
      "Validation loss: 0.24944\n",
      "Validation precision: 0.9290\n",
      "Validation recall: 0.8292\n",
      "Validation F1: 0.8763\n",
      "Validation accuracy: 95.66 (%)\n",
      "\n",
      "\n",
      "Epoch 25/200\n"
     ]
    },
    {
     "name": "stderr",
     "output_type": "stream",
     "text": [
      "100%|█████████████████████████████████████████████████████████████████████████████████████████████████████| 176/176 [13:40<00:00,  4.66s/it]\n"
     ]
    },
    {
     "name": "stdout",
     "output_type": "stream",
     "text": [
      "Training loss: 0.02904\n",
      "Train precision: 0.9653\n",
      "Train recall: 0.9846\n",
      "Train F1: 0.9748\n",
      "Training accuracy: 99.00 (%)\n",
      "\n",
      "\n"
     ]
    },
    {
     "name": "stderr",
     "output_type": "stream",
     "text": [
      "100%|███████████████████████████████████████████████████████████████████████████████████████████████████████| 44/44 [02:55<00:00,  3.98s/it]\n"
     ]
    },
    {
     "name": "stdout",
     "output_type": "stream",
     "text": [
      "Validation loss: 0.21666\n",
      "Validation precision: 0.9556\n",
      "Validation recall: 0.8433\n",
      "Validation F1: 0.8959\n",
      "Validation accuracy: 96.26 (%)\n",
      "\n",
      "Accuracy aumentou de 0.9601 para 0.9626 (25/200)\n",
      "Saving checkpoint...\n",
      "F1 aumentou de 0.8895 para 0.8959 (25/200)\n",
      "Saving checkpoint...\n",
      "\n",
      "Epoch 26/200\n"
     ]
    },
    {
     "name": "stderr",
     "output_type": "stream",
     "text": [
      "100%|█████████████████████████████████████████████████████████████████████████████████████████████████████| 176/176 [13:39<00:00,  4.66s/it]\n"
     ]
    },
    {
     "name": "stdout",
     "output_type": "stream",
     "text": [
      "Training loss: 0.02400\n",
      "Train precision: 0.9722\n",
      "Train recall: 0.9874\n",
      "Train F1: 0.9798\n",
      "Training accuracy: 99.19 (%)\n",
      "\n",
      "Accuracy aumentou de 0.9913 para 0.9919 (26/200)\n",
      "Saving checkpoint...\n",
      "F1 aumentou de 0.9776 para 0.9798 (26/200)\n",
      "Saving checkpoint...\n",
      "\n"
     ]
    },
    {
     "name": "stderr",
     "output_type": "stream",
     "text": [
      "100%|███████████████████████████████████████████████████████████████████████████████████████████████████████| 44/44 [02:55<00:00,  3.99s/it]\n"
     ]
    },
    {
     "name": "stdout",
     "output_type": "stream",
     "text": [
      "Validation loss: 0.21236\n",
      "Validation precision: 0.9543\n",
      "Validation recall: 0.7872\n",
      "Validation F1: 0.8627\n",
      "Validation accuracy: 95.26 (%)\n",
      "\n",
      "\n",
      "Epoch 27/200\n"
     ]
    },
    {
     "name": "stderr",
     "output_type": "stream",
     "text": [
      "100%|█████████████████████████████████████████████████████████████████████████████████████████████████████| 176/176 [13:40<00:00,  4.66s/it]\n"
     ]
    },
    {
     "name": "stdout",
     "output_type": "stream",
     "text": [
      "Training loss: 0.02249\n",
      "Train precision: 0.9725\n",
      "Train recall: 0.9894\n",
      "Train F1: 0.9809\n",
      "Training accuracy: 99.25 (%)\n",
      "\n",
      "Accuracy aumentou de 0.9919 para 0.9925 (27/200)\n",
      "Saving checkpoint...\n",
      "F1 aumentou de 0.9798 para 0.9809 (27/200)\n",
      "Saving checkpoint...\n",
      "\n"
     ]
    },
    {
     "name": "stderr",
     "output_type": "stream",
     "text": [
      "100%|███████████████████████████████████████████████████████████████████████████████████████████████████████| 44/44 [02:56<00:00,  4.01s/it]\n"
     ]
    },
    {
     "name": "stdout",
     "output_type": "stream",
     "text": [
      "Validation loss: 0.18879\n",
      "Validation precision: 0.9495\n",
      "Validation recall: 0.8399\n",
      "Validation F1: 0.8913\n",
      "Validation accuracy: 96.08 (%)\n",
      "\n",
      "\n",
      "Epoch 28/200\n"
     ]
    },
    {
     "name": "stderr",
     "output_type": "stream",
     "text": [
      "100%|█████████████████████████████████████████████████████████████████████████████████████████████████████| 176/176 [13:32<00:00,  4.62s/it]\n"
     ]
    },
    {
     "name": "stdout",
     "output_type": "stream",
     "text": [
      "Training loss: 0.02134\n",
      "Train precision: 0.9745\n",
      "Train recall: 0.9910\n",
      "Train F1: 0.9827\n",
      "Training accuracy: 99.30 (%)\n",
      "\n",
      "Accuracy aumentou de 0.9925 para 0.9930 (28/200)\n",
      "Saving checkpoint...\n",
      "F1 aumentou de 0.9809 para 0.9827 (28/200)\n",
      "Saving checkpoint...\n",
      "\n"
     ]
    },
    {
     "name": "stderr",
     "output_type": "stream",
     "text": [
      "100%|███████████████████████████████████████████████████████████████████████████████████████████████████████| 44/44 [02:56<00:00,  4.01s/it]\n"
     ]
    },
    {
     "name": "stdout",
     "output_type": "stream",
     "text": [
      "Validation loss: 0.23777\n",
      "Validation precision: 0.9506\n",
      "Validation recall: 0.7953\n",
      "Validation F1: 0.8661\n",
      "Validation accuracy: 95.12 (%)\n",
      "\n",
      "\n",
      "Epoch 29/200\n"
     ]
    },
    {
     "name": "stderr",
     "output_type": "stream",
     "text": [
      "100%|█████████████████████████████████████████████████████████████████████████████████████████████████████| 176/176 [13:42<00:00,  4.67s/it]\n"
     ]
    },
    {
     "name": "stdout",
     "output_type": "stream",
     "text": [
      "Training loss: 0.02626\n",
      "Train precision: 0.9692\n",
      "Train recall: 0.9869\n",
      "Train F1: 0.9780\n",
      "Training accuracy: 99.15 (%)\n",
      "\n",
      "\n"
     ]
    },
    {
     "name": "stderr",
     "output_type": "stream",
     "text": [
      "100%|███████████████████████████████████████████████████████████████████████████████████████████████████████| 44/44 [02:54<00:00,  3.96s/it]\n"
     ]
    },
    {
     "name": "stdout",
     "output_type": "stream",
     "text": [
      "Validation loss: 0.21497\n",
      "Validation precision: 0.9872\n",
      "Validation recall: 0.8291\n",
      "Validation F1: 0.9013\n",
      "Validation accuracy: 96.40 (%)\n",
      "\n",
      "Accuracy aumentou de 0.9626 para 0.9640 (29/200)\n",
      "Saving checkpoint...\n",
      "F1 aumentou de 0.8959 para 0.9013 (29/200)\n",
      "Saving checkpoint...\n",
      "\n",
      "Epoch 30/200\n"
     ]
    },
    {
     "name": "stderr",
     "output_type": "stream",
     "text": [
      "100%|█████████████████████████████████████████████████████████████████████████████████████████████████████| 176/176 [13:36<00:00,  4.64s/it]\n"
     ]
    },
    {
     "name": "stdout",
     "output_type": "stream",
     "text": [
      "Training loss: 0.02498\n",
      "Train precision: 0.9713\n",
      "Train recall: 0.9884\n",
      "Train F1: 0.9798\n",
      "Training accuracy: 99.22 (%)\n",
      "\n",
      "\n"
     ]
    },
    {
     "name": "stderr",
     "output_type": "stream",
     "text": [
      "100%|███████████████████████████████████████████████████████████████████████████████████████████████████████| 44/44 [02:57<00:00,  4.03s/it]\n"
     ]
    },
    {
     "name": "stdout",
     "output_type": "stream",
     "text": [
      "Validation loss: 0.33157\n",
      "Validation precision: 0.9612\n",
      "Validation recall: 0.7630\n",
      "Validation F1: 0.8507\n",
      "Validation accuracy: 95.05 (%)\n",
      "\n",
      "\n",
      "Epoch 31/200\n"
     ]
    },
    {
     "name": "stderr",
     "output_type": "stream",
     "text": [
      "100%|█████████████████████████████████████████████████████████████████████████████████████████████████████| 176/176 [13:40<00:00,  4.66s/it]\n"
     ]
    },
    {
     "name": "stdout",
     "output_type": "stream",
     "text": [
      "Training loss: 0.02707\n",
      "Train precision: 0.9672\n",
      "Train recall: 0.9873\n",
      "Train F1: 0.9772\n",
      "Training accuracy: 99.09 (%)\n",
      "\n",
      "\n"
     ]
    },
    {
     "name": "stderr",
     "output_type": "stream",
     "text": [
      "100%|███████████████████████████████████████████████████████████████████████████████████████████████████████| 44/44 [02:55<00:00,  3.99s/it]\n"
     ]
    },
    {
     "name": "stdout",
     "output_type": "stream",
     "text": [
      "Validation loss: 0.27076\n",
      "Validation precision: 0.9652\n",
      "Validation recall: 0.8087\n",
      "Validation F1: 0.8801\n",
      "Validation accuracy: 95.69 (%)\n",
      "\n",
      "\n",
      "Epoch 32/200\n"
     ]
    },
    {
     "name": "stderr",
     "output_type": "stream",
     "text": [
      "100%|█████████████████████████████████████████████████████████████████████████████████████████████████████| 176/176 [13:35<00:00,  4.64s/it]\n"
     ]
    },
    {
     "name": "stdout",
     "output_type": "stream",
     "text": [
      "Training loss: 0.02496\n",
      "Train precision: 0.9731\n",
      "Train recall: 0.9887\n",
      "Train F1: 0.9809\n",
      "Training accuracy: 99.27 (%)\n",
      "\n",
      "\n"
     ]
    },
    {
     "name": "stderr",
     "output_type": "stream",
     "text": [
      "100%|███████████████████████████████████████████████████████████████████████████████████████████████████████| 44/44 [02:55<00:00,  3.99s/it]\n"
     ]
    },
    {
     "name": "stdout",
     "output_type": "stream",
     "text": [
      "Validation loss: 0.21945\n",
      "Validation precision: 0.9524\n",
      "Validation recall: 0.8381\n",
      "Validation F1: 0.8916\n",
      "Validation accuracy: 96.19 (%)\n",
      "\n",
      "\n",
      "Epoch 33/200\n"
     ]
    },
    {
     "name": "stderr",
     "output_type": "stream",
     "text": [
      "100%|█████████████████████████████████████████████████████████████████████████████████████████████████████| 176/176 [13:37<00:00,  4.65s/it]\n"
     ]
    },
    {
     "name": "stdout",
     "output_type": "stream",
     "text": [
      "Training loss: 0.02529\n",
      "Train precision: 0.9760\n",
      "Train recall: 0.9897\n",
      "Train F1: 0.9828\n",
      "Training accuracy: 99.34 (%)\n",
      "\n",
      "Accuracy aumentou de 0.9930 para 0.9934 (33/200)\n",
      "Saving checkpoint...\n",
      "F1 aumentou de 0.9827 para 0.9828 (33/200)\n",
      "Saving checkpoint...\n",
      "\n"
     ]
    },
    {
     "name": "stderr",
     "output_type": "stream",
     "text": [
      "100%|███████████████████████████████████████████████████████████████████████████████████████████████████████| 44/44 [02:55<00:00,  4.00s/it]\n"
     ]
    },
    {
     "name": "stdout",
     "output_type": "stream",
     "text": [
      "Validation loss: 0.19791\n",
      "Validation precision: 0.8770\n",
      "Validation recall: 0.8965\n",
      "Validation F1: 0.8867\n",
      "Validation accuracy: 95.58 (%)\n",
      "\n",
      "\n",
      "Epoch 34/200\n"
     ]
    },
    {
     "name": "stderr",
     "output_type": "stream",
     "text": [
      "100%|█████████████████████████████████████████████████████████████████████████████████████████████████████| 176/176 [13:38<00:00,  4.65s/it]\n"
     ]
    },
    {
     "name": "stdout",
     "output_type": "stream",
     "text": [
      "Training loss: 0.03335\n",
      "Train precision: 0.9612\n",
      "Train recall: 0.9860\n",
      "Train F1: 0.9734\n",
      "Training accuracy: 98.97 (%)\n",
      "\n",
      "\n"
     ]
    },
    {
     "name": "stderr",
     "output_type": "stream",
     "text": [
      "100%|███████████████████████████████████████████████████████████████████████████████████████████████████████| 44/44 [02:57<00:00,  4.03s/it]\n"
     ]
    },
    {
     "name": "stdout",
     "output_type": "stream",
     "text": [
      "Validation loss: 0.21483\n",
      "Validation precision: 0.9152\n",
      "Validation recall: 0.8467\n",
      "Validation F1: 0.8796\n",
      "Validation accuracy: 95.58 (%)\n",
      "\n",
      "\n",
      "Epoch 35/200\n"
     ]
    },
    {
     "name": "stderr",
     "output_type": "stream",
     "text": [
      "100%|█████████████████████████████████████████████████████████████████████████████████████████████████████| 176/176 [13:38<00:00,  4.65s/it]\n"
     ]
    },
    {
     "name": "stdout",
     "output_type": "stream",
     "text": [
      "Training loss: 0.02024\n",
      "Train precision: 0.9747\n",
      "Train recall: 0.9925\n",
      "Train F1: 0.9835\n",
      "Training accuracy: 99.37 (%)\n",
      "\n",
      "Accuracy aumentou de 0.9934 para 0.9937 (35/200)\n",
      "Saving checkpoint...\n",
      "F1 aumentou de 0.9828 para 0.9835 (35/200)\n",
      "Saving checkpoint...\n",
      "\n"
     ]
    },
    {
     "name": "stderr",
     "output_type": "stream",
     "text": [
      "100%|███████████████████████████████████████████████████████████████████████████████████████████████████████| 44/44 [02:59<00:00,  4.07s/it]\n"
     ]
    },
    {
     "name": "stdout",
     "output_type": "stream",
     "text": [
      "Validation loss: 0.25423\n",
      "Validation precision: 0.9303\n",
      "Validation recall: 0.8537\n",
      "Validation F1: 0.8904\n",
      "Validation accuracy: 95.90 (%)\n",
      "\n",
      "\n",
      "Epoch 36/200\n"
     ]
    },
    {
     "name": "stderr",
     "output_type": "stream",
     "text": [
      "100%|█████████████████████████████████████████████████████████████████████████████████████████████████████| 176/176 [13:39<00:00,  4.66s/it]\n"
     ]
    },
    {
     "name": "stdout",
     "output_type": "stream",
     "text": [
      "Training loss: 0.02190\n",
      "Train precision: 0.9752\n",
      "Train recall: 0.9911\n",
      "Train F1: 0.9831\n",
      "Training accuracy: 99.35 (%)\n",
      "\n",
      "\n"
     ]
    },
    {
     "name": "stderr",
     "output_type": "stream",
     "text": [
      "100%|███████████████████████████████████████████████████████████████████████████████████████████████████████| 44/44 [02:58<00:00,  4.05s/it]\n"
     ]
    },
    {
     "name": "stdout",
     "output_type": "stream",
     "text": [
      "Validation loss: 0.28113\n",
      "Validation precision: 0.9717\n",
      "Validation recall: 0.7878\n",
      "Validation F1: 0.8701\n",
      "Validation accuracy: 95.62 (%)\n",
      "\n",
      "\n",
      "Epoch 37/200\n"
     ]
    },
    {
     "name": "stderr",
     "output_type": "stream",
     "text": [
      "100%|█████████████████████████████████████████████████████████████████████████████████████████████████████| 176/176 [13:52<00:00,  4.73s/it]\n"
     ]
    },
    {
     "name": "stdout",
     "output_type": "stream",
     "text": [
      "Training loss: 0.01601\n",
      "Train precision: 0.9807\n",
      "Train recall: 0.9936\n",
      "Train F1: 0.9871\n",
      "Training accuracy: 99.49 (%)\n",
      "\n",
      "Accuracy aumentou de 0.9937 para 0.9949 (37/200)\n",
      "Saving checkpoint...\n",
      "F1 aumentou de 0.9835 para 0.9871 (37/200)\n",
      "Saving checkpoint...\n",
      "\n"
     ]
    },
    {
     "name": "stderr",
     "output_type": "stream",
     "text": [
      "100%|███████████████████████████████████████████████████████████████████████████████████████████████████████| 44/44 [02:58<00:00,  4.06s/it]\n"
     ]
    },
    {
     "name": "stdout",
     "output_type": "stream",
     "text": [
      "Validation loss: 0.30752\n",
      "Validation precision: 0.9645\n",
      "Validation recall: 0.7565\n",
      "Validation F1: 0.8479\n",
      "Validation accuracy: 94.80 (%)\n",
      "\n",
      "\n",
      "Epoch 38/200\n"
     ]
    },
    {
     "name": "stderr",
     "output_type": "stream",
     "text": [
      "100%|█████████████████████████████████████████████████████████████████████████████████████████████████████| 176/176 [13:41<00:00,  4.67s/it]\n"
     ]
    },
    {
     "name": "stdout",
     "output_type": "stream",
     "text": [
      "Training loss: 0.01972\n",
      "Train precision: 0.9790\n",
      "Train recall: 0.9901\n",
      "Train F1: 0.9845\n",
      "Training accuracy: 99.38 (%)\n",
      "\n",
      "\n"
     ]
    },
    {
     "name": "stderr",
     "output_type": "stream",
     "text": [
      "100%|███████████████████████████████████████████████████████████████████████████████████████████████████████| 44/44 [02:57<00:00,  4.03s/it]\n"
     ]
    },
    {
     "name": "stdout",
     "output_type": "stream",
     "text": [
      "Validation loss: 0.25120\n",
      "Validation precision: 0.9104\n",
      "Validation recall: 0.8249\n",
      "Validation F1: 0.8655\n",
      "Validation accuracy: 94.94 (%)\n",
      "\n",
      "\n",
      "Epoch 39/200\n"
     ]
    },
    {
     "name": "stderr",
     "output_type": "stream",
     "text": [
      "100%|█████████████████████████████████████████████████████████████████████████████████████████████████████| 176/176 [13:41<00:00,  4.67s/it]\n"
     ]
    },
    {
     "name": "stdout",
     "output_type": "stream",
     "text": [
      "Training loss: 0.02554\n",
      "Train precision: 0.9705\n",
      "Train recall: 0.9859\n",
      "Train F1: 0.9782\n",
      "Training accuracy: 99.16 (%)\n",
      "\n",
      "\n"
     ]
    },
    {
     "name": "stderr",
     "output_type": "stream",
     "text": [
      "100%|███████████████████████████████████████████████████████████████████████████████████████████████████████| 44/44 [02:55<00:00,  3.99s/it]\n"
     ]
    },
    {
     "name": "stdout",
     "output_type": "stream",
     "text": [
      "Validation loss: 0.25958\n",
      "Validation precision: 0.9327\n",
      "Validation recall: 0.8072\n",
      "Validation F1: 0.8654\n",
      "Validation accuracy: 95.55 (%)\n",
      "\n",
      "\n",
      "Epoch 40/200\n"
     ]
    },
    {
     "name": "stderr",
     "output_type": "stream",
     "text": [
      "100%|█████████████████████████████████████████████████████████████████████████████████████████████████████| 176/176 [13:51<00:00,  4.72s/it]\n"
     ]
    },
    {
     "name": "stdout",
     "output_type": "stream",
     "text": [
      "Training loss: 0.02222\n",
      "Train precision: 0.9726\n",
      "Train recall: 0.9895\n",
      "Train F1: 0.9810\n",
      "Training accuracy: 99.25 (%)\n",
      "\n",
      "\n"
     ]
    },
    {
     "name": "stderr",
     "output_type": "stream",
     "text": [
      "100%|███████████████████████████████████████████████████████████████████████████████████████████████████████| 44/44 [02:55<00:00,  3.98s/it]\n"
     ]
    },
    {
     "name": "stdout",
     "output_type": "stream",
     "text": [
      "Validation loss: 0.22605\n",
      "Validation precision: 0.9750\n",
      "Validation recall: 0.8110\n",
      "Validation F1: 0.8854\n",
      "Validation accuracy: 96.05 (%)\n",
      "\n",
      "\n",
      "Epoch 41/200\n"
     ]
    },
    {
     "name": "stderr",
     "output_type": "stream",
     "text": [
      "100%|█████████████████████████████████████████████████████████████████████████████████████████████████████| 176/176 [13:42<00:00,  4.67s/it]\n"
     ]
    },
    {
     "name": "stdout",
     "output_type": "stream",
     "text": [
      "Training loss: 0.01967\n",
      "Train precision: 0.9785\n",
      "Train recall: 0.9903\n",
      "Train F1: 0.9844\n",
      "Training accuracy: 99.42 (%)\n",
      "\n",
      "\n"
     ]
    },
    {
     "name": "stderr",
     "output_type": "stream",
     "text": [
      "100%|███████████████████████████████████████████████████████████████████████████████████████████████████████| 44/44 [02:56<00:00,  4.02s/it]\n"
     ]
    },
    {
     "name": "stdout",
     "output_type": "stream",
     "text": [
      "Validation loss: 0.26590\n",
      "Validation precision: 0.9824\n",
      "Validation recall: 0.8022\n",
      "Validation F1: 0.8832\n",
      "Validation accuracy: 95.80 (%)\n",
      "\n",
      "\n",
      "Epoch 42/200\n"
     ]
    },
    {
     "name": "stderr",
     "output_type": "stream",
     "text": [
      "100%|█████████████████████████████████████████████████████████████████████████████████████████████████████| 176/176 [13:43<00:00,  4.68s/it]\n"
     ]
    },
    {
     "name": "stdout",
     "output_type": "stream",
     "text": [
      "Training loss: 0.01947\n",
      "Train precision: 0.9793\n",
      "Train recall: 0.9916\n",
      "Train F1: 0.9854\n",
      "Training accuracy: 99.44 (%)\n",
      "\n",
      "\n"
     ]
    },
    {
     "name": "stderr",
     "output_type": "stream",
     "text": [
      "100%|███████████████████████████████████████████████████████████████████████████████████████████████████████| 44/44 [02:56<00:00,  4.02s/it]\n"
     ]
    },
    {
     "name": "stdout",
     "output_type": "stream",
     "text": [
      "Validation loss: 0.25053\n",
      "Validation precision: 0.9363\n",
      "Validation recall: 0.8476\n",
      "Validation F1: 0.8898\n",
      "Validation accuracy: 95.98 (%)\n",
      "\n",
      "\n",
      "Epoch 43/200\n"
     ]
    },
    {
     "name": "stderr",
     "output_type": "stream",
     "text": [
      "100%|█████████████████████████████████████████████████████████████████████████████████████████████████████| 176/176 [13:36<00:00,  4.64s/it]\n"
     ]
    },
    {
     "name": "stdout",
     "output_type": "stream",
     "text": [
      "Training loss: 0.01692\n",
      "Train precision: 0.9796\n",
      "Train recall: 0.9924\n",
      "Train F1: 0.9860\n",
      "Training accuracy: 99.44 (%)\n",
      "\n",
      "\n"
     ]
    },
    {
     "name": "stderr",
     "output_type": "stream",
     "text": [
      "100%|███████████████████████████████████████████████████████████████████████████████████████████████████████| 44/44 [02:55<00:00,  3.99s/it]\n"
     ]
    },
    {
     "name": "stdout",
     "output_type": "stream",
     "text": [
      "Validation loss: 0.25422\n",
      "Validation precision: 0.9770\n",
      "Validation recall: 0.8555\n",
      "Validation F1: 0.9122\n",
      "Validation accuracy: 96.51 (%)\n",
      "\n",
      "Accuracy aumentou de 0.9640 para 0.9651 (43/200)\n",
      "Saving checkpoint...\n",
      "F1 aumentou de 0.9013 para 0.9122 (43/200)\n",
      "Saving checkpoint...\n",
      "\n",
      "Epoch 44/200\n"
     ]
    },
    {
     "name": "stderr",
     "output_type": "stream",
     "text": [
      "100%|█████████████████████████████████████████████████████████████████████████████████████████████████████| 176/176 [13:43<00:00,  4.68s/it]\n"
     ]
    },
    {
     "name": "stdout",
     "output_type": "stream",
     "text": [
      "Training loss: 0.01632\n",
      "Train precision: 0.9809\n",
      "Train recall: 0.9924\n",
      "Train F1: 0.9866\n",
      "Training accuracy: 99.46 (%)\n",
      "\n",
      "\n"
     ]
    },
    {
     "name": "stderr",
     "output_type": "stream",
     "text": [
      "100%|███████████████████████████████████████████████████████████████████████████████████████████████████████| 44/44 [02:57<00:00,  4.02s/it]\n"
     ]
    },
    {
     "name": "stdout",
     "output_type": "stream",
     "text": [
      "Validation loss: 0.34819\n",
      "Validation precision: 0.9364\n",
      "Validation recall: 0.8324\n",
      "Validation F1: 0.8814\n",
      "Validation accuracy: 95.76 (%)\n",
      "\n",
      "\n",
      "Epoch 45/200\n"
     ]
    },
    {
     "name": "stderr",
     "output_type": "stream",
     "text": [
      "100%|█████████████████████████████████████████████████████████████████████████████████████████████████████| 176/176 [13:46<00:00,  4.69s/it]\n"
     ]
    },
    {
     "name": "stdout",
     "output_type": "stream",
     "text": [
      "Training loss: 0.02542\n",
      "Train precision: 0.9719\n",
      "Train recall: 0.9909\n",
      "Train F1: 0.9813\n",
      "Training accuracy: 99.26 (%)\n",
      "\n",
      "\n"
     ]
    },
    {
     "name": "stderr",
     "output_type": "stream",
     "text": [
      "100%|███████████████████████████████████████████████████████████████████████████████████████████████████████| 44/44 [02:55<00:00,  4.00s/it]\n"
     ]
    },
    {
     "name": "stdout",
     "output_type": "stream",
     "text": [
      "Validation loss: 0.30463\n",
      "Validation precision: 0.9587\n",
      "Validation recall: 0.8271\n",
      "Validation F1: 0.8880\n",
      "Validation accuracy: 95.83 (%)\n",
      "\n",
      "\n",
      "Epoch 46/200\n"
     ]
    },
    {
     "name": "stderr",
     "output_type": "stream",
     "text": [
      "100%|█████████████████████████████████████████████████████████████████████████████████████████████████████| 176/176 [13:44<00:00,  4.69s/it]\n"
     ]
    },
    {
     "name": "stdout",
     "output_type": "stream",
     "text": [
      "Training loss: 0.01935\n",
      "Train precision: 0.9761\n",
      "Train recall: 0.9902\n",
      "Train F1: 0.9831\n",
      "Training accuracy: 99.35 (%)\n",
      "\n",
      "\n"
     ]
    },
    {
     "name": "stderr",
     "output_type": "stream",
     "text": [
      "100%|███████████████████████████████████████████████████████████████████████████████████████████████████████| 44/44 [02:56<00:00,  4.01s/it]\n"
     ]
    },
    {
     "name": "stdout",
     "output_type": "stream",
     "text": [
      "Validation loss: 0.28499\n",
      "Validation precision: 0.9775\n",
      "Validation recall: 0.8253\n",
      "Validation F1: 0.8949\n",
      "Validation accuracy: 96.01 (%)\n",
      "\n",
      "\n",
      "Epoch 47/200\n"
     ]
    },
    {
     "name": "stderr",
     "output_type": "stream",
     "text": [
      "100%|█████████████████████████████████████████████████████████████████████████████████████████████████████| 176/176 [13:41<00:00,  4.67s/it]\n"
     ]
    },
    {
     "name": "stdout",
     "output_type": "stream",
     "text": [
      "Training loss: 0.01584\n",
      "Train precision: 0.9815\n",
      "Train recall: 0.9922\n",
      "Train F1: 0.9868\n",
      "Training accuracy: 99.48 (%)\n",
      "\n",
      "\n"
     ]
    },
    {
     "name": "stderr",
     "output_type": "stream",
     "text": [
      "100%|███████████████████████████████████████████████████████████████████████████████████████████████████████| 44/44 [02:57<00:00,  4.04s/it]\n"
     ]
    },
    {
     "name": "stdout",
     "output_type": "stream",
     "text": [
      "Validation loss: 0.30718\n",
      "Validation precision: 0.9783\n",
      "Validation recall: 0.8039\n",
      "Validation F1: 0.8826\n",
      "Validation accuracy: 95.73 (%)\n",
      "\n",
      "\n",
      "Epoch 48/200\n"
     ]
    },
    {
     "name": "stderr",
     "output_type": "stream",
     "text": [
      "100%|█████████████████████████████████████████████████████████████████████████████████████████████████████| 176/176 [13:40<00:00,  4.66s/it]\n"
     ]
    },
    {
     "name": "stdout",
     "output_type": "stream",
     "text": [
      "Training loss: 0.01555\n",
      "Train precision: 0.9835\n",
      "Train recall: 0.9949\n",
      "Train F1: 0.9892\n",
      "Training accuracy: 99.58 (%)\n",
      "\n",
      "Accuracy aumentou de 0.9949 para 0.9958 (48/200)\n",
      "Saving checkpoint...\n",
      "F1 aumentou de 0.9871 para 0.9892 (48/200)\n",
      "Saving checkpoint...\n",
      "\n"
     ]
    },
    {
     "name": "stderr",
     "output_type": "stream",
     "text": [
      "100%|███████████████████████████████████████████████████████████████████████████████████████████████████████| 44/44 [02:54<00:00,  3.98s/it]\n"
     ]
    },
    {
     "name": "stdout",
     "output_type": "stream",
     "text": [
      "Validation loss: 0.26141\n",
      "Validation precision: 0.9895\n",
      "Validation recall: 0.8163\n",
      "Validation F1: 0.8946\n",
      "Validation accuracy: 96.05 (%)\n",
      "\n",
      "\n",
      "Epoch 49/200\n"
     ]
    },
    {
     "name": "stderr",
     "output_type": "stream",
     "text": [
      "100%|█████████████████████████████████████████████████████████████████████████████████████████████████████| 176/176 [13:40<00:00,  4.66s/it]\n"
     ]
    },
    {
     "name": "stdout",
     "output_type": "stream",
     "text": [
      "Training loss: 0.01740\n",
      "Train precision: 0.9780\n",
      "Train recall: 0.9918\n",
      "Train F1: 0.9849\n",
      "Training accuracy: 99.40 (%)\n",
      "\n",
      "\n"
     ]
    },
    {
     "name": "stderr",
     "output_type": "stream",
     "text": [
      "100%|███████████████████████████████████████████████████████████████████████████████████████████████████████| 44/44 [02:54<00:00,  3.96s/it]\n"
     ]
    },
    {
     "name": "stdout",
     "output_type": "stream",
     "text": [
      "Validation loss: 0.24057\n",
      "Validation precision: 0.9803\n",
      "Validation recall: 0.8217\n",
      "Validation F1: 0.8940\n",
      "Validation accuracy: 96.23 (%)\n",
      "\n",
      "\n",
      "Epoch 50/200\n"
     ]
    },
    {
     "name": "stderr",
     "output_type": "stream",
     "text": [
      "100%|█████████████████████████████████████████████████████████████████████████████████████████████████████| 176/176 [13:36<00:00,  4.64s/it]\n"
     ]
    },
    {
     "name": "stdout",
     "output_type": "stream",
     "text": [
      "Training loss: 0.01484\n",
      "Train precision: 0.9840\n",
      "Train recall: 0.9928\n",
      "Train F1: 0.9884\n",
      "Training accuracy: 99.54 (%)\n",
      "\n",
      "\n"
     ]
    },
    {
     "name": "stderr",
     "output_type": "stream",
     "text": [
      "100%|███████████████████████████████████████████████████████████████████████████████████████████████████████| 44/44 [02:54<00:00,  3.97s/it]\n"
     ]
    },
    {
     "name": "stdout",
     "output_type": "stream",
     "text": [
      "Validation loss: 0.24889\n",
      "Validation precision: 0.9773\n",
      "Validation recall: 0.8086\n",
      "Validation F1: 0.8850\n",
      "Validation accuracy: 96.01 (%)\n",
      "\n",
      "\n",
      "Epoch 51/200\n"
     ]
    },
    {
     "name": "stderr",
     "output_type": "stream",
     "text": [
      "100%|█████████████████████████████████████████████████████████████████████████████████████████████████████| 176/176 [13:36<00:00,  4.64s/it]\n"
     ]
    },
    {
     "name": "stdout",
     "output_type": "stream",
     "text": [
      "Training loss: 0.01044\n",
      "Train precision: 0.9876\n",
      "Train recall: 0.9960\n",
      "Train F1: 0.9917\n",
      "Training accuracy: 99.67 (%)\n",
      "\n",
      "Accuracy aumentou de 0.9958 para 0.9967 (51/200)\n",
      "Saving checkpoint...\n",
      "F1 aumentou de 0.9892 para 0.9917 (51/200)\n",
      "Saving checkpoint...\n",
      "\n"
     ]
    },
    {
     "name": "stderr",
     "output_type": "stream",
     "text": [
      "100%|███████████████████████████████████████████████████████████████████████████████████████████████████████| 44/44 [02:53<00:00,  3.95s/it]\n"
     ]
    },
    {
     "name": "stdout",
     "output_type": "stream",
     "text": [
      "Validation loss: 0.26675\n",
      "Validation precision: 0.9688\n",
      "Validation recall: 0.8101\n",
      "Validation F1: 0.8824\n",
      "Validation accuracy: 95.87 (%)\n",
      "\n",
      "\n",
      "Epoch 52/200\n"
     ]
    },
    {
     "name": "stderr",
     "output_type": "stream",
     "text": [
      "100%|█████████████████████████████████████████████████████████████████████████████████████████████████████| 176/176 [13:38<00:00,  4.65s/it]\n"
     ]
    },
    {
     "name": "stdout",
     "output_type": "stream",
     "text": [
      "Training loss: 0.01230\n",
      "Train precision: 0.9850\n",
      "Train recall: 0.9964\n",
      "Train F1: 0.9907\n",
      "Training accuracy: 99.63 (%)\n",
      "\n",
      "\n"
     ]
    },
    {
     "name": "stderr",
     "output_type": "stream",
     "text": [
      "100%|███████████████████████████████████████████████████████████████████████████████████████████████████████| 44/44 [02:55<00:00,  3.99s/it]\n"
     ]
    },
    {
     "name": "stdout",
     "output_type": "stream",
     "text": [
      "Validation loss: 0.47659\n",
      "Validation precision: 0.9890\n",
      "Validation recall: 0.6729\n",
      "Validation F1: 0.8009\n",
      "Validation accuracy: 93.63 (%)\n",
      "\n",
      "\n",
      "Epoch 53/200\n"
     ]
    },
    {
     "name": "stderr",
     "output_type": "stream",
     "text": [
      "100%|█████████████████████████████████████████████████████████████████████████████████████████████████████| 176/176 [13:37<00:00,  4.64s/it]\n"
     ]
    },
    {
     "name": "stdout",
     "output_type": "stream",
     "text": [
      "Training loss: 0.01328\n",
      "Train precision: 0.9834\n",
      "Train recall: 0.9941\n",
      "Train F1: 0.9887\n",
      "Training accuracy: 99.55 (%)\n",
      "\n",
      "\n"
     ]
    },
    {
     "name": "stderr",
     "output_type": "stream",
     "text": [
      "100%|███████████████████████████████████████████████████████████████████████████████████████████████████████| 44/44 [02:55<00:00,  3.99s/it]\n"
     ]
    },
    {
     "name": "stdout",
     "output_type": "stream",
     "text": [
      "Validation loss: 0.27734\n",
      "Validation precision: 0.9815\n",
      "Validation recall: 0.8233\n",
      "Validation F1: 0.8955\n",
      "Validation accuracy: 96.47 (%)\n",
      "\n",
      "\n",
      "Epoch 54/200\n"
     ]
    },
    {
     "name": "stderr",
     "output_type": "stream",
     "text": [
      "100%|█████████████████████████████████████████████████████████████████████████████████████████████████████| 176/176 [13:32<00:00,  4.62s/it]\n"
     ]
    },
    {
     "name": "stdout",
     "output_type": "stream",
     "text": [
      "Training loss: 0.01416\n",
      "Train precision: 0.9849\n",
      "Train recall: 0.9942\n",
      "Train F1: 0.9895\n",
      "Training accuracy: 99.58 (%)\n",
      "\n",
      "\n"
     ]
    },
    {
     "name": "stderr",
     "output_type": "stream",
     "text": [
      "100%|███████████████████████████████████████████████████████████████████████████████████████████████████████| 44/44 [02:56<00:00,  4.01s/it]\n"
     ]
    },
    {
     "name": "stdout",
     "output_type": "stream",
     "text": [
      "Validation loss: 0.33619\n",
      "Validation precision: 0.9428\n",
      "Validation recall: 0.8386\n",
      "Validation F1: 0.8877\n",
      "Validation accuracy: 95.69 (%)\n",
      "\n",
      "\n",
      "Epoch 55/200\n"
     ]
    },
    {
     "name": "stderr",
     "output_type": "stream",
     "text": [
      "100%|█████████████████████████████████████████████████████████████████████████████████████████████████████| 176/176 [14:53<00:00,  5.08s/it]\n"
     ]
    },
    {
     "name": "stdout",
     "output_type": "stream",
     "text": [
      "Training loss: 0.01707\n",
      "Train precision: 0.9782\n",
      "Train recall: 0.9931\n",
      "Train F1: 0.9856\n",
      "Training accuracy: 99.44 (%)\n",
      "\n",
      "\n"
     ]
    },
    {
     "name": "stderr",
     "output_type": "stream",
     "text": [
      "100%|███████████████████████████████████████████████████████████████████████████████████████████████████████| 44/44 [02:55<00:00,  4.00s/it]\n"
     ]
    },
    {
     "name": "stdout",
     "output_type": "stream",
     "text": [
      "Validation loss: 0.21439\n",
      "Validation precision: 0.9768\n",
      "Validation recall: 0.8406\n",
      "Validation F1: 0.9036\n",
      "Validation accuracy: 96.47 (%)\n",
      "\n",
      "\n",
      "Epoch 56/200\n"
     ]
    },
    {
     "name": "stderr",
     "output_type": "stream",
     "text": [
      "100%|█████████████████████████████████████████████████████████████████████████████████████████████████████| 176/176 [13:45<00:00,  4.69s/it]\n"
     ]
    },
    {
     "name": "stdout",
     "output_type": "stream",
     "text": [
      "Training loss: 0.01499\n",
      "Train precision: 0.9831\n",
      "Train recall: 0.9931\n",
      "Train F1: 0.9881\n",
      "Training accuracy: 99.54 (%)\n",
      "\n",
      "\n"
     ]
    },
    {
     "name": "stderr",
     "output_type": "stream",
     "text": [
      "100%|███████████████████████████████████████████████████████████████████████████████████████████████████████| 44/44 [02:56<00:00,  4.01s/it]\n"
     ]
    },
    {
     "name": "stdout",
     "output_type": "stream",
     "text": [
      "Validation loss: 0.26334\n",
      "Validation precision: 0.9778\n",
      "Validation recall: 0.8167\n",
      "Validation F1: 0.8900\n",
      "Validation accuracy: 96.12 (%)\n",
      "\n",
      "\n",
      "Epoch 57/200\n"
     ]
    },
    {
     "name": "stderr",
     "output_type": "stream",
     "text": [
      "100%|█████████████████████████████████████████████████████████████████████████████████████████████████████| 176/176 [13:44<00:00,  4.68s/it]\n"
     ]
    },
    {
     "name": "stdout",
     "output_type": "stream",
     "text": [
      "Training loss: 0.01105\n",
      "Train precision: 0.9866\n",
      "Train recall: 0.9967\n",
      "Train F1: 0.9916\n",
      "Training accuracy: 99.68 (%)\n",
      "\n",
      "Accuracy aumentou de 0.9967 para 0.9968 (57/200)\n",
      "Saving checkpoint...\n",
      "\n"
     ]
    },
    {
     "name": "stderr",
     "output_type": "stream",
     "text": [
      "100%|███████████████████████████████████████████████████████████████████████████████████████████████████████| 44/44 [02:54<00:00,  3.96s/it]\n"
     ]
    },
    {
     "name": "stdout",
     "output_type": "stream",
     "text": [
      "Validation loss: 0.29964\n",
      "Validation precision: 0.9884\n",
      "Validation recall: 0.7821\n",
      "Validation F1: 0.8732\n",
      "Validation accuracy: 95.58 (%)\n",
      "\n",
      "\n",
      "Epoch 58/200\n"
     ]
    },
    {
     "name": "stderr",
     "output_type": "stream",
     "text": [
      "100%|█████████████████████████████████████████████████████████████████████████████████████████████████████| 176/176 [13:35<00:00,  4.63s/it]\n"
     ]
    },
    {
     "name": "stdout",
     "output_type": "stream",
     "text": [
      "Training loss: 0.01389\n",
      "Train precision: 0.9856\n",
      "Train recall: 0.9944\n",
      "Train F1: 0.9900\n",
      "Training accuracy: 99.62 (%)\n",
      "\n",
      "\n"
     ]
    },
    {
     "name": "stderr",
     "output_type": "stream",
     "text": [
      "100%|███████████████████████████████████████████████████████████████████████████████████████████████████████| 44/44 [02:58<00:00,  4.05s/it]\n"
     ]
    },
    {
     "name": "stdout",
     "output_type": "stream",
     "text": [
      "Validation loss: 0.31331\n",
      "Validation precision: 0.9827\n",
      "Validation recall: 0.7739\n",
      "Validation F1: 0.8659\n",
      "Validation accuracy: 95.62 (%)\n",
      "\n",
      "\n",
      "Epoch 59/200\n"
     ]
    },
    {
     "name": "stderr",
     "output_type": "stream",
     "text": [
      "100%|█████████████████████████████████████████████████████████████████████████████████████████████████████| 176/176 [13:40<00:00,  4.66s/it]\n"
     ]
    },
    {
     "name": "stdout",
     "output_type": "stream",
     "text": [
      "Training loss: 0.01237\n",
      "Train precision: 0.9852\n",
      "Train recall: 0.9944\n",
      "Train F1: 0.9898\n",
      "Training accuracy: 99.61 (%)\n",
      "\n",
      "\n"
     ]
    },
    {
     "name": "stderr",
     "output_type": "stream",
     "text": [
      "100%|███████████████████████████████████████████████████████████████████████████████████████████████████████| 44/44 [02:57<00:00,  4.04s/it]\n"
     ]
    },
    {
     "name": "stdout",
     "output_type": "stream",
     "text": [
      "Validation loss: 0.28806\n",
      "Validation precision: 0.9806\n",
      "Validation recall: 0.8246\n",
      "Validation F1: 0.8959\n",
      "Validation accuracy: 96.23 (%)\n",
      "\n",
      "\n",
      "Epoch 60/200\n"
     ]
    },
    {
     "name": "stderr",
     "output_type": "stream",
     "text": [
      "100%|█████████████████████████████████████████████████████████████████████████████████████████████████████| 176/176 [14:46<00:00,  5.04s/it]\n"
     ]
    },
    {
     "name": "stdout",
     "output_type": "stream",
     "text": [
      "Training loss: 0.01308\n",
      "Train precision: 0.9848\n",
      "Train recall: 0.9955\n",
      "Train F1: 0.9901\n",
      "Training accuracy: 99.61 (%)\n",
      "\n",
      "\n"
     ]
    },
    {
     "name": "stderr",
     "output_type": "stream",
     "text": [
      "100%|███████████████████████████████████████████████████████████████████████████████████████████████████████| 44/44 [03:18<00:00,  4.52s/it]\n"
     ]
    },
    {
     "name": "stdout",
     "output_type": "stream",
     "text": [
      "Validation loss: 0.26423\n",
      "Validation precision: 0.9831\n",
      "Validation recall: 0.8115\n",
      "Validation F1: 0.8891\n",
      "Validation accuracy: 95.87 (%)\n",
      "\n",
      "\n",
      "Epoch 61/200\n"
     ]
    },
    {
     "name": "stderr",
     "output_type": "stream",
     "text": [
      "100%|█████████████████████████████████████████████████████████████████████████████████████████████████████| 176/176 [15:08<00:00,  5.16s/it]\n"
     ]
    },
    {
     "name": "stdout",
     "output_type": "stream",
     "text": [
      "Training loss: 0.00996\n",
      "Train precision: 0.9880\n",
      "Train recall: 0.9973\n",
      "Train F1: 0.9926\n",
      "Training accuracy: 99.71 (%)\n",
      "\n",
      "Accuracy aumentou de 0.9968 para 0.9971 (61/200)\n",
      "Saving checkpoint...\n",
      "F1 aumentou de 0.9917 para 0.9926 (61/200)\n",
      "Saving checkpoint...\n",
      "\n"
     ]
    },
    {
     "name": "stderr",
     "output_type": "stream",
     "text": [
      "100%|███████████████████████████████████████████████████████████████████████████████████████████████████████| 44/44 [03:19<00:00,  4.52s/it]\n"
     ]
    },
    {
     "name": "stdout",
     "output_type": "stream",
     "text": [
      "Validation loss: 0.24638\n",
      "Validation precision: 0.9773\n",
      "Validation recall: 0.8416\n",
      "Validation F1: 0.9044\n",
      "Validation accuracy: 96.44 (%)\n",
      "\n",
      "\n",
      "Epoch 62/200\n"
     ]
    },
    {
     "name": "stderr",
     "output_type": "stream",
     "text": [
      "100%|█████████████████████████████████████████████████████████████████████████████████████████████████████| 176/176 [15:10<00:00,  5.17s/it]\n"
     ]
    },
    {
     "name": "stdout",
     "output_type": "stream",
     "text": [
      "Training loss: 0.01132\n",
      "Train precision: 0.9874\n",
      "Train recall: 0.9941\n",
      "Train F1: 0.9907\n",
      "Training accuracy: 99.63 (%)\n",
      "\n",
      "\n"
     ]
    },
    {
     "name": "stderr",
     "output_type": "stream",
     "text": [
      "100%|███████████████████████████████████████████████████████████████████████████████████████████████████████| 44/44 [03:20<00:00,  4.55s/it]\n"
     ]
    },
    {
     "name": "stdout",
     "output_type": "stream",
     "text": [
      "Validation loss: 0.27257\n",
      "Validation precision: 0.9686\n",
      "Validation recall: 0.8591\n",
      "Validation F1: 0.9106\n",
      "Validation accuracy: 96.55 (%)\n",
      "\n",
      "Accuracy aumentou de 0.9651 para 0.9655 (62/200)\n",
      "Saving checkpoint...\n",
      "\n",
      "Epoch 63/200\n"
     ]
    },
    {
     "name": "stderr",
     "output_type": "stream",
     "text": [
      "100%|█████████████████████████████████████████████████████████████████████████████████████████████████████| 176/176 [15:09<00:00,  5.17s/it]\n"
     ]
    },
    {
     "name": "stdout",
     "output_type": "stream",
     "text": [
      "Training loss: 0.01166\n",
      "Train precision: 0.9848\n",
      "Train recall: 0.9954\n",
      "Train F1: 0.9901\n",
      "Training accuracy: 99.62 (%)\n",
      "\n",
      "\n"
     ]
    },
    {
     "name": "stderr",
     "output_type": "stream",
     "text": [
      "100%|███████████████████████████████████████████████████████████████████████████████████████████████████████| 44/44 [03:17<00:00,  4.48s/it]\n"
     ]
    },
    {
     "name": "stdout",
     "output_type": "stream",
     "text": [
      "Validation loss: 0.31745\n",
      "Validation precision: 0.9891\n",
      "Validation recall: 0.8300\n",
      "Validation F1: 0.9026\n",
      "Validation accuracy: 96.51 (%)\n",
      "\n",
      "\n",
      "Epoch 64/200\n"
     ]
    },
    {
     "name": "stderr",
     "output_type": "stream",
     "text": [
      "100%|█████████████████████████████████████████████████████████████████████████████████████████████████████| 176/176 [15:10<00:00,  5.17s/it]\n"
     ]
    },
    {
     "name": "stdout",
     "output_type": "stream",
     "text": [
      "Training loss: 0.00991\n",
      "Train precision: 0.9889\n",
      "Train recall: 0.9949\n",
      "Train F1: 0.9919\n",
      "Training accuracy: 99.69 (%)\n",
      "\n",
      "\n"
     ]
    },
    {
     "name": "stderr",
     "output_type": "stream",
     "text": [
      "100%|███████████████████████████████████████████████████████████████████████████████████████████████████████| 44/44 [03:18<00:00,  4.52s/it]\n"
     ]
    },
    {
     "name": "stdout",
     "output_type": "stream",
     "text": [
      "Validation loss: 0.25015\n",
      "Validation precision: 0.9887\n",
      "Validation recall: 0.8044\n",
      "Validation F1: 0.8871\n",
      "Validation accuracy: 96.05 (%)\n",
      "\n",
      "\n",
      "Epoch 65/200\n"
     ]
    },
    {
     "name": "stderr",
     "output_type": "stream",
     "text": [
      "100%|█████████████████████████████████████████████████████████████████████████████████████████████████████| 176/176 [15:06<00:00,  5.15s/it]\n"
     ]
    },
    {
     "name": "stdout",
     "output_type": "stream",
     "text": [
      "Training loss: 0.00879\n",
      "Train precision: 0.9911\n",
      "Train recall: 0.9969\n",
      "Train F1: 0.9940\n",
      "Training accuracy: 99.76 (%)\n",
      "\n",
      "Accuracy aumentou de 0.9971 para 0.9976 (65/200)\n",
      "Saving checkpoint...\n",
      "F1 aumentou de 0.9926 para 0.9940 (65/200)\n",
      "Saving checkpoint...\n",
      "\n"
     ]
    },
    {
     "name": "stderr",
     "output_type": "stream",
     "text": [
      "100%|███████████████████████████████████████████████████████████████████████████████████████████████████████| 44/44 [03:19<00:00,  4.54s/it]\n"
     ]
    },
    {
     "name": "stdout",
     "output_type": "stream",
     "text": [
      "Validation loss: 0.29102\n",
      "Validation precision: 0.9753\n",
      "Validation recall: 0.7905\n",
      "Validation F1: 0.8732\n",
      "Validation accuracy: 95.51 (%)\n",
      "\n",
      "\n",
      "Epoch 66/200\n"
     ]
    },
    {
     "name": "stderr",
     "output_type": "stream",
     "text": [
      "100%|█████████████████████████████████████████████████████████████████████████████████████████████████████| 176/176 [15:09<00:00,  5.17s/it]\n"
     ]
    },
    {
     "name": "stdout",
     "output_type": "stream",
     "text": [
      "Training loss: 0.01124\n",
      "Train precision: 0.9889\n",
      "Train recall: 0.9916\n",
      "Train F1: 0.9902\n",
      "Training accuracy: 99.63 (%)\n",
      "\n",
      "\n"
     ]
    },
    {
     "name": "stderr",
     "output_type": "stream",
     "text": [
      "100%|███████████████████████████████████████████████████████████████████████████████████████████████████████| 44/44 [03:17<00:00,  4.49s/it]\n"
     ]
    },
    {
     "name": "stdout",
     "output_type": "stream",
     "text": [
      "Validation loss: 0.31051\n",
      "Validation precision: 0.9099\n",
      "Validation recall: 0.8935\n",
      "Validation F1: 0.9016\n",
      "Validation accuracy: 96.15 (%)\n",
      "\n",
      "\n",
      "Epoch 67/200\n"
     ]
    },
    {
     "name": "stderr",
     "output_type": "stream",
     "text": [
      "100%|█████████████████████████████████████████████████████████████████████████████████████████████████████| 176/176 [15:09<00:00,  5.16s/it]\n"
     ]
    },
    {
     "name": "stdout",
     "output_type": "stream",
     "text": [
      "Training loss: 0.01334\n",
      "Train precision: 0.9841\n",
      "Train recall: 0.9918\n",
      "Train F1: 0.9879\n",
      "Training accuracy: 99.53 (%)\n",
      "\n",
      "\n"
     ]
    },
    {
     "name": "stderr",
     "output_type": "stream",
     "text": [
      "100%|███████████████████████████████████████████████████████████████████████████████████████████████████████| 44/44 [02:56<00:00,  4.01s/it]\n"
     ]
    },
    {
     "name": "stdout",
     "output_type": "stream",
     "text": [
      "Validation loss: 0.28218\n",
      "Validation precision: 0.9706\n",
      "Validation recall: 0.8327\n",
      "Validation F1: 0.8964\n",
      "Validation accuracy: 96.19 (%)\n",
      "\n",
      "\n",
      "Epoch 68/200\n"
     ]
    },
    {
     "name": "stderr",
     "output_type": "stream",
     "text": [
      "100%|█████████████████████████████████████████████████████████████████████████████████████████████████████| 176/176 [13:41<00:00,  4.67s/it]\n"
     ]
    },
    {
     "name": "stdout",
     "output_type": "stream",
     "text": [
      "Training loss: 0.01068\n",
      "Train precision: 0.9876\n",
      "Train recall: 0.9940\n",
      "Train F1: 0.9908\n",
      "Training accuracy: 99.64 (%)\n",
      "\n",
      "\n"
     ]
    },
    {
     "name": "stderr",
     "output_type": "stream",
     "text": [
      "100%|███████████████████████████████████████████████████████████████████████████████████████████████████████| 44/44 [02:55<00:00,  3.99s/it]\n"
     ]
    },
    {
     "name": "stdout",
     "output_type": "stream",
     "text": [
      "Validation loss: 0.38431\n",
      "Validation precision: 0.9776\n",
      "Validation recall: 0.7530\n",
      "Validation F1: 0.8507\n",
      "Validation accuracy: 94.55 (%)\n",
      "\n",
      "\n",
      "Epoch 69/200\n"
     ]
    },
    {
     "name": "stderr",
     "output_type": "stream",
     "text": [
      "100%|█████████████████████████████████████████████████████████████████████████████████████████████████████| 176/176 [13:40<00:00,  4.66s/it]\n"
     ]
    },
    {
     "name": "stdout",
     "output_type": "stream",
     "text": [
      "Training loss: 0.01052\n",
      "Train precision: 0.9905\n",
      "Train recall: 0.9954\n",
      "Train F1: 0.9929\n",
      "Training accuracy: 99.72 (%)\n",
      "\n",
      "\n"
     ]
    },
    {
     "name": "stderr",
     "output_type": "stream",
     "text": [
      "100%|███████████████████████████████████████████████████████████████████████████████████████████████████████| 44/44 [02:56<00:00,  4.01s/it]\n"
     ]
    },
    {
     "name": "stdout",
     "output_type": "stream",
     "text": [
      "Validation loss: 0.29960\n",
      "Validation precision: 0.9595\n",
      "Validation recall: 0.8187\n",
      "Validation F1: 0.8835\n",
      "Validation accuracy: 95.55 (%)\n",
      "\n",
      "\n",
      "Epoch 70/200\n"
     ]
    },
    {
     "name": "stderr",
     "output_type": "stream",
     "text": [
      "100%|█████████████████████████████████████████████████████████████████████████████████████████████████████| 176/176 [13:41<00:00,  4.67s/it]\n"
     ]
    },
    {
     "name": "stdout",
     "output_type": "stream",
     "text": [
      "Training loss: 0.01329\n",
      "Train precision: 0.9855\n",
      "Train recall: 0.9963\n",
      "Train F1: 0.9909\n",
      "Training accuracy: 99.64 (%)\n",
      "\n",
      "\n"
     ]
    },
    {
     "name": "stderr",
     "output_type": "stream",
     "text": [
      "100%|███████████████████████████████████████████████████████████████████████████████████████████████████████| 44/44 [02:57<00:00,  4.02s/it]\n"
     ]
    },
    {
     "name": "stdout",
     "output_type": "stream",
     "text": [
      "Validation loss: 0.33575\n",
      "Validation precision: 0.9931\n",
      "Validation recall: 0.8004\n",
      "Validation F1: 0.8864\n",
      "Validation accuracy: 96.05 (%)\n",
      "\n",
      "\n",
      "Epoch 71/200\n"
     ]
    },
    {
     "name": "stderr",
     "output_type": "stream",
     "text": [
      "100%|█████████████████████████████████████████████████████████████████████████████████████████████████████| 176/176 [13:39<00:00,  4.66s/it]\n"
     ]
    },
    {
     "name": "stdout",
     "output_type": "stream",
     "text": [
      "Training loss: 0.00800\n",
      "Train precision: 0.9898\n",
      "Train recall: 0.9981\n",
      "Train F1: 0.9940\n",
      "Training accuracy: 99.77 (%)\n",
      "\n",
      "Accuracy aumentou de 0.9976 para 0.9977 (71/200)\n",
      "Saving checkpoint...\n",
      "\n"
     ]
    },
    {
     "name": "stderr",
     "output_type": "stream",
     "text": [
      "100%|███████████████████████████████████████████████████████████████████████████████████████████████████████| 44/44 [02:54<00:00,  3.97s/it]\n"
     ]
    },
    {
     "name": "stdout",
     "output_type": "stream",
     "text": [
      "Validation loss: 0.26670\n",
      "Validation precision: 0.9905\n",
      "Validation recall: 0.8038\n",
      "Validation F1: 0.8875\n",
      "Validation accuracy: 96.23 (%)\n",
      "\n",
      "\n",
      "Epoch 72/200\n"
     ]
    },
    {
     "name": "stderr",
     "output_type": "stream",
     "text": [
      "100%|█████████████████████████████████████████████████████████████████████████████████████████████████████| 176/176 [13:42<00:00,  4.67s/it]\n"
     ]
    },
    {
     "name": "stdout",
     "output_type": "stream",
     "text": [
      "Training loss: 0.00829\n",
      "Train precision: 0.9903\n",
      "Train recall: 0.9967\n",
      "Train F1: 0.9935\n",
      "Training accuracy: 99.75 (%)\n",
      "\n",
      "\n"
     ]
    },
    {
     "name": "stderr",
     "output_type": "stream",
     "text": [
      "100%|███████████████████████████████████████████████████████████████████████████████████████████████████████| 44/44 [02:55<00:00,  3.98s/it]\n"
     ]
    },
    {
     "name": "stdout",
     "output_type": "stream",
     "text": [
      "Validation loss: 0.26008\n",
      "Validation precision: 0.9886\n",
      "Validation recall: 0.8093\n",
      "Validation F1: 0.8900\n",
      "Validation accuracy: 96.19 (%)\n",
      "\n",
      "\n",
      "Epoch 73/200\n"
     ]
    },
    {
     "name": "stderr",
     "output_type": "stream",
     "text": [
      "100%|█████████████████████████████████████████████████████████████████████████████████████████████████████| 176/176 [13:42<00:00,  4.67s/it]\n"
     ]
    },
    {
     "name": "stdout",
     "output_type": "stream",
     "text": [
      "Training loss: 0.00753\n",
      "Train precision: 0.9900\n",
      "Train recall: 0.9963\n",
      "Train F1: 0.9932\n",
      "Training accuracy: 99.73 (%)\n",
      "\n",
      "\n"
     ]
    },
    {
     "name": "stderr",
     "output_type": "stream",
     "text": [
      "100%|███████████████████████████████████████████████████████████████████████████████████████████████████████| 44/44 [02:55<00:00,  3.98s/it]\n"
     ]
    },
    {
     "name": "stdout",
     "output_type": "stream",
     "text": [
      "Validation loss: 0.36093\n",
      "Validation precision: 0.9842\n",
      "Validation recall: 0.7982\n",
      "Validation F1: 0.8815\n",
      "Validation accuracy: 95.83 (%)\n",
      "\n",
      "\n",
      "Epoch 74/200\n"
     ]
    },
    {
     "name": "stderr",
     "output_type": "stream",
     "text": [
      "100%|█████████████████████████████████████████████████████████████████████████████████████████████████████| 176/176 [13:38<00:00,  4.65s/it]\n"
     ]
    },
    {
     "name": "stdout",
     "output_type": "stream",
     "text": [
      "Training loss: 0.01031\n",
      "Train precision: 0.9870\n",
      "Train recall: 0.9972\n",
      "Train F1: 0.9921\n",
      "Training accuracy: 99.70 (%)\n",
      "\n",
      "\n"
     ]
    },
    {
     "name": "stderr",
     "output_type": "stream",
     "text": [
      "100%|███████████████████████████████████████████████████████████████████████████████████████████████████████| 44/44 [02:57<00:00,  4.03s/it]\n"
     ]
    },
    {
     "name": "stdout",
     "output_type": "stream",
     "text": [
      "Validation loss: 0.36017\n",
      "Validation precision: 0.9911\n",
      "Validation recall: 0.7799\n",
      "Validation F1: 0.8729\n",
      "Validation accuracy: 95.41 (%)\n",
      "\n",
      "\n",
      "Epoch 75/200\n"
     ]
    },
    {
     "name": "stderr",
     "output_type": "stream",
     "text": [
      "100%|█████████████████████████████████████████████████████████████████████████████████████████████████████| 176/176 [13:34<00:00,  4.63s/it]\n"
     ]
    },
    {
     "name": "stdout",
     "output_type": "stream",
     "text": [
      "Training loss: 0.00732\n",
      "Train precision: 0.9902\n",
      "Train recall: 0.9981\n",
      "Train F1: 0.9941\n",
      "Training accuracy: 99.78 (%)\n",
      "\n",
      "Accuracy aumentou de 0.9977 para 0.9978 (75/200)\n",
      "Saving checkpoint...\n",
      "F1 aumentou de 0.9940 para 0.9941 (75/200)\n",
      "Saving checkpoint...\n",
      "\n"
     ]
    },
    {
     "name": "stderr",
     "output_type": "stream",
     "text": [
      "100%|███████████████████████████████████████████████████████████████████████████████████████████████████████| 44/44 [02:55<00:00,  4.00s/it]\n"
     ]
    },
    {
     "name": "stdout",
     "output_type": "stream",
     "text": [
      "Validation loss: 0.39510\n",
      "Validation precision: 0.9828\n",
      "Validation recall: 0.7854\n",
      "Validation F1: 0.8731\n",
      "Validation accuracy: 95.87 (%)\n",
      "\n",
      "\n",
      "Epoch 76/200\n"
     ]
    },
    {
     "name": "stderr",
     "output_type": "stream",
     "text": [
      "100%|█████████████████████████████████████████████████████████████████████████████████████████████████████| 176/176 [13:37<00:00,  4.64s/it]\n"
     ]
    },
    {
     "name": "stdout",
     "output_type": "stream",
     "text": [
      "Training loss: 0.00877\n",
      "Train precision: 0.9909\n",
      "Train recall: 0.9950\n",
      "Train F1: 0.9929\n",
      "Training accuracy: 99.72 (%)\n",
      "\n",
      "\n"
     ]
    },
    {
     "name": "stderr",
     "output_type": "stream",
     "text": [
      "100%|███████████████████████████████████████████████████████████████████████████████████████████████████████| 44/44 [02:56<00:00,  4.00s/it]\n"
     ]
    },
    {
     "name": "stdout",
     "output_type": "stream",
     "text": [
      "Validation loss: 0.31549\n",
      "Validation precision: 0.9888\n",
      "Validation recall: 0.7907\n",
      "Validation F1: 0.8787\n",
      "Validation accuracy: 95.66 (%)\n",
      "\n",
      "\n",
      "Epoch 77/200\n"
     ]
    },
    {
     "name": "stderr",
     "output_type": "stream",
     "text": [
      "100%|█████████████████████████████████████████████████████████████████████████████████████████████████████| 176/176 [13:43<00:00,  4.68s/it]\n"
     ]
    },
    {
     "name": "stdout",
     "output_type": "stream",
     "text": [
      "Training loss: 0.00815\n",
      "Train precision: 0.9897\n",
      "Train recall: 0.9972\n",
      "Train F1: 0.9934\n",
      "Training accuracy: 99.75 (%)\n",
      "\n",
      "\n"
     ]
    },
    {
     "name": "stderr",
     "output_type": "stream",
     "text": [
      "100%|███████████████████████████████████████████████████████████████████████████████████████████████████████| 44/44 [02:56<00:00,  4.00s/it]\n"
     ]
    },
    {
     "name": "stdout",
     "output_type": "stream",
     "text": [
      "Validation loss: 0.33015\n",
      "Validation precision: 0.9953\n",
      "Validation recall: 0.7922\n",
      "Validation F1: 0.8822\n",
      "Validation accuracy: 95.94 (%)\n",
      "\n",
      "\n",
      "Epoch 78/200\n"
     ]
    },
    {
     "name": "stderr",
     "output_type": "stream",
     "text": [
      "100%|█████████████████████████████████████████████████████████████████████████████████████████████████████| 176/176 [13:42<00:00,  4.67s/it]\n"
     ]
    },
    {
     "name": "stdout",
     "output_type": "stream",
     "text": [
      "Training loss: 0.00704\n",
      "Train precision: 0.9922\n",
      "Train recall: 0.9977\n",
      "Train F1: 0.9950\n",
      "Training accuracy: 99.80 (%)\n",
      "\n",
      "Accuracy aumentou de 0.9978 para 0.9980 (78/200)\n",
      "Saving checkpoint...\n",
      "F1 aumentou de 0.9941 para 0.9950 (78/200)\n",
      "Saving checkpoint...\n",
      "\n"
     ]
    },
    {
     "name": "stderr",
     "output_type": "stream",
     "text": [
      "100%|███████████████████████████████████████████████████████████████████████████████████████████████████████| 44/44 [02:56<00:00,  4.01s/it]\n"
     ]
    },
    {
     "name": "stdout",
     "output_type": "stream",
     "text": [
      "Validation loss: 0.32164\n",
      "Validation precision: 0.9856\n",
      "Validation recall: 0.7969\n",
      "Validation F1: 0.8813\n",
      "Validation accuracy: 96.05 (%)\n",
      "\n",
      "\n",
      "Epoch 79/200\n"
     ]
    },
    {
     "name": "stderr",
     "output_type": "stream",
     "text": [
      "100%|█████████████████████████████████████████████████████████████████████████████████████████████████████| 176/176 [13:41<00:00,  4.67s/it]\n"
     ]
    },
    {
     "name": "stdout",
     "output_type": "stream",
     "text": [
      "Training loss: 0.00819\n",
      "Train precision: 0.9885\n",
      "Train recall: 0.9944\n",
      "Train F1: 0.9915\n",
      "Training accuracy: 99.67 (%)\n",
      "\n",
      "\n"
     ]
    },
    {
     "name": "stderr",
     "output_type": "stream",
     "text": [
      "100%|███████████████████████████████████████████████████████████████████████████████████████████████████████| 44/44 [02:55<00:00,  3.99s/it]\n"
     ]
    },
    {
     "name": "stdout",
     "output_type": "stream",
     "text": [
      "Validation loss: 0.25848\n",
      "Validation precision: 0.9883\n",
      "Validation recall: 0.8103\n",
      "Validation F1: 0.8905\n",
      "Validation accuracy: 96.30 (%)\n",
      "\n",
      "\n",
      "Epoch 80/200\n"
     ]
    },
    {
     "name": "stderr",
     "output_type": "stream",
     "text": [
      "100%|█████████████████████████████████████████████████████████████████████████████████████████████████████| 176/176 [13:40<00:00,  4.66s/it]\n"
     ]
    },
    {
     "name": "stdout",
     "output_type": "stream",
     "text": [
      "Training loss: 0.00807\n",
      "Train precision: 0.9907\n",
      "Train recall: 0.9967\n",
      "Train F1: 0.9937\n",
      "Training accuracy: 99.76 (%)\n",
      "\n",
      "\n"
     ]
    },
    {
     "name": "stderr",
     "output_type": "stream",
     "text": [
      "100%|███████████████████████████████████████████████████████████████████████████████████████████████████████| 44/44 [02:55<00:00,  4.00s/it]\n"
     ]
    },
    {
     "name": "stdout",
     "output_type": "stream",
     "text": [
      "Validation loss: 0.27049\n",
      "Validation precision: 0.9813\n",
      "Validation recall: 0.8325\n",
      "Validation F1: 0.9008\n",
      "Validation accuracy: 96.30 (%)\n",
      "\n",
      "\n",
      "Epoch 81/200\n"
     ]
    },
    {
     "name": "stderr",
     "output_type": "stream",
     "text": [
      "100%|█████████████████████████████████████████████████████████████████████████████████████████████████████| 176/176 [13:37<00:00,  4.65s/it]\n"
     ]
    },
    {
     "name": "stdout",
     "output_type": "stream",
     "text": [
      "Training loss: 0.00664\n",
      "Train precision: 0.9907\n",
      "Train recall: 0.9977\n",
      "Train F1: 0.9942\n",
      "Training accuracy: 99.78 (%)\n",
      "\n",
      "\n"
     ]
    },
    {
     "name": "stderr",
     "output_type": "stream",
     "text": [
      "100%|███████████████████████████████████████████████████████████████████████████████████████████████████████| 44/44 [02:56<00:00,  4.02s/it]\n"
     ]
    },
    {
     "name": "stdout",
     "output_type": "stream",
     "text": [
      "Validation loss: 0.24838\n",
      "Validation precision: 0.9910\n",
      "Validation recall: 0.8209\n",
      "Validation F1: 0.8980\n",
      "Validation accuracy: 96.44 (%)\n",
      "\n",
      "\n",
      "Epoch 82/200\n"
     ]
    },
    {
     "name": "stderr",
     "output_type": "stream",
     "text": [
      "100%|█████████████████████████████████████████████████████████████████████████████████████████████████████| 176/176 [13:41<00:00,  4.67s/it]\n"
     ]
    },
    {
     "name": "stdout",
     "output_type": "stream",
     "text": [
      "Training loss: 0.00768\n",
      "Train precision: 0.9888\n",
      "Train recall: 0.9962\n",
      "Train F1: 0.9925\n",
      "Training accuracy: 99.71 (%)\n",
      "\n",
      "\n"
     ]
    },
    {
     "name": "stderr",
     "output_type": "stream",
     "text": [
      "100%|███████████████████████████████████████████████████████████████████████████████████████████████████████| 44/44 [02:54<00:00,  3.97s/it]\n"
     ]
    },
    {
     "name": "stdout",
     "output_type": "stream",
     "text": [
      "Validation loss: 0.25412\n",
      "Validation precision: 0.9894\n",
      "Validation recall: 0.8158\n",
      "Validation F1: 0.8942\n",
      "Validation accuracy: 96.08 (%)\n",
      "\n",
      "\n",
      "Epoch 83/200\n"
     ]
    },
    {
     "name": "stderr",
     "output_type": "stream",
     "text": [
      "100%|█████████████████████████████████████████████████████████████████████████████████████████████████████| 176/176 [13:39<00:00,  4.66s/it]\n"
     ]
    },
    {
     "name": "stdout",
     "output_type": "stream",
     "text": [
      "Training loss: 0.00799\n",
      "Train precision: 0.9901\n",
      "Train recall: 0.9967\n",
      "Train F1: 0.9934\n",
      "Training accuracy: 99.75 (%)\n",
      "\n",
      "\n"
     ]
    },
    {
     "name": "stderr",
     "output_type": "stream",
     "text": [
      "100%|███████████████████████████████████████████████████████████████████████████████████████████████████████| 44/44 [02:55<00:00,  4.00s/it]\n"
     ]
    },
    {
     "name": "stdout",
     "output_type": "stream",
     "text": [
      "Validation loss: 0.28826\n",
      "Validation precision: 0.9910\n",
      "Validation recall: 0.8308\n",
      "Validation F1: 0.9039\n",
      "Validation accuracy: 96.65 (%)\n",
      "\n",
      "Accuracy aumentou de 0.9655 para 0.9665 (83/200)\n",
      "Saving checkpoint...\n",
      "\n",
      "Epoch 84/200\n"
     ]
    },
    {
     "name": "stderr",
     "output_type": "stream",
     "text": [
      "100%|█████████████████████████████████████████████████████████████████████████████████████████████████████| 176/176 [13:39<00:00,  4.65s/it]\n"
     ]
    },
    {
     "name": "stdout",
     "output_type": "stream",
     "text": [
      "Training loss: 0.01113\n",
      "Train precision: 0.9911\n",
      "Train recall: 0.9951\n",
      "Train F1: 0.9931\n",
      "Training accuracy: 99.72 (%)\n",
      "\n",
      "\n"
     ]
    },
    {
     "name": "stderr",
     "output_type": "stream",
     "text": [
      "100%|███████████████████████████████████████████████████████████████████████████████████████████████████████| 44/44 [02:55<00:00,  3.98s/it]\n"
     ]
    },
    {
     "name": "stdout",
     "output_type": "stream",
     "text": [
      "Validation loss: 0.28040\n",
      "Validation precision: 0.9607\n",
      "Validation recall: 0.8439\n",
      "Validation F1: 0.8986\n",
      "Validation accuracy: 96.26 (%)\n",
      "\n",
      "\n",
      "Epoch 85/200\n"
     ]
    },
    {
     "name": "stderr",
     "output_type": "stream",
     "text": [
      "100%|█████████████████████████████████████████████████████████████████████████████████████████████████████| 176/176 [13:40<00:00,  4.66s/it]\n"
     ]
    },
    {
     "name": "stdout",
     "output_type": "stream",
     "text": [
      "Training loss: 0.01567\n",
      "Train precision: 0.9847\n",
      "Train recall: 0.9932\n",
      "Train F1: 0.9889\n",
      "Training accuracy: 99.56 (%)\n",
      "\n",
      "\n"
     ]
    },
    {
     "name": "stderr",
     "output_type": "stream",
     "text": [
      "100%|███████████████████████████████████████████████████████████████████████████████████████████████████████| 44/44 [02:54<00:00,  3.97s/it]\n"
     ]
    },
    {
     "name": "stdout",
     "output_type": "stream",
     "text": [
      "Validation loss: 0.27881\n",
      "Validation precision: 0.9780\n",
      "Validation recall: 0.8132\n",
      "Validation F1: 0.8880\n",
      "Validation accuracy: 96.01 (%)\n",
      "\n",
      "\n",
      "Epoch 86/200\n"
     ]
    },
    {
     "name": "stderr",
     "output_type": "stream",
     "text": [
      "100%|█████████████████████████████████████████████████████████████████████████████████████████████████████| 176/176 [13:38<00:00,  4.65s/it]\n"
     ]
    },
    {
     "name": "stdout",
     "output_type": "stream",
     "text": [
      "Training loss: 0.01138\n",
      "Train precision: 0.9870\n",
      "Train recall: 0.9921\n",
      "Train F1: 0.9895\n",
      "Training accuracy: 99.60 (%)\n",
      "\n",
      "\n"
     ]
    },
    {
     "name": "stderr",
     "output_type": "stream",
     "text": [
      "100%|███████████████████████████████████████████████████████████████████████████████████████████████████████| 44/44 [02:56<00:00,  4.00s/it]\n"
     ]
    },
    {
     "name": "stdout",
     "output_type": "stream",
     "text": [
      "Validation loss: 0.26645\n",
      "Validation precision: 0.9175\n",
      "Validation recall: 0.8525\n",
      "Validation F1: 0.8838\n",
      "Validation accuracy: 95.83 (%)\n",
      "\n",
      "\n",
      "Epoch 87/200\n"
     ]
    },
    {
     "name": "stderr",
     "output_type": "stream",
     "text": [
      "100%|█████████████████████████████████████████████████████████████████████████████████████████████████████| 176/176 [13:41<00:00,  4.67s/it]\n"
     ]
    },
    {
     "name": "stdout",
     "output_type": "stream",
     "text": [
      "Training loss: 0.01184\n",
      "Train precision: 0.9862\n",
      "Train recall: 0.9935\n",
      "Train F1: 0.9899\n",
      "Training accuracy: 99.61 (%)\n",
      "\n",
      "\n"
     ]
    },
    {
     "name": "stderr",
     "output_type": "stream",
     "text": [
      "100%|███████████████████████████████████████████████████████████████████████████████████████████████████████| 44/44 [02:55<00:00,  4.00s/it]\n"
     ]
    },
    {
     "name": "stdout",
     "output_type": "stream",
     "text": [
      "Validation loss: 0.26877\n",
      "Validation precision: 0.9667\n",
      "Validation recall: 0.7982\n",
      "Validation F1: 0.8744\n",
      "Validation accuracy: 95.55 (%)\n",
      "\n",
      "\n",
      "Epoch 88/200\n"
     ]
    },
    {
     "name": "stderr",
     "output_type": "stream",
     "text": [
      "100%|█████████████████████████████████████████████████████████████████████████████████████████████████████| 176/176 [13:43<00:00,  4.68s/it]\n"
     ]
    },
    {
     "name": "stdout",
     "output_type": "stream",
     "text": [
      "Training loss: 0.01005\n",
      "Train precision: 0.9888\n",
      "Train recall: 0.9967\n",
      "Train F1: 0.9927\n",
      "Training accuracy: 99.72 (%)\n",
      "\n",
      "\n"
     ]
    },
    {
     "name": "stderr",
     "output_type": "stream",
     "text": [
      "100%|███████████████████████████████████████████████████████████████████████████████████████████████████████| 44/44 [02:56<00:00,  4.01s/it]\n"
     ]
    },
    {
     "name": "stdout",
     "output_type": "stream",
     "text": [
      "Validation loss: 0.31403\n",
      "Validation precision: 0.9847\n",
      "Validation recall: 0.8112\n",
      "Validation F1: 0.8895\n",
      "Validation accuracy: 96.01 (%)\n",
      "\n",
      "\n",
      "Epoch 89/200\n"
     ]
    },
    {
     "name": "stderr",
     "output_type": "stream",
     "text": [
      "100%|█████████████████████████████████████████████████████████████████████████████████████████████████████| 176/176 [13:37<00:00,  4.65s/it]\n"
     ]
    },
    {
     "name": "stdout",
     "output_type": "stream",
     "text": [
      "Training loss: 0.01107\n",
      "Train precision: 0.9870\n",
      "Train recall: 0.9964\n",
      "Train F1: 0.9916\n",
      "Training accuracy: 99.67 (%)\n",
      "\n",
      "\n"
     ]
    },
    {
     "name": "stderr",
     "output_type": "stream",
     "text": [
      "100%|███████████████████████████████████████████████████████████████████████████████████████████████████████| 44/44 [02:57<00:00,  4.04s/it]\n"
     ]
    },
    {
     "name": "stdout",
     "output_type": "stream",
     "text": [
      "Validation loss: 0.33105\n",
      "Validation precision: 0.9948\n",
      "Validation recall: 0.7654\n",
      "Validation F1: 0.8652\n",
      "Validation accuracy: 95.73 (%)\n",
      "\n",
      "\n",
      "Epoch 90/200\n"
     ]
    },
    {
     "name": "stderr",
     "output_type": "stream",
     "text": [
      "100%|█████████████████████████████████████████████████████████████████████████████████████████████████████| 176/176 [13:43<00:00,  4.68s/it]\n"
     ]
    },
    {
     "name": "stdout",
     "output_type": "stream",
     "text": [
      "Training loss: 0.00735\n",
      "Train precision: 0.9934\n",
      "Train recall: 0.9962\n",
      "Train F1: 0.9948\n",
      "Training accuracy: 99.80 (%)\n",
      "\n",
      "\n"
     ]
    },
    {
     "name": "stderr",
     "output_type": "stream",
     "text": [
      "100%|███████████████████████████████████████████████████████████████████████████████████████████████████████| 44/44 [02:56<00:00,  4.01s/it]\n"
     ]
    },
    {
     "name": "stdout",
     "output_type": "stream",
     "text": [
      "Validation loss: 0.43803\n",
      "Validation precision: 0.9821\n",
      "Validation recall: 0.7408\n",
      "Validation F1: 0.8445\n",
      "Validation accuracy: 94.98 (%)\n",
      "\n",
      "\n",
      "Epoch 91/200\n"
     ]
    },
    {
     "name": "stderr",
     "output_type": "stream",
     "text": [
      "100%|█████████████████████████████████████████████████████████████████████████████████████████████████████| 176/176 [13:40<00:00,  4.66s/it]\n"
     ]
    },
    {
     "name": "stdout",
     "output_type": "stream",
     "text": [
      "Training loss: 0.00714\n",
      "Train precision: 0.9924\n",
      "Train recall: 0.9982\n",
      "Train F1: 0.9953\n",
      "Training accuracy: 99.81 (%)\n",
      "\n",
      "Accuracy aumentou de 0.9980 para 0.9981 (91/200)\n",
      "Saving checkpoint...\n",
      "F1 aumentou de 0.9950 para 0.9953 (91/200)\n",
      "Saving checkpoint...\n",
      "\n"
     ]
    },
    {
     "name": "stderr",
     "output_type": "stream",
     "text": [
      "100%|███████████████████████████████████████████████████████████████████████████████████████████████████████| 44/44 [02:55<00:00,  3.98s/it]\n"
     ]
    },
    {
     "name": "stdout",
     "output_type": "stream",
     "text": [
      "Validation loss: 0.36127\n",
      "Validation precision: 0.9772\n",
      "Validation recall: 0.8138\n",
      "Validation F1: 0.8881\n",
      "Validation accuracy: 95.76 (%)\n",
      "\n",
      "\n",
      "Epoch 92/200\n"
     ]
    },
    {
     "name": "stderr",
     "output_type": "stream",
     "text": [
      "100%|█████████████████████████████████████████████████████████████████████████████████████████████████████| 176/176 [13:42<00:00,  4.67s/it]\n"
     ]
    },
    {
     "name": "stdout",
     "output_type": "stream",
     "text": [
      "Training loss: 0.00827\n",
      "Train precision: 0.9902\n",
      "Train recall: 0.9981\n",
      "Train F1: 0.9941\n",
      "Training accuracy: 99.78 (%)\n",
      "\n",
      "\n"
     ]
    },
    {
     "name": "stderr",
     "output_type": "stream",
     "text": [
      "100%|███████████████████████████████████████████████████████████████████████████████████████████████████████| 44/44 [02:59<00:00,  4.07s/it]\n"
     ]
    },
    {
     "name": "stdout",
     "output_type": "stream",
     "text": [
      "Validation loss: 0.35099\n",
      "Validation precision: 0.9838\n",
      "Validation recall: 0.7755\n",
      "Validation F1: 0.8673\n",
      "Validation accuracy: 95.37 (%)\n",
      "\n",
      "\n",
      "Epoch 93/200\n"
     ]
    },
    {
     "name": "stderr",
     "output_type": "stream",
     "text": [
      "100%|█████████████████████████████████████████████████████████████████████████████████████████████████████| 176/176 [13:43<00:00,  4.68s/it]\n"
     ]
    },
    {
     "name": "stdout",
     "output_type": "stream",
     "text": [
      "Training loss: 0.00892\n",
      "Train precision: 0.9898\n",
      "Train recall: 0.9958\n",
      "Train F1: 0.9928\n",
      "Training accuracy: 99.72 (%)\n",
      "\n",
      "\n"
     ]
    },
    {
     "name": "stderr",
     "output_type": "stream",
     "text": [
      "100%|███████████████████████████████████████████████████████████████████████████████████████████████████████| 44/44 [02:57<00:00,  4.03s/it]\n"
     ]
    },
    {
     "name": "stdout",
     "output_type": "stream",
     "text": [
      "Validation loss: 0.34335\n",
      "Validation precision: 0.9976\n",
      "Validation recall: 0.7910\n",
      "Validation F1: 0.8824\n",
      "Validation accuracy: 96.01 (%)\n",
      "\n",
      "\n",
      "Epoch 94/200\n"
     ]
    },
    {
     "name": "stderr",
     "output_type": "stream",
     "text": [
      "100%|█████████████████████████████████████████████████████████████████████████████████████████████████████| 176/176 [13:45<00:00,  4.69s/it]\n"
     ]
    },
    {
     "name": "stdout",
     "output_type": "stream",
     "text": [
      "Training loss: 0.01174\n",
      "Train precision: 0.9900\n",
      "Train recall: 0.9968\n",
      "Train F1: 0.9934\n",
      "Training accuracy: 99.74 (%)\n",
      "\n",
      "\n"
     ]
    },
    {
     "name": "stderr",
     "output_type": "stream",
     "text": [
      "100%|███████████████████████████████████████████████████████████████████████████████████████████████████████| 44/44 [02:56<00:00,  4.02s/it]\n"
     ]
    },
    {
     "name": "stdout",
     "output_type": "stream",
     "text": [
      "Validation loss: 0.37181\n",
      "Validation precision: 0.9513\n",
      "Validation recall: 0.7109\n",
      "Validation F1: 0.8137\n",
      "Validation accuracy: 93.63 (%)\n",
      "\n",
      "\n",
      "Epoch 95/200\n"
     ]
    },
    {
     "name": "stderr",
     "output_type": "stream",
     "text": [
      "100%|█████████████████████████████████████████████████████████████████████████████████████████████████████| 176/176 [13:45<00:00,  4.69s/it]\n"
     ]
    },
    {
     "name": "stdout",
     "output_type": "stream",
     "text": [
      "Training loss: 0.01165\n",
      "Train precision: 0.9878\n",
      "Train recall: 0.9941\n",
      "Train F1: 0.9909\n",
      "Training accuracy: 99.64 (%)\n",
      "\n",
      "\n"
     ]
    },
    {
     "name": "stderr",
     "output_type": "stream",
     "text": [
      "100%|███████████████████████████████████████████████████████████████████████████████████████████████████████| 44/44 [02:56<00:00,  4.02s/it]\n"
     ]
    },
    {
     "name": "stdout",
     "output_type": "stream",
     "text": [
      "Validation loss: 0.36890\n",
      "Validation precision: 0.9782\n",
      "Validation recall: 0.8032\n",
      "Validation F1: 0.8821\n",
      "Validation accuracy: 95.73 (%)\n",
      "\n",
      "\n",
      "Epoch 96/200\n"
     ]
    },
    {
     "name": "stderr",
     "output_type": "stream",
     "text": [
      "100%|█████████████████████████████████████████████████████████████████████████████████████████████████████| 176/176 [13:45<00:00,  4.69s/it]\n"
     ]
    },
    {
     "name": "stdout",
     "output_type": "stream",
     "text": [
      "Training loss: 0.00891\n",
      "Train precision: 0.9915\n",
      "Train recall: 0.9962\n",
      "Train F1: 0.9939\n",
      "Training accuracy: 99.77 (%)\n",
      "\n",
      "\n"
     ]
    },
    {
     "name": "stderr",
     "output_type": "stream",
     "text": [
      "100%|███████████████████████████████████████████████████████████████████████████████████████████████████████| 44/44 [02:59<00:00,  4.09s/it]\n"
     ]
    },
    {
     "name": "stdout",
     "output_type": "stream",
     "text": [
      "Validation loss: 0.49760\n",
      "Validation precision: 0.9630\n",
      "Validation recall: 0.7160\n",
      "Validation F1: 0.8213\n",
      "Validation accuracy: 93.55 (%)\n",
      "\n",
      "\n",
      "Epoch 97/200\n"
     ]
    },
    {
     "name": "stderr",
     "output_type": "stream",
     "text": [
      "100%|█████████████████████████████████████████████████████████████████████████████████████████████████████| 176/176 [13:44<00:00,  4.68s/it]\n"
     ]
    },
    {
     "name": "stdout",
     "output_type": "stream",
     "text": [
      "Training loss: 0.01084\n",
      "Train precision: 0.9905\n",
      "Train recall: 0.9945\n",
      "Train F1: 0.9925\n",
      "Training accuracy: 99.71 (%)\n",
      "\n",
      "\n"
     ]
    },
    {
     "name": "stderr",
     "output_type": "stream",
     "text": [
      "100%|███████████████████████████████████████████████████████████████████████████████████████████████████████| 44/44 [02:56<00:00,  4.01s/it]\n"
     ]
    },
    {
     "name": "stdout",
     "output_type": "stream",
     "text": [
      "Validation loss: 0.27625\n",
      "Validation precision: 0.9886\n",
      "Validation recall: 0.8232\n",
      "Validation F1: 0.8983\n",
      "Validation accuracy: 96.51 (%)\n",
      "\n",
      "\n",
      "Epoch 98/200\n"
     ]
    },
    {
     "name": "stderr",
     "output_type": "stream",
     "text": [
      "100%|█████████████████████████████████████████████████████████████████████████████████████████████████████| 176/176 [13:36<00:00,  4.64s/it]\n"
     ]
    },
    {
     "name": "stdout",
     "output_type": "stream",
     "text": [
      "Training loss: 0.00632\n",
      "Train precision: 0.9922\n",
      "Train recall: 0.9986\n",
      "Train F1: 0.9954\n",
      "Training accuracy: 99.82 (%)\n",
      "\n",
      "Accuracy aumentou de 0.9981 para 0.9982 (98/200)\n",
      "Saving checkpoint...\n",
      "F1 aumentou de 0.9953 para 0.9954 (98/200)\n",
      "Saving checkpoint...\n",
      "\n"
     ]
    },
    {
     "name": "stderr",
     "output_type": "stream",
     "text": [
      "100%|███████████████████████████████████████████████████████████████████████████████████████████████████████| 44/44 [02:55<00:00,  4.00s/it]\n"
     ]
    },
    {
     "name": "stdout",
     "output_type": "stream",
     "text": [
      "Validation loss: 0.32458\n",
      "Validation precision: 0.9845\n",
      "Validation recall: 0.7904\n",
      "Validation F1: 0.8768\n",
      "Validation accuracy: 95.55 (%)\n",
      "\n",
      "\n",
      "Epoch 99/200\n"
     ]
    },
    {
     "name": "stderr",
     "output_type": "stream",
     "text": [
      "100%|█████████████████████████████████████████████████████████████████████████████████████████████████████| 176/176 [13:38<00:00,  4.65s/it]\n"
     ]
    },
    {
     "name": "stdout",
     "output_type": "stream",
     "text": [
      "Training loss: 0.00639\n",
      "Train precision: 0.9941\n",
      "Train recall: 0.9959\n",
      "Train F1: 0.9950\n",
      "Training accuracy: 99.80 (%)\n",
      "\n",
      "\n"
     ]
    },
    {
     "name": "stderr",
     "output_type": "stream",
     "text": [
      "100%|███████████████████████████████████████████████████████████████████████████████████████████████████████| 44/44 [02:54<00:00,  3.97s/it]\n"
     ]
    },
    {
     "name": "stdout",
     "output_type": "stream",
     "text": [
      "Validation loss: 0.30275\n",
      "Validation precision: 0.9822\n",
      "Validation recall: 0.8308\n",
      "Validation F1: 0.9002\n",
      "Validation accuracy: 96.51 (%)\n",
      "\n",
      "\n",
      "Epoch 100/200\n"
     ]
    },
    {
     "name": "stderr",
     "output_type": "stream",
     "text": [
      "100%|█████████████████████████████████████████████████████████████████████████████████████████████████████| 176/176 [13:37<00:00,  4.65s/it]\n"
     ]
    },
    {
     "name": "stdout",
     "output_type": "stream",
     "text": [
      "Training loss: 0.00643\n",
      "Train precision: 0.9931\n",
      "Train recall: 0.9968\n",
      "Train F1: 0.9949\n",
      "Training accuracy: 99.80 (%)\n",
      "\n",
      "\n"
     ]
    },
    {
     "name": "stderr",
     "output_type": "stream",
     "text": [
      "100%|███████████████████████████████████████████████████████████████████████████████████████████████████████| 44/44 [02:56<00:00,  4.02s/it]\n"
     ]
    },
    {
     "name": "stdout",
     "output_type": "stream",
     "text": [
      "Validation loss: 0.43571\n",
      "Validation precision: 0.9956\n",
      "Validation recall: 0.7778\n",
      "Validation F1: 0.8733\n",
      "Validation accuracy: 95.30 (%)\n",
      "\n",
      "\n",
      "Epoch 101/200\n"
     ]
    },
    {
     "name": "stderr",
     "output_type": "stream",
     "text": [
      "100%|█████████████████████████████████████████████████████████████████████████████████████████████████████| 176/176 [13:39<00:00,  4.66s/it]\n"
     ]
    },
    {
     "name": "stdout",
     "output_type": "stream",
     "text": [
      "Training loss: 0.00837\n",
      "Train precision: 0.9893\n",
      "Train recall: 0.9977\n",
      "Train F1: 0.9935\n",
      "Training accuracy: 99.75 (%)\n",
      "\n",
      "\n"
     ]
    },
    {
     "name": "stderr",
     "output_type": "stream",
     "text": [
      "100%|███████████████████████████████████████████████████████████████████████████████████████████████████████| 44/44 [02:57<00:00,  4.02s/it]\n"
     ]
    },
    {
     "name": "stdout",
     "output_type": "stream",
     "text": [
      "Validation loss: 0.29642\n",
      "Validation precision: 0.9915\n",
      "Validation recall: 0.8239\n",
      "Validation F1: 0.9000\n",
      "Validation accuracy: 96.30 (%)\n",
      "\n",
      "\n",
      "Epoch 102/200\n"
     ]
    },
    {
     "name": "stderr",
     "output_type": "stream",
     "text": [
      "100%|█████████████████████████████████████████████████████████████████████████████████████████████████████| 176/176 [13:40<00:00,  4.66s/it]\n"
     ]
    },
    {
     "name": "stdout",
     "output_type": "stream",
     "text": [
      "Training loss: 0.00555\n",
      "Train precision: 0.9937\n",
      "Train recall: 0.9995\n",
      "Train F1: 0.9966\n",
      "Training accuracy: 99.87 (%)\n",
      "\n",
      "Accuracy aumentou de 0.9982 para 0.9987 (102/200)\n",
      "Saving checkpoint...\n",
      "F1 aumentou de 0.9954 para 0.9966 (102/200)\n",
      "Saving checkpoint...\n",
      "\n"
     ]
    },
    {
     "name": "stderr",
     "output_type": "stream",
     "text": [
      "100%|███████████████████████████████████████████████████████████████████████████████████████████████████████| 44/44 [02:54<00:00,  3.96s/it]\n"
     ]
    },
    {
     "name": "stdout",
     "output_type": "stream",
     "text": [
      "Validation loss: 0.31553\n",
      "Validation precision: 0.9870\n",
      "Validation recall: 0.8429\n",
      "Validation F1: 0.9093\n",
      "Validation accuracy: 96.76 (%)\n",
      "\n",
      "Accuracy aumentou de 0.9665 para 0.9676 (102/200)\n",
      "Saving checkpoint...\n",
      "\n",
      "Epoch 103/200\n"
     ]
    },
    {
     "name": "stderr",
     "output_type": "stream",
     "text": [
      "100%|█████████████████████████████████████████████████████████████████████████████████████████████████████| 176/176 [13:43<00:00,  4.68s/it]\n"
     ]
    },
    {
     "name": "stdout",
     "output_type": "stream",
     "text": [
      "Training loss: 0.00696\n",
      "Train precision: 0.9922\n",
      "Train recall: 0.9968\n",
      "Train F1: 0.9945\n",
      "Training accuracy: 99.79 (%)\n",
      "\n",
      "\n"
     ]
    },
    {
     "name": "stderr",
     "output_type": "stream",
     "text": [
      "100%|███████████████████████████████████████████████████████████████████████████████████████████████████████| 44/44 [02:55<00:00,  3.98s/it]\n"
     ]
    },
    {
     "name": "stdout",
     "output_type": "stream",
     "text": [
      "Validation loss: 0.26718\n",
      "Validation precision: 0.9888\n",
      "Validation recall: 0.8185\n",
      "Validation F1: 0.8956\n",
      "Validation accuracy: 96.33 (%)\n",
      "\n",
      "\n",
      "Epoch 104/200\n"
     ]
    },
    {
     "name": "stderr",
     "output_type": "stream",
     "text": [
      "100%|█████████████████████████████████████████████████████████████████████████████████████████████████████| 176/176 [13:39<00:00,  4.65s/it]\n"
     ]
    },
    {
     "name": "stdout",
     "output_type": "stream",
     "text": [
      "Training loss: 0.00975\n",
      "Train precision: 0.9922\n",
      "Train recall: 0.9963\n",
      "Train F1: 0.9942\n",
      "Training accuracy: 99.78 (%)\n",
      "\n",
      "\n"
     ]
    },
    {
     "name": "stderr",
     "output_type": "stream",
     "text": [
      "100%|███████████████████████████████████████████████████████████████████████████████████████████████████████| 44/44 [02:55<00:00,  3.98s/it]\n"
     ]
    },
    {
     "name": "stdout",
     "output_type": "stream",
     "text": [
      "Validation loss: 0.40969\n",
      "Validation precision: 0.9583\n",
      "Validation recall: 0.8410\n",
      "Validation F1: 0.8958\n",
      "Validation accuracy: 96.19 (%)\n",
      "\n",
      "\n",
      "Epoch 105/200\n"
     ]
    },
    {
     "name": "stderr",
     "output_type": "stream",
     "text": [
      "100%|█████████████████████████████████████████████████████████████████████████████████████████████████████| 176/176 [13:46<00:00,  4.70s/it]\n"
     ]
    },
    {
     "name": "stdout",
     "output_type": "stream",
     "text": [
      "Training loss: 0.00877\n",
      "Train precision: 0.9877\n",
      "Train recall: 0.9954\n",
      "Train F1: 0.9916\n",
      "Training accuracy: 99.67 (%)\n",
      "\n",
      "\n"
     ]
    },
    {
     "name": "stderr",
     "output_type": "stream",
     "text": [
      "100%|███████████████████████████████████████████████████████████████████████████████████████████████████████| 44/44 [03:02<00:00,  4.14s/it]\n"
     ]
    },
    {
     "name": "stdout",
     "output_type": "stream",
     "text": [
      "Validation loss: 0.35732\n",
      "Validation precision: 0.9906\n",
      "Validation recall: 0.7903\n",
      "Validation F1: 0.8792\n",
      "Validation accuracy: 95.87 (%)\n",
      "\n",
      "\n",
      "Epoch 106/200\n"
     ]
    },
    {
     "name": "stderr",
     "output_type": "stream",
     "text": [
      "100%|█████████████████████████████████████████████████████████████████████████████████████████████████████| 176/176 [14:04<00:00,  4.80s/it]\n"
     ]
    },
    {
     "name": "stdout",
     "output_type": "stream",
     "text": [
      "Training loss: 0.00898\n",
      "Train precision: 0.9896\n",
      "Train recall: 0.9964\n",
      "Train F1: 0.9930\n",
      "Training accuracy: 99.72 (%)\n",
      "\n",
      "\n"
     ]
    },
    {
     "name": "stderr",
     "output_type": "stream",
     "text": [
      "100%|███████████████████████████████████████████████████████████████████████████████████████████████████████| 44/44 [03:01<00:00,  4.12s/it]\n"
     ]
    },
    {
     "name": "stdout",
     "output_type": "stream",
     "text": [
      "Validation loss: 0.33436\n",
      "Validation precision: 0.9886\n",
      "Validation recall: 0.7883\n",
      "Validation F1: 0.8772\n",
      "Validation accuracy: 95.69 (%)\n",
      "\n",
      "\n",
      "Epoch 107/200\n"
     ]
    },
    {
     "name": "stderr",
     "output_type": "stream",
     "text": [
      "100%|█████████████████████████████████████████████████████████████████████████████████████████████████████| 176/176 [14:01<00:00,  4.78s/it]\n"
     ]
    },
    {
     "name": "stdout",
     "output_type": "stream",
     "text": [
      "Training loss: 0.00637\n",
      "Train precision: 0.9909\n",
      "Train recall: 0.9991\n",
      "Train F1: 0.9950\n",
      "Training accuracy: 99.80 (%)\n",
      "\n",
      "\n"
     ]
    },
    {
     "name": "stderr",
     "output_type": "stream",
     "text": [
      "100%|███████████████████████████████████████████████████████████████████████████████████████████████████████| 44/44 [03:03<00:00,  4.18s/it]\n"
     ]
    },
    {
     "name": "stdout",
     "output_type": "stream",
     "text": [
      "Validation loss: 0.34216\n",
      "Validation precision: 0.9860\n",
      "Validation recall: 0.7862\n",
      "Validation F1: 0.8749\n",
      "Validation accuracy: 95.69 (%)\n",
      "\n",
      "\n",
      "Epoch 108/200\n"
     ]
    },
    {
     "name": "stderr",
     "output_type": "stream",
     "text": [
      "100%|█████████████████████████████████████████████████████████████████████████████████████████████████████| 176/176 [14:02<00:00,  4.78s/it]\n"
     ]
    },
    {
     "name": "stdout",
     "output_type": "stream",
     "text": [
      "Training loss: 0.00687\n",
      "Train precision: 0.9917\n",
      "Train recall: 0.9963\n",
      "Train F1: 0.9940\n",
      "Training accuracy: 99.77 (%)\n",
      "\n",
      "\n"
     ]
    },
    {
     "name": "stderr",
     "output_type": "stream",
     "text": [
      "100%|███████████████████████████████████████████████████████████████████████████████████████████████████████| 44/44 [03:02<00:00,  4.15s/it]\n"
     ]
    },
    {
     "name": "stdout",
     "output_type": "stream",
     "text": [
      "Validation loss: 0.38044\n",
      "Validation precision: 0.9955\n",
      "Validation recall: 0.7768\n",
      "Validation F1: 0.8727\n",
      "Validation accuracy: 95.41 (%)\n",
      "\n",
      "\n",
      "Epoch 109/200\n"
     ]
    },
    {
     "name": "stderr",
     "output_type": "stream",
     "text": [
      "100%|█████████████████████████████████████████████████████████████████████████████████████████████████████| 176/176 [14:00<00:00,  4.78s/it]\n"
     ]
    },
    {
     "name": "stdout",
     "output_type": "stream",
     "text": [
      "Training loss: 0.00693\n",
      "Train precision: 0.9925\n",
      "Train recall: 0.9976\n",
      "Train F1: 0.9951\n",
      "Training accuracy: 99.81 (%)\n",
      "\n",
      "\n"
     ]
    },
    {
     "name": "stderr",
     "output_type": "stream",
     "text": [
      "100%|███████████████████████████████████████████████████████████████████████████████████████████████████████| 44/44 [03:00<00:00,  4.10s/it]\n"
     ]
    },
    {
     "name": "stdout",
     "output_type": "stream",
     "text": [
      "Validation loss: 0.34762\n",
      "Validation precision: 0.9321\n",
      "Validation recall: 0.8410\n",
      "Validation F1: 0.8842\n",
      "Validation accuracy: 95.90 (%)\n",
      "\n",
      "\n",
      "Epoch 110/200\n"
     ]
    },
    {
     "name": "stderr",
     "output_type": "stream",
     "text": [
      "100%|█████████████████████████████████████████████████████████████████████████████████████████████████████| 176/176 [14:01<00:00,  4.78s/it]\n"
     ]
    },
    {
     "name": "stdout",
     "output_type": "stream",
     "text": [
      "Training loss: 0.01175\n",
      "Train precision: 0.9887\n",
      "Train recall: 0.9954\n",
      "Train F1: 0.9920\n",
      "Training accuracy: 99.69 (%)\n",
      "\n",
      "\n"
     ]
    },
    {
     "name": "stderr",
     "output_type": "stream",
     "text": [
      "100%|███████████████████████████████████████████████████████████████████████████████████████████████████████| 44/44 [03:00<00:00,  4.10s/it]\n"
     ]
    },
    {
     "name": "stdout",
     "output_type": "stream",
     "text": [
      "Validation loss: 0.26540\n",
      "Validation precision: 0.9545\n",
      "Validation recall: 0.8540\n",
      "Validation F1: 0.9015\n",
      "Validation accuracy: 96.40 (%)\n",
      "\n",
      "\n",
      "Epoch 111/200\n"
     ]
    },
    {
     "name": "stderr",
     "output_type": "stream",
     "text": [
      "100%|█████████████████████████████████████████████████████████████████████████████████████████████████████| 176/176 [14:02<00:00,  4.79s/it]\n"
     ]
    },
    {
     "name": "stdout",
     "output_type": "stream",
     "text": [
      "Training loss: 0.01362\n",
      "Train precision: 0.9876\n",
      "Train recall: 0.9945\n",
      "Train F1: 0.9910\n",
      "Training accuracy: 99.65 (%)\n",
      "\n",
      "\n"
     ]
    },
    {
     "name": "stderr",
     "output_type": "stream",
     "text": [
      "100%|███████████████████████████████████████████████████████████████████████████████████████████████████████| 44/44 [02:59<00:00,  4.07s/it]\n"
     ]
    },
    {
     "name": "stdout",
     "output_type": "stream",
     "text": [
      "Validation loss: 0.36328\n",
      "Validation precision: 0.9158\n",
      "Validation recall: 0.8161\n",
      "Validation F1: 0.8631\n",
      "Validation accuracy: 94.84 (%)\n",
      "\n",
      "\n",
      "Epoch 112/200\n"
     ]
    },
    {
     "name": "stderr",
     "output_type": "stream",
     "text": [
      "100%|█████████████████████████████████████████████████████████████████████████████████████████████████████| 176/176 [13:59<00:00,  4.77s/it]\n"
     ]
    },
    {
     "name": "stdout",
     "output_type": "stream",
     "text": [
      "Training loss: 0.00946\n",
      "Train precision: 0.9891\n",
      "Train recall: 0.9950\n",
      "Train F1: 0.9920\n",
      "Training accuracy: 99.69 (%)\n",
      "\n",
      "\n"
     ]
    },
    {
     "name": "stderr",
     "output_type": "stream",
     "text": [
      "100%|███████████████████████████████████████████████████████████████████████████████████████████████████████| 44/44 [03:00<00:00,  4.10s/it]\n"
     ]
    },
    {
     "name": "stdout",
     "output_type": "stream",
     "text": [
      "Validation loss: 0.33026\n",
      "Validation precision: 0.9833\n",
      "Validation recall: 0.7672\n",
      "Validation F1: 0.8619\n",
      "Validation accuracy: 95.30 (%)\n",
      "\n",
      "\n",
      "Epoch 113/200\n"
     ]
    },
    {
     "name": "stderr",
     "output_type": "stream",
     "text": [
      "100%|█████████████████████████████████████████████████████████████████████████████████████████████████████| 176/176 [13:56<00:00,  4.75s/it]\n"
     ]
    },
    {
     "name": "stdout",
     "output_type": "stream",
     "text": [
      "Training loss: 0.00398\n",
      "Train precision: 0.9954\n",
      "Train recall: 0.9977\n",
      "Train F1: 0.9966\n",
      "Training accuracy: 99.87 (%)\n",
      "\n",
      "\n"
     ]
    },
    {
     "name": "stderr",
     "output_type": "stream",
     "text": [
      "100%|███████████████████████████████████████████████████████████████████████████████████████████████████████| 44/44 [03:00<00:00,  4.09s/it]\n"
     ]
    },
    {
     "name": "stdout",
     "output_type": "stream",
     "text": [
      "Validation loss: 0.31699\n",
      "Validation precision: 0.9779\n",
      "Validation recall: 0.8099\n",
      "Validation F1: 0.8860\n",
      "Validation accuracy: 95.94 (%)\n",
      "\n",
      "\n",
      "Epoch 114/200\n"
     ]
    },
    {
     "name": "stderr",
     "output_type": "stream",
     "text": [
      "100%|█████████████████████████████████████████████████████████████████████████████████████████████████████| 176/176 [13:44<00:00,  4.68s/it]\n"
     ]
    },
    {
     "name": "stdout",
     "output_type": "stream",
     "text": [
      "Training loss: 0.00803\n",
      "Train precision: 0.9928\n",
      "Train recall: 0.9977\n",
      "Train F1: 0.9952\n",
      "Training accuracy: 99.81 (%)\n",
      "\n",
      "\n"
     ]
    },
    {
     "name": "stderr",
     "output_type": "stream",
     "text": [
      "100%|███████████████████████████████████████████████████████████████████████████████████████████████████████| 44/44 [02:54<00:00,  3.97s/it]\n"
     ]
    },
    {
     "name": "stdout",
     "output_type": "stream",
     "text": [
      "Validation loss: 0.32125\n",
      "Validation precision: 0.9889\n",
      "Validation recall: 0.8117\n",
      "Validation F1: 0.8916\n",
      "Validation accuracy: 96.15 (%)\n",
      "\n",
      "\n",
      "Epoch 115/200\n"
     ]
    },
    {
     "name": "stderr",
     "output_type": "stream",
     "text": [
      "100%|█████████████████████████████████████████████████████████████████████████████████████████████████████| 176/176 [13:45<00:00,  4.69s/it]\n"
     ]
    },
    {
     "name": "stdout",
     "output_type": "stream",
     "text": [
      "Training loss: 0.00867\n",
      "Train precision: 0.9891\n",
      "Train recall: 0.9963\n",
      "Train F1: 0.9927\n",
      "Training accuracy: 99.71 (%)\n",
      "\n",
      "\n"
     ]
    },
    {
     "name": "stderr",
     "output_type": "stream",
     "text": [
      "100%|███████████████████████████████████████████████████████████████████████████████████████████████████████| 44/44 [02:56<00:00,  4.01s/it]\n"
     ]
    },
    {
     "name": "stdout",
     "output_type": "stream",
     "text": [
      "Validation loss: 0.44519\n",
      "Validation precision: 0.9874\n",
      "Validation recall: 0.7471\n",
      "Validation F1: 0.8506\n",
      "Validation accuracy: 95.09 (%)\n",
      "\n",
      "\n",
      "Epoch 116/200\n"
     ]
    },
    {
     "name": "stderr",
     "output_type": "stream",
     "text": [
      "100%|█████████████████████████████████████████████████████████████████████████████████████████████████████| 176/176 [13:48<00:00,  4.71s/it]\n"
     ]
    },
    {
     "name": "stdout",
     "output_type": "stream",
     "text": [
      "Training loss: 0.00577\n",
      "Train precision: 0.9941\n",
      "Train recall: 0.9986\n",
      "Train F1: 0.9963\n",
      "Training accuracy: 99.86 (%)\n",
      "\n",
      "\n"
     ]
    },
    {
     "name": "stderr",
     "output_type": "stream",
     "text": [
      "100%|███████████████████████████████████████████████████████████████████████████████████████████████████████| 44/44 [02:56<00:00,  4.01s/it]\n"
     ]
    },
    {
     "name": "stdout",
     "output_type": "stream",
     "text": [
      "Validation loss: 0.29071\n",
      "Validation precision: 0.9879\n",
      "Validation recall: 0.8059\n",
      "Validation F1: 0.8877\n",
      "Validation accuracy: 96.33 (%)\n",
      "\n",
      "\n",
      "Epoch 117/200\n"
     ]
    },
    {
     "name": "stderr",
     "output_type": "stream",
     "text": [
      "100%|█████████████████████████████████████████████████████████████████████████████████████████████████████| 176/176 [13:44<00:00,  4.68s/it]\n"
     ]
    },
    {
     "name": "stdout",
     "output_type": "stream",
     "text": [
      "Training loss: 0.00726\n",
      "Train precision: 0.9902\n",
      "Train recall: 0.9976\n",
      "Train F1: 0.9939\n",
      "Training accuracy: 99.77 (%)\n",
      "\n",
      "\n"
     ]
    },
    {
     "name": "stderr",
     "output_type": "stream",
     "text": [
      "100%|███████████████████████████████████████████████████████████████████████████████████████████████████████| 44/44 [02:56<00:00,  4.01s/it]\n"
     ]
    },
    {
     "name": "stdout",
     "output_type": "stream",
     "text": [
      "Validation loss: 0.26834\n",
      "Validation precision: 0.9951\n",
      "Validation recall: 0.7808\n",
      "Validation F1: 0.8750\n",
      "Validation accuracy: 95.87 (%)\n",
      "\n",
      "\n",
      "Epoch 118/200\n"
     ]
    },
    {
     "name": "stderr",
     "output_type": "stream",
     "text": [
      "100%|█████████████████████████████████████████████████████████████████████████████████████████████████████| 176/176 [13:45<00:00,  4.69s/it]\n"
     ]
    },
    {
     "name": "stdout",
     "output_type": "stream",
     "text": [
      "Training loss: 0.00406\n",
      "Train precision: 0.9954\n",
      "Train recall: 0.9973\n",
      "Train F1: 0.9963\n",
      "Training accuracy: 99.86 (%)\n",
      "\n",
      "\n"
     ]
    },
    {
     "name": "stderr",
     "output_type": "stream",
     "text": [
      "100%|███████████████████████████████████████████████████████████████████████████████████████████████████████| 44/44 [02:57<00:00,  4.03s/it]\n"
     ]
    },
    {
     "name": "stdout",
     "output_type": "stream",
     "text": [
      "Validation loss: 0.35374\n",
      "Validation precision: 0.9932\n",
      "Validation recall: 0.7952\n",
      "Validation F1: 0.8832\n",
      "Validation accuracy: 95.90 (%)\n",
      "\n",
      "\n",
      "Epoch 119/200\n"
     ]
    },
    {
     "name": "stderr",
     "output_type": "stream",
     "text": [
      "100%|█████████████████████████████████████████████████████████████████████████████████████████████████████| 176/176 [13:44<00:00,  4.68s/it]\n"
     ]
    },
    {
     "name": "stdout",
     "output_type": "stream",
     "text": [
      "Training loss: 0.00508\n",
      "Train precision: 0.9946\n",
      "Train recall: 0.9982\n",
      "Train F1: 0.9964\n",
      "Training accuracy: 99.86 (%)\n",
      "\n",
      "\n"
     ]
    },
    {
     "name": "stderr",
     "output_type": "stream",
     "text": [
      "100%|███████████████████████████████████████████████████████████████████████████████████████████████████████| 44/44 [02:58<00:00,  4.06s/it]\n"
     ]
    },
    {
     "name": "stdout",
     "output_type": "stream",
     "text": [
      "Validation loss: 0.39210\n",
      "Validation precision: 0.9863\n",
      "Validation recall: 0.7989\n",
      "Validation F1: 0.8828\n",
      "Validation accuracy: 95.90 (%)\n",
      "\n",
      "\n",
      "Epoch 120/200\n"
     ]
    },
    {
     "name": "stderr",
     "output_type": "stream",
     "text": [
      "100%|█████████████████████████████████████████████████████████████████████████████████████████████████████| 176/176 [14:05<00:00,  4.80s/it]\n"
     ]
    },
    {
     "name": "stdout",
     "output_type": "stream",
     "text": [
      "Training loss: 0.00677\n",
      "Train precision: 0.9934\n",
      "Train recall: 0.9972\n",
      "Train F1: 0.9953\n",
      "Training accuracy: 99.82 (%)\n",
      "\n",
      "\n"
     ]
    },
    {
     "name": "stderr",
     "output_type": "stream",
     "text": [
      "100%|███████████████████████████████████████████████████████████████████████████████████████████████████████| 44/44 [03:19<00:00,  4.54s/it]\n"
     ]
    },
    {
     "name": "stdout",
     "output_type": "stream",
     "text": [
      "Validation loss: 0.36941\n",
      "Validation precision: 0.9609\n",
      "Validation recall: 0.8265\n",
      "Validation F1: 0.8887\n",
      "Validation accuracy: 95.83 (%)\n",
      "\n",
      "\n",
      "Epoch 121/200\n"
     ]
    },
    {
     "name": "stderr",
     "output_type": "stream",
     "text": [
      "100%|█████████████████████████████████████████████████████████████████████████████████████████████████████| 176/176 [15:12<00:00,  5.18s/it]\n"
     ]
    },
    {
     "name": "stdout",
     "output_type": "stream",
     "text": [
      "Training loss: 0.00646\n",
      "Train precision: 0.9924\n",
      "Train recall: 0.9991\n",
      "Train F1: 0.9958\n",
      "Training accuracy: 99.83 (%)\n",
      "\n",
      "\n"
     ]
    },
    {
     "name": "stderr",
     "output_type": "stream",
     "text": [
      "100%|███████████████████████████████████████████████████████████████████████████████████████████████████████| 44/44 [03:19<00:00,  4.53s/it]\n"
     ]
    },
    {
     "name": "stdout",
     "output_type": "stream",
     "text": [
      "Validation loss: 0.35301\n",
      "Validation precision: 0.9929\n",
      "Validation recall: 0.8027\n",
      "Validation F1: 0.8877\n",
      "Validation accuracy: 96.23 (%)\n",
      "\n",
      "\n",
      "Epoch 122/200\n"
     ]
    },
    {
     "name": "stderr",
     "output_type": "stream",
     "text": [
      "100%|█████████████████████████████████████████████████████████████████████████████████████████████████████| 176/176 [15:09<00:00,  5.17s/it]\n"
     ]
    },
    {
     "name": "stdout",
     "output_type": "stream",
     "text": [
      "Training loss: 0.00414\n",
      "Train precision: 0.9941\n",
      "Train recall: 0.9991\n",
      "Train F1: 0.9966\n",
      "Training accuracy: 99.87 (%)\n",
      "\n",
      "\n"
     ]
    },
    {
     "name": "stderr",
     "output_type": "stream",
     "text": [
      "100%|███████████████████████████████████████████████████████████████████████████████████████████████████████| 44/44 [02:58<00:00,  4.07s/it]\n"
     ]
    },
    {
     "name": "stdout",
     "output_type": "stream",
     "text": [
      "Validation loss: 0.27241\n",
      "Validation precision: 0.9933\n",
      "Validation recall: 0.8232\n",
      "Validation F1: 0.9003\n",
      "Validation accuracy: 96.47 (%)\n",
      "\n",
      "\n",
      "Epoch 123/200\n"
     ]
    },
    {
     "name": "stderr",
     "output_type": "stream",
     "text": [
      "100%|█████████████████████████████████████████████████████████████████████████████████████████████████████| 176/176 [13:41<00:00,  4.67s/it]\n"
     ]
    },
    {
     "name": "stdout",
     "output_type": "stream",
     "text": [
      "Training loss: 0.00594\n",
      "Train precision: 0.9926\n",
      "Train recall: 0.9968\n",
      "Train F1: 0.9947\n",
      "Training accuracy: 99.79 (%)\n",
      "\n",
      "\n"
     ]
    },
    {
     "name": "stderr",
     "output_type": "stream",
     "text": [
      "100%|███████████████████████████████████████████████████████████████████████████████████████████████████████| 44/44 [02:57<00:00,  4.03s/it]\n"
     ]
    },
    {
     "name": "stdout",
     "output_type": "stream",
     "text": [
      "Validation loss: 0.30148\n",
      "Validation precision: 0.9774\n",
      "Validation recall: 0.8176\n",
      "Validation F1: 0.8903\n",
      "Validation accuracy: 95.83 (%)\n",
      "\n",
      "\n",
      "Epoch 124/200\n"
     ]
    },
    {
     "name": "stderr",
     "output_type": "stream",
     "text": [
      "100%|█████████████████████████████████████████████████████████████████████████████████████████████████████| 176/176 [13:47<00:00,  4.70s/it]\n"
     ]
    },
    {
     "name": "stdout",
     "output_type": "stream",
     "text": [
      "Training loss: 0.00853\n",
      "Train precision: 0.9905\n",
      "Train recall: 0.9954\n",
      "Train F1: 0.9930\n",
      "Training accuracy: 99.72 (%)\n",
      "\n",
      "\n"
     ]
    },
    {
     "name": "stderr",
     "output_type": "stream",
     "text": [
      "100%|███████████████████████████████████████████████████████████████████████████████████████████████████████| 44/44 [02:56<00:00,  4.00s/it]\n"
     ]
    },
    {
     "name": "stdout",
     "output_type": "stream",
     "text": [
      "Validation loss: 0.26319\n",
      "Validation precision: 0.9842\n",
      "Validation recall: 0.8317\n",
      "Validation F1: 0.9016\n",
      "Validation accuracy: 96.62 (%)\n",
      "\n",
      "\n",
      "Epoch 125/200\n"
     ]
    },
    {
     "name": "stderr",
     "output_type": "stream",
     "text": [
      "100%|█████████████████████████████████████████████████████████████████████████████████████████████████████| 176/176 [13:43<00:00,  4.68s/it]\n"
     ]
    },
    {
     "name": "stdout",
     "output_type": "stream",
     "text": [
      "Training loss: 0.00604\n",
      "Train precision: 0.9929\n",
      "Train recall: 0.9962\n",
      "Train F1: 0.9946\n",
      "Training accuracy: 99.79 (%)\n",
      "\n",
      "\n"
     ]
    },
    {
     "name": "stderr",
     "output_type": "stream",
     "text": [
      "100%|███████████████████████████████████████████████████████████████████████████████████████████████████████| 44/44 [02:55<00:00,  3.99s/it]\n"
     ]
    },
    {
     "name": "stdout",
     "output_type": "stream",
     "text": [
      "Validation loss: 0.31154\n",
      "Validation precision: 0.9929\n",
      "Validation recall: 0.7970\n",
      "Validation F1: 0.8842\n",
      "Validation accuracy: 96.08 (%)\n",
      "\n",
      "\n",
      "Epoch 126/200\n"
     ]
    },
    {
     "name": "stderr",
     "output_type": "stream",
     "text": [
      "100%|█████████████████████████████████████████████████████████████████████████████████████████████████████| 176/176 [14:16<00:00,  4.87s/it]\n"
     ]
    },
    {
     "name": "stdout",
     "output_type": "stream",
     "text": [
      "Training loss: 0.00607\n",
      "Train precision: 0.9922\n",
      "Train recall: 0.9968\n",
      "Train F1: 0.9945\n",
      "Training accuracy: 99.79 (%)\n",
      "\n",
      "\n"
     ]
    },
    {
     "name": "stderr",
     "output_type": "stream",
     "text": [
      "100%|███████████████████████████████████████████████████████████████████████████████████████████████████████| 44/44 [02:55<00:00,  4.00s/it]\n"
     ]
    },
    {
     "name": "stdout",
     "output_type": "stream",
     "text": [
      "Validation loss: 0.44223\n",
      "Validation precision: 0.9930\n",
      "Validation recall: 0.7733\n",
      "Validation F1: 0.8695\n",
      "Validation accuracy: 95.48 (%)\n",
      "\n",
      "\n",
      "Epoch 127/200\n"
     ]
    },
    {
     "name": "stderr",
     "output_type": "stream",
     "text": [
      "100%|█████████████████████████████████████████████████████████████████████████████████████████████████████| 176/176 [13:44<00:00,  4.68s/it]\n"
     ]
    },
    {
     "name": "stdout",
     "output_type": "stream",
     "text": [
      "Training loss: 0.00493\n",
      "Train precision: 0.9946\n",
      "Train recall: 0.9991\n",
      "Train F1: 0.9968\n",
      "Training accuracy: 99.88 (%)\n",
      "\n",
      "Accuracy aumentou de 0.9987 para 0.9988 (127/200)\n",
      "Saving checkpoint...\n",
      "F1 aumentou de 0.9966 para 0.9968 (127/200)\n",
      "Saving checkpoint...\n",
      "\n"
     ]
    },
    {
     "name": "stderr",
     "output_type": "stream",
     "text": [
      "100%|███████████████████████████████████████████████████████████████████████████████████████████████████████| 44/44 [02:56<00:00,  4.01s/it]\n"
     ]
    },
    {
     "name": "stdout",
     "output_type": "stream",
     "text": [
      "Validation loss: 0.38501\n",
      "Validation precision: 0.9934\n",
      "Validation recall: 0.8043\n",
      "Validation F1: 0.8889\n",
      "Validation accuracy: 95.98 (%)\n",
      "\n",
      "\n",
      "Epoch 128/200\n"
     ]
    },
    {
     "name": "stderr",
     "output_type": "stream",
     "text": [
      "100%|█████████████████████████████████████████████████████████████████████████████████████████████████████| 176/176 [13:44<00:00,  4.69s/it]\n"
     ]
    },
    {
     "name": "stdout",
     "output_type": "stream",
     "text": [
      "Training loss: 0.00788\n",
      "Train precision: 0.9908\n",
      "Train recall: 0.9982\n",
      "Train F1: 0.9945\n",
      "Training accuracy: 99.79 (%)\n",
      "\n",
      "\n"
     ]
    },
    {
     "name": "stderr",
     "output_type": "stream",
     "text": [
      "100%|███████████████████████████████████████████████████████████████████████████████████████████████████████| 44/44 [02:56<00:00,  4.01s/it]\n"
     ]
    },
    {
     "name": "stdout",
     "output_type": "stream",
     "text": [
      "Validation loss: 0.40715\n",
      "Validation precision: 0.9903\n",
      "Validation recall: 0.7824\n",
      "Validation F1: 0.8742\n",
      "Validation accuracy: 95.80 (%)\n",
      "\n",
      "\n",
      "Epoch 129/200\n"
     ]
    },
    {
     "name": "stderr",
     "output_type": "stream",
     "text": [
      "100%|█████████████████████████████████████████████████████████████████████████████████████████████████████| 176/176 [13:39<00:00,  4.66s/it]\n"
     ]
    },
    {
     "name": "stdout",
     "output_type": "stream",
     "text": [
      "Training loss: 0.00714\n",
      "Train precision: 0.9936\n",
      "Train recall: 0.9954\n",
      "Train F1: 0.9945\n",
      "Training accuracy: 99.79 (%)\n",
      "\n",
      "\n"
     ]
    },
    {
     "name": "stderr",
     "output_type": "stream",
     "text": [
      "100%|███████████████████████████████████████████████████████████████████████████████████████████████████████| 44/44 [02:55<00:00,  3.98s/it]\n"
     ]
    },
    {
     "name": "stdout",
     "output_type": "stream",
     "text": [
      "Validation loss: 0.43086\n",
      "Validation precision: 0.9901\n",
      "Validation recall: 0.7624\n",
      "Validation F1: 0.8614\n",
      "Validation accuracy: 95.41 (%)\n",
      "\n",
      "\n",
      "Epoch 130/200\n"
     ]
    },
    {
     "name": "stderr",
     "output_type": "stream",
     "text": [
      "100%|█████████████████████████████████████████████████████████████████████████████████████████████████████| 176/176 [13:44<00:00,  4.68s/it]\n"
     ]
    },
    {
     "name": "stdout",
     "output_type": "stream",
     "text": [
      "Training loss: 0.00413\n",
      "Train precision: 0.9935\n",
      "Train recall: 0.9986\n",
      "Train F1: 0.9960\n",
      "Training accuracy: 99.85 (%)\n",
      "\n",
      "\n"
     ]
    },
    {
     "name": "stderr",
     "output_type": "stream",
     "text": [
      "100%|███████████████████████████████████████████████████████████████████████████████████████████████████████| 44/44 [02:55<00:00,  3.99s/it]\n"
     ]
    },
    {
     "name": "stdout",
     "output_type": "stream",
     "text": [
      "Validation loss: 0.32095\n",
      "Validation precision: 0.9840\n",
      "Validation recall: 0.8175\n",
      "Validation F1: 0.8930\n",
      "Validation accuracy: 96.33 (%)\n",
      "\n",
      "\n",
      "Epoch 131/200\n"
     ]
    },
    {
     "name": "stderr",
     "output_type": "stream",
     "text": [
      "100%|█████████████████████████████████████████████████████████████████████████████████████████████████████| 176/176 [13:43<00:00,  4.68s/it]\n"
     ]
    },
    {
     "name": "stdout",
     "output_type": "stream",
     "text": [
      "Training loss: 0.00701\n",
      "Train precision: 0.9905\n",
      "Train recall: 0.9982\n",
      "Train F1: 0.9943\n",
      "Training accuracy: 99.78 (%)\n",
      "\n",
      "\n"
     ]
    },
    {
     "name": "stderr",
     "output_type": "stream",
     "text": [
      "100%|███████████████████████████████████████████████████████████████████████████████████████████████████████| 44/44 [02:56<00:00,  4.01s/it]\n"
     ]
    },
    {
     "name": "stdout",
     "output_type": "stream",
     "text": [
      "Validation loss: 0.36643\n",
      "Validation precision: 0.9886\n",
      "Validation recall: 0.7923\n",
      "Validation F1: 0.8797\n",
      "Validation accuracy: 95.76 (%)\n",
      "\n",
      "\n",
      "Epoch 132/200\n"
     ]
    },
    {
     "name": "stderr",
     "output_type": "stream",
     "text": [
      "100%|█████████████████████████████████████████████████████████████████████████████████████████████████████| 176/176 [13:49<00:00,  4.71s/it]\n"
     ]
    },
    {
     "name": "stdout",
     "output_type": "stream",
     "text": [
      "Training loss: 0.00760\n",
      "Train precision: 0.9945\n",
      "Train recall: 0.9968\n",
      "Train F1: 0.9957\n",
      "Training accuracy: 99.83 (%)\n",
      "\n",
      "\n"
     ]
    },
    {
     "name": "stderr",
     "output_type": "stream",
     "text": [
      "100%|███████████████████████████████████████████████████████████████████████████████████████████████████████| 44/44 [02:58<00:00,  4.05s/it]\n"
     ]
    },
    {
     "name": "stdout",
     "output_type": "stream",
     "text": [
      "Validation loss: 0.37080\n",
      "Validation precision: 0.9209\n",
      "Validation recall: 0.8056\n",
      "Validation F1: 0.8594\n",
      "Validation accuracy: 94.98 (%)\n",
      "\n",
      "\n",
      "Epoch 133/200\n"
     ]
    },
    {
     "name": "stderr",
     "output_type": "stream",
     "text": [
      "100%|█████████████████████████████████████████████████████████████████████████████████████████████████████| 176/176 [14:05<00:00,  4.80s/it]\n"
     ]
    },
    {
     "name": "stdout",
     "output_type": "stream",
     "text": [
      "Training loss: 0.01027\n",
      "Train precision: 0.9881\n",
      "Train recall: 0.9945\n",
      "Train F1: 0.9913\n",
      "Training accuracy: 99.66 (%)\n",
      "\n",
      "\n"
     ]
    },
    {
     "name": "stderr",
     "output_type": "stream",
     "text": [
      "100%|███████████████████████████████████████████████████████████████████████████████████████████████████████| 44/44 [02:57<00:00,  4.04s/it]\n"
     ]
    },
    {
     "name": "stdout",
     "output_type": "stream",
     "text": [
      "Validation loss: 0.38269\n",
      "Validation precision: 0.9915\n",
      "Validation recall: 0.8171\n",
      "Validation F1: 0.8959\n",
      "Validation accuracy: 96.12 (%)\n",
      "\n",
      "\n",
      "Epoch 134/200\n"
     ]
    },
    {
     "name": "stderr",
     "output_type": "stream",
     "text": [
      "100%|█████████████████████████████████████████████████████████████████████████████████████████████████████| 176/176 [13:45<00:00,  4.69s/it]\n"
     ]
    },
    {
     "name": "stdout",
     "output_type": "stream",
     "text": [
      "Training loss: 0.00498\n",
      "Train precision: 0.9944\n",
      "Train recall: 0.9995\n",
      "Train F1: 0.9969\n",
      "Training accuracy: 99.88 (%)\n",
      "\n",
      "Accuracy aumentou de 0.9988 para 0.9988 (134/200)\n",
      "Saving checkpoint...\n",
      "F1 aumentou de 0.9968 para 0.9969 (134/200)\n",
      "Saving checkpoint...\n",
      "\n"
     ]
    },
    {
     "name": "stderr",
     "output_type": "stream",
     "text": [
      "100%|███████████████████████████████████████████████████████████████████████████████████████████████████████| 44/44 [02:57<00:00,  4.04s/it]\n"
     ]
    },
    {
     "name": "stdout",
     "output_type": "stream",
     "text": [
      "Validation loss: 0.26940\n",
      "Validation precision: 0.9776\n",
      "Validation recall: 0.8138\n",
      "Validation F1: 0.8882\n",
      "Validation accuracy: 96.08 (%)\n",
      "\n",
      "\n",
      "Epoch 135/200\n"
     ]
    },
    {
     "name": "stderr",
     "output_type": "stream",
     "text": [
      "100%|█████████████████████████████████████████████████████████████████████████████████████████████████████| 176/176 [13:42<00:00,  4.68s/it]\n"
     ]
    },
    {
     "name": "stdout",
     "output_type": "stream",
     "text": [
      "Training loss: 0.00526\n",
      "Train precision: 0.9935\n",
      "Train recall: 0.9977\n",
      "Train F1: 0.9956\n",
      "Training accuracy: 99.83 (%)\n",
      "\n",
      "\n"
     ]
    },
    {
     "name": "stderr",
     "output_type": "stream",
     "text": [
      "100%|███████████████████████████████████████████████████████████████████████████████████████████████████████| 44/44 [02:54<00:00,  3.98s/it]\n"
     ]
    },
    {
     "name": "stdout",
     "output_type": "stream",
     "text": [
      "Validation loss: 0.41252\n",
      "Validation precision: 0.9933\n",
      "Validation recall: 0.7872\n",
      "Validation F1: 0.8783\n",
      "Validation accuracy: 95.62 (%)\n",
      "\n",
      "\n",
      "Epoch 136/200\n"
     ]
    },
    {
     "name": "stderr",
     "output_type": "stream",
     "text": [
      "100%|█████████████████████████████████████████████████████████████████████████████████████████████████████| 176/176 [13:44<00:00,  4.68s/it]\n"
     ]
    },
    {
     "name": "stdout",
     "output_type": "stream",
     "text": [
      "Training loss: 0.00611\n",
      "Train precision: 0.9919\n",
      "Train recall: 0.9971\n",
      "Train F1: 0.9945\n",
      "Training accuracy: 99.79 (%)\n",
      "\n",
      "\n"
     ]
    },
    {
     "name": "stderr",
     "output_type": "stream",
     "text": [
      "100%|███████████████████████████████████████████████████████████████████████████████████████████████████████| 44/44 [02:57<00:00,  4.03s/it]\n"
     ]
    },
    {
     "name": "stdout",
     "output_type": "stream",
     "text": [
      "Validation loss: 0.34942\n",
      "Validation precision: 0.9908\n",
      "Validation recall: 0.8026\n",
      "Validation F1: 0.8868\n",
      "Validation accuracy: 96.08 (%)\n",
      "\n",
      "\n",
      "Epoch 137/200\n"
     ]
    },
    {
     "name": "stderr",
     "output_type": "stream",
     "text": [
      "100%|█████████████████████████████████████████████████████████████████████████████████████████████████████| 176/176 [13:40<00:00,  4.66s/it]\n"
     ]
    },
    {
     "name": "stdout",
     "output_type": "stream",
     "text": [
      "Training loss: 0.00709\n",
      "Train precision: 0.9931\n",
      "Train recall: 0.9972\n",
      "Train F1: 0.9951\n",
      "Training accuracy: 99.81 (%)\n",
      "\n",
      "\n"
     ]
    },
    {
     "name": "stderr",
     "output_type": "stream",
     "text": [
      "100%|███████████████████████████████████████████████████████████████████████████████████████████████████████| 44/44 [02:56<00:00,  4.01s/it]\n"
     ]
    },
    {
     "name": "stdout",
     "output_type": "stream",
     "text": [
      "Validation loss: 0.34831\n",
      "Validation precision: 0.9953\n",
      "Validation recall: 0.7978\n",
      "Validation F1: 0.8857\n",
      "Validation accuracy: 96.08 (%)\n",
      "\n",
      "\n",
      "Epoch 138/200\n"
     ]
    },
    {
     "name": "stderr",
     "output_type": "stream",
     "text": [
      "100%|█████████████████████████████████████████████████████████████████████████████████████████████████████| 176/176 [13:37<00:00,  4.65s/it]\n"
     ]
    },
    {
     "name": "stdout",
     "output_type": "stream",
     "text": [
      "Training loss: 0.00485\n",
      "Train precision: 0.9946\n",
      "Train recall: 0.9982\n",
      "Train F1: 0.9964\n",
      "Training accuracy: 99.86 (%)\n",
      "\n",
      "\n"
     ]
    },
    {
     "name": "stderr",
     "output_type": "stream",
     "text": [
      "100%|███████████████████████████████████████████████████████████████████████████████████████████████████████| 44/44 [02:55<00:00,  4.00s/it]\n"
     ]
    },
    {
     "name": "stdout",
     "output_type": "stream",
     "text": [
      "Validation loss: 0.24989\n",
      "Validation precision: 0.9289\n",
      "Validation recall: 0.8772\n",
      "Validation F1: 0.9023\n",
      "Validation accuracy: 96.47 (%)\n",
      "\n",
      "\n",
      "Epoch 139/200\n"
     ]
    },
    {
     "name": "stderr",
     "output_type": "stream",
     "text": [
      "100%|█████████████████████████████████████████████████████████████████████████████████████████████████████| 176/176 [13:38<00:00,  4.65s/it]\n"
     ]
    },
    {
     "name": "stdout",
     "output_type": "stream",
     "text": [
      "Training loss: 0.00709\n",
      "Train precision: 0.9908\n",
      "Train recall: 0.9981\n",
      "Train F1: 0.9945\n",
      "Training accuracy: 99.79 (%)\n",
      "\n",
      "\n"
     ]
    },
    {
     "name": "stderr",
     "output_type": "stream",
     "text": [
      "100%|███████████████████████████████████████████████████████████████████████████████████████████████████████| 44/44 [02:54<00:00,  3.98s/it]\n"
     ]
    },
    {
     "name": "stdout",
     "output_type": "stream",
     "text": [
      "Validation loss: 0.30798\n",
      "Validation precision: 0.9933\n",
      "Validation recall: 0.8142\n",
      "Validation F1: 0.8949\n",
      "Validation accuracy: 96.26 (%)\n",
      "\n",
      "\n",
      "Epoch 140/200\n"
     ]
    },
    {
     "name": "stderr",
     "output_type": "stream",
     "text": [
      "100%|█████████████████████████████████████████████████████████████████████████████████████████████████████| 176/176 [13:36<00:00,  4.64s/it]\n"
     ]
    },
    {
     "name": "stdout",
     "output_type": "stream",
     "text": [
      "Training loss: 0.00546\n",
      "Train precision: 0.9934\n",
      "Train recall: 0.9972\n",
      "Train F1: 0.9953\n",
      "Training accuracy: 99.82 (%)\n",
      "\n",
      "\n"
     ]
    },
    {
     "name": "stderr",
     "output_type": "stream",
     "text": [
      "100%|███████████████████████████████████████████████████████████████████████████████████████████████████████| 44/44 [02:56<00:00,  4.01s/it]\n"
     ]
    },
    {
     "name": "stdout",
     "output_type": "stream",
     "text": [
      "Validation loss: 0.23772\n",
      "Validation precision: 0.9484\n",
      "Validation recall: 0.8779\n",
      "Validation F1: 0.9118\n",
      "Validation accuracy: 96.58 (%)\n",
      "\n",
      "\n",
      "Epoch 141/200\n"
     ]
    },
    {
     "name": "stderr",
     "output_type": "stream",
     "text": [
      "100%|█████████████████████████████████████████████████████████████████████████████████████████████████████| 176/176 [13:37<00:00,  4.65s/it]\n"
     ]
    },
    {
     "name": "stdout",
     "output_type": "stream",
     "text": [
      "Training loss: 0.00775\n",
      "Train precision: 0.9922\n",
      "Train recall: 0.9972\n",
      "Train F1: 0.9947\n",
      "Training accuracy: 99.79 (%)\n",
      "\n",
      "\n"
     ]
    },
    {
     "name": "stderr",
     "output_type": "stream",
     "text": [
      "100%|███████████████████████████████████████████████████████████████████████████████████████████████████████| 44/44 [02:55<00:00,  4.00s/it]\n"
     ]
    },
    {
     "name": "stdout",
     "output_type": "stream",
     "text": [
      "Validation loss: 0.34206\n",
      "Validation precision: 0.9217\n",
      "Validation recall: 0.8300\n",
      "Validation F1: 0.8735\n",
      "Validation accuracy: 95.26 (%)\n",
      "\n",
      "\n",
      "Epoch 142/200\n"
     ]
    },
    {
     "name": "stderr",
     "output_type": "stream",
     "text": [
      "100%|█████████████████████████████████████████████████████████████████████████████████████████████████████| 176/176 [13:41<00:00,  4.67s/it]\n"
     ]
    },
    {
     "name": "stdout",
     "output_type": "stream",
     "text": [
      "Training loss: 0.00998\n",
      "Train precision: 0.9905\n",
      "Train recall: 0.9959\n",
      "Train F1: 0.9932\n",
      "Training accuracy: 99.73 (%)\n",
      "\n",
      "\n"
     ]
    },
    {
     "name": "stderr",
     "output_type": "stream",
     "text": [
      "100%|███████████████████████████████████████████████████████████████████████████████████████████████████████| 44/44 [02:56<00:00,  4.01s/it]\n"
     ]
    },
    {
     "name": "stdout",
     "output_type": "stream",
     "text": [
      "Validation loss: 0.40032\n",
      "Validation precision: 0.9938\n",
      "Validation recall: 0.8177\n",
      "Validation F1: 0.8972\n",
      "Validation accuracy: 96.08 (%)\n",
      "\n",
      "\n",
      "Epoch 143/200\n"
     ]
    },
    {
     "name": "stderr",
     "output_type": "stream",
     "text": [
      "100%|█████████████████████████████████████████████████████████████████████████████████████████████████████| 176/176 [13:39<00:00,  4.65s/it]\n"
     ]
    },
    {
     "name": "stdout",
     "output_type": "stream",
     "text": [
      "Training loss: 0.00735\n",
      "Train precision: 0.9937\n",
      "Train recall: 0.9968\n",
      "Train F1: 0.9952\n",
      "Training accuracy: 99.81 (%)\n",
      "\n",
      "\n"
     ]
    },
    {
     "name": "stderr",
     "output_type": "stream",
     "text": [
      "100%|███████████████████████████████████████████████████████████████████████████████████████████████████████| 44/44 [02:56<00:00,  4.02s/it]\n"
     ]
    },
    {
     "name": "stdout",
     "output_type": "stream",
     "text": [
      "Validation loss: 0.33407\n",
      "Validation precision: 0.9789\n",
      "Validation recall: 0.8224\n",
      "Validation F1: 0.8938\n",
      "Validation accuracy: 96.08 (%)\n",
      "\n",
      "\n",
      "Epoch 144/200\n"
     ]
    },
    {
     "name": "stderr",
     "output_type": "stream",
     "text": [
      "100%|█████████████████████████████████████████████████████████████████████████████████████████████████████| 176/176 [13:40<00:00,  4.66s/it]\n"
     ]
    },
    {
     "name": "stdout",
     "output_type": "stream",
     "text": [
      "Training loss: 0.00643\n",
      "Train precision: 0.9930\n",
      "Train recall: 0.9962\n",
      "Train F1: 0.9946\n",
      "Training accuracy: 99.79 (%)\n",
      "\n",
      "\n"
     ]
    },
    {
     "name": "stderr",
     "output_type": "stream",
     "text": [
      "100%|███████████████████████████████████████████████████████████████████████████████████████████████████████| 44/44 [02:57<00:00,  4.04s/it]\n"
     ]
    },
    {
     "name": "stdout",
     "output_type": "stream",
     "text": [
      "Validation loss: 0.31967\n",
      "Validation precision: 0.9910\n",
      "Validation recall: 0.8212\n",
      "Validation F1: 0.8982\n",
      "Validation accuracy: 96.44 (%)\n",
      "\n",
      "\n",
      "Epoch 145/200\n"
     ]
    },
    {
     "name": "stderr",
     "output_type": "stream",
     "text": [
      "100%|█████████████████████████████████████████████████████████████████████████████████████████████████████| 176/176 [13:40<00:00,  4.66s/it]\n"
     ]
    },
    {
     "name": "stdout",
     "output_type": "stream",
     "text": [
      "Training loss: 0.00553\n",
      "Train precision: 0.9931\n",
      "Train recall: 0.9974\n",
      "Train F1: 0.9952\n",
      "Training accuracy: 99.80 (%)\n",
      "\n",
      "\n"
     ]
    },
    {
     "name": "stderr",
     "output_type": "stream",
     "text": [
      "100%|███████████████████████████████████████████████████████████████████████████████████████████████████████| 44/44 [02:55<00:00,  3.98s/it]\n"
     ]
    },
    {
     "name": "stdout",
     "output_type": "stream",
     "text": [
      "Validation loss: 0.43934\n",
      "Validation precision: 0.9928\n",
      "Validation recall: 0.7615\n",
      "Validation F1: 0.8619\n",
      "Validation accuracy: 95.26 (%)\n",
      "\n",
      "\n",
      "Epoch 146/200\n"
     ]
    },
    {
     "name": "stderr",
     "output_type": "stream",
     "text": [
      "100%|█████████████████████████████████████████████████████████████████████████████████████████████████████| 176/176 [13:35<00:00,  4.63s/it]\n"
     ]
    },
    {
     "name": "stdout",
     "output_type": "stream",
     "text": [
      "Training loss: 0.00476\n",
      "Train precision: 0.9946\n",
      "Train recall: 0.9986\n",
      "Train F1: 0.9966\n",
      "Training accuracy: 99.87 (%)\n",
      "\n",
      "\n"
     ]
    },
    {
     "name": "stderr",
     "output_type": "stream",
     "text": [
      "100%|███████████████████████████████████████████████████████████████████████████████████████████████████████| 44/44 [02:55<00:00,  3.99s/it]\n"
     ]
    },
    {
     "name": "stdout",
     "output_type": "stream",
     "text": [
      "Validation loss: 0.35944\n",
      "Validation precision: 0.9978\n",
      "Validation recall: 0.8161\n",
      "Validation F1: 0.8978\n",
      "Validation accuracy: 96.30 (%)\n",
      "\n",
      "\n",
      "Epoch 147/200\n"
     ]
    },
    {
     "name": "stderr",
     "output_type": "stream",
     "text": [
      "100%|█████████████████████████████████████████████████████████████████████████████████████████████████████| 176/176 [13:42<00:00,  4.67s/it]\n"
     ]
    },
    {
     "name": "stdout",
     "output_type": "stream",
     "text": [
      "Training loss: 0.00300\n",
      "Train precision: 0.9972\n",
      "Train recall: 0.9986\n",
      "Train F1: 0.9979\n",
      "Training accuracy: 99.92 (%)\n",
      "\n",
      "Accuracy aumentou de 0.9988 para 0.9992 (147/200)\n",
      "Saving checkpoint...\n",
      "F1 aumentou de 0.9969 para 0.9979 (147/200)\n",
      "Saving checkpoint...\n",
      "\n"
     ]
    },
    {
     "name": "stderr",
     "output_type": "stream",
     "text": [
      "100%|███████████████████████████████████████████████████████████████████████████████████████████████████████| 44/44 [02:56<00:00,  4.00s/it]\n"
     ]
    },
    {
     "name": "stdout",
     "output_type": "stream",
     "text": [
      "Validation loss: 0.32657\n",
      "Validation precision: 0.9978\n",
      "Validation recall: 0.8102\n",
      "Validation F1: 0.8943\n",
      "Validation accuracy: 96.26 (%)\n",
      "\n",
      "\n",
      "Epoch 148/200\n"
     ]
    },
    {
     "name": "stderr",
     "output_type": "stream",
     "text": [
      "100%|█████████████████████████████████████████████████████████████████████████████████████████████████████| 176/176 [13:41<00:00,  4.67s/it]\n"
     ]
    },
    {
     "name": "stdout",
     "output_type": "stream",
     "text": [
      "Training loss: 0.00455\n",
      "Train precision: 0.9945\n",
      "Train recall: 0.9995\n",
      "Train F1: 0.9970\n",
      "Training accuracy: 99.88 (%)\n",
      "\n",
      "\n"
     ]
    },
    {
     "name": "stderr",
     "output_type": "stream",
     "text": [
      "100%|███████████████████████████████████████████████████████████████████████████████████████████████████████| 44/44 [02:55<00:00,  4.00s/it]\n"
     ]
    },
    {
     "name": "stdout",
     "output_type": "stream",
     "text": [
      "Validation loss: 0.46081\n",
      "Validation precision: 0.9932\n",
      "Validation recall: 0.7861\n",
      "Validation F1: 0.8776\n",
      "Validation accuracy: 95.62 (%)\n",
      "\n",
      "\n",
      "Epoch 149/200\n"
     ]
    },
    {
     "name": "stderr",
     "output_type": "stream",
     "text": [
      "100%|█████████████████████████████████████████████████████████████████████████████████████████████████████| 176/176 [13:36<00:00,  4.64s/it]\n"
     ]
    },
    {
     "name": "stdout",
     "output_type": "stream",
     "text": [
      "Training loss: 0.00523\n",
      "Train precision: 0.9936\n",
      "Train recall: 0.9991\n",
      "Train F1: 0.9963\n",
      "Training accuracy: 99.86 (%)\n",
      "\n",
      "\n"
     ]
    },
    {
     "name": "stderr",
     "output_type": "stream",
     "text": [
      "100%|███████████████████████████████████████████████████████████████████████████████████████████████████████| 44/44 [02:56<00:00,  4.01s/it]\n"
     ]
    },
    {
     "name": "stdout",
     "output_type": "stream",
     "text": [
      "Validation loss: 0.35334\n",
      "Validation precision: 0.9952\n",
      "Validation recall: 0.7546\n",
      "Validation F1: 0.8583\n",
      "Validation accuracy: 95.16 (%)\n",
      "\n",
      "\n",
      "Epoch 150/200\n"
     ]
    },
    {
     "name": "stderr",
     "output_type": "stream",
     "text": [
      "100%|█████████████████████████████████████████████████████████████████████████████████████████████████████| 176/176 [13:25<00:00,  4.58s/it]\n"
     ]
    },
    {
     "name": "stdout",
     "output_type": "stream",
     "text": [
      "Training loss: 0.00463\n",
      "Train precision: 0.9955\n",
      "Train recall: 0.9986\n",
      "Train F1: 0.9971\n",
      "Training accuracy: 99.88 (%)\n",
      "\n",
      "\n"
     ]
    },
    {
     "name": "stderr",
     "output_type": "stream",
     "text": [
      "100%|███████████████████████████████████████████████████████████████████████████████████████████████████████| 44/44 [02:55<00:00,  3.98s/it]\n"
     ]
    },
    {
     "name": "stdout",
     "output_type": "stream",
     "text": [
      "Validation loss: 0.39418\n",
      "Validation precision: 0.9898\n",
      "Validation recall: 0.8083\n",
      "Validation F1: 0.8899\n",
      "Validation accuracy: 95.73 (%)\n",
      "\n",
      "\n",
      "Epoch 151/200\n"
     ]
    },
    {
     "name": "stderr",
     "output_type": "stream",
     "text": [
      "100%|█████████████████████████████████████████████████████████████████████████████████████████████████████| 176/176 [13:38<00:00,  4.65s/it]\n"
     ]
    },
    {
     "name": "stdout",
     "output_type": "stream",
     "text": [
      "Training loss: 0.00649\n",
      "Train precision: 0.9960\n",
      "Train recall: 0.9991\n",
      "Train F1: 0.9976\n",
      "Training accuracy: 99.90 (%)\n",
      "\n",
      "\n"
     ]
    },
    {
     "name": "stderr",
     "output_type": "stream",
     "text": [
      "100%|███████████████████████████████████████████████████████████████████████████████████████████████████████| 44/44 [02:55<00:00,  3.99s/it]\n"
     ]
    },
    {
     "name": "stdout",
     "output_type": "stream",
     "text": [
      "Validation loss: 0.46411\n",
      "Validation precision: 0.9378\n",
      "Validation recall: 0.6642\n",
      "Validation F1: 0.7777\n",
      "Validation accuracy: 92.63 (%)\n",
      "\n",
      "\n",
      "Epoch 152/200\n"
     ]
    },
    {
     "name": "stderr",
     "output_type": "stream",
     "text": [
      "100%|█████████████████████████████████████████████████████████████████████████████████████████████████████| 176/176 [13:39<00:00,  4.65s/it]\n"
     ]
    },
    {
     "name": "stdout",
     "output_type": "stream",
     "text": [
      "Training loss: 0.00638\n",
      "Train precision: 0.9934\n",
      "Train recall: 0.9971\n",
      "Train F1: 0.9953\n",
      "Training accuracy: 99.82 (%)\n",
      "\n",
      "\n"
     ]
    },
    {
     "name": "stderr",
     "output_type": "stream",
     "text": [
      "100%|███████████████████████████████████████████████████████████████████████████████████████████████████████| 44/44 [02:58<00:00,  4.05s/it]\n"
     ]
    },
    {
     "name": "stdout",
     "output_type": "stream",
     "text": [
      "Validation loss: 0.39579\n",
      "Validation precision: 0.9957\n",
      "Validation recall: 0.8226\n",
      "Validation F1: 0.9009\n",
      "Validation accuracy: 96.40 (%)\n",
      "\n",
      "\n",
      "Epoch 153/200\n"
     ]
    },
    {
     "name": "stderr",
     "output_type": "stream",
     "text": [
      "100%|█████████████████████████████████████████████████████████████████████████████████████████████████████| 176/176 [13:47<00:00,  4.70s/it]\n"
     ]
    },
    {
     "name": "stdout",
     "output_type": "stream",
     "text": [
      "Training loss: 0.00418\n",
      "Train precision: 0.9945\n",
      "Train recall: 0.9977\n",
      "Train F1: 0.9961\n",
      "Training accuracy: 99.85 (%)\n",
      "\n",
      "\n"
     ]
    },
    {
     "name": "stderr",
     "output_type": "stream",
     "text": [
      "100%|███████████████████████████████████████████████████████████████████████████████████████████████████████| 44/44 [02:58<00:00,  4.05s/it]\n"
     ]
    },
    {
     "name": "stdout",
     "output_type": "stream",
     "text": [
      "Validation loss: 0.34429\n",
      "Validation precision: 0.9905\n",
      "Validation recall: 0.7883\n",
      "Validation F1: 0.8779\n",
      "Validation accuracy: 95.87 (%)\n",
      "\n",
      "\n",
      "Epoch 154/200\n"
     ]
    },
    {
     "name": "stderr",
     "output_type": "stream",
     "text": [
      "100%|█████████████████████████████████████████████████████████████████████████████████████████████████████| 176/176 [13:48<00:00,  4.70s/it]\n"
     ]
    },
    {
     "name": "stdout",
     "output_type": "stream",
     "text": [
      "Training loss: 0.00544\n",
      "Train precision: 0.9939\n",
      "Train recall: 0.9963\n",
      "Train F1: 0.9951\n",
      "Training accuracy: 99.81 (%)\n",
      "\n",
      "\n"
     ]
    },
    {
     "name": "stderr",
     "output_type": "stream",
     "text": [
      "100%|███████████████████████████████████████████████████████████████████████████████████████████████████████| 44/44 [02:59<00:00,  4.08s/it]\n"
     ]
    },
    {
     "name": "stdout",
     "output_type": "stream",
     "text": [
      "Validation loss: 0.45746\n",
      "Validation precision: 0.9868\n",
      "Validation recall: 0.7795\n",
      "Validation F1: 0.8710\n",
      "Validation accuracy: 95.26 (%)\n",
      "\n",
      "\n",
      "Epoch 155/200\n"
     ]
    },
    {
     "name": "stderr",
     "output_type": "stream",
     "text": [
      "100%|█████████████████████████████████████████████████████████████████████████████████████████████████████| 176/176 [13:42<00:00,  4.67s/it]\n"
     ]
    },
    {
     "name": "stdout",
     "output_type": "stream",
     "text": [
      "Training loss: 0.00579\n",
      "Train precision: 0.9928\n",
      "Train recall: 0.9982\n",
      "Train F1: 0.9955\n",
      "Training accuracy: 99.82 (%)\n",
      "\n",
      "\n"
     ]
    },
    {
     "name": "stderr",
     "output_type": "stream",
     "text": [
      "100%|███████████████████████████████████████████████████████████████████████████████████████████████████████| 44/44 [03:31<00:00,  4.80s/it]\n"
     ]
    },
    {
     "name": "stdout",
     "output_type": "stream",
     "text": [
      "Validation loss: 0.45823\n",
      "Validation precision: 0.9908\n",
      "Validation recall: 0.7784\n",
      "Validation F1: 0.8718\n",
      "Validation accuracy: 95.48 (%)\n",
      "\n",
      "\n",
      "Epoch 156/200\n"
     ]
    },
    {
     "name": "stderr",
     "output_type": "stream",
     "text": [
      "100%|█████████████████████████████████████████████████████████████████████████████████████████████████████| 176/176 [16:00<00:00,  5.46s/it]\n"
     ]
    },
    {
     "name": "stdout",
     "output_type": "stream",
     "text": [
      "Training loss: 0.00477\n",
      "Train precision: 0.9953\n",
      "Train recall: 0.9976\n",
      "Train F1: 0.9965\n",
      "Training accuracy: 99.87 (%)\n",
      "\n",
      "\n"
     ]
    },
    {
     "name": "stderr",
     "output_type": "stream",
     "text": [
      "100%|███████████████████████████████████████████████████████████████████████████████████████████████████████| 44/44 [03:31<00:00,  4.82s/it]\n"
     ]
    },
    {
     "name": "stdout",
     "output_type": "stream",
     "text": [
      "Validation loss: 0.48880\n",
      "Validation precision: 0.9949\n",
      "Validation recall: 0.7247\n",
      "Validation F1: 0.8386\n",
      "Validation accuracy: 94.69 (%)\n",
      "\n",
      "\n",
      "Epoch 157/200\n"
     ]
    },
    {
     "name": "stderr",
     "output_type": "stream",
     "text": [
      "100%|█████████████████████████████████████████████████████████████████████████████████████████████████████| 176/176 [16:03<00:00,  5.47s/it]\n"
     ]
    },
    {
     "name": "stdout",
     "output_type": "stream",
     "text": [
      "Training loss: 0.00474\n",
      "Train precision: 0.9934\n",
      "Train recall: 0.9981\n",
      "Train F1: 0.9958\n",
      "Training accuracy: 99.84 (%)\n",
      "\n",
      "\n"
     ]
    },
    {
     "name": "stderr",
     "output_type": "stream",
     "text": [
      "100%|███████████████████████████████████████████████████████████████████████████████████████████████████████| 44/44 [03:31<00:00,  4.81s/it]\n"
     ]
    },
    {
     "name": "stdout",
     "output_type": "stream",
     "text": [
      "Validation loss: 0.36296\n",
      "Validation precision: 0.9864\n",
      "Validation recall: 0.8089\n",
      "Validation F1: 0.8889\n",
      "Validation accuracy: 96.12 (%)\n",
      "\n",
      "\n",
      "Epoch 158/200\n"
     ]
    },
    {
     "name": "stderr",
     "output_type": "stream",
     "text": [
      "100%|█████████████████████████████████████████████████████████████████████████████████████████████████████| 176/176 [16:01<00:00,  5.47s/it]\n"
     ]
    },
    {
     "name": "stdout",
     "output_type": "stream",
     "text": [
      "Training loss: 0.00420\n",
      "Train precision: 0.9953\n",
      "Train recall: 0.9972\n",
      "Train F1: 0.9962\n",
      "Training accuracy: 99.86 (%)\n",
      "\n",
      "\n"
     ]
    },
    {
     "name": "stderr",
     "output_type": "stream",
     "text": [
      "100%|███████████████████████████████████████████████████████████████████████████████████████████████████████| 44/44 [03:30<00:00,  4.79s/it]\n"
     ]
    },
    {
     "name": "stdout",
     "output_type": "stream",
     "text": [
      "Validation loss: 0.35991\n",
      "Validation precision: 0.9936\n",
      "Validation recall: 0.7969\n",
      "Validation F1: 0.8845\n",
      "Validation accuracy: 95.66 (%)\n",
      "\n",
      "\n",
      "Epoch 159/200\n"
     ]
    },
    {
     "name": "stderr",
     "output_type": "stream",
     "text": [
      "100%|█████████████████████████████████████████████████████████████████████████████████████████████████████| 176/176 [16:02<00:00,  5.47s/it]\n"
     ]
    },
    {
     "name": "stdout",
     "output_type": "stream",
     "text": [
      "Training loss: 0.00463\n",
      "Train precision: 0.9944\n",
      "Train recall: 0.9986\n",
      "Train F1: 0.9965\n",
      "Training accuracy: 99.87 (%)\n",
      "\n",
      "\n"
     ]
    },
    {
     "name": "stderr",
     "output_type": "stream",
     "text": [
      "100%|███████████████████████████████████████████████████████████████████████████████████████████████████████| 44/44 [03:32<00:00,  4.84s/it]\n"
     ]
    },
    {
     "name": "stdout",
     "output_type": "stream",
     "text": [
      "Validation loss: 0.51568\n",
      "Validation precision: 0.9949\n",
      "Validation recall: 0.6909\n",
      "Validation F1: 0.8155\n",
      "Validation accuracy: 93.73 (%)\n",
      "\n",
      "\n",
      "Epoch 160/200\n"
     ]
    },
    {
     "name": "stderr",
     "output_type": "stream",
     "text": [
      "100%|█████████████████████████████████████████████████████████████████████████████████████████████████████| 176/176 [16:06<00:00,  5.49s/it]\n"
     ]
    },
    {
     "name": "stdout",
     "output_type": "stream",
     "text": [
      "Training loss: 0.00302\n",
      "Train precision: 0.9968\n",
      "Train recall: 0.9991\n",
      "Train F1: 0.9979\n",
      "Training accuracy: 99.92 (%)\n",
      "\n",
      "F1 aumentou de 0.9979 para 0.9979 (160/200)\n",
      "Saving checkpoint...\n",
      "\n"
     ]
    },
    {
     "name": "stderr",
     "output_type": "stream",
     "text": [
      "100%|███████████████████████████████████████████████████████████████████████████████████████████████████████| 44/44 [03:31<00:00,  4.81s/it]\n"
     ]
    },
    {
     "name": "stdout",
     "output_type": "stream",
     "text": [
      "Validation loss: 0.40896\n",
      "Validation precision: 0.9954\n",
      "Validation recall: 0.8056\n",
      "Validation F1: 0.8905\n",
      "Validation accuracy: 96.19 (%)\n",
      "\n",
      "\n",
      "Epoch 161/200\n"
     ]
    },
    {
     "name": "stderr",
     "output_type": "stream",
     "text": [
      "100%|█████████████████████████████████████████████████████████████████████████████████████████████████████| 176/176 [16:04<00:00,  5.48s/it]\n"
     ]
    },
    {
     "name": "stdout",
     "output_type": "stream",
     "text": [
      "Training loss: 0.00492\n",
      "Train precision: 0.9950\n",
      "Train recall: 0.9986\n",
      "Train F1: 0.9968\n",
      "Training accuracy: 99.88 (%)\n",
      "\n",
      "\n"
     ]
    },
    {
     "name": "stderr",
     "output_type": "stream",
     "text": [
      "100%|███████████████████████████████████████████████████████████████████████████████████████████████████████| 44/44 [03:32<00:00,  4.84s/it]\n"
     ]
    },
    {
     "name": "stdout",
     "output_type": "stream",
     "text": [
      "Validation loss: 0.32731\n",
      "Validation precision: 0.9852\n",
      "Validation recall: 0.8488\n",
      "Validation F1: 0.9119\n",
      "Validation accuracy: 96.79 (%)\n",
      "\n",
      "Accuracy aumentou de 0.9676 para 0.9679 (161/200)\n",
      "Saving checkpoint...\n",
      "\n",
      "Epoch 162/200\n"
     ]
    },
    {
     "name": "stderr",
     "output_type": "stream",
     "text": [
      "100%|█████████████████████████████████████████████████████████████████████████████████████████████████████| 176/176 [15:59<00:00,  5.45s/it]\n"
     ]
    },
    {
     "name": "stdout",
     "output_type": "stream",
     "text": [
      "Training loss: 0.00489\n",
      "Train precision: 0.9926\n",
      "Train recall: 0.9986\n",
      "Train F1: 0.9956\n",
      "Training accuracy: 99.83 (%)\n",
      "\n",
      "\n"
     ]
    },
    {
     "name": "stderr",
     "output_type": "stream",
     "text": [
      "100%|███████████████████████████████████████████████████████████████████████████████████████████████████████| 44/44 [03:31<00:00,  4.82s/it]\n"
     ]
    },
    {
     "name": "stdout",
     "output_type": "stream",
     "text": [
      "Validation loss: 0.47958\n",
      "Validation precision: 0.9926\n",
      "Validation recall: 0.7795\n",
      "Validation F1: 0.8732\n",
      "Validation accuracy: 95.83 (%)\n",
      "\n",
      "\n",
      "Epoch 163/200\n"
     ]
    },
    {
     "name": "stderr",
     "output_type": "stream",
     "text": [
      "100%|█████████████████████████████████████████████████████████████████████████████████████████████████████| 176/176 [16:02<00:00,  5.47s/it]\n"
     ]
    },
    {
     "name": "stdout",
     "output_type": "stream",
     "text": [
      "Training loss: 0.00409\n",
      "Train precision: 0.9959\n",
      "Train recall: 0.9982\n",
      "Train F1: 0.9970\n",
      "Training accuracy: 99.88 (%)\n",
      "\n",
      "\n"
     ]
    },
    {
     "name": "stderr",
     "output_type": "stream",
     "text": [
      "100%|███████████████████████████████████████████████████████████████████████████████████████████████████████| 44/44 [03:30<00:00,  4.78s/it]\n"
     ]
    },
    {
     "name": "stdout",
     "output_type": "stream",
     "text": [
      "Validation loss: 0.49518\n",
      "Validation precision: 0.9927\n",
      "Validation recall: 0.7312\n",
      "Validation F1: 0.8421\n",
      "Validation accuracy: 94.55 (%)\n",
      "\n",
      "\n",
      "Epoch 164/200\n"
     ]
    },
    {
     "name": "stderr",
     "output_type": "stream",
     "text": [
      "100%|█████████████████████████████████████████████████████████████████████████████████████████████████████| 176/176 [16:00<00:00,  5.46s/it]\n"
     ]
    },
    {
     "name": "stdout",
     "output_type": "stream",
     "text": [
      "Training loss: 0.00451\n",
      "Train precision: 0.9929\n",
      "Train recall: 0.9981\n",
      "Train F1: 0.9955\n",
      "Training accuracy: 99.83 (%)\n",
      "\n",
      "\n"
     ]
    },
    {
     "name": "stderr",
     "output_type": "stream",
     "text": [
      "100%|███████████████████████████████████████████████████████████████████████████████████████████████████████| 44/44 [03:31<00:00,  4.80s/it]\n"
     ]
    },
    {
     "name": "stdout",
     "output_type": "stream",
     "text": [
      "Validation loss: 0.40420\n",
      "Validation precision: 0.9934\n",
      "Validation recall: 0.7933\n",
      "Validation F1: 0.8822\n",
      "Validation accuracy: 95.69 (%)\n",
      "\n",
      "\n",
      "Epoch 165/200\n"
     ]
    },
    {
     "name": "stderr",
     "output_type": "stream",
     "text": [
      "100%|█████████████████████████████████████████████████████████████████████████████████████████████████████| 176/176 [16:05<00:00,  5.49s/it]\n"
     ]
    },
    {
     "name": "stdout",
     "output_type": "stream",
     "text": [
      "Training loss: 0.00311\n",
      "Train precision: 0.9968\n",
      "Train recall: 0.9986\n",
      "Train F1: 0.9977\n",
      "Training accuracy: 99.91 (%)\n",
      "\n",
      "\n"
     ]
    },
    {
     "name": "stderr",
     "output_type": "stream",
     "text": [
      "100%|███████████████████████████████████████████████████████████████████████████████████████████████████████| 44/44 [03:30<00:00,  4.79s/it]\n"
     ]
    },
    {
     "name": "stdout",
     "output_type": "stream",
     "text": [
      "Validation loss: 0.33626\n",
      "Validation precision: 0.9917\n",
      "Validation recall: 0.8463\n",
      "Validation F1: 0.9133\n",
      "Validation accuracy: 96.76 (%)\n",
      "\n",
      "F1 aumentou de 0.9122 para 0.9133 (165/200)\n",
      "Saving checkpoint...\n",
      "\n",
      "Epoch 166/200\n"
     ]
    },
    {
     "name": "stderr",
     "output_type": "stream",
     "text": [
      "100%|█████████████████████████████████████████████████████████████████████████████████████████████████████| 176/176 [16:03<00:00,  5.47s/it]\n"
     ]
    },
    {
     "name": "stdout",
     "output_type": "stream",
     "text": [
      "Training loss: 0.00885\n",
      "Train precision: 0.9958\n",
      "Train recall: 0.9972\n",
      "Train F1: 0.9965\n",
      "Training accuracy: 99.87 (%)\n",
      "\n",
      "\n"
     ]
    },
    {
     "name": "stderr",
     "output_type": "stream",
     "text": [
      "100%|███████████████████████████████████████████████████████████████████████████████████████████████████████| 44/44 [03:32<00:00,  4.82s/it]\n"
     ]
    },
    {
     "name": "stdout",
     "output_type": "stream",
     "text": [
      "Validation loss: 0.47231\n",
      "Validation precision: 0.8346\n",
      "Validation recall: 0.8393\n",
      "Validation F1: 0.8369\n",
      "Validation accuracy: 93.77 (%)\n",
      "\n",
      "\n",
      "Epoch 167/200\n"
     ]
    },
    {
     "name": "stderr",
     "output_type": "stream",
     "text": [
      "100%|█████████████████████████████████████████████████████████████████████████████████████████████████████| 176/176 [16:02<00:00,  5.47s/it]\n"
     ]
    },
    {
     "name": "stdout",
     "output_type": "stream",
     "text": [
      "Training loss: 0.01616\n",
      "Train precision: 0.9830\n",
      "Train recall: 0.9939\n",
      "Train F1: 0.9884\n",
      "Training accuracy: 99.55 (%)\n",
      "\n",
      "\n"
     ]
    },
    {
     "name": "stderr",
     "output_type": "stream",
     "text": [
      "100%|███████████████████████████████████████████████████████████████████████████████████████████████████████| 44/44 [03:33<00:00,  4.85s/it]\n"
     ]
    },
    {
     "name": "stdout",
     "output_type": "stream",
     "text": [
      "Validation loss: 0.31732\n",
      "Validation precision: 0.9925\n",
      "Validation recall: 0.7763\n",
      "Validation F1: 0.8712\n",
      "Validation accuracy: 95.80 (%)\n",
      "\n",
      "\n",
      "Epoch 168/200\n"
     ]
    },
    {
     "name": "stderr",
     "output_type": "stream",
     "text": [
      "100%|█████████████████████████████████████████████████████████████████████████████████████████████████████| 176/176 [16:00<00:00,  5.46s/it]\n"
     ]
    },
    {
     "name": "stdout",
     "output_type": "stream",
     "text": [
      "Training loss: 0.00490\n",
      "Train precision: 0.9946\n",
      "Train recall: 0.9968\n",
      "Train F1: 0.9957\n",
      "Training accuracy: 99.83 (%)\n",
      "\n",
      "\n"
     ]
    },
    {
     "name": "stderr",
     "output_type": "stream",
     "text": [
      "100%|███████████████████████████████████████████████████████████████████████████████████████████████████████| 44/44 [03:33<00:00,  4.85s/it]\n"
     ]
    },
    {
     "name": "stdout",
     "output_type": "stream",
     "text": [
      "Validation loss: 0.33347\n",
      "Validation precision: 0.9878\n",
      "Validation recall: 0.7849\n",
      "Validation F1: 0.8747\n",
      "Validation accuracy: 95.87 (%)\n",
      "\n",
      "\n",
      "Epoch 169/200\n"
     ]
    },
    {
     "name": "stderr",
     "output_type": "stream",
     "text": [
      "100%|█████████████████████████████████████████████████████████████████████████████████████████████████████| 176/176 [16:01<00:00,  5.46s/it]\n"
     ]
    },
    {
     "name": "stdout",
     "output_type": "stream",
     "text": [
      "Training loss: 0.00730\n",
      "Train precision: 0.9908\n",
      "Train recall: 0.9951\n",
      "Train F1: 0.9930\n",
      "Training accuracy: 99.74 (%)\n",
      "\n",
      "\n"
     ]
    },
    {
     "name": "stderr",
     "output_type": "stream",
     "text": [
      "100%|███████████████████████████████████████████████████████████████████████████████████████████████████████| 44/44 [03:31<00:00,  4.81s/it]\n"
     ]
    },
    {
     "name": "stdout",
     "output_type": "stream",
     "text": [
      "Validation loss: 0.36681\n",
      "Validation precision: 0.9955\n",
      "Validation recall: 0.7932\n",
      "Validation F1: 0.8829\n",
      "Validation accuracy: 95.83 (%)\n",
      "\n",
      "\n",
      "Epoch 170/200\n"
     ]
    },
    {
     "name": "stderr",
     "output_type": "stream",
     "text": [
      "100%|█████████████████████████████████████████████████████████████████████████████████████████████████████| 176/176 [16:00<00:00,  5.46s/it]\n"
     ]
    },
    {
     "name": "stdout",
     "output_type": "stream",
     "text": [
      "Training loss: 0.00364\n",
      "Train precision: 0.9968\n",
      "Train recall: 0.9986\n",
      "Train F1: 0.9977\n",
      "Training accuracy: 99.91 (%)\n",
      "\n",
      "\n"
     ]
    },
    {
     "name": "stderr",
     "output_type": "stream",
     "text": [
      "100%|███████████████████████████████████████████████████████████████████████████████████████████████████████| 44/44 [03:32<00:00,  4.83s/it]\n"
     ]
    },
    {
     "name": "stdout",
     "output_type": "stream",
     "text": [
      "Validation loss: 0.43452\n",
      "Validation precision: 0.9952\n",
      "Validation recall: 0.7665\n",
      "Validation F1: 0.8660\n",
      "Validation accuracy: 95.41 (%)\n",
      "\n",
      "\n",
      "Epoch 171/200\n"
     ]
    },
    {
     "name": "stderr",
     "output_type": "stream",
     "text": [
      "100%|█████████████████████████████████████████████████████████████████████████████████████████████████████| 176/176 [16:01<00:00,  5.47s/it]\n"
     ]
    },
    {
     "name": "stdout",
     "output_type": "stream",
     "text": [
      "Training loss: 0.00539\n",
      "Train precision: 0.9945\n",
      "Train recall: 0.9982\n",
      "Train F1: 0.9963\n",
      "Training accuracy: 99.86 (%)\n",
      "\n",
      "\n"
     ]
    },
    {
     "name": "stderr",
     "output_type": "stream",
     "text": [
      "100%|███████████████████████████████████████████████████████████████████████████████████████████████████████| 44/44 [03:32<00:00,  4.84s/it]\n"
     ]
    },
    {
     "name": "stdout",
     "output_type": "stream",
     "text": [
      "Validation loss: 0.52340\n",
      "Validation precision: 0.9878\n",
      "Validation recall: 0.7486\n",
      "Validation F1: 0.8517\n",
      "Validation accuracy: 94.98 (%)\n",
      "\n",
      "\n",
      "Epoch 172/200\n"
     ]
    },
    {
     "name": "stderr",
     "output_type": "stream",
     "text": [
      "100%|█████████████████████████████████████████████████████████████████████████████████████████████████████| 176/176 [16:02<00:00,  5.47s/it]\n"
     ]
    },
    {
     "name": "stdout",
     "output_type": "stream",
     "text": [
      "Training loss: 0.00676\n",
      "Train precision: 0.9931\n",
      "Train recall: 0.9977\n",
      "Train F1: 0.9954\n",
      "Training accuracy: 99.82 (%)\n",
      "\n",
      "\n"
     ]
    },
    {
     "name": "stderr",
     "output_type": "stream",
     "text": [
      "100%|███████████████████████████████████████████████████████████████████████████████████████████████████████| 44/44 [03:33<00:00,  4.84s/it]\n"
     ]
    },
    {
     "name": "stdout",
     "output_type": "stream",
     "text": [
      "Validation loss: 0.39666\n",
      "Validation precision: 0.9953\n",
      "Validation recall: 0.7790\n",
      "Validation F1: 0.8740\n",
      "Validation accuracy: 95.66 (%)\n",
      "\n",
      "\n",
      "Epoch 173/200\n"
     ]
    },
    {
     "name": "stderr",
     "output_type": "stream",
     "text": [
      "100%|█████████████████████████████████████████████████████████████████████████████████████████████████████| 176/176 [15:56<00:00,  5.44s/it]\n"
     ]
    },
    {
     "name": "stdout",
     "output_type": "stream",
     "text": [
      "Training loss: 0.00844\n",
      "Train precision: 0.9939\n",
      "Train recall: 0.9981\n",
      "Train F1: 0.9960\n",
      "Training accuracy: 99.85 (%)\n",
      "\n",
      "\n"
     ]
    },
    {
     "name": "stderr",
     "output_type": "stream",
     "text": [
      "100%|███████████████████████████████████████████████████████████████████████████████████████████████████████| 44/44 [03:32<00:00,  4.84s/it]\n"
     ]
    },
    {
     "name": "stdout",
     "output_type": "stream",
     "text": [
      "Validation loss: 0.54820\n",
      "Validation precision: 0.7512\n",
      "Validation recall: 0.8415\n",
      "Validation F1: 0.7938\n",
      "Validation accuracy: 91.45 (%)\n",
      "\n",
      "\n",
      "Epoch 174/200\n"
     ]
    },
    {
     "name": "stderr",
     "output_type": "stream",
     "text": [
      "100%|█████████████████████████████████████████████████████████████████████████████████████████████████████| 176/176 [16:03<00:00,  5.47s/it]\n"
     ]
    },
    {
     "name": "stdout",
     "output_type": "stream",
     "text": [
      "Training loss: 0.01719\n",
      "Train precision: 0.9836\n",
      "Train recall: 0.9913\n",
      "Train F1: 0.9874\n",
      "Training accuracy: 99.51 (%)\n",
      "\n",
      "\n"
     ]
    },
    {
     "name": "stderr",
     "output_type": "stream",
     "text": [
      "100%|███████████████████████████████████████████████████████████████████████████████████████████████████████| 44/44 [03:32<00:00,  4.84s/it]\n"
     ]
    },
    {
     "name": "stdout",
     "output_type": "stream",
     "text": [
      "Validation loss: 0.47187\n",
      "Validation precision: 0.9933\n",
      "Validation recall: 0.7907\n",
      "Validation F1: 0.8805\n",
      "Validation accuracy: 95.73 (%)\n",
      "\n",
      "\n",
      "Epoch 175/200\n"
     ]
    },
    {
     "name": "stderr",
     "output_type": "stream",
     "text": [
      "100%|█████████████████████████████████████████████████████████████████████████████████████████████████████| 176/176 [16:00<00:00,  5.46s/it]\n"
     ]
    },
    {
     "name": "stdout",
     "output_type": "stream",
     "text": [
      "Training loss: 0.00839\n",
      "Train precision: 0.9885\n",
      "Train recall: 0.9958\n",
      "Train F1: 0.9922\n",
      "Training accuracy: 99.70 (%)\n",
      "\n",
      "\n"
     ]
    },
    {
     "name": "stderr",
     "output_type": "stream",
     "text": [
      "100%|███████████████████████████████████████████████████████████████████████████████████████████████████████| 44/44 [03:33<00:00,  4.84s/it]\n"
     ]
    },
    {
     "name": "stdout",
     "output_type": "stream",
     "text": [
      "Validation loss: 0.24496\n",
      "Validation precision: 0.9834\n",
      "Validation recall: 0.8716\n",
      "Validation F1: 0.9241\n",
      "Validation accuracy: 97.22 (%)\n",
      "\n",
      "Accuracy aumentou de 0.9679 para 0.9722 (175/200)\n",
      "Saving checkpoint...\n",
      "F1 aumentou de 0.9133 para 0.9241 (175/200)\n",
      "Saving checkpoint...\n",
      "\n",
      "Epoch 176/200\n"
     ]
    },
    {
     "name": "stderr",
     "output_type": "stream",
     "text": [
      "100%|█████████████████████████████████████████████████████████████████████████████████████████████████████| 176/176 [16:01<00:00,  5.46s/it]\n"
     ]
    },
    {
     "name": "stdout",
     "output_type": "stream",
     "text": [
      "Training loss: 0.00770\n",
      "Train precision: 0.9903\n",
      "Train recall: 0.9986\n",
      "Train F1: 0.9944\n",
      "Training accuracy: 99.79 (%)\n",
      "\n",
      "\n"
     ]
    },
    {
     "name": "stderr",
     "output_type": "stream",
     "text": [
      "100%|███████████████████████████████████████████████████████████████████████████████████████████████████████| 44/44 [03:31<00:00,  4.81s/it]\n"
     ]
    },
    {
     "name": "stdout",
     "output_type": "stream",
     "text": [
      "Validation loss: 0.33864\n",
      "Validation precision: 0.9880\n",
      "Validation recall: 0.8035\n",
      "Validation F1: 0.8863\n",
      "Validation accuracy: 96.23 (%)\n",
      "\n",
      "\n",
      "Epoch 177/200\n"
     ]
    },
    {
     "name": "stderr",
     "output_type": "stream",
     "text": [
      "100%|█████████████████████████████████████████████████████████████████████████████████████████████████████| 176/176 [15:58<00:00,  5.44s/it]\n"
     ]
    },
    {
     "name": "stdout",
     "output_type": "stream",
     "text": [
      "Training loss: 0.00642\n",
      "Train precision: 0.9925\n",
      "Train recall: 0.9981\n",
      "Train F1: 0.9953\n",
      "Training accuracy: 99.82 (%)\n",
      "\n",
      "\n"
     ]
    },
    {
     "name": "stderr",
     "output_type": "stream",
     "text": [
      "100%|███████████████████████████████████████████████████████████████████████████████████████████████████████| 44/44 [03:32<00:00,  4.83s/it]\n"
     ]
    },
    {
     "name": "stdout",
     "output_type": "stream",
     "text": [
      "Validation loss: 0.35144\n",
      "Validation precision: 0.9704\n",
      "Validation recall: 0.8010\n",
      "Validation F1: 0.8776\n",
      "Validation accuracy: 95.44 (%)\n",
      "\n",
      "\n",
      "Epoch 178/200\n"
     ]
    },
    {
     "name": "stderr",
     "output_type": "stream",
     "text": [
      "100%|█████████████████████████████████████████████████████████████████████████████████████████████████████| 176/176 [15:59<00:00,  5.45s/it]\n"
     ]
    },
    {
     "name": "stdout",
     "output_type": "stream",
     "text": [
      "Training loss: 0.00544\n",
      "Train precision: 0.9931\n",
      "Train recall: 0.9991\n",
      "Train F1: 0.9961\n",
      "Training accuracy: 99.85 (%)\n",
      "\n",
      "\n"
     ]
    },
    {
     "name": "stderr",
     "output_type": "stream",
     "text": [
      "100%|███████████████████████████████████████████████████████████████████████████████████████████████████████| 44/44 [03:32<00:00,  4.83s/it]\n"
     ]
    },
    {
     "name": "stdout",
     "output_type": "stream",
     "text": [
      "Validation loss: 0.38020\n",
      "Validation precision: 0.9811\n",
      "Validation recall: 0.7643\n",
      "Validation F1: 0.8592\n",
      "Validation accuracy: 95.16 (%)\n",
      "\n",
      "\n",
      "Epoch 179/200\n"
     ]
    },
    {
     "name": "stderr",
     "output_type": "stream",
     "text": [
      "100%|█████████████████████████████████████████████████████████████████████████████████████████████████████| 176/176 [16:01<00:00,  5.46s/it]\n"
     ]
    },
    {
     "name": "stdout",
     "output_type": "stream",
     "text": [
      "Training loss: 0.00484\n",
      "Train precision: 0.9955\n",
      "Train recall: 0.9977\n",
      "Train F1: 0.9966\n",
      "Training accuracy: 99.87 (%)\n",
      "\n",
      "\n"
     ]
    },
    {
     "name": "stderr",
     "output_type": "stream",
     "text": [
      "100%|███████████████████████████████████████████████████████████████████████████████████████████████████████| 44/44 [03:33<00:00,  4.84s/it]\n"
     ]
    },
    {
     "name": "stdout",
     "output_type": "stream",
     "text": [
      "Validation loss: 0.31561\n",
      "Validation precision: 0.9927\n",
      "Validation recall: 0.7938\n",
      "Validation F1: 0.8822\n",
      "Validation accuracy: 96.12 (%)\n",
      "\n",
      "\n",
      "Epoch 180/200\n"
     ]
    },
    {
     "name": "stderr",
     "output_type": "stream",
     "text": [
      "100%|█████████████████████████████████████████████████████████████████████████████████████████████████████| 176/176 [16:02<00:00,  5.47s/it]\n"
     ]
    },
    {
     "name": "stdout",
     "output_type": "stream",
     "text": [
      "Training loss: 0.00572\n",
      "Train precision: 0.9936\n",
      "Train recall: 0.9986\n",
      "Train F1: 0.9961\n",
      "Training accuracy: 99.85 (%)\n",
      "\n",
      "\n"
     ]
    },
    {
     "name": "stderr",
     "output_type": "stream",
     "text": [
      "100%|███████████████████████████████████████████████████████████████████████████████████████████████████████| 44/44 [03:32<00:00,  4.84s/it]\n"
     ]
    },
    {
     "name": "stdout",
     "output_type": "stream",
     "text": [
      "Validation loss: 0.32758\n",
      "Validation precision: 0.9894\n",
      "Validation recall: 0.8125\n",
      "Validation F1: 0.8923\n",
      "Validation accuracy: 95.98 (%)\n",
      "\n",
      "\n",
      "Epoch 181/200\n"
     ]
    },
    {
     "name": "stderr",
     "output_type": "stream",
     "text": [
      "100%|█████████████████████████████████████████████████████████████████████████████████████████████████████| 176/176 [16:03<00:00,  5.47s/it]\n"
     ]
    },
    {
     "name": "stdout",
     "output_type": "stream",
     "text": [
      "Training loss: 0.00480\n",
      "Train precision: 0.9949\n",
      "Train recall: 0.9977\n",
      "Train F1: 0.9963\n",
      "Training accuracy: 99.86 (%)\n",
      "\n",
      "\n"
     ]
    },
    {
     "name": "stderr",
     "output_type": "stream",
     "text": [
      "100%|███████████████████████████████████████████████████████████████████████████████████████████████████████| 44/44 [03:32<00:00,  4.83s/it]\n"
     ]
    },
    {
     "name": "stdout",
     "output_type": "stream",
     "text": [
      "Validation loss: 0.35444\n",
      "Validation precision: 0.9935\n",
      "Validation recall: 0.8234\n",
      "Validation F1: 0.9005\n",
      "Validation accuracy: 96.40 (%)\n",
      "\n",
      "\n",
      "Epoch 182/200\n"
     ]
    },
    {
     "name": "stderr",
     "output_type": "stream",
     "text": [
      "100%|█████████████████████████████████████████████████████████████████████████████████████████████████████| 176/176 [16:04<00:00,  5.48s/it]\n"
     ]
    },
    {
     "name": "stdout",
     "output_type": "stream",
     "text": [
      "Training loss: 0.00466\n",
      "Train precision: 0.9944\n",
      "Train recall: 0.9991\n",
      "Train F1: 0.9968\n",
      "Training accuracy: 99.88 (%)\n",
      "\n",
      "\n"
     ]
    },
    {
     "name": "stderr",
     "output_type": "stream",
     "text": [
      "100%|███████████████████████████████████████████████████████████████████████████████████████████████████████| 44/44 [03:32<00:00,  4.82s/it]\n"
     ]
    },
    {
     "name": "stdout",
     "output_type": "stream",
     "text": [
      "Validation loss: 0.36760\n",
      "Validation precision: 0.9932\n",
      "Validation recall: 0.7956\n",
      "Validation F1: 0.8835\n",
      "Validation accuracy: 95.90 (%)\n",
      "\n",
      "\n",
      "Epoch 183/200\n"
     ]
    },
    {
     "name": "stderr",
     "output_type": "stream",
     "text": [
      "100%|█████████████████████████████████████████████████████████████████████████████████████████████████████| 176/176 [16:01<00:00,  5.47s/it]\n"
     ]
    },
    {
     "name": "stdout",
     "output_type": "stream",
     "text": [
      "Training loss: 0.00542\n",
      "Train precision: 0.9946\n",
      "Train recall: 0.9982\n",
      "Train F1: 0.9964\n",
      "Training accuracy: 99.86 (%)\n",
      "\n",
      "\n"
     ]
    },
    {
     "name": "stderr",
     "output_type": "stream",
     "text": [
      "100%|███████████████████████████████████████████████████████████████████████████████████████████████████████| 44/44 [03:33<00:00,  4.85s/it]\n"
     ]
    },
    {
     "name": "stdout",
     "output_type": "stream",
     "text": [
      "Validation loss: 0.35768\n",
      "Validation precision: 0.9739\n",
      "Validation recall: 0.8059\n",
      "Validation F1: 0.8820\n",
      "Validation accuracy: 96.08 (%)\n",
      "\n",
      "\n",
      "Epoch 184/200\n"
     ]
    },
    {
     "name": "stderr",
     "output_type": "stream",
     "text": [
      "100%|█████████████████████████████████████████████████████████████████████████████████████████████████████| 176/176 [15:55<00:00,  5.43s/it]\n"
     ]
    },
    {
     "name": "stdout",
     "output_type": "stream",
     "text": [
      "Training loss: 0.01003\n",
      "Train precision: 0.9881\n",
      "Train recall: 0.9963\n",
      "Train F1: 0.9922\n",
      "Training accuracy: 99.70 (%)\n",
      "\n",
      "\n"
     ]
    },
    {
     "name": "stderr",
     "output_type": "stream",
     "text": [
      "100%|███████████████████████████████████████████████████████████████████████████████████████████████████████| 44/44 [03:29<00:00,  4.77s/it]\n"
     ]
    },
    {
     "name": "stdout",
     "output_type": "stream",
     "text": [
      "Validation loss: 0.37524\n",
      "Validation precision: 0.9932\n",
      "Validation recall: 0.8059\n",
      "Validation F1: 0.8898\n",
      "Validation accuracy: 96.15 (%)\n",
      "\n",
      "\n",
      "Epoch 185/200\n"
     ]
    },
    {
     "name": "stderr",
     "output_type": "stream",
     "text": [
      "100%|█████████████████████████████████████████████████████████████████████████████████████████████████████| 176/176 [15:54<00:00,  5.42s/it]\n"
     ]
    },
    {
     "name": "stdout",
     "output_type": "stream",
     "text": [
      "Training loss: 0.00513\n",
      "Train precision: 0.9938\n",
      "Train recall: 0.9990\n",
      "Train F1: 0.9964\n",
      "Training accuracy: 99.87 (%)\n",
      "\n",
      "\n"
     ]
    },
    {
     "name": "stderr",
     "output_type": "stream",
     "text": [
      "100%|███████████████████████████████████████████████████████████████████████████████████████████████████████| 44/44 [03:30<00:00,  4.80s/it]\n"
     ]
    },
    {
     "name": "stdout",
     "output_type": "stream",
     "text": [
      "Validation loss: 0.34351\n",
      "Validation precision: 0.9912\n",
      "Validation recall: 0.8115\n",
      "Validation F1: 0.8924\n",
      "Validation accuracy: 96.12 (%)\n",
      "\n",
      "\n",
      "Epoch 186/200\n"
     ]
    },
    {
     "name": "stderr",
     "output_type": "stream",
     "text": [
      "100%|█████████████████████████████████████████████████████████████████████████████████████████████████████| 176/176 [15:49<00:00,  5.40s/it]\n"
     ]
    },
    {
     "name": "stdout",
     "output_type": "stream",
     "text": [
      "Training loss: 0.00468\n",
      "Train precision: 0.9962\n",
      "Train recall: 0.9986\n",
      "Train F1: 0.9974\n",
      "Training accuracy: 99.90 (%)\n",
      "\n",
      "\n"
     ]
    },
    {
     "name": "stderr",
     "output_type": "stream",
     "text": [
      "100%|███████████████████████████████████████████████████████████████████████████████████████████████████████| 44/44 [03:29<00:00,  4.76s/it]\n"
     ]
    },
    {
     "name": "stdout",
     "output_type": "stream",
     "text": [
      "Validation loss: 0.35495\n",
      "Validation precision: 0.9865\n",
      "Validation recall: 0.8066\n",
      "Validation F1: 0.8875\n",
      "Validation accuracy: 96.05 (%)\n",
      "\n",
      "\n",
      "Epoch 187/200\n"
     ]
    },
    {
     "name": "stderr",
     "output_type": "stream",
     "text": [
      "100%|█████████████████████████████████████████████████████████████████████████████████████████████████████| 176/176 [15:53<00:00,  5.42s/it]\n"
     ]
    },
    {
     "name": "stdout",
     "output_type": "stream",
     "text": [
      "Training loss: 0.00562\n",
      "Train precision: 0.9939\n",
      "Train recall: 0.9986\n",
      "Train F1: 0.9962\n",
      "Training accuracy: 99.86 (%)\n",
      "\n",
      "\n"
     ]
    },
    {
     "name": "stderr",
     "output_type": "stream",
     "text": [
      "100%|███████████████████████████████████████████████████████████████████████████████████████████████████████| 44/44 [03:29<00:00,  4.76s/it]\n"
     ]
    },
    {
     "name": "stdout",
     "output_type": "stream",
     "text": [
      "Validation loss: 0.24047\n",
      "Validation precision: 0.9201\n",
      "Validation recall: 0.8436\n",
      "Validation F1: 0.8802\n",
      "Validation accuracy: 95.87 (%)\n",
      "\n",
      "\n",
      "Epoch 188/200\n"
     ]
    },
    {
     "name": "stderr",
     "output_type": "stream",
     "text": [
      "100%|█████████████████████████████████████████████████████████████████████████████████████████████████████| 176/176 [15:49<00:00,  5.40s/it]\n"
     ]
    },
    {
     "name": "stdout",
     "output_type": "stream",
     "text": [
      "Training loss: 0.00804\n",
      "Train precision: 0.9926\n",
      "Train recall: 0.9981\n",
      "Train F1: 0.9954\n",
      "Training accuracy: 99.82 (%)\n",
      "\n",
      "\n"
     ]
    },
    {
     "name": "stderr",
     "output_type": "stream",
     "text": [
      "100%|███████████████████████████████████████████████████████████████████████████████████████████████████████| 44/44 [03:30<00:00,  4.78s/it]\n"
     ]
    },
    {
     "name": "stdout",
     "output_type": "stream",
     "text": [
      "Validation loss: 0.28953\n",
      "Validation precision: 0.9887\n",
      "Validation recall: 0.8096\n",
      "Validation F1: 0.8902\n",
      "Validation accuracy: 96.15 (%)\n",
      "\n",
      "\n",
      "Epoch 189/200\n"
     ]
    },
    {
     "name": "stderr",
     "output_type": "stream",
     "text": [
      "100%|█████████████████████████████████████████████████████████████████████████████████████████████████████| 176/176 [15:53<00:00,  5.42s/it]\n"
     ]
    },
    {
     "name": "stdout",
     "output_type": "stream",
     "text": [
      "Training loss: 0.00330\n",
      "Train precision: 0.9968\n",
      "Train recall: 0.9986\n",
      "Train F1: 0.9977\n",
      "Training accuracy: 99.91 (%)\n",
      "\n",
      "\n"
     ]
    },
    {
     "name": "stderr",
     "output_type": "stream",
     "text": [
      "100%|███████████████████████████████████████████████████████████████████████████████████████████████████████| 44/44 [03:32<00:00,  4.83s/it]\n"
     ]
    },
    {
     "name": "stdout",
     "output_type": "stream",
     "text": [
      "Validation loss: 0.35486\n",
      "Validation precision: 0.9932\n",
      "Validation recall: 0.8022\n",
      "Validation F1: 0.8875\n",
      "Validation accuracy: 96.05 (%)\n",
      "\n",
      "\n",
      "Epoch 190/200\n"
     ]
    },
    {
     "name": "stderr",
     "output_type": "stream",
     "text": [
      "100%|█████████████████████████████████████████████████████████████████████████████████████████████████████| 176/176 [16:04<00:00,  5.48s/it]\n"
     ]
    },
    {
     "name": "stdout",
     "output_type": "stream",
     "text": [
      "Training loss: 0.00609\n",
      "Train precision: 0.9936\n",
      "Train recall: 0.9986\n",
      "Train F1: 0.9961\n",
      "Training accuracy: 99.85 (%)\n",
      "\n",
      "\n"
     ]
    },
    {
     "name": "stderr",
     "output_type": "stream",
     "text": [
      "100%|███████████████████████████████████████████████████████████████████████████████████████████████████████| 44/44 [03:30<00:00,  4.78s/it]\n"
     ]
    },
    {
     "name": "stdout",
     "output_type": "stream",
     "text": [
      "Validation loss: 0.38683\n",
      "Validation precision: 0.9902\n",
      "Validation recall: 0.7704\n",
      "Validation F1: 0.8666\n",
      "Validation accuracy: 95.55 (%)\n",
      "\n",
      "\n",
      "Epoch 191/200\n"
     ]
    },
    {
     "name": "stderr",
     "output_type": "stream",
     "text": [
      "100%|█████████████████████████████████████████████████████████████████████████████████████████████████████| 176/176 [16:05<00:00,  5.48s/it]\n"
     ]
    },
    {
     "name": "stdout",
     "output_type": "stream",
     "text": [
      "Training loss: 0.00607\n",
      "Train precision: 0.9924\n",
      "Train recall: 0.9981\n",
      "Train F1: 0.9953\n",
      "Training accuracy: 99.82 (%)\n",
      "\n",
      "\n"
     ]
    },
    {
     "name": "stderr",
     "output_type": "stream",
     "text": [
      "100%|███████████████████████████████████████████████████████████████████████████████████████████████████████| 44/44 [03:32<00:00,  4.82s/it]\n"
     ]
    },
    {
     "name": "stdout",
     "output_type": "stream",
     "text": [
      "Validation loss: 0.30444\n",
      "Validation precision: 0.9862\n",
      "Validation recall: 0.7934\n",
      "Validation F1: 0.8793\n",
      "Validation accuracy: 95.80 (%)\n",
      "\n",
      "\n",
      "Epoch 192/200\n"
     ]
    },
    {
     "name": "stderr",
     "output_type": "stream",
     "text": [
      "100%|█████████████████████████████████████████████████████████████████████████████████████████████████████| 176/176 [16:00<00:00,  5.46s/it]\n"
     ]
    },
    {
     "name": "stdout",
     "output_type": "stream",
     "text": [
      "Training loss: 0.00380\n",
      "Train precision: 0.9963\n",
      "Train recall: 0.9986\n",
      "Train F1: 0.9975\n",
      "Training accuracy: 99.90 (%)\n",
      "\n",
      "\n"
     ]
    },
    {
     "name": "stderr",
     "output_type": "stream",
     "text": [
      "100%|███████████████████████████████████████████████████████████████████████████████████████████████████████| 44/44 [03:31<00:00,  4.81s/it]\n"
     ]
    },
    {
     "name": "stdout",
     "output_type": "stream",
     "text": [
      "Validation loss: 0.25493\n",
      "Validation precision: 0.9954\n",
      "Validation recall: 0.8090\n",
      "Validation F1: 0.8926\n",
      "Validation accuracy: 96.30 (%)\n",
      "\n",
      "\n",
      "Epoch 193/200\n"
     ]
    },
    {
     "name": "stderr",
     "output_type": "stream",
     "text": [
      "100%|█████████████████████████████████████████████████████████████████████████████████████████████████████| 176/176 [16:00<00:00,  5.46s/it]\n"
     ]
    },
    {
     "name": "stdout",
     "output_type": "stream",
     "text": [
      "Training loss: 0.00860\n",
      "Train precision: 0.9935\n",
      "Train recall: 0.9958\n",
      "Train F1: 0.9947\n",
      "Training accuracy: 99.79 (%)\n",
      "\n",
      "\n"
     ]
    },
    {
     "name": "stderr",
     "output_type": "stream",
     "text": [
      "100%|███████████████████████████████████████████████████████████████████████████████████████████████████████| 44/44 [03:32<00:00,  4.83s/it]\n"
     ]
    },
    {
     "name": "stdout",
     "output_type": "stream",
     "text": [
      "Validation loss: 0.57496\n",
      "Validation precision: 0.9878\n",
      "Validation recall: 0.7350\n",
      "Validation F1: 0.8429\n",
      "Validation accuracy: 94.62 (%)\n",
      "\n",
      "\n",
      "Epoch 194/200\n"
     ]
    },
    {
     "name": "stderr",
     "output_type": "stream",
     "text": [
      "100%|█████████████████████████████████████████████████████████████████████████████████████████████████████| 176/176 [16:01<00:00,  5.46s/it]\n"
     ]
    },
    {
     "name": "stdout",
     "output_type": "stream",
     "text": [
      "Training loss: 0.00710\n",
      "Train precision: 0.9912\n",
      "Train recall: 0.9967\n",
      "Train F1: 0.9940\n",
      "Training accuracy: 99.77 (%)\n",
      "\n",
      "\n"
     ]
    },
    {
     "name": "stderr",
     "output_type": "stream",
     "text": [
      "100%|███████████████████████████████████████████████████████████████████████████████████████████████████████| 44/44 [03:30<00:00,  4.79s/it]\n"
     ]
    },
    {
     "name": "stdout",
     "output_type": "stream",
     "text": [
      "Validation loss: 0.36084\n",
      "Validation precision: 0.9976\n",
      "Validation recall: 0.7753\n",
      "Validation F1: 0.8725\n",
      "Validation accuracy: 95.69 (%)\n",
      "\n",
      "\n",
      "Epoch 195/200\n"
     ]
    },
    {
     "name": "stderr",
     "output_type": "stream",
     "text": [
      "100%|█████████████████████████████████████████████████████████████████████████████████████████████████████| 176/176 [16:01<00:00,  5.46s/it]\n"
     ]
    },
    {
     "name": "stdout",
     "output_type": "stream",
     "text": [
      "Training loss: 0.01142\n",
      "Train precision: 0.9911\n",
      "Train recall: 0.9963\n",
      "Train F1: 0.9937\n",
      "Training accuracy: 99.76 (%)\n",
      "\n",
      "\n"
     ]
    },
    {
     "name": "stderr",
     "output_type": "stream",
     "text": [
      "100%|███████████████████████████████████████████████████████████████████████████████████████████████████████| 44/44 [03:32<00:00,  4.82s/it]\n"
     ]
    },
    {
     "name": "stdout",
     "output_type": "stream",
     "text": [
      "Validation loss: 0.51216\n",
      "Validation precision: 0.9733\n",
      "Validation recall: 0.8360\n",
      "Validation F1: 0.8994\n",
      "Validation accuracy: 96.23 (%)\n",
      "\n",
      "\n",
      "Epoch 196/200\n"
     ]
    },
    {
     "name": "stderr",
     "output_type": "stream",
     "text": [
      "100%|█████████████████████████████████████████████████████████████████████████████████████████████████████| 176/176 [16:06<00:00,  5.49s/it]\n"
     ]
    },
    {
     "name": "stdout",
     "output_type": "stream",
     "text": [
      "Training loss: 0.00665\n",
      "Train precision: 0.9889\n",
      "Train recall: 0.9986\n",
      "Train F1: 0.9937\n",
      "Training accuracy: 99.76 (%)\n",
      "\n",
      "\n"
     ]
    },
    {
     "name": "stderr",
     "output_type": "stream",
     "text": [
      "100%|███████████████████████████████████████████████████████████████████████████████████████████████████████| 44/44 [03:32<00:00,  4.82s/it]\n"
     ]
    },
    {
     "name": "stdout",
     "output_type": "stream",
     "text": [
      "Validation loss: 0.38954\n",
      "Validation precision: 0.9931\n",
      "Validation recall: 0.7804\n",
      "Validation F1: 0.8740\n",
      "Validation accuracy: 95.58 (%)\n",
      "\n",
      "\n",
      "Epoch 197/200\n"
     ]
    },
    {
     "name": "stderr",
     "output_type": "stream",
     "text": [
      "100%|█████████████████████████████████████████████████████████████████████████████████████████████████████| 176/176 [16:03<00:00,  5.48s/it]\n"
     ]
    },
    {
     "name": "stdout",
     "output_type": "stream",
     "text": [
      "Training loss: 0.00537\n",
      "Train precision: 0.9936\n",
      "Train recall: 0.9968\n",
      "Train F1: 0.9952\n",
      "Training accuracy: 99.81 (%)\n",
      "\n",
      "\n"
     ]
    },
    {
     "name": "stderr",
     "output_type": "stream",
     "text": [
      "100%|███████████████████████████████████████████████████████████████████████████████████████████████████████| 44/44 [03:30<00:00,  4.79s/it]\n"
     ]
    },
    {
     "name": "stdout",
     "output_type": "stream",
     "text": [
      "Validation loss: 0.39557\n",
      "Validation precision: 0.9930\n",
      "Validation recall: 0.7723\n",
      "Validation F1: 0.8689\n",
      "Validation accuracy: 95.44 (%)\n",
      "\n",
      "\n",
      "Epoch 198/200\n"
     ]
    },
    {
     "name": "stderr",
     "output_type": "stream",
     "text": [
      "100%|█████████████████████████████████████████████████████████████████████████████████████████████████████| 176/176 [16:01<00:00,  5.47s/it]\n"
     ]
    },
    {
     "name": "stdout",
     "output_type": "stream",
     "text": [
      "Training loss: 0.00840\n",
      "Train precision: 0.9935\n",
      "Train recall: 0.9967\n",
      "Train F1: 0.9951\n",
      "Training accuracy: 99.81 (%)\n",
      "\n",
      "\n"
     ]
    },
    {
     "name": "stderr",
     "output_type": "stream",
     "text": [
      "100%|███████████████████████████████████████████████████████████████████████████████████████████████████████| 44/44 [03:32<00:00,  4.83s/it]\n"
     ]
    },
    {
     "name": "stdout",
     "output_type": "stream",
     "text": [
      "Validation loss: 0.25244\n",
      "Validation precision: 0.9250\n",
      "Validation recall: 0.8513\n",
      "Validation F1: 0.8866\n",
      "Validation accuracy: 95.62 (%)\n",
      "\n",
      "\n",
      "Epoch 199/200\n"
     ]
    },
    {
     "name": "stderr",
     "output_type": "stream",
     "text": [
      "100%|█████████████████████████████████████████████████████████████████████████████████████████████████████| 176/176 [16:05<00:00,  5.49s/it]\n"
     ]
    },
    {
     "name": "stdout",
     "output_type": "stream",
     "text": [
      "Training loss: 0.00515\n",
      "Train precision: 0.9940\n",
      "Train recall: 0.9981\n",
      "Train F1: 0.9960\n",
      "Training accuracy: 99.85 (%)\n",
      "\n",
      "\n"
     ]
    },
    {
     "name": "stderr",
     "output_type": "stream",
     "text": [
      "100%|███████████████████████████████████████████████████████████████████████████████████████████████████████| 44/44 [03:31<00:00,  4.81s/it]\n"
     ]
    },
    {
     "name": "stdout",
     "output_type": "stream",
     "text": [
      "Validation loss: 0.34744\n",
      "Validation precision: 0.9932\n",
      "Validation recall: 0.8141\n",
      "Validation F1: 0.8948\n",
      "Validation accuracy: 96.33 (%)\n",
      "\n",
      "\n",
      "Epoch 200/200\n"
     ]
    },
    {
     "name": "stderr",
     "output_type": "stream",
     "text": [
      "100%|█████████████████████████████████████████████████████████████████████████████████████████████████████| 176/176 [16:04<00:00,  5.48s/it]\n"
     ]
    },
    {
     "name": "stdout",
     "output_type": "stream",
     "text": [
      "Training loss: 0.00870\n",
      "Train precision: 0.9922\n",
      "Train recall: 0.9977\n",
      "Train F1: 0.9949\n",
      "Training accuracy: 99.80 (%)\n",
      "\n",
      "\n"
     ]
    },
    {
     "name": "stderr",
     "output_type": "stream",
     "text": [
      "100%|███████████████████████████████████████████████████████████████████████████████████████████████████████| 44/44 [03:31<00:00,  4.82s/it]"
     ]
    },
    {
     "name": "stdout",
     "output_type": "stream",
     "text": [
      "Validation loss: 0.35956\n",
      "Validation precision: 0.8861\n",
      "Validation recall: 0.8586\n",
      "Validation F1: 0.8722\n",
      "Validation accuracy: 94.80 (%)\n",
      "\n",
      "\n"
     ]
    },
    {
     "name": "stderr",
     "output_type": "stream",
     "text": [
      "\n"
     ]
    }
   ],
   "source": [
    "# definir função de perda e otimizador\n",
    "# criterion = ContrastiveLoss()\n",
    "criterion = nn.CrossEntropyLoss()\n",
    "#optimizer = optim.Adam(siamese_net.parameters())\n",
    "optimizer = torch.optim.SGD(siamese_net.parameters(), lr=0.01)\n",
    "\n",
    "save_model = True\n",
    "name = \"ResNet-18\"\n",
    "\n",
    "# definir dispositivo de treinamento (CPU ou GPU)\n",
    "device = torch.device(\"cuda\" if torch.cuda.is_available() else \"cpu\")\n",
    "siamese_net.to(device)\n",
    "\n",
    "# Salvar os pesos e imprimir na tela o aumento das métricas\n",
    "max_train_accuracy, max_train_f1, min_train_loss = 0, 0, 0\n",
    "\n",
    "## Validation\n",
    "max_val_accuracy, max_val_f1, min_val_loss = 0, 0, 0\n",
    "\n",
    "epochs = 200\n",
    "margin = 1  # ou qualquer outro valor desejado\n",
    "\n",
    "# loop de treinamento\n",
    "for epoch in range(1, epochs + 1):\n",
    "    print(f'Epoch {epoch}/{epochs}')\n",
    "    siamese_net.train()\n",
    "    \n",
    "    running_loss = 0.0\n",
    "    confusion = {'tp': 0, 'tn': 0, 'fp': 0, 'fn': 0}\n",
    "    total = 0\n",
    "    \n",
    "    for img1, img2, label, x, y in tqdm(train_dataloader):\n",
    "        img1, img2, label = img1.to(device), img2.to(device), label.to(device)\n",
    "\n",
    "        optimizer.zero_grad()\n",
    "        \n",
    "        # output1, output2 = siamese_net(img1, img2)\n",
    "        # loss = criterion(output1, output2, label)\n",
    "        outputs = siamese_net(img1, img2)\n",
    "        loss = criterion(outputs, label)\n",
    "        \n",
    "        # euclidean_distance = nn.functional.pairwise_distance(output1, output2)\n",
    "        # predictions = (euclidean_distance >= margin)\n",
    "        _, predictions = torch.max(outputs.data, 1)\n",
    "\n",
    "        confusion['tp'] += ((predictions == 1) & (label == 1)).sum().item()\n",
    "        confusion['tn'] += ((predictions == 0) & (label == 0)).sum().item()\n",
    "        confusion['fp'] += ((predictions == 1) & (label == 0)).sum().item()\n",
    "        confusion['fn'] += ((predictions == 0) & (label == 1)).sum().item()\n",
    "        \n",
    "        total += label.size(0)\n",
    "        \n",
    "        loss.backward()\n",
    "        optimizer.step()\n",
    "\n",
    "        running_loss += loss.item()\n",
    "        \n",
    "        accuracy = compute_accuracy(confusion)\n",
    "        precision = compute_precision(confusion)\n",
    "        recall = compute_recall(confusion)\n",
    "        f1 = compute_f1(confusion)\n",
    "            \n",
    "    print(f'Training loss: {running_loss / len(train_dataloader):.5f}')\n",
    "    print(f'Train precision: {precision:.4f}')\n",
    "    print(f'Train recall: {recall:.4f}')\n",
    "    print(f'Train F1: {f1:.4f}')\n",
    "    print(f'Training accuracy: {100*accuracy:.2f} (%)')\n",
    "    print()\n",
    "\n",
    "    if max_train_accuracy < accuracy:\n",
    "        print(f'Accuracy aumentou de {max_train_accuracy:.4f}' + \\\n",
    "              f' para {accuracy:.4f} ({epoch}/{epochs})')\n",
    "\n",
    "        max_train_accuracy = accuracy\n",
    "        if save_model:\n",
    "            checkpoint = {\n",
    "                'state_dict': siamese_net.state_dict(),\n",
    "                'optimizer': optimizer.state_dict()\n",
    "            }\n",
    "            save_checkpoint(checkpoint, filename=f'checkpoint-{name}-max-acc.pth.tar')\n",
    "    \n",
    "    if min_train_loss > loss:\n",
    "        print(f'Loss de {min_train_loss:.2f}' + \\\n",
    "              f' para {loss:.2f} ({epoch}/{epochs})')\n",
    "\n",
    "    if max_train_f1 < f1:\n",
    "        print(f'F1 aumentou de {max_train_f1:.4f}' + \\\n",
    "              f' para {f1:.4f} ({epoch}/{epochs})')\n",
    "\n",
    "        max_train_f1 = f1\n",
    "        if save_model:\n",
    "            checkpoint = {\n",
    "                'state_dict': siamese_net.state_dict(),\n",
    "                'optimizer': optimizer.state_dict()\n",
    "            }\n",
    "            save_checkpoint(checkpoint, filename=f'checkpoint-{name}-max-f1.pth.tar')\n",
    "\n",
    "    print()\n",
    "\n",
    "    with torch.no_grad():\n",
    "    \n",
    "        running_loss = 0.0 \n",
    "        confusion = {'tp': 0, 'tn': 0, 'fp': 0, 'fn': 0}\n",
    "        total = 0\n",
    "    \n",
    "        for img1, img2, label, x, y in tqdm(val_dataloader):\n",
    "            img1, img2, label = img1.to(device), img2.to(device), label.to(device)\n",
    "    \n",
    "            siamese_net.eval()\n",
    "    \n",
    "            # output1, output2 = siamese_net(img1, img2)\n",
    "            # loss = criterion(output1, output2, label)\n",
    "            outputs = siamese_net(img1, img2)\n",
    "            loss = criterion(outputs, label)\n",
    "            \n",
    "            # euclidean_distance = nn.functional.pairwise_distance(output1, output2)\n",
    "            # predictions = (euclidean_distance >= margin)\n",
    "            _, predictions = torch.max(outputs.data, 1)\n",
    "\n",
    "            confusion['tp'] += ((predictions == 1) & (label == 1)).sum().item()\n",
    "            confusion['tn'] += ((predictions == 0) & (label == 0)).sum().item()\n",
    "            confusion['fp'] += ((predictions == 1) & (label == 0)).sum().item()\n",
    "            confusion['fn'] += ((predictions == 0) & (label == 1)).sum().item()\n",
    "    \n",
    "            total += label.size(0)\n",
    "    \n",
    "            # sum up the loss\n",
    "            running_loss += loss.item()\n",
    "    \n",
    "            accuracy = compute_accuracy(confusion)\n",
    "            precision = compute_precision(confusion)\n",
    "            recall = compute_recall(confusion)\n",
    "            f1 = compute_f1(confusion)\n",
    "\n",
    "            val_loss = running_loss / len(val_dataloader)\n",
    "    \n",
    "        print(f'Validation loss: {running_loss / len(val_dataloader):.5f}')\n",
    "        print(f'Validation precision: {precision:.4f}')\n",
    "        print(f'Validation recall: {recall:.4f}')\n",
    "        print(f'Validation F1: {f1:.4f}')\n",
    "        print(f'Validation accuracy: {100*accuracy:.2f} (%)')\n",
    "        print()\n",
    "    \n",
    "        if max_val_accuracy < accuracy:\n",
    "            print(f'Accuracy aumentou de {max_val_accuracy:.4f}' + \\\n",
    "                  f' para {accuracy:.4f} ({epoch}/{epochs})')\n",
    "    \n",
    "            max_val_accuracy = accuracy\n",
    "            if save_model:\n",
    "                checkpoint = {\n",
    "                    'state_dict': siamese_net.state_dict(),\n",
    "                    'optimizer': optimizer.state_dict()\n",
    "                }\n",
    "                save_checkpoint(checkpoint, filename=f'checkpoint-{name}-max-acc.pth.tar')\n",
    "    \n",
    "        if max_val_f1 < f1:\n",
    "            print(f'F1 aumentou de {max_val_f1:.4f}' + \\\n",
    "                  f' para {f1:.4f} ({epoch}/{epochs})')\n",
    "    \n",
    "            max_val_f1 = f1\n",
    "            if save_model:\n",
    "                checkpoint = {\n",
    "                    'state_dict': siamese_net.state_dict(),\n",
    "                    'optimizer': optimizer.state_dict()\n",
    "                }\n",
    "                save_checkpoint(checkpoint, filename=f'checkpoint-{name}-max-f1.pth.tar')\n",
    "    \n",
    "        if min_val_loss > loss:\n",
    "            print(f'Loss de {min_val_loss:.2f}' + \\\n",
    "                  f' para {loss:.2f} ({epoch}/{epochs})')\n",
    "    \n",
    "        print()"
   ]
  },
  {
   "cell_type": "code",
   "execution_count": 15,
   "id": "a3d0a83b-c77b-45a4-b2ac-3816fbc90df5",
   "metadata": {
    "jupyter": {
     "source_hidden": true
    }
   },
   "outputs": [],
   "source": [
    "# Epoch 1/200\n",
    "\n",
    "# 100%|█████████████████████████████████████████████████████████████████████████████████████████████████████| 176/176 [14:39<00:00,  5.00s/it]\n",
    "\n",
    "# Training loss: 0.38793\n",
    "# Train precision: 0.5968\n",
    "# Train recall: 0.1579\n",
    "# Train F1: 0.2497\n",
    "# Training accuracy: 81.83 (%)\n",
    "\n",
    "# Accuracy aumentou de 0.0000 para 0.8183 (1/200)\n",
    "# Saving checkpoint...\n",
    "# F1 aumentou de 0.0000 para 0.2497 (1/200)\n",
    "# Saving checkpoint...\n",
    "\n",
    "# 100%|███████████████████████████████████████████████████████████████████████████████████████████████████████| 44/44 [03:30<00:00,  4.79s/it]\n",
    "\n",
    "# Validation loss: 0.34160\n",
    "# Validation precision: 0.6821\n",
    "# Validation recall: 0.2543\n",
    "# Validation F1: 0.3705\n",
    "# Validation accuracy: 83.90 (%)\n",
    "\n",
    "# Accuracy aumentou de 0.0000 para 0.8390 (1/200)\n",
    "# Saving checkpoint...\n",
    "# F1 aumentou de 0.0000 para 0.3705 (1/200)\n",
    "# Saving checkpoint...\n",
    "\n",
    "# Epoch 2/200\n",
    "\n",
    "# 100%|█████████████████████████████████████████████████████████████████████████████████████████████████████| 176/176 [15:56<00:00,  5.43s/it]\n",
    "\n",
    "# Training loss: 0.30949\n",
    "# Train precision: 0.6983\n",
    "# Train recall: 0.5171\n",
    "# Train F1: 0.5942\n",
    "# Training accuracy: 86.21 (%)\n",
    "\n",
    "# Accuracy aumentou de 0.8183 para 0.8621 (2/200)\n",
    "# Saving checkpoint...\n",
    "# F1 aumentou de 0.2497 para 0.5942 (2/200)\n",
    "# Saving checkpoint...\n",
    "\n",
    "# 100%|███████████████████████████████████████████████████████████████████████████████████████████████████████| 44/44 [03:31<00:00,  4.81s/it]\n",
    "\n",
    "# Validation loss: 0.30742\n",
    "# Validation precision: 0.7024\n",
    "# Validation recall: 0.6733\n",
    "# Validation F1: 0.6876\n",
    "# Validation accuracy: 87.93 (%)\n",
    "\n",
    "# Accuracy aumentou de 0.8390 para 0.8793 (2/200)\n",
    "# Saving checkpoint...\n",
    "# F1 aumentou de 0.3705 para 0.6876 (2/200)\n",
    "# Saving checkpoint...\n",
    "\n",
    "# Epoch 3/200\n",
    "\n",
    "# 100%|█████████████████████████████████████████████████████████████████████████████████████████████████████| 176/176 [15:57<00:00,  5.44s/it]\n",
    "\n",
    "# Training loss: 0.23619\n",
    "# Train precision: 0.7690\n",
    "# Train recall: 0.7049\n",
    "# Train F1: 0.7356\n",
    "# Training accuracy: 90.39 (%)\n",
    "\n",
    "# Accuracy aumentou de 0.8621 para 0.9039 (3/200)\n",
    "# Saving checkpoint...\n",
    "# F1 aumentou de 0.5942 para 0.7356 (3/200)\n",
    "# Saving checkpoint...\n",
    "\n",
    "# 100%|███████████████████████████████████████████████████████████████████████████████████████████████████████| 44/44 [03:29<00:00,  4.76s/it]\n",
    "\n",
    "# Validation loss: 0.26412\n",
    "# Validation precision: 0.7578\n",
    "# Validation recall: 0.6678\n",
    "# Validation F1: 0.7100\n",
    "# Validation accuracy: 88.71 (%)\n",
    "\n",
    "# Accuracy aumentou de 0.8793 para 0.8871 (3/200)\n",
    "# Saving checkpoint...\n",
    "# F1 aumentou de 0.6876 para 0.7100 (3/200)\n",
    "# Saving checkpoint...\n",
    "\n",
    "# Epoch 4/200\n",
    "\n",
    "# 100%|█████████████████████████████████████████████████████████████████████████████████████████████████████| 176/176 [15:49<00:00,  5.40s/it]\n",
    "\n",
    "# Training loss: 0.18152\n",
    "# Train precision: 0.8232\n",
    "# Train recall: 0.7936\n",
    "# Train F1: 0.8081\n",
    "# Training accuracy: 92.61 (%)\n",
    "\n",
    "# Accuracy aumentou de 0.9039 para 0.9261 (4/200)\n",
    "# Saving checkpoint...\n",
    "# F1 aumentou de 0.7356 para 0.8081 (4/200)\n",
    "# Saving checkpoint...\n",
    "\n",
    "# 100%|███████████████████████████████████████████████████████████████████████████████████████████████████████| 44/44 [03:28<00:00,  4.73s/it]\n",
    "\n",
    "# Validation loss: 0.20394\n",
    "# Validation precision: 0.8465\n",
    "# Validation recall: 0.7225\n",
    "# Validation F1: 0.7796\n",
    "# Validation accuracy: 92.45 (%)\n",
    "\n",
    "# Accuracy aumentou de 0.8871 para 0.9245 (4/200)\n",
    "# Saving checkpoint...\n",
    "# F1 aumentou de 0.7100 para 0.7796 (4/200)\n",
    "# Saving checkpoint...\n",
    "\n",
    "# Epoch 5/200\n",
    "\n",
    "# 100%|█████████████████████████████████████████████████████████████████████████████████████████████████████| 176/176 [15:46<00:00,  5.38s/it]\n",
    "\n",
    "# Training loss: 0.13870\n",
    "# Train precision: 0.8710\n",
    "# Train recall: 0.8595\n",
    "# Train F1: 0.8652\n",
    "# Training accuracy: 94.75 (%)\n",
    "\n",
    "# Accuracy aumentou de 0.9261 para 0.9475 (5/200)\n",
    "# Saving checkpoint...\n",
    "# F1 aumentou de 0.8081 para 0.8652 (5/200)\n",
    "# Saving checkpoint...\n",
    "\n",
    "# 100%|███████████████████████████████████████████████████████████████████████████████████████████████████████| 44/44 [03:27<00:00,  4.73s/it]\n",
    "\n",
    "# Validation loss: 0.15926\n",
    "# Validation precision: 0.8586\n",
    "# Validation recall: 0.8194\n",
    "# Validation F1: 0.8385\n",
    "# Validation accuracy: 94.09 (%)\n",
    "\n",
    "# Accuracy aumentou de 0.9245 para 0.9409 (5/200)\n",
    "# Saving checkpoint...\n",
    "# F1 aumentou de 0.7796 para 0.8385 (5/200)\n",
    "# Saving checkpoint...\n",
    "\n",
    "# Epoch 6/200\n",
    "\n",
    "# 100%|█████████████████████████████████████████████████████████████████████████████████████████████████████| 176/176 [15:43<00:00,  5.36s/it]\n",
    "\n",
    "# Training loss: 0.11604\n",
    "# Train precision: 0.8911\n",
    "# Train recall: 0.8939\n",
    "# Train F1: 0.8925\n",
    "# Training accuracy: 95.75 (%)\n",
    "\n",
    "# Accuracy aumentou de 0.9475 para 0.9575 (6/200)\n",
    "# Saving checkpoint...\n",
    "# F1 aumentou de 0.8652 para 0.8925 (6/200)\n",
    "# Saving checkpoint...\n",
    "\n",
    "# 100%|███████████████████████████████████████████████████████████████████████████████████████████████████████| 44/44 [03:28<00:00,  4.73s/it]\n",
    "\n",
    "# Validation loss: 0.15527\n",
    "# Validation precision: 0.8891\n",
    "# Validation recall: 0.8394\n",
    "# Validation F1: 0.8635\n",
    "# Validation accuracy: 94.76 (%)\n",
    "\n",
    "# Accuracy aumentou de 0.9409 para 0.9476 (6/200)\n",
    "# Saving checkpoint...\n",
    "# F1 aumentou de 0.8385 para 0.8635 (6/200)\n",
    "# Saving checkpoint...\n",
    "\n",
    "# Epoch 7/200\n",
    "\n",
    "# 100%|█████████████████████████████████████████████████████████████████████████████████████████████████████| 176/176 [15:56<00:00,  5.43s/it]\n",
    "\n",
    "# Training loss: 0.09552\n",
    "# Train precision: 0.9048\n",
    "# Train recall: 0.9150\n",
    "# Train F1: 0.9099\n",
    "# Training accuracy: 96.54 (%)\n",
    "\n",
    "# Accuracy aumentou de 0.9575 para 0.9654 (7/200)\n",
    "# Saving checkpoint...\n",
    "# F1 aumentou de 0.8925 para 0.9099 (7/200)\n",
    "# Saving checkpoint...\n",
    "\n",
    "# 100%|███████████████████████████████████████████████████████████████████████████████████████████████████████| 44/44 [03:21<00:00,  4.57s/it]\n",
    "\n",
    "# Validation loss: 0.19461\n",
    "# Validation precision: 0.8998\n",
    "# Validation recall: 0.7266\n",
    "# Validation F1: 0.8040\n",
    "# Validation accuracy: 92.98 (%)\n",
    "\n",
    "\n",
    "# Epoch 8/200\n",
    "\n",
    "# 100%|█████████████████████████████████████████████████████████████████████████████████████████████████████| 176/176 [15:30<00:00,  5.29s/it]\n",
    "\n",
    "# Training loss: 0.07862\n",
    "# Train precision: 0.9193\n",
    "# Train recall: 0.9382\n",
    "# Train F1: 0.9287\n",
    "# Training accuracy: 97.19 (%)\n",
    "\n",
    "# Accuracy aumentou de 0.9654 para 0.9719 (8/200)\n",
    "# Saving checkpoint...\n",
    "# F1 aumentou de 0.9099 para 0.9287 (8/200)\n",
    "# Saving checkpoint...\n",
    "\n",
    "# 100%|███████████████████████████████████████████████████████████████████████████████████████████████████████| 44/44 [03:20<00:00,  4.57s/it]\n",
    "\n",
    "# Validation loss: 0.17255\n",
    "# Validation precision: 0.9206\n",
    "# Validation recall: 0.8043\n",
    "# Validation F1: 0.8585\n",
    "# Validation accuracy: 94.69 (%)\n",
    "\n",
    "\n",
    "# Epoch 9/200\n",
    "\n",
    "# 100%|█████████████████████████████████████████████████████████████████████████████████████████████████████| 176/176 [14:47<00:00,  5.04s/it]\n",
    "\n",
    "# Training loss: 0.07041\n",
    "# Train precision: 0.9272\n",
    "# Train recall: 0.9426\n",
    "# Train F1: 0.9349\n",
    "# Training accuracy: 97.45 (%)\n",
    "\n",
    "# Accuracy aumentou de 0.9719 para 0.9745 (9/200)\n",
    "# Saving checkpoint...\n",
    "# F1 aumentou de 0.9287 para 0.9349 (9/200)\n",
    "# Saving checkpoint...\n",
    "\n",
    "# 100%|███████████████████████████████████████████████████████████████████████████████████████████████████████| 44/44 [03:20<00:00,  4.56s/it]\n",
    "\n",
    "# Validation loss: 0.13915\n",
    "# Validation precision: 0.9089\n",
    "# Validation recall: 0.8534\n",
    "# Validation F1: 0.8803\n",
    "# Validation accuracy: 95.26 (%)\n",
    "\n",
    "# Accuracy aumentou de 0.9476 para 0.9526 (9/200)\n",
    "# Saving checkpoint...\n",
    "# F1 aumentou de 0.8635 para 0.8803 (9/200)\n",
    "# Saving checkpoint...\n",
    "\n",
    "# Epoch 10/200\n",
    "\n",
    "# 100%|█████████████████████████████████████████████████████████████████████████████████████████████████████| 176/176 [15:20<00:00,  5.23s/it]\n",
    "\n",
    "# Training loss: 0.05705\n",
    "# Train precision: 0.9373\n",
    "# Train recall: 0.9584\n",
    "# Train F1: 0.9477\n",
    "# Training accuracy: 97.98 (%)\n",
    "\n",
    "# Accuracy aumentou de 0.9745 para 0.9798 (10/200)\n",
    "# Saving checkpoint...\n",
    "# F1 aumentou de 0.9349 para 0.9477 (10/200)\n",
    "# Saving checkpoint...\n",
    "\n",
    "# 100%|███████████████████████████████████████████████████████████████████████████████████████████████████████| 44/44 [03:21<00:00,  4.59s/it]\n",
    "\n",
    "# Validation loss: 0.17463\n",
    "# Validation precision: 0.9268\n",
    "# Validation recall: 0.8559\n",
    "# Validation F1: 0.8899\n",
    "# Validation accuracy: 95.76 (%)\n",
    "\n",
    "# Accuracy aumentou de 0.9526 para 0.9576 (10/200)\n",
    "# Saving checkpoint...\n",
    "# F1 aumentou de 0.8803 para 0.8899 (10/200)\n",
    "# Saving checkpoint...\n",
    "\n",
    "# Epoch 11/200\n",
    "\n",
    "# 100%|█████████████████████████████████████████████████████████████████████████████████████████████████████| 176/176 [15:23<00:00,  5.25s/it]\n",
    "\n",
    "# Training loss: 0.05878\n",
    "# Train precision: 0.9334\n",
    "# Train recall: 0.9584\n",
    "# Train F1: 0.9457\n",
    "# Training accuracy: 97.88 (%)\n",
    "\n",
    "\n",
    "# 100%|███████████████████████████████████████████████████████████████████████████████████████████████████████| 44/44 [03:21<00:00,  4.58s/it]\n",
    "\n",
    "# Validation loss: 0.16094\n",
    "# Validation precision: 0.9174\n",
    "# Validation recall: 0.8562\n",
    "# Validation F1: 0.8857\n",
    "# Validation accuracy: 95.41 (%)\n",
    "\n",
    "\n",
    "# Epoch 12/200\n",
    "\n",
    "# 100%|█████████████████████████████████████████████████████████████████████████████████████████████████████| 176/176 [15:23<00:00,  5.25s/it]\n",
    "\n",
    "# Training loss: 0.05085\n",
    "# Train precision: 0.9482\n",
    "# Train recall: 0.9701\n",
    "# Train F1: 0.9590\n",
    "# Training accuracy: 98.37 (%)\n",
    "\n",
    "# Accuracy aumentou de 0.9798 para 0.9837 (12/200)\n",
    "# Saving checkpoint...\n",
    "# F1 aumentou de 0.9477 para 0.9590 (12/200)\n",
    "# Saving checkpoint...\n",
    "\n",
    "# 100%|███████████████████████████████████████████████████████████████████████████████████████████████████████| 44/44 [03:21<00:00,  4.58s/it]\n",
    "\n",
    "# Validation loss: 0.14486\n",
    "# Validation precision: 0.8807\n",
    "# Validation recall: 0.8759\n",
    "# Validation F1: 0.8783\n",
    "# Validation accuracy: 95.19 (%)\n",
    "\n",
    "\n",
    "# Epoch 13/200\n",
    "\n",
    "# 100%|█████████████████████████████████████████████████████████████████████████████████████████████████████| 176/176 [15:18<00:00,  5.22s/it]\n",
    "\n",
    "# Training loss: 0.04909\n",
    "# Train precision: 0.9484\n",
    "# Train recall: 0.9701\n",
    "# Train F1: 0.9591\n",
    "# Training accuracy: 98.35 (%)\n",
    "\n",
    "# F1 aumentou de 0.9590 para 0.9591 (13/200)\n",
    "# Saving checkpoint...\n",
    "\n",
    "# 100%|███████████████████████████████████████████████████████████████████████████████████████████████████████| 44/44 [03:19<00:00,  4.54s/it]\n",
    "\n",
    "# Validation loss: 0.21487\n",
    "# Validation precision: 0.8333\n",
    "# Validation recall: 0.8752\n",
    "# Validation F1: 0.8538\n",
    "# Validation accuracy: 94.27 (%)\n",
    "\n",
    "\n",
    "# Epoch 14/200\n",
    "\n",
    "# 100%|█████████████████████████████████████████████████████████████████████████████████████████████████████| 176/176 [15:17<00:00,  5.22s/it]\n",
    "\n",
    "# Training loss: 0.05003\n",
    "# Train precision: 0.9414\n",
    "# Train recall: 0.9735\n",
    "# Train F1: 0.9571\n",
    "# Training accuracy: 98.36 (%)\n",
    "\n",
    "\n",
    "# 100%|███████████████████████████████████████████████████████████████████████████████████████████████████████| 44/44 [03:20<00:00,  4.55s/it]\n",
    "\n",
    "# Validation loss: 0.25246\n",
    "# Validation precision: 0.8893\n",
    "# Validation recall: 0.8354\n",
    "# Validation F1: 0.8615\n",
    "# Validation accuracy: 94.48 (%)\n",
    "\n",
    "\n",
    "# Epoch 15/200\n",
    "\n",
    "# 100%|█████████████████████████████████████████████████████████████████████████████████████████████████████| 176/176 [15:19<00:00,  5.22s/it]\n",
    "\n",
    "# Training loss: 0.04221\n",
    "# Train precision: 0.9498\n",
    "# Train recall: 0.9763\n",
    "# Train F1: 0.9629\n",
    "# Training accuracy: 98.56 (%)\n",
    "\n",
    "# Accuracy aumentou de 0.9837 para 0.9856 (15/200)\n",
    "# Saving checkpoint...\n",
    "# F1 aumentou de 0.9591 para 0.9629 (15/200)\n",
    "# Saving checkpoint...\n",
    "\n",
    "# 100%|███████████████████████████████████████████████████████████████████████████████████████████████████████| 44/44 [03:20<00:00,  4.55s/it]\n",
    "\n",
    "# Validation loss: 0.24234\n",
    "# Validation precision: 0.8646\n",
    "# Validation recall: 0.8603\n",
    "# Validation F1: 0.8624\n",
    "# Validation accuracy: 94.20 (%)\n",
    "\n",
    "\n",
    "# Epoch 16/200\n",
    "\n",
    "# 100%|█████████████████████████████████████████████████████████████████████████████████████████████████████| 176/176 [15:16<00:00,  5.21s/it]\n",
    "\n",
    "# Training loss: 0.03626\n",
    "# Train precision: 0.9581\n",
    "# Train recall: 0.9782\n",
    "# Train F1: 0.9680\n",
    "# Training accuracy: 98.73 (%)\n",
    "\n",
    "# Accuracy aumentou de 0.9856 para 0.9873 (16/200)\n",
    "# Saving checkpoint...\n",
    "# F1 aumentou de 0.9629 para 0.9680 (16/200)\n",
    "# Saving checkpoint...\n",
    "\n",
    "# 100%|███████████████████████████████████████████████████████████████████████████████████████████████████████| 44/44 [03:20<00:00,  4.56s/it]\n",
    "\n",
    "# Validation loss: 0.14802\n",
    "# Validation precision: 0.9308\n",
    "# Validation recall: 0.8721\n",
    "# Validation F1: 0.9005\n",
    "# Validation accuracy: 96.40 (%)\n",
    "\n",
    "# Accuracy aumentou de 0.9576 para 0.9640 (16/200)\n",
    "# Saving checkpoint...\n",
    "# F1 aumentou de 0.8899 para 0.9005 (16/200)\n",
    "# Saving checkpoint...\n",
    "\n",
    "# Epoch 17/200\n",
    "\n",
    "# 100%|█████████████████████████████████████████████████████████████████████████████████████████████████████| 176/176 [15:19<00:00,  5.22s/it]\n",
    "\n",
    "# Training loss: 0.03663\n",
    "# Train precision: 0.9568\n",
    "# Train recall: 0.9741\n",
    "# Train F1: 0.9654\n",
    "# Training accuracy: 98.65 (%)\n",
    "\n",
    "\n",
    "# 100%|███████████████████████████████████████████████████████████████████████████████████████████████████████| 44/44 [03:27<00:00,  4.72s/it]\n",
    "\n",
    "# Validation loss: 0.17408\n",
    "# Validation precision: 0.8992\n",
    "# Validation recall: 0.8457\n",
    "# Validation F1: 0.8716\n",
    "# Validation accuracy: 95.23 (%)\n",
    "\n",
    "\n",
    "# Epoch 18/200\n",
    "\n",
    "# 100%|█████████████████████████████████████████████████████████████████████████████████████████████████████| 176/176 [15:47<00:00,  5.38s/it]\n",
    "\n",
    "# Training loss: 0.02917\n",
    "# Train precision: 0.9644\n",
    "# Train recall: 0.9834\n",
    "# Train F1: 0.9738\n",
    "# Training accuracy: 98.97 (%)\n",
    "\n",
    "# Accuracy aumentou de 0.9873 para 0.9897 (18/200)\n",
    "# Saving checkpoint...\n",
    "# F1 aumentou de 0.9680 para 0.9738 (18/200)\n",
    "# Saving checkpoint...\n",
    "\n",
    "# 100%|███████████████████████████████████████████████████████████████████████████████████████████████████████| 44/44 [03:27<00:00,  4.72s/it]\n",
    "\n",
    "# Validation loss: 0.17840\n",
    "# Validation precision: 0.9576\n",
    "# Validation recall: 0.8278\n",
    "# Validation F1: 0.8880\n",
    "# Validation accuracy: 95.94 (%)\n",
    "\n",
    "\n",
    "# Epoch 19/200\n",
    "\n",
    "# 100%|█████████████████████████████████████████████████████████████████████████████████████████████████████| 176/176 [15:44<00:00,  5.36s/it]\n",
    "\n",
    "# Training loss: 0.03073\n",
    "# Train precision: 0.9652\n",
    "# Train recall: 0.9860\n",
    "# Train F1: 0.9755\n",
    "# Training accuracy: 99.02 (%)\n",
    "\n",
    "# Accuracy aumentou de 0.9897 para 0.9902 (19/200)\n",
    "# Saving checkpoint...\n",
    "# F1 aumentou de 0.9738 para 0.9755 (19/200)\n",
    "# Saving checkpoint...\n",
    "\n",
    "# 100%|███████████████████████████████████████████████████████████████████████████████████████████████████████| 44/44 [03:26<00:00,  4.70s/it]\n",
    "\n",
    "# Validation loss: 0.28301\n",
    "# Validation precision: 0.8509\n",
    "# Validation recall: 0.7712\n",
    "# Validation F1: 0.8091\n",
    "# Validation accuracy: 92.81 (%)\n",
    "\n",
    "\n",
    "# Epoch 20/200\n",
    "\n",
    "# 100%|█████████████████████████████████████████████████████████████████████████████████████████████████████| 176/176 [15:47<00:00,  5.39s/it]\n",
    "\n",
    "# Training loss: 0.02849\n",
    "# Train precision: 0.9675\n",
    "# Train recall: 0.9851\n",
    "# Train F1: 0.9762\n",
    "# Training accuracy: 99.08 (%)\n",
    "\n",
    "# Accuracy aumentou de 0.9902 para 0.9908 (20/200)\n",
    "# Saving checkpoint...\n",
    "# F1 aumentou de 0.9755 para 0.9762 (20/200)\n",
    "# Saving checkpoint...\n",
    "\n",
    "# 100%|███████████████████████████████████████████████████████████████████████████████████████████████████████| 44/44 [03:26<00:00,  4.70s/it]\n",
    "\n",
    "# Validation loss: 0.26907\n",
    "# Validation precision: 0.9324\n",
    "# Validation recall: 0.8330\n",
    "# Validation F1: 0.8799\n",
    "# Validation accuracy: 95.44 (%)\n",
    "\n",
    "\n",
    "# Epoch 21/200\n",
    "\n",
    "# 100%|█████████████████████████████████████████████████████████████████████████████████████████████████████| 176/176 [15:50<00:00,  5.40s/it]\n",
    "\n",
    "# Training loss: 0.02884\n",
    "# Train precision: 0.9652\n",
    "# Train recall: 0.9830\n",
    "# Train F1: 0.9740\n",
    "# Training accuracy: 99.01 (%)\n",
    "\n",
    "\n",
    "# 100%|███████████████████████████████████████████████████████████████████████████████████████████████████████| 44/44 [03:28<00:00,  4.74s/it]\n",
    "\n",
    "# Validation loss: 0.25507\n",
    "# Validation precision: 0.9592\n",
    "# Validation recall: 0.7055\n",
    "# Validation F1: 0.8130\n",
    "# Validation accuracy: 93.45 (%)\n",
    "\n",
    "\n",
    "# Epoch 22/200\n",
    "\n",
    "# 100%|█████████████████████████████████████████████████████████████████████████████████████████████████████| 176/176 [15:54<00:00,  5.42s/it]\n",
    "\n",
    "# Training loss: 0.02997\n",
    "# Train precision: 0.9688\n",
    "# Train recall: 0.9837\n",
    "# Train F1: 0.9762\n",
    "# Training accuracy: 99.08 (%)\n",
    "\n",
    "\n",
    "# 100%|███████████████████████████████████████████████████████████████████████████████████████████████████████| 44/44 [03:28<00:00,  4.73s/it]\n",
    "\n",
    "# Validation loss: 0.27389\n",
    "# Validation precision: 0.9598\n",
    "# Validation recall: 0.7389\n",
    "# Validation F1: 0.8350\n",
    "# Validation accuracy: 94.62 (%)\n",
    "\n",
    "\n",
    "# Epoch 23/200\n",
    "\n",
    "# 100%|█████████████████████████████████████████████████████████████████████████████████████████████████████| 176/176 [15:46<00:00,  5.38s/it]\n",
    "\n",
    "# Training loss: 0.02505\n",
    "# Train precision: 0.9722\n",
    "# Train recall: 0.9882\n",
    "# Train F1: 0.9801\n",
    "# Training accuracy: 99.22 (%)\n",
    "\n",
    "# Accuracy aumentou de 0.9908 para 0.9922 (23/200)\n",
    "# Saving checkpoint...\n",
    "# F1 aumentou de 0.9762 para 0.9801 (23/200)\n",
    "# Saving checkpoint...\n",
    "\n",
    "# 100%|███████████████████████████████████████████████████████████████████████████████████████████████████████| 44/44 [03:28<00:00,  4.73s/it]\n",
    "\n",
    "# Validation loss: 0.19451\n",
    "# Validation precision: 0.9646\n",
    "# Validation recall: 0.8180\n",
    "# Validation F1: 0.8853\n",
    "# Validation accuracy: 95.98 (%)\n",
    "\n",
    "\n",
    "# Epoch 24/200\n",
    "\n",
    "# 100%|█████████████████████████████████████████████████████████████████████████████████████████████████████| 176/176 [15:48<00:00,  5.39s/it]\n",
    "\n",
    "# Training loss: 0.02408\n",
    "# Train precision: 0.9701\n",
    "# Train recall: 0.9903\n",
    "# Train F1: 0.9801\n",
    "# Training accuracy: 99.22 (%)\n",
    "\n",
    "# Accuracy aumentou de 0.9922 para 0.9922 (24/200)\n",
    "# Saving checkpoint...\n",
    "\n",
    "# 100%|███████████████████████████████████████████████████████████████████████████████████████████████████████| 44/44 [03:28<00:00,  4.73s/it]\n",
    "\n",
    "# Validation loss: 0.18568\n",
    "# Validation precision: 0.9672\n",
    "# Validation recall: 0.8262\n",
    "# Validation F1: 0.8911\n",
    "# Validation accuracy: 96.15 (%)\n",
    "\n",
    "\n",
    "# Epoch 25/200\n",
    "\n",
    "# 100%|█████████████████████████████████████████████████████████████████████████████████████████████████████| 176/176 [15:52<00:00,  5.41s/it]\n",
    "\n",
    "# Training loss: 0.01833\n",
    "# Train precision: 0.9790\n",
    "# Train recall: 0.9923\n",
    "# Train F1: 0.9856\n",
    "# Training accuracy: 99.43 (%)\n",
    "\n",
    "# Accuracy aumentou de 0.9922 para 0.9943 (25/200)\n",
    "# Saving checkpoint...\n",
    "# F1 aumentou de 0.9801 para 0.9856 (25/200)\n",
    "# Saving checkpoint...\n",
    "\n",
    "# 100%|███████████████████████████████████████████████████████████████████████████████████████████████████████| 44/44 [03:28<00:00,  4.74s/it]\n",
    "\n",
    "# Validation loss: 0.20324\n",
    "# Validation precision: 0.9821\n",
    "# Validation recall: 0.8029\n",
    "# Validation F1: 0.8835\n",
    "# Validation accuracy: 95.87 (%)\n",
    "\n",
    "\n",
    "# Epoch 26/200\n",
    "\n",
    "# 100%|█████████████████████████████████████████████████████████████████████████████████████████████████████| 176/176 [15:44<00:00,  5.37s/it]\n",
    "\n",
    "# Training loss: 0.02204\n",
    "# Train precision: 0.9752\n",
    "# Train recall: 0.9919\n",
    "# Train F1: 0.9834\n",
    "# Training accuracy: 99.34 (%)\n",
    "\n",
    "\n",
    "# 100%|███████████████████████████████████████████████████████████████████████████████████████████████████████| 44/44 [03:27<00:00,  4.73s/it]\n",
    "\n",
    "# Validation loss: 0.22543\n",
    "# Validation precision: 0.9790\n",
    "# Validation recall: 0.8265\n",
    "# Validation F1: 0.8964\n",
    "# Validation accuracy: 96.15 (%)\n",
    "\n",
    "\n",
    "# Epoch 27/200\n",
    "\n",
    "# 100%|█████████████████████████████████████████████████████████████████████████████████████████████████████| 176/176 [15:45<00:00,  5.37s/it]\n",
    "\n",
    "# Training loss: 0.02035\n",
    "# Train precision: 0.9791\n",
    "# Train recall: 0.9887\n",
    "# Train F1: 0.9839\n",
    "# Training accuracy: 99.38 (%)\n",
    "\n",
    "\n",
    "# 100%|███████████████████████████████████████████████████████████████████████████████████████████████████████| 44/44 [03:28<00:00,  4.75s/it]\n",
    "\n",
    "# Validation loss: 0.29741\n",
    "# Validation precision: 0.9620\n",
    "# Validation recall: 0.8216\n",
    "# Validation F1: 0.8863\n",
    "# Validation accuracy: 95.83 (%)\n",
    "\n",
    "\n",
    "# Epoch 28/200\n",
    "\n",
    "# 100%|█████████████████████████████████████████████████████████████████████████████████████████████████████| 176/176 [15:50<00:00,  5.40s/it]\n",
    "\n",
    "# Training loss: 0.01553\n",
    "# Train precision: 0.9820\n",
    "# Train recall: 0.9902\n",
    "# Train F1: 0.9861\n",
    "# Training accuracy: 99.46 (%)\n",
    "\n",
    "# Accuracy aumentou de 0.9943 para 0.9946 (28/200)\n",
    "# Saving checkpoint...\n",
    "# F1 aumentou de 0.9856 para 0.9861 (28/200)\n",
    "# Saving checkpoint...\n",
    "\n",
    "# 100%|███████████████████████████████████████████████████████████████████████████████████████████████████████| 44/44 [03:27<00:00,  4.71s/it]\n",
    "\n",
    "# Validation loss: 0.22640\n",
    "# Validation precision: 0.9688\n",
    "# Validation recall: 0.8112\n",
    "# Validation F1: 0.8830\n",
    "# Validation accuracy: 95.90 (%)\n",
    "\n",
    "\n",
    "# Epoch 29/200\n",
    "\n",
    "# 100%|█████████████████████████████████████████████████████████████████████████████████████████████████████| 176/176 [15:46<00:00,  5.38s/it]\n",
    "\n",
    "# Training loss: 0.01924\n",
    "# Train precision: 0.9780\n",
    "# Train recall: 0.9893\n",
    "# Train F1: 0.9836\n",
    "# Training accuracy: 99.37 (%)\n",
    "\n",
    "\n",
    "# 100%|███████████████████████████████████████████████████████████████████████████████████████████████████████| 44/44 [03:29<00:00,  4.76s/it]\n",
    "\n",
    "# Validation loss: 0.22542\n",
    "# Validation precision: 0.9553\n",
    "# Validation recall: 0.8291\n",
    "# Validation F1: 0.8877\n",
    "# Validation accuracy: 96.15 (%)\n",
    "\n",
    "\n",
    "# Epoch 30/200\n",
    "\n",
    "# 100%|█████████████████████████████████████████████████████████████████████████████████████████████████████| 176/176 [15:44<00:00,  5.37s/it]\n",
    "\n",
    "# Training loss: 0.02154\n",
    "# Train precision: 0.9744\n",
    "# Train recall: 0.9877\n",
    "# Train F1: 0.9810\n",
    "# Training accuracy: 99.25 (%)\n",
    "\n",
    "\n",
    "# 100%|███████████████████████████████████████████████████████████████████████████████████████████████████████| 44/44 [03:28<00:00,  4.74s/it]\n",
    "\n",
    "# Validation loss: 0.28466\n",
    "# Validation precision: 0.9814\n",
    "# Validation recall: 0.7932\n",
    "# Validation F1: 0.8773\n",
    "# Validation accuracy: 95.80 (%)\n",
    "\n",
    "\n",
    "# Epoch 31/200\n",
    "\n",
    "# 100%|█████████████████████████████████████████████████████████████████████████████████████████████████████| 176/176 [15:47<00:00,  5.38s/it]\n",
    "\n",
    "# Training loss: 0.01992\n",
    "# Train precision: 0.9753\n",
    "# Train recall: 0.9924\n",
    "# Train F1: 0.9838\n",
    "# Training accuracy: 99.35 (%)\n",
    "\n",
    "\n",
    "# 100%|███████████████████████████████████████████████████████████████████████████████████████████████████████| 44/44 [03:27<00:00,  4.72s/it]\n",
    "\n",
    "# Validation loss: 0.20080\n",
    "# Validation precision: 0.9632\n",
    "# Validation recall: 0.8152\n",
    "# Validation F1: 0.8830\n",
    "# Validation accuracy: 96.05 (%)\n",
    "\n",
    "\n",
    "# Epoch 32/200\n",
    "\n",
    "# 100%|█████████████████████████████████████████████████████████████████████████████████████████████████████| 176/176 [15:48<00:00,  5.39s/it]\n",
    "\n",
    "# Training loss: 0.01797\n",
    "# Train precision: 0.9780\n",
    "# Train recall: 0.9932\n",
    "# Train F1: 0.9855\n",
    "# Training accuracy: 99.43 (%)\n",
    "\n",
    "\n",
    "# 100%|███████████████████████████████████████████████████████████████████████████████████████████████████████| 44/44 [03:28<00:00,  4.75s/it]\n",
    "\n",
    "# Validation loss: 0.28089\n",
    "# Validation precision: 0.9556\n",
    "# Validation recall: 0.8083\n",
    "# Validation F1: 0.8758\n",
    "# Validation accuracy: 95.66 (%)\n",
    "\n",
    "\n",
    "# Epoch 33/200\n",
    "\n",
    "# 100%|█████████████████████████████████████████████████████████████████████████████████████████████████████| 176/176 [15:51<00:00,  5.41s/it]\n",
    "\n",
    "# Training loss: 0.01463\n",
    "# Train precision: 0.9808\n",
    "# Train recall: 0.9915\n",
    "# Train F1: 0.9861\n",
    "# Training accuracy: 99.47 (%)\n",
    "\n",
    "# Accuracy aumentou de 0.9946 para 0.9947 (33/200)\n",
    "# Saving checkpoint...\n",
    "\n",
    "# 100%|███████████████████████████████████████████████████████████████████████████████████████████████████████| 44/44 [03:29<00:00,  4.76s/it]\n",
    "\n",
    "# Validation loss: 0.24387\n",
    "# Validation precision: 0.9935\n",
    "# Validation recall: 0.8241\n",
    "# Validation F1: 0.9009\n",
    "# Validation accuracy: 96.40 (%)\n",
    "\n",
    "# F1 aumentou de 0.9005 para 0.9009 (33/200)\n",
    "# Saving checkpoint...\n",
    "\n",
    "# Epoch 34/200\n",
    "\n",
    "# 100%|█████████████████████████████████████████████████████████████████████████████████████████████████████| 176/176 [15:46<00:00,  5.38s/it]\n",
    "\n",
    "# Training loss: 0.01487\n",
    "# Train precision: 0.9838\n",
    "# Train recall: 0.9927\n",
    "# Train F1: 0.9882\n",
    "# Training accuracy: 99.54 (%)\n",
    "\n",
    "# Accuracy aumentou de 0.9947 para 0.9954 (34/200)\n",
    "# Saving checkpoint...\n",
    "# F1 aumentou de 0.9861 para 0.9882 (34/200)\n",
    "# Saving checkpoint...\n",
    "\n",
    "# 100%|███████████████████████████████████████████████████████████████████████████████████████████████████████| 44/44 [03:29<00:00,  4.75s/it]\n",
    "\n",
    "# Validation loss: 0.26692\n",
    "# Validation precision: 0.9820\n",
    "# Validation recall: 0.8048\n",
    "# Validation F1: 0.8846\n",
    "# Validation accuracy: 95.94 (%)\n",
    "\n",
    "\n",
    "# Epoch 35/200\n",
    "\n",
    "# 100%|█████████████████████████████████████████████████████████████████████████████████████████████████████| 176/176 [15:45<00:00,  5.37s/it]\n",
    "\n",
    "# Training loss: 0.01449\n",
    "# Train precision: 0.9836\n",
    "# Train recall: 0.9922\n",
    "# Train F1: 0.9879\n",
    "# Training accuracy: 99.53 (%)\n",
    "\n",
    "\n",
    "# 100%|███████████████████████████████████████████████████████████████████████████████████████████████████████| 44/44 [03:28<00:00,  4.73s/it]\n",
    "\n",
    "# Validation loss: 0.24873\n",
    "# Validation precision: 0.9806\n",
    "# Validation recall: 0.7917\n",
    "# Validation F1: 0.8761\n",
    "# Validation accuracy: 95.41 (%)\n",
    "\n",
    "\n",
    "# Epoch 36/200\n",
    "\n",
    "# 100%|█████████████████████████████████████████████████████████████████████████████████████████████████████| 176/176 [15:48<00:00,  5.39s/it]\n",
    "\n",
    "# Training loss: 0.01573\n",
    "# Train precision: 0.9833\n",
    "# Train recall: 0.9950\n",
    "# Train F1: 0.9891\n",
    "# Training accuracy: 99.57 (%)\n",
    "\n",
    "# Accuracy aumentou de 0.9954 para 0.9957 (36/200)\n",
    "# Saving checkpoint...\n",
    "# F1 aumentou de 0.9882 para 0.9891 (36/200)\n",
    "# Saving checkpoint...\n",
    "\n",
    "# 100%|███████████████████████████████████████████████████████████████████████████████████████████████████████| 44/44 [03:29<00:00,  4.76s/it]\n",
    "\n",
    "# Validation loss: 0.31677\n",
    "# Validation precision: 0.9719\n",
    "# Validation recall: 0.8032\n",
    "# Validation F1: 0.8795\n",
    "# Validation accuracy: 95.62 (%)\n",
    "\n",
    "\n",
    "# Epoch 37/200\n",
    "\n",
    "# 100%|█████████████████████████████████████████████████████████████████████████████████████████████████████| 176/176 [15:53<00:00,  5.42s/it]\n",
    "\n",
    "# Training loss: 0.01765\n",
    "# Train precision: 0.9781\n",
    "# Train recall: 0.9873\n",
    "# Train F1: 0.9827\n",
    "# Training accuracy: 99.34 (%)\n",
    "\n",
    "\n",
    "# 100%|███████████████████████████████████████████████████████████████████████████████████████████████████████| 44/44 [03:42<00:00,  5.07s/it]\n",
    "\n",
    "# Validation loss: 0.21864\n",
    "# Validation precision: 0.9745\n",
    "# Validation recall: 0.8388\n",
    "# Validation F1: 0.9016\n",
    "# Validation accuracy: 96.44 (%)\n",
    "\n",
    "# Accuracy aumentou de 0.9640 para 0.9644 (37/200)\n",
    "# Saving checkpoint...\n",
    "# F1 aumentou de 0.9009 para 0.9016 (37/200)\n",
    "# Saving checkpoint...\n",
    "\n",
    "# Epoch 38/200\n",
    "\n",
    "# 100%|█████████████████████████████████████████████████████████████████████████████████████████████████████| 176/176 [16:13<00:00,  5.53s/it]\n",
    "\n",
    "# Training loss: 0.01619\n",
    "# Train precision: 0.9772\n",
    "# Train recall: 0.9906\n",
    "# Train F1: 0.9839\n",
    "# Training accuracy: 99.38 (%)\n",
    "\n",
    "\n",
    "# 100%|███████████████████████████████████████████████████████████████████████████████████████████████████████| 44/44 [03:33<00:00,  4.85s/it]\n",
    "\n",
    "# Validation loss: 0.27572\n",
    "# Validation precision: 0.9713\n",
    "# Validation recall: 0.8103\n",
    "# Validation F1: 0.8835\n",
    "# Validation accuracy: 95.87 (%)\n",
    "\n",
    "\n",
    "# Epoch 39/200\n",
    "\n",
    "# 100%|█████████████████████████████████████████████████████████████████████████████████████████████████████| 176/176 [16:17<00:00,  5.55s/it]\n",
    "\n",
    "# Training loss: 0.01495\n",
    "# Train precision: 0.9855\n",
    "# Train recall: 0.9941\n",
    "# Train F1: 0.9898\n",
    "# Training accuracy: 99.60 (%)\n",
    "\n",
    "# Accuracy aumentou de 0.9957 para 0.9960 (39/200)\n",
    "# Saving checkpoint...\n",
    "# F1 aumentou de 0.9891 para 0.9898 (39/200)\n",
    "# Saving checkpoint...\n",
    "\n",
    "# 100%|███████████████████████████████████████████████████████████████████████████████████████████████████████| 44/44 [03:36<00:00,  4.93s/it]\n",
    "\n",
    "# Validation loss: 0.40547\n",
    "# Validation precision: 0.9523\n",
    "# Validation recall: 0.6624\n",
    "# Validation F1: 0.7813\n",
    "# Validation accuracy: 92.84 (%)\n",
    "\n",
    "\n",
    "# Epoch 40/200\n",
    "\n",
    "# 100%|█████████████████████████████████████████████████████████████████████████████████████████████████████| 176/176 [16:24<00:00,  5.59s/it]\n",
    "\n",
    "# Training loss: 0.01986\n",
    "# Train precision: 0.9784\n",
    "# Train recall: 0.9891\n",
    "# Train F1: 0.9837\n",
    "# Training accuracy: 99.36 (%)\n",
    "\n",
    "\n",
    "# 100%|███████████████████████████████████████████████████████████████████████████████████████████████████████| 44/44 [03:36<00:00,  4.92s/it]\n",
    "\n",
    "# Validation loss: 0.25319\n",
    "# Validation precision: 0.8076\n",
    "# Validation recall: 0.8993\n",
    "# Validation F1: 0.8510\n",
    "# Validation accuracy: 93.87 (%)\n",
    "\n",
    "\n",
    "# Epoch 41/200\n",
    "\n",
    "# 100%|█████████████████████████████████████████████████████████████████████████████████████████████████████| 176/176 [16:25<00:00,  5.60s/it]\n",
    "\n",
    "# Training loss: 0.02015\n",
    "# Train precision: 0.9811\n",
    "# Train recall: 0.9888\n",
    "# Train F1: 0.9850\n",
    "# Training accuracy: 99.42 (%)\n",
    "\n",
    "\n",
    "# 100%|███████████████████████████████████████████████████████████████████████████████████████████████████████| 44/44 [03:35<00:00,  4.89s/it]\n",
    "\n",
    "# Validation loss: 0.25992\n",
    "# Validation precision: 0.9333\n",
    "# Validation recall: 0.8206\n",
    "# Validation F1: 0.8733\n",
    "# Validation accuracy: 95.23 (%)\n",
    "\n",
    "\n",
    "# Epoch 42/200\n",
    "\n",
    "# 100%|█████████████████████████████████████████████████████████████████████████████████████████████████████| 176/176 [16:32<00:00,  5.64s/it]\n",
    "\n",
    "# Training loss: 0.02073\n",
    "# Train precision: 0.9762\n",
    "# Train recall: 0.9893\n",
    "# Train F1: 0.9827\n",
    "# Training accuracy: 99.33 (%)\n",
    "\n",
    "\n",
    "# 100%|███████████████████████████████████████████████████████████████████████████████████████████████████████| 44/44 [03:45<00:00,  5.12s/it]\n",
    "\n",
    "# Validation loss: 0.22134\n",
    "# Validation precision: 0.9852\n",
    "# Validation recall: 0.8369\n",
    "# Validation F1: 0.9050\n",
    "# Validation accuracy: 96.51 (%)\n",
    "\n",
    "# Accuracy aumentou de 0.9644 para 0.9651 (42/200)\n",
    "# Saving checkpoint...\n",
    "# F1 aumentou de 0.9016 para 0.9050 (42/200)\n",
    "# Saving checkpoint...\n",
    "\n",
    "# Epoch 43/200\n"
   ]
  },
  {
   "cell_type": "code",
   "execution_count": 17,
   "id": "c791b7fd-7f2a-48aa-9a3a-59908abc01eb",
   "metadata": {},
   "outputs": [],
   "source": [
    "# Epoch 1/200\n",
    "\n",
    "# 100%|█████████████████████████████████████████████████████████████████████████████████████████████████████| 176/176 [15:08<00:00,  5.16s/it]\n",
    "\n",
    "# Training loss: 0.38243\n",
    "# Train precision: 0.5927\n",
    "# Train recall: 0.2027\n",
    "# Train F1: 0.3021\n",
    "# Training accuracy: 81.82 (%)\n",
    "\n",
    "# Accuracy aumentou de 0.0000 para 0.8182 (1/200)\n",
    "# Saving checkpoint...\n",
    "# F1 aumentou de 0.0000 para 0.3021 (1/200)\n",
    "# Saving checkpoint...\n",
    "\n",
    "# 100%|███████████████████████████████████████████████████████████████████████████████████████████████████████| 44/44 [03:23<00:00,  4.63s/it]\n",
    "\n",
    "# Validation loss: 0.34821\n",
    "# Validation precision: 0.7000\n",
    "# Validation recall: 0.3357\n",
    "# Validation F1: 0.4538\n",
    "# Validation accuracy: 83.80 (%)\n",
    "\n",
    "# Accuracy aumentou de 0.0000 para 0.8380 (1/200)\n",
    "# Saving checkpoint...\n",
    "# F1 aumentou de 0.0000 para 0.4538 (1/200)\n",
    "# Saving checkpoint...\n",
    "\n",
    "# Epoch 2/200\n",
    "\n",
    "# 100%|█████████████████████████████████████████████████████████████████████████████████████████████████████| 176/176 [15:37<00:00,  5.33s/it]\n",
    "\n",
    "# Training loss: 0.29661\n",
    "# Train precision: 0.7183\n",
    "# Train recall: 0.5732\n",
    "# Train F1: 0.6376\n",
    "# Training accuracy: 87.17 (%)\n",
    "\n",
    "# Accuracy aumentou de 0.8182 para 0.8717 (2/200)\n",
    "# Saving checkpoint...\n",
    "# F1 aumentou de 0.3021 para 0.6376 (2/200)\n",
    "# Saving checkpoint...\n",
    "\n",
    "# 100%|███████████████████████████████████████████████████████████████████████████████████████████████████████| 44/44 [03:22<00:00,  4.60s/it]\n",
    "\n",
    "# Validation loss: 0.28547\n",
    "# Validation precision: 0.7642\n",
    "# Validation recall: 0.6978\n",
    "# Validation F1: 0.7295\n",
    "# Validation accuracy: 88.96 (%)\n",
    "\n",
    "# Accuracy aumentou de 0.8380 para 0.8896 (2/200)\n",
    "# Saving checkpoint...\n",
    "# F1 aumentou de 0.4538 para 0.7295 (2/200)\n",
    "# Saving checkpoint...\n",
    "\n",
    "# Epoch 3/200\n",
    "\n",
    "# 100%|█████████████████████████████████████████████████████████████████████████████████████████████████████| 176/176 [13:14<00:00,  4.51s/it]\n",
    "\n",
    "# Training loss: 0.22138\n",
    "# Train precision: 0.7899\n",
    "# Train recall: 0.7700\n",
    "# Train F1: 0.7798\n",
    "# Training accuracy: 91.40 (%)\n",
    "\n",
    "# Accuracy aumentou de 0.8717 para 0.9140 (3/200)\n",
    "# Saving checkpoint...\n",
    "# F1 aumentou de 0.6376 para 0.7798 (3/200)\n",
    "# Saving checkpoint...\n",
    "\n",
    "# 100%|███████████████████████████████████████████████████████████████████████████████████████████████████████| 44/44 [02:47<00:00,  3.82s/it]\n",
    "\n",
    "# Validation loss: 0.22899\n",
    "# Validation precision: 0.8197\n",
    "# Validation recall: 0.6641\n",
    "# Validation F1: 0.7338\n",
    "# Validation accuracy: 90.95 (%)\n",
    "\n",
    "# Accuracy aumentou de 0.8896 para 0.9095 (3/200)\n",
    "# Saving checkpoint...\n",
    "# F1 aumentou de 0.7295 para 0.7338 (3/200)\n",
    "# Saving checkpoint...\n",
    "\n",
    "# Epoch 4/200\n",
    "\n",
    "# 100%|█████████████████████████████████████████████████████████████████████████████████████████████████████| 176/176 [13:24<00:00,  4.57s/it]\n",
    "\n",
    "# Training loss: 0.16565\n",
    "# Train precision: 0.8393\n",
    "# Train recall: 0.8165\n",
    "# Train F1: 0.8277\n",
    "# Training accuracy: 93.51 (%)\n",
    "\n",
    "# Accuracy aumentou de 0.9140 para 0.9351 (4/200)\n",
    "# Saving checkpoint...\n",
    "# F1 aumentou de 0.7798 para 0.8277 (4/200)\n",
    "# Saving checkpoint...\n",
    "\n",
    "# 100%|███████████████████████████████████████████████████████████████████████████████████████████████████████| 44/44 [02:50<00:00,  3.88s/it]\n",
    "\n",
    "# Validation loss: 0.16421\n",
    "# Validation precision: 0.8514\n",
    "# Validation recall: 0.8416\n",
    "# Validation F1: 0.8464\n",
    "# Validation accuracy: 94.30 (%)\n",
    "\n",
    "# Accuracy aumentou de 0.9095 para 0.9430 (4/200)\n",
    "# Saving checkpoint...\n",
    "# F1 aumentou de 0.7338 para 0.8464 (4/200)\n",
    "# Saving checkpoint...\n",
    "\n",
    "# Epoch 5/200\n",
    "\n",
    "# 100%|█████████████████████████████████████████████████████████████████████████████████████████████████████| 176/176 [13:36<00:00,  4.64s/it]\n",
    "\n",
    "# Training loss: 0.13228\n",
    "# Train precision: 0.8766\n",
    "# Train recall: 0.8766\n",
    "# Train F1: 0.8766\n",
    "# Training accuracy: 95.24 (%)\n",
    "\n",
    "# Accuracy aumentou de 0.9351 para 0.9524 (5/200)\n",
    "# Saving checkpoint...\n",
    "# F1 aumentou de 0.8277 para 0.8766 (5/200)\n",
    "# Saving checkpoint...\n",
    "\n",
    "# 100%|███████████████████████████████████████████████████████████████████████████████████████████████████████| 44/44 [02:55<00:00,  3.99s/it]\n",
    "\n",
    "# Validation loss: 0.17428\n",
    "# Validation precision: 0.8531\n",
    "# Validation recall: 0.8046\n",
    "# Validation F1: 0.8281\n",
    "# Validation accuracy: 93.73 (%)\n",
    "\n",
    "\n",
    "# Epoch 6/200\n",
    "\n",
    "# 100%|█████████████████████████████████████████████████████████████████████████████████████████████████████| 176/176 [13:32<00:00,  4.62s/it]\n",
    "\n",
    "# Training loss: 0.11737\n",
    "# Train precision: 0.8818\n",
    "# Train recall: 0.8996\n",
    "# Train F1: 0.8906\n",
    "# Training accuracy: 95.62 (%)\n",
    "\n",
    "# Accuracy aumentou de 0.9524 para 0.9562 (6/200)\n",
    "# Saving checkpoint...\n",
    "# F1 aumentou de 0.8766 para 0.8906 (6/200)\n",
    "# Saving checkpoint...\n",
    "\n",
    "# 100%|███████████████████████████████████████████████████████████████████████████████████████████████████████| 44/44 [02:55<00:00,  3.98s/it]\n",
    "\n",
    "# Validation loss: 0.16949\n",
    "# Validation precision: 0.9151\n",
    "# Validation recall: 0.7307\n",
    "# Validation F1: 0.8126\n",
    "# Validation accuracy: 93.63 (%)\n",
    "\n",
    "\n",
    "# Epoch 7/200\n",
    "\n",
    "# 100%|█████████████████████████████████████████████████████████████████████████████████████████████████████| 176/176 [13:37<00:00,  4.64s/it]\n",
    "\n",
    "# Training loss: 0.09294\n",
    "# Train precision: 0.9103\n",
    "# Train recall: 0.9237\n",
    "# Train F1: 0.9169\n",
    "# Training accuracy: 96.66 (%)\n",
    "\n",
    "# Accuracy aumentou de 0.9562 para 0.9666 (7/200)\n",
    "# Saving checkpoint...\n",
    "# F1 aumentou de 0.8906 para 0.9169 (7/200)\n",
    "# Saving checkpoint...\n",
    "\n",
    "# 100%|███████████████████████████████████████████████████████████████████████████████████████████████████████| 44/44 [02:55<00:00,  4.00s/it]\n",
    "\n",
    "# Validation loss: 0.16541\n",
    "# Validation precision: 0.8277\n",
    "# Validation recall: 0.8829\n",
    "# Validation F1: 0.8544\n",
    "# Validation accuracy: 94.05 (%)\n",
    "\n",
    "# F1 aumentou de 0.8464 para 0.8544 (7/200)\n",
    "# Saving checkpoint...\n",
    "\n",
    "# Epoch 8/200\n",
    "\n",
    "# 100%|█████████████████████████████████████████████████████████████████████████████████████████████████████| 176/176 [13:43<00:00,  4.68s/it]\n",
    "\n",
    "# Training loss: 0.08672\n",
    "# Train precision: 0.9027\n",
    "# Train recall: 0.9350\n",
    "# Train F1: 0.9186\n",
    "# Training accuracy: 96.86 (%)\n",
    "\n",
    "# Accuracy aumentou de 0.9666 para 0.9686 (8/200)\n",
    "# Saving checkpoint...\n",
    "# F1 aumentou de 0.9169 para 0.9186 (8/200)\n",
    "# Saving checkpoint...\n",
    "\n",
    "# 100%|███████████████████████████████████████████████████████████████████████████████████████████████████████| 44/44 [02:55<00:00,  3.98s/it]\n",
    "\n",
    "# Validation loss: 0.13027\n",
    "# Validation precision: 0.9246\n",
    "# Validation recall: 0.8336\n",
    "# Validation F1: 0.8768\n",
    "# Validation accuracy: 95.33 (%)\n",
    "\n",
    "# Accuracy aumentou de 0.9430 para 0.9533 (8/200)\n",
    "# Saving checkpoint...\n",
    "# F1 aumentou de 0.8544 para 0.8768 (8/200)\n",
    "# Saving checkpoint...\n",
    "\n",
    "# Epoch 9/200\n",
    "\n",
    "# 100%|█████████████████████████████████████████████████████████████████████████████████████████████████████| 176/176 [13:37<00:00,  4.65s/it]\n",
    "\n",
    "# Training loss: 0.07413\n",
    "# Train precision: 0.9152\n",
    "# Train recall: 0.9411\n",
    "# Train F1: 0.9280\n",
    "# Training accuracy: 97.28 (%)\n",
    "\n",
    "# Accuracy aumentou de 0.9686 para 0.9728 (9/200)\n",
    "# Saving checkpoint...\n",
    "# F1 aumentou de 0.9186 para 0.9280 (9/200)\n",
    "# Saving checkpoint...\n",
    "\n",
    "# 100%|███████████████████████████████████████████████████████████████████████████████████████████████████████| 44/44 [02:54<00:00,  3.97s/it]\n",
    "\n",
    "# Validation loss: 0.19209\n",
    "# Validation precision: 0.8769\n",
    "# Validation recall: 0.8261\n",
    "# Validation F1: 0.8507\n",
    "# Validation accuracy: 94.30 (%)\n",
    "\n",
    "\n",
    "# Epoch 10/200\n",
    "\n",
    "# 100%|█████████████████████████████████████████████████████████████████████████████████████████████████████| 176/176 [13:36<00:00,  4.64s/it]\n",
    "\n",
    "# Training loss: 0.06857\n",
    "# Train precision: 0.9250\n",
    "# Train recall: 0.9515\n",
    "# Train F1: 0.9381\n",
    "# Training accuracy: 97.57 (%)\n",
    "\n",
    "# Accuracy aumentou de 0.9728 para 0.9757 (10/200)\n",
    "# Saving checkpoint...\n",
    "# F1 aumentou de 0.9280 para 0.9381 (10/200)\n",
    "# Saving checkpoint...\n",
    "\n",
    "# 100%|███████████████████████████████████████████████████████████████████████████████████████████████████████| 44/44 [02:56<00:00,  4.01s/it]\n",
    "\n",
    "# Validation loss: 0.16175\n",
    "# Validation precision: 0.9269\n",
    "# Validation recall: 0.8330\n",
    "# Validation F1: 0.8775\n",
    "# Validation accuracy: 95.58 (%)\n",
    "\n",
    "# Accuracy aumentou de 0.9533 para 0.9558 (10/200)\n",
    "# Saving checkpoint...\n",
    "# F1 aumentou de 0.8768 para 0.8775 (10/200)\n",
    "# Saving checkpoint...\n",
    "\n",
    "# Epoch 11/200\n",
    "\n",
    "# 100%|█████████████████████████████████████████████████████████████████████████████████████████████████████| 176/176 [13:41<00:00,  4.67s/it]\n",
    "\n",
    "# Training loss: 0.06026\n",
    "# Train precision: 0.9335\n",
    "# Train recall: 0.9596\n",
    "# Train F1: 0.9464\n",
    "# Training accuracy: 97.91 (%)\n",
    "\n",
    "# Accuracy aumentou de 0.9757 para 0.9791 (11/200)\n",
    "# Saving checkpoint...\n",
    "# F1 aumentou de 0.9381 para 0.9464 (11/200)\n",
    "# Saving checkpoint...\n",
    "\n",
    "# 100%|███████████████████████████████████████████████████████████████████████████████████████████████████████| 44/44 [02:53<00:00,  3.95s/it]\n",
    "\n",
    "# Validation loss: 0.17927\n",
    "# Validation precision: 0.8935\n",
    "# Validation recall: 0.8030\n",
    "# Validation F1: 0.8458\n",
    "# Validation accuracy: 94.44 (%)\n",
    "\n",
    "\n",
    "# Epoch 12/200\n",
    "\n",
    "# 100%|█████████████████████████████████████████████████████████████████████████████████████████████████████| 176/176 [14:44<00:00,  5.03s/it]\n",
    "\n",
    "# Training loss: 0.05948\n",
    "# Train precision: 0.9373\n",
    "# Train recall: 0.9586\n",
    "# Train F1: 0.9479\n",
    "# Training accuracy: 97.93 (%)\n",
    "\n",
    "# Accuracy aumentou de 0.9791 para 0.9793 (12/200)\n",
    "# Saving checkpoint...\n",
    "# F1 aumentou de 0.9464 para 0.9479 (12/200)\n",
    "# Saving checkpoint...\n",
    "\n",
    "# 100%|███████████████████████████████████████████████████████████████████████████████████████████████████████| 44/44 [02:54<00:00,  3.96s/it]\n",
    "\n",
    "# Validation loss: 0.20212\n",
    "# Validation precision: 0.9238\n",
    "# Validation recall: 0.7491\n",
    "# Validation F1: 0.8273\n",
    "# Validation accuracy: 94.05 (%)\n",
    "\n",
    "\n",
    "# Epoch 13/200\n",
    "\n",
    "# 100%|█████████████████████████████████████████████████████████████████████████████████████████████████████| 176/176 [14:09<00:00,  4.83s/it]\n",
    "\n",
    "# Training loss: 0.05142\n",
    "# Train precision: 0.9404\n",
    "# Train recall: 0.9612\n",
    "# Train F1: 0.9507\n",
    "# Training accuracy: 98.07 (%)\n",
    "\n",
    "# Accuracy aumentou de 0.9793 para 0.9807 (13/200)\n",
    "# Saving checkpoint...\n",
    "# F1 aumentou de 0.9479 para 0.9507 (13/200)\n",
    "# Saving checkpoint...\n",
    "\n",
    "# 100%|███████████████████████████████████████████████████████████████████████████████████████████████████████| 44/44 [03:17<00:00,  4.50s/it]\n",
    "\n",
    "# Validation loss: 0.17905\n",
    "# Validation precision: 0.8360\n",
    "# Validation recall: 0.8577\n",
    "# Validation F1: 0.8467\n",
    "# Validation accuracy: 94.02 (%)\n",
    "\n",
    "\n",
    "# Epoch 14/200\n",
    "\n",
    "# 100%|█████████████████████████████████████████████████████████████████████████████████████████████████████| 176/176 [15:03<00:00,  5.13s/it]\n",
    "\n",
    "# Training loss: 0.05154\n",
    "# Train precision: 0.9362\n",
    "# Train recall: 0.9664\n",
    "# Train F1: 0.9510\n",
    "# Training accuracy: 98.05 (%)\n",
    "\n",
    "# F1 aumentou de 0.9507 para 0.9510 (14/200)\n",
    "# Saving checkpoint...\n",
    "\n",
    "# 100%|███████████████████████████████████████████████████████████████████████████████████████████████████████| 44/44 [03:18<00:00,  4.51s/it]\n",
    "\n",
    "# Validation loss: 0.17438\n",
    "# Validation precision: 0.9556\n",
    "# Validation recall: 0.8028\n",
    "# Validation F1: 0.8726\n",
    "# Validation accuracy: 95.30 (%)\n",
    "\n",
    "\n",
    "# Epoch 15/200\n",
    "\n",
    "# 100%|█████████████████████████████████████████████████████████████████████████████████████████████████████| 176/176 [15:06<00:00,  5.15s/it]\n",
    "\n",
    "# Training loss: 0.04837\n",
    "# Train precision: 0.9387\n",
    "# Train recall: 0.9722\n",
    "# Train F1: 0.9552\n",
    "# Training accuracy: 98.27 (%)\n",
    "\n",
    "# Accuracy aumentou de 0.9807 para 0.9827 (15/200)\n",
    "# Saving checkpoint...\n",
    "# F1 aumentou de 0.9510 para 0.9552 (15/200)\n",
    "# Saving checkpoint...\n",
    "\n",
    "# 100%|███████████████████████████████████████████████████████████████████████████████████████████████████████| 44/44 [03:18<00:00,  4.50s/it]\n",
    "\n",
    "# Validation loss: 0.20606\n",
    "# Validation precision: 0.9557\n",
    "# Validation recall: 0.8319\n",
    "# Validation F1: 0.8895\n",
    "# Validation accuracy: 95.80 (%)\n",
    "\n",
    "# Accuracy aumentou de 0.9558 para 0.9580 (15/200)\n",
    "# Saving checkpoint...\n",
    "# F1 aumentou de 0.8775 para 0.8895 (15/200)\n",
    "# Saving checkpoint...\n",
    "\n",
    "# Epoch 16/200\n",
    "\n",
    "# 100%|█████████████████████████████████████████████████████████████████████████████████████████████████████| 176/176 [15:07<00:00,  5.15s/it]\n",
    "\n",
    "# Training loss: 0.03993\n",
    "# Train precision: 0.9513\n",
    "# Train recall: 0.9770\n",
    "# Train F1: 0.9640\n",
    "# Training accuracy: 98.58 (%)\n",
    "\n",
    "# Accuracy aumentou de 0.9827 para 0.9858 (16/200)\n",
    "# Saving checkpoint...\n",
    "# F1 aumentou de 0.9552 para 0.9640 (16/200)\n",
    "# Saving checkpoint...\n",
    "\n",
    "# 100%|███████████████████████████████████████████████████████████████████████████████████████████████████████| 44/44 [03:17<00:00,  4.49s/it]\n",
    "\n",
    "# Validation loss: 0.18314\n",
    "# Validation precision: 0.9302\n",
    "# Validation recall: 0.8178\n",
    "# Validation F1: 0.8704\n",
    "# Validation accuracy: 95.62 (%)\n",
    "\n",
    "\n",
    "# Epoch 17/200\n",
    "\n",
    "# 100%|█████████████████████████████████████████████████████████████████████████████████████████████████████| 176/176 [15:06<00:00,  5.15s/it]\n",
    "\n",
    "# Training loss: 0.04038\n",
    "# Train precision: 0.9558\n",
    "# Train recall: 0.9816\n",
    "# Train F1: 0.9685\n",
    "# Training accuracy: 98.80 (%)\n",
    "\n",
    "# Accuracy aumentou de 0.9858 para 0.9880 (17/200)\n",
    "# Saving checkpoint...\n",
    "# F1 aumentou de 0.9640 para 0.9685 (17/200)\n",
    "# Saving checkpoint...\n",
    "\n",
    "# 100%|███████████████████████████████████████████████████████████████████████████████████████████████████████| 44/44 [03:18<00:00,  4.50s/it]\n",
    "\n",
    "# Validation loss: 0.27357\n",
    "# Validation precision: 0.8770\n",
    "# Validation recall: 0.8095\n",
    "# Validation F1: 0.8419\n",
    "# Validation accuracy: 94.09 (%)\n",
    "\n",
    "\n",
    "# Epoch 18/200\n",
    "\n",
    "# 100%|█████████████████████████████████████████████████████████████████████████████████████████████████████| 176/176 [15:03<00:00,  5.13s/it]\n",
    "\n",
    "# Training loss: 0.04613\n",
    "# Train precision: 0.9482\n",
    "# Train recall: 0.9705\n",
    "# Train F1: 0.9592\n",
    "# Training accuracy: 98.40 (%)\n",
    "\n",
    "\n",
    "# 100%|███████████████████████████████████████████████████████████████████████████████████████████████████████| 44/44 [03:17<00:00,  4.49s/it]\n",
    "\n",
    "# Validation loss: 0.23922\n",
    "# Validation precision: 0.8745\n",
    "# Validation recall: 0.8160\n",
    "# Validation F1: 0.8442\n",
    "# Validation accuracy: 94.23 (%)\n",
    "\n",
    "\n",
    "# Epoch 19/200\n",
    "\n",
    "# 100%|█████████████████████████████████████████████████████████████████████████████████████████████████████| 176/176 [15:05<00:00,  5.14s/it]\n",
    "\n",
    "# Training loss: 0.04484\n",
    "# Train precision: 0.9495\n",
    "# Train recall: 0.9766\n",
    "# Train F1: 0.9629\n",
    "# Training accuracy: 98.56 (%)\n",
    "\n",
    "\n",
    "# 100%|███████████████████████████████████████████████████████████████████████████████████████████████████████| 44/44 [03:17<00:00,  4.49s/it]\n",
    "\n",
    "# Validation loss: 0.24425\n",
    "# Validation precision: 0.9308\n",
    "# Validation recall: 0.7215\n",
    "# Validation F1: 0.8129\n",
    "# Validation accuracy: 93.16 (%)\n",
    "\n",
    "\n",
    "# Epoch 20/200\n",
    "\n",
    "# 100%|█████████████████████████████████████████████████████████████████████████████████████████████████████| 176/176 [15:05<00:00,  5.14s/it]\n",
    "\n",
    "# Training loss: 0.03240\n",
    "# Train precision: 0.9599\n",
    "# Train recall: 0.9848\n",
    "# Train F1: 0.9722\n",
    "# Training accuracy: 98.91 (%)\n",
    "\n",
    "# Accuracy aumentou de 0.9880 para 0.9891 (20/200)\n",
    "# Saving checkpoint...\n",
    "# F1 aumentou de 0.9685 para 0.9722 (20/200)\n",
    "# Saving checkpoint...\n",
    "\n",
    "# 100%|███████████████████████████████████████████████████████████████████████████████████████████████████████| 44/44 [02:56<00:00,  4.01s/it]\n",
    "\n",
    "# Validation loss: 0.22470\n",
    "# Validation precision: 0.9731\n",
    "# Validation recall: 0.7806\n",
    "# Validation F1: 0.8663\n",
    "# Validation accuracy: 95.23 (%)\n",
    "\n",
    "\n",
    "# Epoch 21/200\n",
    "\n",
    "# 100%|█████████████████████████████████████████████████████████████████████████████████████████████████████| 176/176 [13:40<00:00,  4.66s/it]\n",
    "\n",
    "# Training loss: 0.03398\n",
    "# Train precision: 0.9573\n",
    "# Train recall: 0.9811\n",
    "# Train F1: 0.9691\n",
    "# Training accuracy: 98.79 (%)\n",
    "\n",
    "\n",
    "# 100%|███████████████████████████████████████████████████████████████████████████████████████████████████████| 44/44 [02:56<00:00,  4.02s/it]\n",
    "\n",
    "# Validation loss: 0.18702\n",
    "# Validation precision: 0.9455\n",
    "# Validation recall: 0.8283\n",
    "# Validation F1: 0.8830\n",
    "# Validation accuracy: 95.58 (%)\n",
    "\n",
    "\n",
    "# Epoch 22/200\n",
    "\n",
    "# 100%|█████████████████████████████████████████████████████████████████████████████████████████████████████| 176/176 [13:36<00:00,  4.64s/it]\n",
    "\n",
    "# Training loss: 0.03224\n",
    "# Train precision: 0.9625\n",
    "# Train recall: 0.9802\n",
    "# Train F1: 0.9713\n",
    "# Training accuracy: 98.88 (%)\n",
    "\n",
    "\n",
    "# 100%|███████████████████████████████████████████████████████████████████████████████████████████████████████| 44/44 [03:00<00:00,  4.11s/it]\n",
    "\n",
    "# Validation loss: 0.20173\n",
    "# Validation precision: 0.9354\n",
    "# Validation recall: 0.8472\n",
    "# Validation F1: 0.8891\n",
    "# Validation accuracy: 96.01 (%)\n",
    "\n",
    "# Accuracy aumentou de 0.9580 para 0.9601 (22/200)\n",
    "# Saving checkpoint...\n",
    "\n",
    "# Epoch 23/200\n",
    "\n",
    "# 100%|█████████████████████████████████████████████████████████████████████████████████████████████████████| 176/176 [14:52<00:00,  5.07s/it]\n",
    "\n",
    "# Training loss: 0.02943\n",
    "# Train precision: 0.9672\n",
    "# Train recall: 0.9873\n",
    "# Train F1: 0.9771\n",
    "# Training accuracy: 99.09 (%)\n",
    "\n",
    "# Accuracy aumentou de 0.9891 para 0.9909 (23/200)\n",
    "# Saving checkpoint...\n",
    "# F1 aumentou de 0.9722 para 0.9771 (23/200)\n",
    "# Saving checkpoint...\n",
    "\n",
    "# 100%|███████████████████████████████████████████████████████████████████████████████████████████████████████| 44/44 [02:59<00:00,  4.07s/it]\n",
    "\n",
    "# Validation loss: 0.19532\n",
    "# Validation precision: 0.9468\n",
    "# Validation recall: 0.8196\n",
    "# Validation F1: 0.8786\n",
    "# Validation accuracy: 95.80 (%)\n",
    "\n",
    "\n",
    "# Epoch 24/200\n",
    "\n",
    "# 100%|█████████████████████████████████████████████████████████████████████████████████████████████████████| 176/176 [13:44<00:00,  4.68s/it]\n",
    "\n",
    "# Training loss: 0.02621\n",
    "# Train precision: 0.9692\n",
    "# Train recall: 0.9862\n",
    "# Train F1: 0.9776\n",
    "# Training accuracy: 99.13 (%)\n",
    "\n",
    "# Accuracy aumentou de 0.9909 para 0.9913 (24/200)\n",
    "# Saving checkpoint...\n",
    "# F1 aumentou de 0.9771 para 0.9776 (24/200)\n",
    "# Saving checkpoint...\n",
    "\n",
    "# 100%|███████████████████████████████████████████████████████████████████████████████████████████████████████| 44/44 [02:54<00:00,  3.98s/it]\n",
    "\n",
    "# Validation loss: 0.24944\n",
    "# Validation precision: 0.9290\n",
    "# Validation recall: 0.8292\n",
    "# Validation F1: 0.8763\n",
    "# Validation accuracy: 95.66 (%)\n",
    "\n",
    "\n",
    "# Epoch 25/200\n",
    "\n",
    "# 100%|█████████████████████████████████████████████████████████████████████████████████████████████████████| 176/176 [13:40<00:00,  4.66s/it]\n",
    "\n",
    "# Training loss: 0.02904\n",
    "# Train precision: 0.9653\n",
    "# Train recall: 0.9846\n",
    "# Train F1: 0.9748\n",
    "# Training accuracy: 99.00 (%)\n",
    "\n",
    "\n",
    "# 100%|███████████████████████████████████████████████████████████████████████████████████████████████████████| 44/44 [02:55<00:00,  3.98s/it]\n",
    "\n",
    "# Validation loss: 0.21666\n",
    "# Validation precision: 0.9556\n",
    "# Validation recall: 0.8433\n",
    "# Validation F1: 0.8959\n",
    "# Validation accuracy: 96.26 (%)\n",
    "\n",
    "# Accuracy aumentou de 0.9601 para 0.9626 (25/200)\n",
    "# Saving checkpoint...\n",
    "# F1 aumentou de 0.8895 para 0.8959 (25/200)\n",
    "# Saving checkpoint...\n",
    "\n",
    "# Epoch 26/200\n",
    "\n",
    "# 100%|█████████████████████████████████████████████████████████████████████████████████████████████████████| 176/176 [13:39<00:00,  4.66s/it]\n",
    "\n",
    "# Training loss: 0.02400\n",
    "# Train precision: 0.9722\n",
    "# Train recall: 0.9874\n",
    "# Train F1: 0.9798\n",
    "# Training accuracy: 99.19 (%)\n",
    "\n",
    "# Accuracy aumentou de 0.9913 para 0.9919 (26/200)\n",
    "# Saving checkpoint...\n",
    "# F1 aumentou de 0.9776 para 0.9798 (26/200)\n",
    "# Saving checkpoint...\n",
    "\n",
    "# 100%|███████████████████████████████████████████████████████████████████████████████████████████████████████| 44/44 [02:55<00:00,  3.99s/it]\n",
    "\n",
    "# Validation loss: 0.21236\n",
    "# Validation precision: 0.9543\n",
    "# Validation recall: 0.7872\n",
    "# Validation F1: 0.8627\n",
    "# Validation accuracy: 95.26 (%)\n",
    "\n",
    "\n",
    "# Epoch 27/200\n",
    "\n",
    "# 100%|█████████████████████████████████████████████████████████████████████████████████████████████████████| 176/176 [13:40<00:00,  4.66s/it]\n",
    "\n",
    "# Training loss: 0.02249\n",
    "# Train precision: 0.9725\n",
    "# Train recall: 0.9894\n",
    "# Train F1: 0.9809\n",
    "# Training accuracy: 99.25 (%)\n",
    "\n",
    "# Accuracy aumentou de 0.9919 para 0.9925 (27/200)\n",
    "# Saving checkpoint...\n",
    "# F1 aumentou de 0.9798 para 0.9809 (27/200)\n",
    "# Saving checkpoint...\n",
    "\n",
    "# 100%|███████████████████████████████████████████████████████████████████████████████████████████████████████| 44/44 [02:56<00:00,  4.01s/it]\n",
    "\n",
    "# Validation loss: 0.18879\n",
    "# Validation precision: 0.9495\n",
    "# Validation recall: 0.8399\n",
    "# Validation F1: 0.8913\n",
    "# Validation accuracy: 96.08 (%)\n",
    "\n",
    "\n",
    "# Epoch 28/200\n",
    "\n",
    "# 100%|█████████████████████████████████████████████████████████████████████████████████████████████████████| 176/176 [13:32<00:00,  4.62s/it]\n",
    "\n",
    "# Training loss: 0.02134\n",
    "# Train precision: 0.9745\n",
    "# Train recall: 0.9910\n",
    "# Train F1: 0.9827\n",
    "# Training accuracy: 99.30 (%)\n",
    "\n",
    "# Accuracy aumentou de 0.9925 para 0.9930 (28/200)\n",
    "# Saving checkpoint...\n",
    "# F1 aumentou de 0.9809 para 0.9827 (28/200)\n",
    "# Saving checkpoint...\n",
    "\n",
    "# 100%|███████████████████████████████████████████████████████████████████████████████████████████████████████| 44/44 [02:56<00:00,  4.01s/it]\n",
    "\n",
    "# Validation loss: 0.23777\n",
    "# Validation precision: 0.9506\n",
    "# Validation recall: 0.7953\n",
    "# Validation F1: 0.8661\n",
    "# Validation accuracy: 95.12 (%)\n",
    "\n",
    "\n",
    "# Epoch 29/200\n",
    "\n",
    "# 100%|█████████████████████████████████████████████████████████████████████████████████████████████████████| 176/176 [13:42<00:00,  4.67s/it]\n",
    "\n",
    "# Training loss: 0.02626\n",
    "# Train precision: 0.9692\n",
    "# Train recall: 0.9869\n",
    "# Train F1: 0.9780\n",
    "# Training accuracy: 99.15 (%)\n",
    "\n",
    "\n",
    "# 100%|███████████████████████████████████████████████████████████████████████████████████████████████████████| 44/44 [02:54<00:00,  3.96s/it]\n",
    "\n",
    "# Validation loss: 0.21497\n",
    "# Validation precision: 0.9872\n",
    "# Validation recall: 0.8291\n",
    "# Validation F1: 0.9013\n",
    "# Validation accuracy: 96.40 (%)\n",
    "\n",
    "# Accuracy aumentou de 0.9626 para 0.9640 (29/200)\n",
    "# Saving checkpoint...\n",
    "# F1 aumentou de 0.8959 para 0.9013 (29/200)\n",
    "# Saving checkpoint...\n",
    "\n",
    "# Epoch 30/200\n",
    "\n",
    "# 100%|█████████████████████████████████████████████████████████████████████████████████████████████████████| 176/176 [13:36<00:00,  4.64s/it]\n",
    "\n",
    "# Training loss: 0.02498\n",
    "# Train precision: 0.9713\n",
    "# Train recall: 0.9884\n",
    "# Train F1: 0.9798\n",
    "# Training accuracy: 99.22 (%)\n",
    "\n",
    "\n",
    "# 100%|███████████████████████████████████████████████████████████████████████████████████████████████████████| 44/44 [02:57<00:00,  4.03s/it]\n",
    "\n",
    "# Validation loss: 0.33157\n",
    "# Validation precision: 0.9612\n",
    "# Validation recall: 0.7630\n",
    "# Validation F1: 0.8507\n",
    "# Validation accuracy: 95.05 (%)\n",
    "\n",
    "\n",
    "# Epoch 31/200\n",
    "\n",
    "# 100%|█████████████████████████████████████████████████████████████████████████████████████████████████████| 176/176 [13:40<00:00,  4.66s/it]\n",
    "\n",
    "# Training loss: 0.02707\n",
    "# Train precision: 0.9672\n",
    "# Train recall: 0.9873\n",
    "# Train F1: 0.9772\n",
    "# Training accuracy: 99.09 (%)\n",
    "\n",
    "\n",
    "# 100%|███████████████████████████████████████████████████████████████████████████████████████████████████████| 44/44 [02:55<00:00,  3.99s/it]\n",
    "\n",
    "# Validation loss: 0.27076\n",
    "# Validation precision: 0.9652\n",
    "# Validation recall: 0.8087\n",
    "# Validation F1: 0.8801\n",
    "# Validation accuracy: 95.69 (%)\n",
    "\n",
    "\n",
    "# Epoch 32/200\n",
    "\n",
    "# 100%|█████████████████████████████████████████████████████████████████████████████████████████████████████| 176/176 [13:35<00:00,  4.64s/it]\n",
    "\n",
    "# Training loss: 0.02496\n",
    "# Train precision: 0.9731\n",
    "# Train recall: 0.9887\n",
    "# Train F1: 0.9809\n",
    "# Training accuracy: 99.27 (%)\n",
    "\n",
    "\n",
    "# 100%|███████████████████████████████████████████████████████████████████████████████████████████████████████| 44/44 [02:55<00:00,  3.99s/it]\n",
    "\n",
    "# Validation loss: 0.21945\n",
    "# Validation precision: 0.9524\n",
    "# Validation recall: 0.8381\n",
    "# Validation F1: 0.8916\n",
    "# Validation accuracy: 96.19 (%)\n",
    "\n",
    "\n",
    "# Epoch 33/200\n",
    "\n",
    "# 100%|█████████████████████████████████████████████████████████████████████████████████████████████████████| 176/176 [13:37<00:00,  4.65s/it]\n",
    "\n",
    "# Training loss: 0.02529\n",
    "# Train precision: 0.9760\n",
    "# Train recall: 0.9897\n",
    "# Train F1: 0.9828\n",
    "# Training accuracy: 99.34 (%)\n",
    "\n",
    "# Accuracy aumentou de 0.9930 para 0.9934 (33/200)\n",
    "# Saving checkpoint...\n",
    "# F1 aumentou de 0.9827 para 0.9828 (33/200)\n",
    "# Saving checkpoint...\n",
    "\n",
    "# 100%|███████████████████████████████████████████████████████████████████████████████████████████████████████| 44/44 [02:55<00:00,  4.00s/it]\n",
    "\n",
    "# Validation loss: 0.19791\n",
    "# Validation precision: 0.8770\n",
    "# Validation recall: 0.8965\n",
    "# Validation F1: 0.8867\n",
    "# Validation accuracy: 95.58 (%)\n",
    "\n",
    "\n",
    "# Epoch 34/200\n",
    "\n",
    "# 100%|█████████████████████████████████████████████████████████████████████████████████████████████████████| 176/176 [13:38<00:00,  4.65s/it]\n",
    "\n",
    "# Training loss: 0.03335\n",
    "# Train precision: 0.9612\n",
    "# Train recall: 0.9860\n",
    "# Train F1: 0.9734\n",
    "# Training accuracy: 98.97 (%)\n",
    "\n",
    "\n",
    "# 100%|███████████████████████████████████████████████████████████████████████████████████████████████████████| 44/44 [02:57<00:00,  4.03s/it]\n",
    "\n",
    "# Validation loss: 0.21483\n",
    "# Validation precision: 0.9152\n",
    "# Validation recall: 0.8467\n",
    "# Validation F1: 0.8796\n",
    "# Validation accuracy: 95.58 (%)\n",
    "\n",
    "\n",
    "# Epoch 35/200\n",
    "\n",
    "# 100%|█████████████████████████████████████████████████████████████████████████████████████████████████████| 176/176 [13:38<00:00,  4.65s/it]\n",
    "\n",
    "# Training loss: 0.02024\n",
    "# Train precision: 0.9747\n",
    "# Train recall: 0.9925\n",
    "# Train F1: 0.9835\n",
    "# Training accuracy: 99.37 (%)\n",
    "\n",
    "# Accuracy aumentou de 0.9934 para 0.9937 (35/200)\n",
    "# Saving checkpoint...\n",
    "# F1 aumentou de 0.9828 para 0.9835 (35/200)\n",
    "# Saving checkpoint...\n",
    "\n",
    "# 100%|███████████████████████████████████████████████████████████████████████████████████████████████████████| 44/44 [02:59<00:00,  4.07s/it]\n",
    "\n",
    "# Validation loss: 0.25423\n",
    "# Validation precision: 0.9303\n",
    "# Validation recall: 0.8537\n",
    "# Validation F1: 0.8904\n",
    "# Validation accuracy: 95.90 (%)\n",
    "\n",
    "\n",
    "# Epoch 36/200\n",
    "\n",
    "# 100%|█████████████████████████████████████████████████████████████████████████████████████████████████████| 176/176 [13:39<00:00,  4.66s/it]\n",
    "\n",
    "# Training loss: 0.02190\n",
    "# Train precision: 0.9752\n",
    "# Train recall: 0.9911\n",
    "# Train F1: 0.9831\n",
    "# Training accuracy: 99.35 (%)\n",
    "\n",
    "\n",
    "# 100%|███████████████████████████████████████████████████████████████████████████████████████████████████████| 44/44 [02:58<00:00,  4.05s/it]\n",
    "\n",
    "# Validation loss: 0.28113\n",
    "# Validation precision: 0.9717\n",
    "# Validation recall: 0.7878\n",
    "# Validation F1: 0.8701\n",
    "# Validation accuracy: 95.62 (%)\n",
    "\n",
    "\n",
    "# Epoch 37/200\n",
    "\n",
    "# 100%|█████████████████████████████████████████████████████████████████████████████████████████████████████| 176/176 [13:52<00:00,  4.73s/it]\n",
    "\n",
    "# Training loss: 0.01601\n",
    "# Train precision: 0.9807\n",
    "# Train recall: 0.9936\n",
    "# Train F1: 0.9871\n",
    "# Training accuracy: 99.49 (%)\n",
    "\n",
    "# Accuracy aumentou de 0.9937 para 0.9949 (37/200)\n",
    "# Saving checkpoint...\n",
    "# F1 aumentou de 0.9835 para 0.9871 (37/200)\n",
    "# Saving checkpoint...\n",
    "\n",
    "# 100%|███████████████████████████████████████████████████████████████████████████████████████████████████████| 44/44 [02:58<00:00,  4.06s/it]\n",
    "\n",
    "# Validation loss: 0.30752\n",
    "# Validation precision: 0.9645\n",
    "# Validation recall: 0.7565\n",
    "# Validation F1: 0.8479\n",
    "# Validation accuracy: 94.80 (%)\n",
    "\n",
    "\n",
    "# Epoch 38/200\n",
    "\n",
    "# 100%|█████████████████████████████████████████████████████████████████████████████████████████████████████| 176/176 [13:41<00:00,  4.67s/it]\n",
    "\n",
    "# Training loss: 0.01972\n",
    "# Train precision: 0.9790\n",
    "# Train recall: 0.9901\n",
    "# Train F1: 0.9845\n",
    "# Training accuracy: 99.38 (%)\n",
    "\n",
    "\n",
    "# 100%|███████████████████████████████████████████████████████████████████████████████████████████████████████| 44/44 [02:57<00:00,  4.03s/it]\n",
    "\n",
    "# Validation loss: 0.25120\n",
    "# Validation precision: 0.9104\n",
    "# Validation recall: 0.8249\n",
    "# Validation F1: 0.8655\n",
    "# Validation accuracy: 94.94 (%)\n",
    "\n",
    "\n",
    "# Epoch 39/200\n",
    "\n",
    "# 100%|█████████████████████████████████████████████████████████████████████████████████████████████████████| 176/176 [13:41<00:00,  4.67s/it]\n",
    "\n",
    "# Training loss: 0.02554\n",
    "# Train precision: 0.9705\n",
    "# Train recall: 0.9859\n",
    "# Train F1: 0.9782\n",
    "# Training accuracy: 99.16 (%)\n",
    "\n",
    "\n",
    "# 100%|███████████████████████████████████████████████████████████████████████████████████████████████████████| 44/44 [02:55<00:00,  3.99s/it]\n",
    "\n",
    "# Validation loss: 0.25958\n",
    "# Validation precision: 0.9327\n",
    "# Validation recall: 0.8072\n",
    "# Validation F1: 0.8654\n",
    "# Validation accuracy: 95.55 (%)\n",
    "\n",
    "\n",
    "# Epoch 40/200\n",
    "\n",
    "# 100%|█████████████████████████████████████████████████████████████████████████████████████████████████████| 176/176 [13:51<00:00,  4.72s/it]\n",
    "\n",
    "# Training loss: 0.02222\n",
    "# Train precision: 0.9726\n",
    "# Train recall: 0.9895\n",
    "# Train F1: 0.9810\n",
    "# Training accuracy: 99.25 (%)\n",
    "\n",
    "\n",
    "# 100%|███████████████████████████████████████████████████████████████████████████████████████████████████████| 44/44 [02:55<00:00,  3.98s/it]\n",
    "\n",
    "# Validation loss: 0.22605\n",
    "# Validation precision: 0.9750\n",
    "# Validation recall: 0.8110\n",
    "# Validation F1: 0.8854\n",
    "# Validation accuracy: 96.05 (%)\n",
    "\n",
    "\n",
    "# Epoch 41/200\n",
    "\n",
    "# 100%|█████████████████████████████████████████████████████████████████████████████████████████████████████| 176/176 [13:42<00:00,  4.67s/it]\n",
    "\n",
    "# Training loss: 0.01967\n",
    "# Train precision: 0.9785\n",
    "# Train recall: 0.9903\n",
    "# Train F1: 0.9844\n",
    "# Training accuracy: 99.42 (%)\n",
    "\n",
    "\n",
    "# 100%|███████████████████████████████████████████████████████████████████████████████████████████████████████| 44/44 [02:56<00:00,  4.02s/it]\n",
    "\n",
    "# Validation loss: 0.26590\n",
    "# Validation precision: 0.9824\n",
    "# Validation recall: 0.8022\n",
    "# Validation F1: 0.8832\n",
    "# Validation accuracy: 95.80 (%)\n",
    "\n",
    "\n",
    "# Epoch 42/200\n",
    "\n",
    "# 100%|█████████████████████████████████████████████████████████████████████████████████████████████████████| 176/176 [13:43<00:00,  4.68s/it]\n",
    "\n",
    "# Training loss: 0.01947\n",
    "# Train precision: 0.9793\n",
    "# Train recall: 0.9916\n",
    "# Train F1: 0.9854\n",
    "# Training accuracy: 99.44 (%)\n",
    "\n",
    "\n",
    "# 100%|███████████████████████████████████████████████████████████████████████████████████████████████████████| 44/44 [02:56<00:00,  4.02s/it]\n",
    "\n",
    "# Validation loss: 0.25053\n",
    "# Validation precision: 0.9363\n",
    "# Validation recall: 0.8476\n",
    "# Validation F1: 0.8898\n",
    "# Validation accuracy: 95.98 (%)\n",
    "\n",
    "\n",
    "# Epoch 43/200\n",
    "\n",
    "# 100%|█████████████████████████████████████████████████████████████████████████████████████████████████████| 176/176 [13:36<00:00,  4.64s/it]\n",
    "\n",
    "# Training loss: 0.01692\n",
    "# Train precision: 0.9796\n",
    "# Train recall: 0.9924\n",
    "# Train F1: 0.9860\n",
    "# Training accuracy: 99.44 (%)\n",
    "\n",
    "\n",
    "# 100%|███████████████████████████████████████████████████████████████████████████████████████████████████████| 44/44 [02:55<00:00,  3.99s/it]\n",
    "\n",
    "# Validation loss: 0.25422\n",
    "# Validation precision: 0.9770\n",
    "# Validation recall: 0.8555\n",
    "# Validation F1: 0.9122\n",
    "# Validation accuracy: 96.51 (%)\n",
    "\n",
    "# Accuracy aumentou de 0.9640 para 0.9651 (43/200)\n",
    "# Saving checkpoint...\n",
    "# F1 aumentou de 0.9013 para 0.9122 (43/200)\n",
    "# Saving checkpoint...\n",
    "\n",
    "# Epoch 44/200\n",
    "\n",
    "# 100%|█████████████████████████████████████████████████████████████████████████████████████████████████████| 176/176 [13:43<00:00,  4.68s/it]\n",
    "\n",
    "# Training loss: 0.01632\n",
    "# Train precision: 0.9809\n",
    "# Train recall: 0.9924\n",
    "# Train F1: 0.9866\n",
    "# Training accuracy: 99.46 (%)\n",
    "\n",
    "\n",
    "# 100%|███████████████████████████████████████████████████████████████████████████████████████████████████████| 44/44 [02:57<00:00,  4.02s/it]\n",
    "\n",
    "# Validation loss: 0.34819\n",
    "# Validation precision: 0.9364\n",
    "# Validation recall: 0.8324\n",
    "# Validation F1: 0.8814\n",
    "# Validation accuracy: 95.76 (%)\n",
    "\n",
    "\n",
    "# Epoch 45/200\n",
    "\n",
    "# 100%|█████████████████████████████████████████████████████████████████████████████████████████████████████| 176/176 [13:46<00:00,  4.69s/it]\n",
    "\n",
    "# Training loss: 0.02542\n",
    "# Train precision: 0.9719\n",
    "# Train recall: 0.9909\n",
    "# Train F1: 0.9813\n",
    "# Training accuracy: 99.26 (%)\n",
    "\n",
    "\n",
    "# 100%|███████████████████████████████████████████████████████████████████████████████████████████████████████| 44/44 [02:55<00:00,  4.00s/it]\n",
    "\n",
    "# Validation loss: 0.30463\n",
    "# Validation precision: 0.9587\n",
    "# Validation recall: 0.8271\n",
    "# Validation F1: 0.8880\n",
    "# Validation accuracy: 95.83 (%)\n",
    "\n",
    "\n",
    "# Epoch 46/200\n",
    "\n",
    "# 100%|█████████████████████████████████████████████████████████████████████████████████████████████████████| 176/176 [13:44<00:00,  4.69s/it]\n",
    "\n",
    "# Training loss: 0.01935\n",
    "# Train precision: 0.9761\n",
    "# Train recall: 0.9902\n",
    "# Train F1: 0.9831\n",
    "# Training accuracy: 99.35 (%)\n",
    "\n",
    "\n",
    "# 100%|███████████████████████████████████████████████████████████████████████████████████████████████████████| 44/44 [02:56<00:00,  4.01s/it]\n",
    "\n",
    "# Validation loss: 0.28499\n",
    "# Validation precision: 0.9775\n",
    "# Validation recall: 0.8253\n",
    "# Validation F1: 0.8949\n",
    "# Validation accuracy: 96.01 (%)\n",
    "\n",
    "\n",
    "# Epoch 47/200\n",
    "\n",
    "# 100%|█████████████████████████████████████████████████████████████████████████████████████████████████████| 176/176 [13:41<00:00,  4.67s/it]\n",
    "\n",
    "# Training loss: 0.01584\n",
    "# Train precision: 0.9815\n",
    "# Train recall: 0.9922\n",
    "# Train F1: 0.9868\n",
    "# Training accuracy: 99.48 (%)\n",
    "\n",
    "\n",
    "# 100%|███████████████████████████████████████████████████████████████████████████████████████████████████████| 44/44 [02:57<00:00,  4.04s/it]\n",
    "\n",
    "# Validation loss: 0.30718\n",
    "# Validation precision: 0.9783\n",
    "# Validation recall: 0.8039\n",
    "# Validation F1: 0.8826\n",
    "# Validation accuracy: 95.73 (%)\n",
    "\n",
    "\n",
    "# Epoch 48/200\n",
    "\n",
    "# 100%|█████████████████████████████████████████████████████████████████████████████████████████████████████| 176/176 [13:40<00:00,  4.66s/it]\n",
    "\n",
    "# Training loss: 0.01555\n",
    "# Train precision: 0.9835\n",
    "# Train recall: 0.9949\n",
    "# Train F1: 0.9892\n",
    "# Training accuracy: 99.58 (%)\n",
    "\n",
    "# Accuracy aumentou de 0.9949 para 0.9958 (48/200)\n",
    "# Saving checkpoint...\n",
    "# F1 aumentou de 0.9871 para 0.9892 (48/200)\n",
    "# Saving checkpoint...\n",
    "\n",
    "# 100%|███████████████████████████████████████████████████████████████████████████████████████████████████████| 44/44 [02:54<00:00,  3.98s/it]\n",
    "\n",
    "# Validation loss: 0.26141\n",
    "# Validation precision: 0.9895\n",
    "# Validation recall: 0.8163\n",
    "# Validation F1: 0.8946\n",
    "# Validation accuracy: 96.05 (%)\n",
    "\n",
    "\n",
    "# Epoch 49/200\n",
    "\n",
    "# 100%|█████████████████████████████████████████████████████████████████████████████████████████████████████| 176/176 [13:40<00:00,  4.66s/it]\n",
    "\n",
    "# Training loss: 0.01740\n",
    "# Train precision: 0.9780\n",
    "# Train recall: 0.9918\n",
    "# Train F1: 0.9849\n",
    "# Training accuracy: 99.40 (%)\n",
    "\n",
    "\n",
    "# 100%|███████████████████████████████████████████████████████████████████████████████████████████████████████| 44/44 [02:54<00:00,  3.96s/it]\n",
    "\n",
    "# Validation loss: 0.24057\n",
    "# Validation precision: 0.9803\n",
    "# Validation recall: 0.8217\n",
    "# Validation F1: 0.8940\n",
    "# Validation accuracy: 96.23 (%)\n",
    "\n",
    "\n",
    "# Epoch 50/200\n",
    "\n",
    "# 100%|█████████████████████████████████████████████████████████████████████████████████████████████████████| 176/176 [13:36<00:00,  4.64s/it]\n",
    "\n",
    "# Training loss: 0.01484\n",
    "# Train precision: 0.9840\n",
    "# Train recall: 0.9928\n",
    "# Train F1: 0.9884\n",
    "# Training accuracy: 99.54 (%)\n",
    "\n",
    "\n",
    "# 100%|███████████████████████████████████████████████████████████████████████████████████████████████████████| 44/44 [02:54<00:00,  3.97s/it]\n",
    "\n",
    "# Validation loss: 0.24889\n",
    "# Validation precision: 0.9773\n",
    "# Validation recall: 0.8086\n",
    "# Validation F1: 0.8850\n",
    "# Validation accuracy: 96.01 (%)\n",
    "\n",
    "\n",
    "# Epoch 51/200\n",
    "\n",
    "# 100%|█████████████████████████████████████████████████████████████████████████████████████████████████████| 176/176 [13:36<00:00,  4.64s/it]\n",
    "\n",
    "# Training loss: 0.01044\n",
    "# Train precision: 0.9876\n",
    "# Train recall: 0.9960\n",
    "# Train F1: 0.9917\n",
    "# Training accuracy: 99.67 (%)\n",
    "\n",
    "# Accuracy aumentou de 0.9958 para 0.9967 (51/200)\n",
    "# Saving checkpoint...\n",
    "# F1 aumentou de 0.9892 para 0.9917 (51/200)\n",
    "# Saving checkpoint...\n",
    "\n",
    "# 100%|███████████████████████████████████████████████████████████████████████████████████████████████████████| 44/44 [02:53<00:00,  3.95s/it]\n",
    "\n",
    "# Validation loss: 0.26675\n",
    "# Validation precision: 0.9688\n",
    "# Validation recall: 0.8101\n",
    "# Validation F1: 0.8824\n",
    "# Validation accuracy: 95.87 (%)\n",
    "\n",
    "\n",
    "# Epoch 52/200\n",
    "\n",
    "# 100%|█████████████████████████████████████████████████████████████████████████████████████████████████████| 176/176 [13:38<00:00,  4.65s/it]\n",
    "\n",
    "# Training loss: 0.01230\n",
    "# Train precision: 0.9850\n",
    "# Train recall: 0.9964\n",
    "# Train F1: 0.9907\n",
    "# Training accuracy: 99.63 (%)\n",
    "\n",
    "\n",
    "# 100%|███████████████████████████████████████████████████████████████████████████████████████████████████████| 44/44 [02:55<00:00,  3.99s/it]\n",
    "\n",
    "# Validation loss: 0.47659\n",
    "# Validation precision: 0.9890\n",
    "# Validation recall: 0.6729\n",
    "# Validation F1: 0.8009\n",
    "# Validation accuracy: 93.63 (%)\n",
    "\n",
    "\n",
    "# Epoch 53/200\n",
    "\n",
    "# 100%|█████████████████████████████████████████████████████████████████████████████████████████████████████| 176/176 [13:37<00:00,  4.64s/it]\n",
    "\n",
    "# Training loss: 0.01328\n",
    "# Train precision: 0.9834\n",
    "# Train recall: 0.9941\n",
    "# Train F1: 0.9887\n",
    "# Training accuracy: 99.55 (%)\n",
    "\n",
    "\n",
    "# 100%|███████████████████████████████████████████████████████████████████████████████████████████████████████| 44/44 [02:55<00:00,  3.99s/it]\n",
    "\n",
    "# Validation loss: 0.27734\n",
    "# Validation precision: 0.9815\n",
    "# Validation recall: 0.8233\n",
    "# Validation F1: 0.8955\n",
    "# Validation accuracy: 96.47 (%)\n",
    "\n",
    "\n",
    "# Epoch 54/200\n",
    "\n",
    "# 100%|█████████████████████████████████████████████████████████████████████████████████████████████████████| 176/176 [13:32<00:00,  4.62s/it]\n",
    "\n",
    "# Training loss: 0.01416\n",
    "# Train precision: 0.9849\n",
    "# Train recall: 0.9942\n",
    "# Train F1: 0.9895\n",
    "# Training accuracy: 99.58 (%)\n",
    "\n",
    "\n",
    "# 100%|███████████████████████████████████████████████████████████████████████████████████████████████████████| 44/44 [02:56<00:00,  4.01s/it]\n",
    "\n",
    "# Validation loss: 0.33619\n",
    "# Validation precision: 0.9428\n",
    "# Validation recall: 0.8386\n",
    "# Validation F1: 0.8877\n",
    "# Validation accuracy: 95.69 (%)\n",
    "\n",
    "\n",
    "# Epoch 55/200\n",
    "\n",
    "# 100%|█████████████████████████████████████████████████████████████████████████████████████████████████████| 176/176 [14:53<00:00,  5.08s/it]\n",
    "\n",
    "# Training loss: 0.01707\n",
    "# Train precision: 0.9782\n",
    "# Train recall: 0.9931\n",
    "# Train F1: 0.9856\n",
    "# Training accuracy: 99.44 (%)\n",
    "\n",
    "\n",
    "# 100%|███████████████████████████████████████████████████████████████████████████████████████████████████████| 44/44 [02:55<00:00,  4.00s/it]\n",
    "\n",
    "# Validation loss: 0.21439\n",
    "# Validation precision: 0.9768\n",
    "# Validation recall: 0.8406\n",
    "# Validation F1: 0.9036\n",
    "# Validation accuracy: 96.47 (%)\n",
    "\n",
    "\n",
    "# Epoch 56/200\n",
    "\n",
    "# 100%|█████████████████████████████████████████████████████████████████████████████████████████████████████| 176/176 [13:45<00:00,  4.69s/it]\n",
    "\n",
    "# Training loss: 0.01499\n",
    "# Train precision: 0.9831\n",
    "# Train recall: 0.9931\n",
    "# Train F1: 0.9881\n",
    "# Training accuracy: 99.54 (%)\n",
    "\n",
    "\n",
    "# 100%|███████████████████████████████████████████████████████████████████████████████████████████████████████| 44/44 [02:56<00:00,  4.01s/it]\n",
    "\n",
    "# Validation loss: 0.26334\n",
    "# Validation precision: 0.9778\n",
    "# Validation recall: 0.8167\n",
    "# Validation F1: 0.8900\n",
    "# Validation accuracy: 96.12 (%)\n",
    "\n",
    "\n",
    "# Epoch 57/200\n",
    "\n",
    "# 100%|█████████████████████████████████████████████████████████████████████████████████████████████████████| 176/176 [13:44<00:00,  4.68s/it]\n",
    "\n",
    "# Training loss: 0.01105\n",
    "# Train precision: 0.9866\n",
    "# Train recall: 0.9967\n",
    "# Train F1: 0.9916\n",
    "# Training accuracy: 99.68 (%)\n",
    "\n",
    "# Accuracy aumentou de 0.9967 para 0.9968 (57/200)\n",
    "# Saving checkpoint...\n",
    "\n",
    "# 100%|███████████████████████████████████████████████████████████████████████████████████████████████████████| 44/44 [02:54<00:00,  3.96s/it]\n",
    "\n",
    "# Validation loss: 0.29964\n",
    "# Validation precision: 0.9884\n",
    "# Validation recall: 0.7821\n",
    "# Validation F1: 0.8732\n",
    "# Validation accuracy: 95.58 (%)\n",
    "\n",
    "\n",
    "# Epoch 58/200\n",
    "\n",
    "# 100%|█████████████████████████████████████████████████████████████████████████████████████████████████████| 176/176 [13:35<00:00,  4.63s/it]\n",
    "\n",
    "# Training loss: 0.01389\n",
    "# Train precision: 0.9856\n",
    "# Train recall: 0.9944\n",
    "# Train F1: 0.9900\n",
    "# Training accuracy: 99.62 (%)\n",
    "\n",
    "\n",
    "# 100%|███████████████████████████████████████████████████████████████████████████████████████████████████████| 44/44 [02:58<00:00,  4.05s/it]\n",
    "\n",
    "# Validation loss: 0.31331\n",
    "# Validation precision: 0.9827\n",
    "# Validation recall: 0.7739\n",
    "# Validation F1: 0.8659\n",
    "# Validation accuracy: 95.62 (%)\n",
    "\n",
    "\n",
    "# Epoch 59/200\n",
    "\n",
    "# 100%|█████████████████████████████████████████████████████████████████████████████████████████████████████| 176/176 [13:40<00:00,  4.66s/it]\n",
    "\n",
    "# Training loss: 0.01237\n",
    "# Train precision: 0.9852\n",
    "# Train recall: 0.9944\n",
    "# Train F1: 0.9898\n",
    "# Training accuracy: 99.61 (%)\n",
    "\n",
    "\n",
    "# 100%|███████████████████████████████████████████████████████████████████████████████████████████████████████| 44/44 [02:57<00:00,  4.04s/it]\n",
    "\n",
    "# Validation loss: 0.28806\n",
    "# Validation precision: 0.9806\n",
    "# Validation recall: 0.8246\n",
    "# Validation F1: 0.8959\n",
    "# Validation accuracy: 96.23 (%)\n",
    "\n",
    "\n",
    "# Epoch 60/200\n",
    "\n",
    "# 100%|█████████████████████████████████████████████████████████████████████████████████████████████████████| 176/176 [14:46<00:00,  5.04s/it]\n",
    "\n",
    "# Training loss: 0.01308\n",
    "# Train precision: 0.9848\n",
    "# Train recall: 0.9955\n",
    "# Train F1: 0.9901\n",
    "# Training accuracy: 99.61 (%)\n",
    "\n",
    "\n",
    "# 100%|███████████████████████████████████████████████████████████████████████████████████████████████████████| 44/44 [03:18<00:00,  4.52s/it]\n",
    "\n",
    "# Validation loss: 0.26423\n",
    "# Validation precision: 0.9831\n",
    "# Validation recall: 0.8115\n",
    "# Validation F1: 0.8891\n",
    "# Validation accuracy: 95.87 (%)\n",
    "\n",
    "\n",
    "# Epoch 61/200\n",
    "\n",
    "# 100%|█████████████████████████████████████████████████████████████████████████████████████████████████████| 176/176 [15:08<00:00,  5.16s/it]\n",
    "\n",
    "# Training loss: 0.00996\n",
    "# Train precision: 0.9880\n",
    "# Train recall: 0.9973\n",
    "# Train F1: 0.9926\n",
    "# Training accuracy: 99.71 (%)\n",
    "\n",
    "# Accuracy aumentou de 0.9968 para 0.9971 (61/200)\n",
    "# Saving checkpoint...\n",
    "# F1 aumentou de 0.9917 para 0.9926 (61/200)\n",
    "# Saving checkpoint...\n",
    "\n",
    "# 100%|███████████████████████████████████████████████████████████████████████████████████████████████████████| 44/44 [03:19<00:00,  4.52s/it]\n",
    "\n",
    "# Validation loss: 0.24638\n",
    "# Validation precision: 0.9773\n",
    "# Validation recall: 0.8416\n",
    "# Validation F1: 0.9044\n",
    "# Validation accuracy: 96.44 (%)\n",
    "\n",
    "\n",
    "# Epoch 62/200\n",
    "\n",
    "# 100%|█████████████████████████████████████████████████████████████████████████████████████████████████████| 176/176 [15:10<00:00,  5.17s/it]\n",
    "\n",
    "# Training loss: 0.01132\n",
    "# Train precision: 0.9874\n",
    "# Train recall: 0.9941\n",
    "# Train F1: 0.9907\n",
    "# Training accuracy: 99.63 (%)\n",
    "\n",
    "\n",
    "# 100%|███████████████████████████████████████████████████████████████████████████████████████████████████████| 44/44 [03:20<00:00,  4.55s/it]\n",
    "\n",
    "# Validation loss: 0.27257\n",
    "# Validation precision: 0.9686\n",
    "# Validation recall: 0.8591\n",
    "# Validation F1: 0.9106\n",
    "# Validation accuracy: 96.55 (%)\n",
    "\n",
    "# Accuracy aumentou de 0.9651 para 0.9655 (62/200)\n",
    "# Saving checkpoint...\n",
    "\n",
    "# Epoch 63/200\n",
    "\n",
    "# 100%|█████████████████████████████████████████████████████████████████████████████████████████████████████| 176/176 [15:09<00:00,  5.17s/it]\n",
    "\n",
    "# Training loss: 0.01166\n",
    "# Train precision: 0.9848\n",
    "# Train recall: 0.9954\n",
    "# Train F1: 0.9901\n",
    "# Training accuracy: 99.62 (%)\n",
    "\n",
    "\n",
    "# 100%|███████████████████████████████████████████████████████████████████████████████████████████████████████| 44/44 [03:17<00:00,  4.48s/it]\n",
    "\n",
    "# Validation loss: 0.31745\n",
    "# Validation precision: 0.9891\n",
    "# Validation recall: 0.8300\n",
    "# Validation F1: 0.9026\n",
    "# Validation accuracy: 96.51 (%)\n",
    "\n",
    "\n",
    "# Epoch 64/200\n",
    "\n",
    "# 100%|█████████████████████████████████████████████████████████████████████████████████████████████████████| 176/176 [15:10<00:00,  5.17s/it]\n",
    "\n",
    "# Training loss: 0.00991\n",
    "# Train precision: 0.9889\n",
    "# Train recall: 0.9949\n",
    "# Train F1: 0.9919\n",
    "# Training accuracy: 99.69 (%)\n",
    "\n",
    "\n",
    "# 100%|███████████████████████████████████████████████████████████████████████████████████████████████████████| 44/44 [03:18<00:00,  4.52s/it]\n",
    "\n",
    "# Validation loss: 0.25015\n",
    "# Validation precision: 0.9887\n",
    "# Validation recall: 0.8044\n",
    "# Validation F1: 0.8871\n",
    "# Validation accuracy: 96.05 (%)\n",
    "\n",
    "\n",
    "# Epoch 65/200\n",
    "\n",
    "# 100%|█████████████████████████████████████████████████████████████████████████████████████████████████████| 176/176 [15:06<00:00,  5.15s/it]\n",
    "\n",
    "# Training loss: 0.00879\n",
    "# Train precision: 0.9911\n",
    "# Train recall: 0.9969\n",
    "# Train F1: 0.9940\n",
    "# Training accuracy: 99.76 (%)\n",
    "\n",
    "# Accuracy aumentou de 0.9971 para 0.9976 (65/200)\n",
    "# Saving checkpoint...\n",
    "# F1 aumentou de 0.9926 para 0.9940 (65/200)\n",
    "# Saving checkpoint...\n",
    "\n",
    "# 100%|███████████████████████████████████████████████████████████████████████████████████████████████████████| 44/44 [03:19<00:00,  4.54s/it]\n",
    "\n",
    "# Validation loss: 0.29102\n",
    "# Validation precision: 0.9753\n",
    "# Validation recall: 0.7905\n",
    "# Validation F1: 0.8732\n",
    "# Validation accuracy: 95.51 (%)\n",
    "\n",
    "\n",
    "# Epoch 66/200\n",
    "\n",
    "# 100%|█████████████████████████████████████████████████████████████████████████████████████████████████████| 176/176 [15:09<00:00,  5.17s/it]\n",
    "\n",
    "# Training loss: 0.01124\n",
    "# Train precision: 0.9889\n",
    "# Train recall: 0.9916\n",
    "# Train F1: 0.9902\n",
    "# Training accuracy: 99.63 (%)\n",
    "\n",
    "\n",
    "# 100%|███████████████████████████████████████████████████████████████████████████████████████████████████████| 44/44 [03:17<00:00,  4.49s/it]\n",
    "\n",
    "# Validation loss: 0.31051\n",
    "# Validation precision: 0.9099\n",
    "# Validation recall: 0.8935\n",
    "# Validation F1: 0.9016\n",
    "# Validation accuracy: 96.15 (%)\n",
    "\n",
    "\n",
    "# Epoch 67/200\n",
    "\n",
    "# 100%|█████████████████████████████████████████████████████████████████████████████████████████████████████| 176/176 [15:09<00:00,  5.16s/it]\n",
    "\n",
    "# Training loss: 0.01334\n",
    "# Train precision: 0.9841\n",
    "# Train recall: 0.9918\n",
    "# Train F1: 0.9879\n",
    "# Training accuracy: 99.53 (%)\n",
    "\n",
    "\n",
    "# 100%|███████████████████████████████████████████████████████████████████████████████████████████████████████| 44/44 [02:56<00:00,  4.01s/it]\n",
    "\n",
    "# Validation loss: 0.28218\n",
    "# Validation precision: 0.9706\n",
    "# Validation recall: 0.8327\n",
    "# Validation F1: 0.8964\n",
    "# Validation accuracy: 96.19 (%)\n",
    "\n",
    "\n",
    "# Epoch 68/200\n",
    "\n",
    "# 100%|█████████████████████████████████████████████████████████████████████████████████████████████████████| 176/176 [13:41<00:00,  4.67s/it]\n",
    "\n",
    "# Training loss: 0.01068\n",
    "# Train precision: 0.9876\n",
    "# Train recall: 0.9940\n",
    "# Train F1: 0.9908\n",
    "# Training accuracy: 99.64 (%)\n",
    "\n",
    "\n",
    "# 100%|███████████████████████████████████████████████████████████████████████████████████████████████████████| 44/44 [02:55<00:00,  3.99s/it]\n",
    "\n",
    "# Validation loss: 0.38431\n",
    "# Validation precision: 0.9776\n",
    "# Validation recall: 0.7530\n",
    "# Validation F1: 0.8507\n",
    "# Validation accuracy: 94.55 (%)\n",
    "\n",
    "\n",
    "# Epoch 69/200\n",
    "\n",
    "# 100%|█████████████████████████████████████████████████████████████████████████████████████████████████████| 176/176 [13:40<00:00,  4.66s/it]\n",
    "\n",
    "# Training loss: 0.01052\n",
    "# Train precision: 0.9905\n",
    "# Train recall: 0.9954\n",
    "# Train F1: 0.9929\n",
    "# Training accuracy: 99.72 (%)\n",
    "\n",
    "\n",
    "# 100%|███████████████████████████████████████████████████████████████████████████████████████████████████████| 44/44 [02:56<00:00,  4.01s/it]\n",
    "\n",
    "# Validation loss: 0.29960\n",
    "# Validation precision: 0.9595\n",
    "# Validation recall: 0.8187\n",
    "# Validation F1: 0.8835\n",
    "# Validation accuracy: 95.55 (%)\n",
    "\n",
    "\n",
    "# Epoch 70/200\n",
    "\n",
    "# 100%|█████████████████████████████████████████████████████████████████████████████████████████████████████| 176/176 [13:41<00:00,  4.67s/it]\n",
    "\n",
    "# Training loss: 0.01329\n",
    "# Train precision: 0.9855\n",
    "# Train recall: 0.9963\n",
    "# Train F1: 0.9909\n",
    "# Training accuracy: 99.64 (%)\n",
    "\n",
    "\n",
    "# 100%|███████████████████████████████████████████████████████████████████████████████████████████████████████| 44/44 [02:57<00:00,  4.02s/it]\n",
    "\n",
    "# Validation loss: 0.33575\n",
    "# Validation precision: 0.9931\n",
    "# Validation recall: 0.8004\n",
    "# Validation F1: 0.8864\n",
    "# Validation accuracy: 96.05 (%)\n",
    "\n",
    "\n",
    "# Epoch 71/200\n",
    "\n",
    "# 100%|█████████████████████████████████████████████████████████████████████████████████████████████████████| 176/176 [13:39<00:00,  4.66s/it]\n",
    "\n",
    "# Training loss: 0.00800\n",
    "# Train precision: 0.9898\n",
    "# Train recall: 0.9981\n",
    "# Train F1: 0.9940\n",
    "# Training accuracy: 99.77 (%)\n",
    "\n",
    "# Accuracy aumentou de 0.9976 para 0.9977 (71/200)\n",
    "# Saving checkpoint...\n",
    "\n",
    "# 100%|███████████████████████████████████████████████████████████████████████████████████████████████████████| 44/44 [02:54<00:00,  3.97s/it]\n",
    "\n",
    "# Validation loss: 0.26670\n",
    "# Validation precision: 0.9905\n",
    "# Validation recall: 0.8038\n",
    "# Validation F1: 0.8875\n",
    "# Validation accuracy: 96.23 (%)\n",
    "\n",
    "\n",
    "# Epoch 72/200\n",
    "\n",
    "# 100%|█████████████████████████████████████████████████████████████████████████████████████████████████████| 176/176 [13:42<00:00,  4.67s/it]\n",
    "\n",
    "# Training loss: 0.00829\n",
    "# Train precision: 0.9903\n",
    "# Train recall: 0.9967\n",
    "# Train F1: 0.9935\n",
    "# Training accuracy: 99.75 (%)\n",
    "\n",
    "\n",
    "# 100%|███████████████████████████████████████████████████████████████████████████████████████████████████████| 44/44 [02:55<00:00,  3.98s/it]\n",
    "\n",
    "# Validation loss: 0.26008\n",
    "# Validation precision: 0.9886\n",
    "# Validation recall: 0.8093\n",
    "# Validation F1: 0.8900\n",
    "# Validation accuracy: 96.19 (%)\n",
    "\n",
    "\n",
    "# Epoch 73/200\n",
    "\n",
    "# 100%|█████████████████████████████████████████████████████████████████████████████████████████████████████| 176/176 [13:42<00:00,  4.67s/it]\n",
    "\n",
    "# Training loss: 0.00753\n",
    "# Train precision: 0.9900\n",
    "# Train recall: 0.9963\n",
    "# Train F1: 0.9932\n",
    "# Training accuracy: 99.73 (%)\n",
    "\n",
    "\n",
    "# 100%|███████████████████████████████████████████████████████████████████████████████████████████████████████| 44/44 [02:55<00:00,  3.98s/it]\n",
    "\n",
    "# Validation loss: 0.36093\n",
    "# Validation precision: 0.9842\n",
    "# Validation recall: 0.7982\n",
    "# Validation F1: 0.8815\n",
    "# Validation accuracy: 95.83 (%)\n",
    "\n",
    "\n",
    "# Epoch 74/200\n",
    "\n",
    "# 100%|█████████████████████████████████████████████████████████████████████████████████████████████████████| 176/176 [13:38<00:00,  4.65s/it]\n",
    "\n",
    "# Training loss: 0.01031\n",
    "# Train precision: 0.9870\n",
    "# Train recall: 0.9972\n",
    "# Train F1: 0.9921\n",
    "# Training accuracy: 99.70 (%)\n",
    "\n",
    "\n",
    "# 100%|███████████████████████████████████████████████████████████████████████████████████████████████████████| 44/44 [02:57<00:00,  4.03s/it]\n",
    "\n",
    "# Validation loss: 0.36017\n",
    "# Validation precision: 0.9911\n",
    "# Validation recall: 0.7799\n",
    "# Validation F1: 0.8729\n",
    "# Validation accuracy: 95.41 (%)\n",
    "\n",
    "\n",
    "# Epoch 75/200\n",
    "\n",
    "# 100%|█████████████████████████████████████████████████████████████████████████████████████████████████████| 176/176 [13:34<00:00,  4.63s/it]\n",
    "\n",
    "# Training loss: 0.00732\n",
    "# Train precision: 0.9902\n",
    "# Train recall: 0.9981\n",
    "# Train F1: 0.9941\n",
    "# Training accuracy: 99.78 (%)\n",
    "\n",
    "# Accuracy aumentou de 0.9977 para 0.9978 (75/200)\n",
    "# Saving checkpoint...\n",
    "# F1 aumentou de 0.9940 para 0.9941 (75/200)\n",
    "# Saving checkpoint...\n",
    "\n",
    "# 100%|███████████████████████████████████████████████████████████████████████████████████████████████████████| 44/44 [02:55<00:00,  4.00s/it]\n",
    "\n",
    "# Validation loss: 0.39510\n",
    "# Validation precision: 0.9828\n",
    "# Validation recall: 0.7854\n",
    "# Validation F1: 0.8731\n",
    "# Validation accuracy: 95.87 (%)\n",
    "\n",
    "\n",
    "# Epoch 76/200\n",
    "\n",
    "# 100%|█████████████████████████████████████████████████████████████████████████████████████████████████████| 176/176 [13:37<00:00,  4.64s/it]\n",
    "\n",
    "# Training loss: 0.00877\n",
    "# Train precision: 0.9909\n",
    "# Train recall: 0.9950\n",
    "# Train F1: 0.9929\n",
    "# Training accuracy: 99.72 (%)\n",
    "\n",
    "\n",
    "# 100%|███████████████████████████████████████████████████████████████████████████████████████████████████████| 44/44 [02:56<00:00,  4.00s/it]\n",
    "\n",
    "# Validation loss: 0.31549\n",
    "# Validation precision: 0.9888\n",
    "# Validation recall: 0.7907\n",
    "# Validation F1: 0.8787\n",
    "# Validation accuracy: 95.66 (%)\n",
    "\n",
    "\n",
    "# Epoch 77/200\n",
    "\n",
    "# 100%|█████████████████████████████████████████████████████████████████████████████████████████████████████| 176/176 [13:43<00:00,  4.68s/it]\n",
    "\n",
    "# Training loss: 0.00815\n",
    "# Train precision: 0.9897\n",
    "# Train recall: 0.9972\n",
    "# Train F1: 0.9934\n",
    "# Training accuracy: 99.75 (%)\n",
    "\n",
    "\n",
    "# 100%|███████████████████████████████████████████████████████████████████████████████████████████████████████| 44/44 [02:56<00:00,  4.00s/it]\n",
    "\n",
    "# Validation loss: 0.33015\n",
    "# Validation precision: 0.9953\n",
    "# Validation recall: 0.7922\n",
    "# Validation F1: 0.8822\n",
    "# Validation accuracy: 95.94 (%)\n",
    "\n",
    "\n",
    "# Epoch 78/200\n",
    "\n",
    "# 100%|█████████████████████████████████████████████████████████████████████████████████████████████████████| 176/176 [13:42<00:00,  4.67s/it]\n",
    "\n",
    "# Training loss: 0.00704\n",
    "# Train precision: 0.9922\n",
    "# Train recall: 0.9977\n",
    "# Train F1: 0.9950\n",
    "# Training accuracy: 99.80 (%)\n",
    "\n",
    "# Accuracy aumentou de 0.9978 para 0.9980 (78/200)\n",
    "# Saving checkpoint...\n",
    "# F1 aumentou de 0.9941 para 0.9950 (78/200)\n",
    "# Saving checkpoint...\n",
    "\n",
    "# 100%|███████████████████████████████████████████████████████████████████████████████████████████████████████| 44/44 [02:56<00:00,  4.01s/it]\n",
    "\n",
    "# Validation loss: 0.32164\n",
    "# Validation precision: 0.9856\n",
    "# Validation recall: 0.7969\n",
    "# Validation F1: 0.8813\n",
    "# Validation accuracy: 96.05 (%)\n",
    "\n",
    "\n",
    "# Epoch 79/200\n",
    "\n",
    "# 100%|█████████████████████████████████████████████████████████████████████████████████████████████████████| 176/176 [13:41<00:00,  4.67s/it]\n",
    "\n",
    "# Training loss: 0.00819\n",
    "# Train precision: 0.9885\n",
    "# Train recall: 0.9944\n",
    "# Train F1: 0.9915\n",
    "# Training accuracy: 99.67 (%)\n",
    "\n",
    "\n",
    "# 100%|███████████████████████████████████████████████████████████████████████████████████████████████████████| 44/44 [02:55<00:00,  3.99s/it]\n",
    "\n",
    "# Validation loss: 0.25848\n",
    "# Validation precision: 0.9883\n",
    "# Validation recall: 0.8103\n",
    "# Validation F1: 0.8905\n",
    "# Validation accuracy: 96.30 (%)\n",
    "\n",
    "\n",
    "# Epoch 80/200\n",
    "\n",
    "# 100%|█████████████████████████████████████████████████████████████████████████████████████████████████████| 176/176 [13:40<00:00,  4.66s/it]\n",
    "\n",
    "# Training loss: 0.00807\n",
    "# Train precision: 0.9907\n",
    "# Train recall: 0.9967\n",
    "# Train F1: 0.9937\n",
    "# Training accuracy: 99.76 (%)\n",
    "\n",
    "\n",
    "# 100%|███████████████████████████████████████████████████████████████████████████████████████████████████████| 44/44 [02:55<00:00,  4.00s/it]\n",
    "\n",
    "# Validation loss: 0.27049\n",
    "# Validation precision: 0.9813\n",
    "# Validation recall: 0.8325\n",
    "# Validation F1: 0.9008\n",
    "# Validation accuracy: 96.30 (%)\n",
    "\n",
    "\n",
    "# Epoch 81/200\n",
    "\n",
    "# 100%|█████████████████████████████████████████████████████████████████████████████████████████████████████| 176/176 [13:37<00:00,  4.65s/it]\n",
    "\n",
    "# Training loss: 0.00664\n",
    "# Train precision: 0.9907\n",
    "# Train recall: 0.9977\n",
    "# Train F1: 0.9942\n",
    "# Training accuracy: 99.78 (%)\n",
    "\n",
    "\n",
    "# 100%|███████████████████████████████████████████████████████████████████████████████████████████████████████| 44/44 [02:56<00:00,  4.02s/it]\n",
    "\n",
    "# Validation loss: 0.24838\n",
    "# Validation precision: 0.9910\n",
    "# Validation recall: 0.8209\n",
    "# Validation F1: 0.8980\n",
    "# Validation accuracy: 96.44 (%)\n",
    "\n",
    "\n",
    "# Epoch 82/200\n",
    "\n",
    "# 100%|█████████████████████████████████████████████████████████████████████████████████████████████████████| 176/176 [13:41<00:00,  4.67s/it]\n",
    "\n",
    "# Training loss: 0.00768\n",
    "# Train precision: 0.9888\n",
    "# Train recall: 0.9962\n",
    "# Train F1: 0.9925\n",
    "# Training accuracy: 99.71 (%)\n",
    "\n",
    "\n",
    "# 100%|███████████████████████████████████████████████████████████████████████████████████████████████████████| 44/44 [02:54<00:00,  3.97s/it]\n",
    "\n",
    "# Validation loss: 0.25412\n",
    "# Validation precision: 0.9894\n",
    "# Validation recall: 0.8158\n",
    "# Validation F1: 0.8942\n",
    "# Validation accuracy: 96.08 (%)\n",
    "\n",
    "\n",
    "# Epoch 83/200\n",
    "\n",
    "# 100%|█████████████████████████████████████████████████████████████████████████████████████████████████████| 176/176 [13:39<00:00,  4.66s/it]\n",
    "\n",
    "# Training loss: 0.00799\n",
    "# Train precision: 0.9901\n",
    "# Train recall: 0.9967\n",
    "# Train F1: 0.9934\n",
    "# Training accuracy: 99.75 (%)\n",
    "\n",
    "\n",
    "# 100%|███████████████████████████████████████████████████████████████████████████████████████████████████████| 44/44 [02:55<00:00,  4.00s/it]\n",
    "\n",
    "# Validation loss: 0.28826\n",
    "# Validation precision: 0.9910\n",
    "# Validation recall: 0.8308\n",
    "# Validation F1: 0.9039\n",
    "# Validation accuracy: 96.65 (%)\n",
    "\n",
    "# Accuracy aumentou de 0.9655 para 0.9665 (83/200)\n",
    "# Saving checkpoint...\n",
    "\n",
    "# Epoch 84/200\n",
    "\n",
    "# 100%|█████████████████████████████████████████████████████████████████████████████████████████████████████| 176/176 [13:39<00:00,  4.65s/it]\n",
    "\n",
    "# Training loss: 0.01113\n",
    "# Train precision: 0.9911\n",
    "# Train recall: 0.9951\n",
    "# Train F1: 0.9931\n",
    "# Training accuracy: 99.72 (%)\n",
    "\n",
    "\n",
    "# 100%|███████████████████████████████████████████████████████████████████████████████████████████████████████| 44/44 [02:55<00:00,  3.98s/it]\n",
    "\n",
    "# Validation loss: 0.28040\n",
    "# Validation precision: 0.9607\n",
    "# Validation recall: 0.8439\n",
    "# Validation F1: 0.8986\n",
    "# Validation accuracy: 96.26 (%)\n",
    "\n",
    "\n",
    "# Epoch 85/200\n",
    "\n",
    "# 100%|█████████████████████████████████████████████████████████████████████████████████████████████████████| 176/176 [13:40<00:00,  4.66s/it]\n",
    "\n",
    "# Training loss: 0.01567\n",
    "# Train precision: 0.9847\n",
    "# Train recall: 0.9932\n",
    "# Train F1: 0.9889\n",
    "# Training accuracy: 99.56 (%)\n",
    "\n",
    "\n",
    "# 100%|███████████████████████████████████████████████████████████████████████████████████████████████████████| 44/44 [02:54<00:00,  3.97s/it]\n",
    "\n",
    "# Validation loss: 0.27881\n",
    "# Validation precision: 0.9780\n",
    "# Validation recall: 0.8132\n",
    "# Validation F1: 0.8880\n",
    "# Validation accuracy: 96.01 (%)\n",
    "\n",
    "\n",
    "# Epoch 86/200\n",
    "\n",
    "# 100%|█████████████████████████████████████████████████████████████████████████████████████████████████████| 176/176 [13:38<00:00,  4.65s/it]\n",
    "\n",
    "# Training loss: 0.01138\n",
    "# Train precision: 0.9870\n",
    "# Train recall: 0.9921\n",
    "# Train F1: 0.9895\n",
    "# Training accuracy: 99.60 (%)\n",
    "\n",
    "\n",
    "# 100%|███████████████████████████████████████████████████████████████████████████████████████████████████████| 44/44 [02:56<00:00,  4.00s/it]\n",
    "\n",
    "# Validation loss: 0.26645\n",
    "# Validation precision: 0.9175\n",
    "# Validation recall: 0.8525\n",
    "# Validation F1: 0.8838\n",
    "# Validation accuracy: 95.83 (%)\n",
    "\n",
    "\n",
    "# Epoch 87/200\n",
    "\n",
    "# 100%|█████████████████████████████████████████████████████████████████████████████████████████████████████| 176/176 [13:41<00:00,  4.67s/it]\n",
    "\n",
    "# Training loss: 0.01184\n",
    "# Train precision: 0.9862\n",
    "# Train recall: 0.9935\n",
    "# Train F1: 0.9899\n",
    "# Training accuracy: 99.61 (%)\n",
    "\n",
    "\n",
    "# 100%|███████████████████████████████████████████████████████████████████████████████████████████████████████| 44/44 [02:55<00:00,  4.00s/it]\n",
    "\n",
    "# Validation loss: 0.26877\n",
    "# Validation precision: 0.9667\n",
    "# Validation recall: 0.7982\n",
    "# Validation F1: 0.8744\n",
    "# Validation accuracy: 95.55 (%)\n",
    "\n",
    "\n",
    "# Epoch 88/200\n",
    "\n",
    "# 100%|█████████████████████████████████████████████████████████████████████████████████████████████████████| 176/176 [13:43<00:00,  4.68s/it]\n",
    "\n",
    "# Training loss: 0.01005\n",
    "# Train precision: 0.9888\n",
    "# Train recall: 0.9967\n",
    "# Train F1: 0.9927\n",
    "# Training accuracy: 99.72 (%)\n",
    "\n",
    "\n",
    "# 100%|███████████████████████████████████████████████████████████████████████████████████████████████████████| 44/44 [02:56<00:00,  4.01s/it]\n",
    "\n",
    "# Validation loss: 0.31403\n",
    "# Validation precision: 0.9847\n",
    "# Validation recall: 0.8112\n",
    "# Validation F1: 0.8895\n",
    "# Validation accuracy: 96.01 (%)\n",
    "\n",
    "\n",
    "# Epoch 89/200\n",
    "\n",
    "# 100%|█████████████████████████████████████████████████████████████████████████████████████████████████████| 176/176 [13:37<00:00,  4.65s/it]\n",
    "\n",
    "# Training loss: 0.01107\n",
    "# Train precision: 0.9870\n",
    "# Train recall: 0.9964\n",
    "# Train F1: 0.9916\n",
    "# Training accuracy: 99.67 (%)\n",
    "\n",
    "\n",
    "# 100%|███████████████████████████████████████████████████████████████████████████████████████████████████████| 44/44 [02:57<00:00,  4.04s/it]\n",
    "\n",
    "# Validation loss: 0.33105\n",
    "# Validation precision: 0.9948\n",
    "# Validation recall: 0.7654\n",
    "# Validation F1: 0.8652\n",
    "# Validation accuracy: 95.73 (%)\n",
    "\n",
    "\n",
    "# Epoch 90/200\n",
    "\n",
    "# 100%|█████████████████████████████████████████████████████████████████████████████████████████████████████| 176/176 [13:43<00:00,  4.68s/it]\n",
    "\n",
    "# Training loss: 0.00735\n",
    "# Train precision: 0.9934\n",
    "# Train recall: 0.9962\n",
    "# Train F1: 0.9948\n",
    "# Training accuracy: 99.80 (%)\n",
    "\n",
    "\n",
    "# 100%|███████████████████████████████████████████████████████████████████████████████████████████████████████| 44/44 [02:56<00:00,  4.01s/it]\n",
    "\n",
    "# Validation loss: 0.43803\n",
    "# Validation precision: 0.9821\n",
    "# Validation recall: 0.7408\n",
    "# Validation F1: 0.8445\n",
    "# Validation accuracy: 94.98 (%)\n",
    "\n",
    "\n",
    "# Epoch 91/200\n",
    "\n",
    "# 100%|█████████████████████████████████████████████████████████████████████████████████████████████████████| 176/176 [13:40<00:00,  4.66s/it]\n",
    "\n",
    "# Training loss: 0.00714\n",
    "# Train precision: 0.9924\n",
    "# Train recall: 0.9982\n",
    "# Train F1: 0.9953\n",
    "# Training accuracy: 99.81 (%)\n",
    "\n",
    "# Accuracy aumentou de 0.9980 para 0.9981 (91/200)\n",
    "# Saving checkpoint...\n",
    "# F1 aumentou de 0.9950 para 0.9953 (91/200)\n",
    "# Saving checkpoint...\n",
    "\n",
    "# 100%|███████████████████████████████████████████████████████████████████████████████████████████████████████| 44/44 [02:55<00:00,  3.98s/it]\n",
    "\n",
    "# Validation loss: 0.36127\n",
    "# Validation precision: 0.9772\n",
    "# Validation recall: 0.8138\n",
    "# Validation F1: 0.8881\n",
    "# Validation accuracy: 95.76 (%)\n",
    "\n",
    "\n",
    "# Epoch 92/200\n",
    "\n",
    "# 100%|█████████████████████████████████████████████████████████████████████████████████████████████████████| 176/176 [13:42<00:00,  4.67s/it]\n",
    "\n",
    "# Training loss: 0.00827\n",
    "# Train precision: 0.9902\n",
    "# Train recall: 0.9981\n",
    "# Train F1: 0.9941\n",
    "# Training accuracy: 99.78 (%)\n",
    "\n",
    "\n",
    "# 100%|███████████████████████████████████████████████████████████████████████████████████████████████████████| 44/44 [02:59<00:00,  4.07s/it]\n",
    "\n",
    "# Validation loss: 0.35099\n",
    "# Validation precision: 0.9838\n",
    "# Validation recall: 0.7755\n",
    "# Validation F1: 0.8673\n",
    "# Validation accuracy: 95.37 (%)\n",
    "\n",
    "\n",
    "# Epoch 93/200\n",
    "\n",
    "# 100%|█████████████████████████████████████████████████████████████████████████████████████████████████████| 176/176 [13:43<00:00,  4.68s/it]\n",
    "\n",
    "# Training loss: 0.00892\n",
    "# Train precision: 0.9898\n",
    "# Train recall: 0.9958\n",
    "# Train F1: 0.9928\n",
    "# Training accuracy: 99.72 (%)\n",
    "\n",
    "\n",
    "# 100%|███████████████████████████████████████████████████████████████████████████████████████████████████████| 44/44 [02:57<00:00,  4.03s/it]\n",
    "\n",
    "# Validation loss: 0.34335\n",
    "# Validation precision: 0.9976\n",
    "# Validation recall: 0.7910\n",
    "# Validation F1: 0.8824\n",
    "# Validation accuracy: 96.01 (%)\n",
    "\n",
    "\n",
    "# Epoch 94/200\n",
    "\n",
    "# 100%|█████████████████████████████████████████████████████████████████████████████████████████████████████| 176/176 [13:45<00:00,  4.69s/it]\n",
    "\n",
    "# Training loss: 0.01174\n",
    "# Train precision: 0.9900\n",
    "# Train recall: 0.9968\n",
    "# Train F1: 0.9934\n",
    "# Training accuracy: 99.74 (%)\n",
    "\n",
    "\n",
    "# 100%|███████████████████████████████████████████████████████████████████████████████████████████████████████| 44/44 [02:56<00:00,  4.02s/it]\n",
    "\n",
    "# Validation loss: 0.37181\n",
    "# Validation precision: 0.9513\n",
    "# Validation recall: 0.7109\n",
    "# Validation F1: 0.8137\n",
    "# Validation accuracy: 93.63 (%)\n",
    "\n",
    "\n",
    "# Epoch 95/200\n",
    "\n",
    "# 100%|█████████████████████████████████████████████████████████████████████████████████████████████████████| 176/176 [13:45<00:00,  4.69s/it]\n",
    "\n",
    "# Training loss: 0.01165\n",
    "# Train precision: 0.9878\n",
    "# Train recall: 0.9941\n",
    "# Train F1: 0.9909\n",
    "# Training accuracy: 99.64 (%)\n",
    "\n",
    "\n",
    "# 100%|███████████████████████████████████████████████████████████████████████████████████████████████████████| 44/44 [02:56<00:00,  4.02s/it]\n",
    "\n",
    "# Validation loss: 0.36890\n",
    "# Validation precision: 0.9782\n",
    "# Validation recall: 0.8032\n",
    "# Validation F1: 0.8821\n",
    "# Validation accuracy: 95.73 (%)\n",
    "\n",
    "\n",
    "# Epoch 96/200\n",
    "\n",
    "# 100%|█████████████████████████████████████████████████████████████████████████████████████████████████████| 176/176 [13:45<00:00,  4.69s/it]\n",
    "\n",
    "# Training loss: 0.00891\n",
    "# Train precision: 0.9915\n",
    "# Train recall: 0.9962\n",
    "# Train F1: 0.9939\n",
    "# Training accuracy: 99.77 (%)\n",
    "\n",
    "\n",
    "# 100%|███████████████████████████████████████████████████████████████████████████████████████████████████████| 44/44 [02:59<00:00,  4.09s/it]\n",
    "\n",
    "# Validation loss: 0.49760\n",
    "# Validation precision: 0.9630\n",
    "# Validation recall: 0.7160\n",
    "# Validation F1: 0.8213\n",
    "# Validation accuracy: 93.55 (%)\n",
    "\n",
    "\n",
    "# Epoch 97/200\n",
    "\n",
    "# 100%|█████████████████████████████████████████████████████████████████████████████████████████████████████| 176/176 [13:44<00:00,  4.68s/it]\n",
    "\n",
    "# Training loss: 0.01084\n",
    "# Train precision: 0.9905\n",
    "# Train recall: 0.9945\n",
    "# Train F1: 0.9925\n",
    "# Training accuracy: 99.71 (%)\n",
    "\n",
    "\n",
    "# 100%|███████████████████████████████████████████████████████████████████████████████████████████████████████| 44/44 [02:56<00:00,  4.01s/it]\n",
    "\n",
    "# Validation loss: 0.27625\n",
    "# Validation precision: 0.9886\n",
    "# Validation recall: 0.8232\n",
    "# Validation F1: 0.8983\n",
    "# Validation accuracy: 96.51 (%)\n",
    "\n",
    "\n",
    "# Epoch 98/200\n",
    "\n",
    "# 100%|█████████████████████████████████████████████████████████████████████████████████████████████████████| 176/176 [13:36<00:00,  4.64s/it]\n",
    "\n",
    "# Training loss: 0.00632\n",
    "# Train precision: 0.9922\n",
    "# Train recall: 0.9986\n",
    "# Train F1: 0.9954\n",
    "# Training accuracy: 99.82 (%)\n",
    "\n",
    "# Accuracy aumentou de 0.9981 para 0.9982 (98/200)\n",
    "# Saving checkpoint...\n",
    "# F1 aumentou de 0.9953 para 0.9954 (98/200)\n",
    "# Saving checkpoint...\n",
    "\n",
    "# 100%|███████████████████████████████████████████████████████████████████████████████████████████████████████| 44/44 [02:55<00:00,  4.00s/it]\n",
    "\n",
    "# Validation loss: 0.32458\n",
    "# Validation precision: 0.9845\n",
    "# Validation recall: 0.7904\n",
    "# Validation F1: 0.8768\n",
    "# Validation accuracy: 95.55 (%)\n",
    "\n",
    "\n",
    "# Epoch 99/200\n",
    "\n",
    "# 100%|█████████████████████████████████████████████████████████████████████████████████████████████████████| 176/176 [13:38<00:00,  4.65s/it]\n",
    "\n",
    "# Training loss: 0.00639\n",
    "# Train precision: 0.9941\n",
    "# Train recall: 0.9959\n",
    "# Train F1: 0.9950\n",
    "# Training accuracy: 99.80 (%)\n",
    "\n",
    "\n",
    "# 100%|███████████████████████████████████████████████████████████████████████████████████████████████████████| 44/44 [02:54<00:00,  3.97s/it]\n",
    "\n",
    "# Validation loss: 0.30275\n",
    "# Validation precision: 0.9822\n",
    "# Validation recall: 0.8308\n",
    "# Validation F1: 0.9002\n",
    "# Validation accuracy: 96.51 (%)\n",
    "\n",
    "\n",
    "# Epoch 100/200\n",
    "\n",
    "# 100%|█████████████████████████████████████████████████████████████████████████████████████████████████████| 176/176 [13:37<00:00,  4.65s/it]\n",
    "\n",
    "# Training loss: 0.00643\n",
    "# Train precision: 0.9931\n",
    "# Train recall: 0.9968\n",
    "# Train F1: 0.9949\n",
    "# Training accuracy: 99.80 (%)\n",
    "\n",
    "\n",
    "# 100%|███████████████████████████████████████████████████████████████████████████████████████████████████████| 44/44 [02:56<00:00,  4.02s/it]\n",
    "\n",
    "# Validation loss: 0.43571\n",
    "# Validation precision: 0.9956\n",
    "# Validation recall: 0.7778\n",
    "# Validation F1: 0.8733\n",
    "# Validation accuracy: 95.30 (%)\n",
    "\n",
    "\n",
    "# Epoch 101/200\n",
    "\n",
    "# 100%|█████████████████████████████████████████████████████████████████████████████████████████████████████| 176/176 [13:39<00:00,  4.66s/it]\n",
    "\n",
    "# Training loss: 0.00837\n",
    "# Train precision: 0.9893\n",
    "# Train recall: 0.9977\n",
    "# Train F1: 0.9935\n",
    "# Training accuracy: 99.75 (%)\n",
    "\n",
    "\n",
    "# 100%|███████████████████████████████████████████████████████████████████████████████████████████████████████| 44/44 [02:57<00:00,  4.02s/it]\n",
    "\n",
    "# Validation loss: 0.29642\n",
    "# Validation precision: 0.9915\n",
    "# Validation recall: 0.8239\n",
    "# Validation F1: 0.9000\n",
    "# Validation accuracy: 96.30 (%)\n",
    "\n",
    "\n",
    "# Epoch 102/200\n",
    "\n",
    "# 100%|█████████████████████████████████████████████████████████████████████████████████████████████████████| 176/176 [13:40<00:00,  4.66s/it]\n",
    "\n",
    "# Training loss: 0.00555\n",
    "# Train precision: 0.9937\n",
    "# Train recall: 0.9995\n",
    "# Train F1: 0.9966\n",
    "# Training accuracy: 99.87 (%)\n",
    "\n",
    "# Accuracy aumentou de 0.9982 para 0.9987 (102/200)\n",
    "# Saving checkpoint...\n",
    "# F1 aumentou de 0.9954 para 0.9966 (102/200)\n",
    "# Saving checkpoint...\n",
    "\n",
    "# 100%|███████████████████████████████████████████████████████████████████████████████████████████████████████| 44/44 [02:54<00:00,  3.96s/it]\n",
    "\n",
    "# Validation loss: 0.31553\n",
    "# Validation precision: 0.9870\n",
    "# Validation recall: 0.8429\n",
    "# Validation F1: 0.9093\n",
    "# Validation accuracy: 96.76 (%)\n",
    "\n",
    "# Accuracy aumentou de 0.9665 para 0.9676 (102/200)\n",
    "# Saving checkpoint...\n",
    "\n",
    "# Epoch 103/200\n",
    "\n",
    "# 100%|█████████████████████████████████████████████████████████████████████████████████████████████████████| 176/176 [13:43<00:00,  4.68s/it]\n",
    "\n",
    "# Training loss: 0.00696\n",
    "# Train precision: 0.9922\n",
    "# Train recall: 0.9968\n",
    "# Train F1: 0.9945\n",
    "# Training accuracy: 99.79 (%)\n",
    "\n",
    "\n",
    "# 100%|███████████████████████████████████████████████████████████████████████████████████████████████████████| 44/44 [02:55<00:00,  3.98s/it]\n",
    "\n",
    "# Validation loss: 0.26718\n",
    "# Validation precision: 0.9888\n",
    "# Validation recall: 0.8185\n",
    "# Validation F1: 0.8956\n",
    "# Validation accuracy: 96.33 (%)\n",
    "\n",
    "\n",
    "# Epoch 104/200\n",
    "\n",
    "# 100%|█████████████████████████████████████████████████████████████████████████████████████████████████████| 176/176 [13:39<00:00,  4.65s/it]\n",
    "\n",
    "# Training loss: 0.00975\n",
    "# Train precision: 0.9922\n",
    "# Train recall: 0.9963\n",
    "# Train F1: 0.9942\n",
    "# Training accuracy: 99.78 (%)\n",
    "\n",
    "\n",
    "# 100%|███████████████████████████████████████████████████████████████████████████████████████████████████████| 44/44 [02:55<00:00,  3.98s/it]\n",
    "\n",
    "# Validation loss: 0.40969\n",
    "# Validation precision: 0.9583\n",
    "# Validation recall: 0.8410\n",
    "# Validation F1: 0.8958\n",
    "# Validation accuracy: 96.19 (%)\n",
    "\n",
    "\n",
    "# Epoch 105/200\n",
    "\n",
    "# 100%|█████████████████████████████████████████████████████████████████████████████████████████████████████| 176/176 [13:46<00:00,  4.70s/it]\n",
    "\n",
    "# Training loss: 0.00877\n",
    "# Train precision: 0.9877\n",
    "# Train recall: 0.9954\n",
    "# Train F1: 0.9916\n",
    "# Training accuracy: 99.67 (%)\n",
    "\n",
    "\n",
    "# 100%|███████████████████████████████████████████████████████████████████████████████████████████████████████| 44/44 [03:02<00:00,  4.14s/it]\n",
    "\n",
    "# Validation loss: 0.35732\n",
    "# Validation precision: 0.9906\n",
    "# Validation recall: 0.7903\n",
    "# Validation F1: 0.8792\n",
    "# Validation accuracy: 95.87 (%)\n",
    "\n",
    "\n",
    "# Epoch 106/200\n",
    "\n",
    "# 100%|█████████████████████████████████████████████████████████████████████████████████████████████████████| 176/176 [14:04<00:00,  4.80s/it]\n",
    "\n",
    "# Training loss: 0.00898\n",
    "# Train precision: 0.9896\n",
    "# Train recall: 0.9964\n",
    "# Train F1: 0.9930\n",
    "# Training accuracy: 99.72 (%)\n",
    "\n",
    "\n",
    "# 100%|███████████████████████████████████████████████████████████████████████████████████████████████████████| 44/44 [03:01<00:00,  4.12s/it]\n",
    "\n",
    "# Validation loss: 0.33436\n",
    "# Validation precision: 0.9886\n",
    "# Validation recall: 0.7883\n",
    "# Validation F1: 0.8772\n",
    "# Validation accuracy: 95.69 (%)\n",
    "\n",
    "\n",
    "# Epoch 107/200\n",
    "\n",
    "# 100%|█████████████████████████████████████████████████████████████████████████████████████████████████████| 176/176 [14:01<00:00,  4.78s/it]\n",
    "\n",
    "# Training loss: 0.00637\n",
    "# Train precision: 0.9909\n",
    "# Train recall: 0.9991\n",
    "# Train F1: 0.9950\n",
    "# Training accuracy: 99.80 (%)\n",
    "\n",
    "\n",
    "# 100%|███████████████████████████████████████████████████████████████████████████████████████████████████████| 44/44 [03:03<00:00,  4.18s/it]\n",
    "\n",
    "# Validation loss: 0.34216\n",
    "# Validation precision: 0.9860\n",
    "# Validation recall: 0.7862\n",
    "# Validation F1: 0.8749\n",
    "# Validation accuracy: 95.69 (%)\n",
    "\n",
    "\n",
    "# Epoch 108/200\n",
    "\n",
    "# 100%|█████████████████████████████████████████████████████████████████████████████████████████████████████| 176/176 [14:02<00:00,  4.78s/it]\n",
    "\n",
    "# Training loss: 0.00687\n",
    "# Train precision: 0.9917\n",
    "# Train recall: 0.9963\n",
    "# Train F1: 0.9940\n",
    "# Training accuracy: 99.77 (%)\n",
    "\n",
    "\n",
    "# 100%|███████████████████████████████████████████████████████████████████████████████████████████████████████| 44/44 [03:02<00:00,  4.15s/it]\n",
    "\n",
    "# Validation loss: 0.38044\n",
    "# Validation precision: 0.9955\n",
    "# Validation recall: 0.7768\n",
    "# Validation F1: 0.8727\n",
    "# Validation accuracy: 95.41 (%)\n",
    "\n",
    "\n",
    "# Epoch 109/200\n",
    "\n",
    "# 100%|█████████████████████████████████████████████████████████████████████████████████████████████████████| 176/176 [14:00<00:00,  4.78s/it]\n",
    "\n",
    "# Training loss: 0.00693\n",
    "# Train precision: 0.9925\n",
    "# Train recall: 0.9976\n",
    "# Train F1: 0.9951\n",
    "# Training accuracy: 99.81 (%)\n",
    "\n",
    "\n",
    "# 100%|███████████████████████████████████████████████████████████████████████████████████████████████████████| 44/44 [03:00<00:00,  4.10s/it]\n",
    "\n",
    "# Validation loss: 0.34762\n",
    "# Validation precision: 0.9321\n",
    "# Validation recall: 0.8410\n",
    "# Validation F1: 0.8842\n",
    "# Validation accuracy: 95.90 (%)\n",
    "\n",
    "\n",
    "# Epoch 110/200\n",
    "\n",
    "# 100%|█████████████████████████████████████████████████████████████████████████████████████████████████████| 176/176 [14:01<00:00,  4.78s/it]\n",
    "\n",
    "# Training loss: 0.01175\n",
    "# Train precision: 0.9887\n",
    "# Train recall: 0.9954\n",
    "# Train F1: 0.9920\n",
    "# Training accuracy: 99.69 (%)\n",
    "\n",
    "\n",
    "# 100%|███████████████████████████████████████████████████████████████████████████████████████████████████████| 44/44 [03:00<00:00,  4.10s/it]\n",
    "\n",
    "# Validation loss: 0.26540\n",
    "# Validation precision: 0.9545\n",
    "# Validation recall: 0.8540\n",
    "# Validation F1: 0.9015\n",
    "# Validation accuracy: 96.40 (%)\n",
    "\n",
    "\n",
    "# Epoch 111/200\n",
    "\n",
    "# 100%|█████████████████████████████████████████████████████████████████████████████████████████████████████| 176/176 [14:02<00:00,  4.79s/it]\n",
    "\n",
    "# Training loss: 0.01362\n",
    "# Train precision: 0.9876\n",
    "# Train recall: 0.9945\n",
    "# Train F1: 0.9910\n",
    "# Training accuracy: 99.65 (%)\n",
    "\n",
    "\n",
    "# 100%|███████████████████████████████████████████████████████████████████████████████████████████████████████| 44/44 [02:59<00:00,  4.07s/it]\n",
    "\n",
    "# Validation loss: 0.36328\n",
    "# Validation precision: 0.9158\n",
    "# Validation recall: 0.8161\n",
    "# Validation F1: 0.8631\n",
    "# Validation accuracy: 94.84 (%)\n",
    "\n",
    "\n",
    "# Epoch 112/200\n",
    "\n",
    "# 100%|█████████████████████████████████████████████████████████████████████████████████████████████████████| 176/176 [13:59<00:00,  4.77s/it]\n",
    "\n",
    "# Training loss: 0.00946\n",
    "# Train precision: 0.9891\n",
    "# Train recall: 0.9950\n",
    "# Train F1: 0.9920\n",
    "# Training accuracy: 99.69 (%)\n",
    "\n",
    "\n",
    "# 100%|███████████████████████████████████████████████████████████████████████████████████████████████████████| 44/44 [03:00<00:00,  4.10s/it]\n",
    "\n",
    "# Validation loss: 0.33026\n",
    "# Validation precision: 0.9833\n",
    "# Validation recall: 0.7672\n",
    "# Validation F1: 0.8619\n",
    "# Validation accuracy: 95.30 (%)\n",
    "\n",
    "\n",
    "# Epoch 113/200\n",
    "\n",
    "# 100%|█████████████████████████████████████████████████████████████████████████████████████████████████████| 176/176 [13:56<00:00,  4.75s/it]\n",
    "\n",
    "# Training loss: 0.00398\n",
    "# Train precision: 0.9954\n",
    "# Train recall: 0.9977\n",
    "# Train F1: 0.9966\n",
    "# Training accuracy: 99.87 (%)\n",
    "\n",
    "\n",
    "# 100%|███████████████████████████████████████████████████████████████████████████████████████████████████████| 44/44 [03:00<00:00,  4.09s/it]\n",
    "\n",
    "# Validation loss: 0.31699\n",
    "# Validation precision: 0.9779\n",
    "# Validation recall: 0.8099\n",
    "# Validation F1: 0.8860\n",
    "# Validation accuracy: 95.94 (%)\n",
    "\n",
    "\n",
    "# Epoch 114/200\n",
    "\n",
    "# 100%|█████████████████████████████████████████████████████████████████████████████████████████████████████| 176/176 [13:44<00:00,  4.68s/it]\n",
    "\n",
    "# Training loss: 0.00803\n",
    "# Train precision: 0.9928\n",
    "# Train recall: 0.9977\n",
    "# Train F1: 0.9952\n",
    "# Training accuracy: 99.81 (%)\n",
    "\n",
    "\n",
    "# 100%|███████████████████████████████████████████████████████████████████████████████████████████████████████| 44/44 [02:54<00:00,  3.97s/it]\n",
    "\n",
    "# Validation loss: 0.32125\n",
    "# Validation precision: 0.9889\n",
    "# Validation recall: 0.8117\n",
    "# Validation F1: 0.8916\n",
    "# Validation accuracy: 96.15 (%)\n",
    "\n",
    "\n",
    "# Epoch 115/200\n",
    "\n",
    "# 100%|█████████████████████████████████████████████████████████████████████████████████████████████████████| 176/176 [13:45<00:00,  4.69s/it]\n",
    "\n",
    "# Training loss: 0.00867\n",
    "# Train precision: 0.9891\n",
    "# Train recall: 0.9963\n",
    "# Train F1: 0.9927\n",
    "# Training accuracy: 99.71 (%)\n",
    "\n",
    "\n",
    "# 100%|███████████████████████████████████████████████████████████████████████████████████████████████████████| 44/44 [02:56<00:00,  4.01s/it]\n",
    "\n",
    "# Validation loss: 0.44519\n",
    "# Validation precision: 0.9874\n",
    "# Validation recall: 0.7471\n",
    "# Validation F1: 0.8506\n",
    "# Validation accuracy: 95.09 (%)\n",
    "\n",
    "\n",
    "# Epoch 116/200\n",
    "\n",
    "# 100%|█████████████████████████████████████████████████████████████████████████████████████████████████████| 176/176 [13:48<00:00,  4.71s/it]\n",
    "\n",
    "# Training loss: 0.00577\n",
    "# Train precision: 0.9941\n",
    "# Train recall: 0.9986\n",
    "# Train F1: 0.9963\n",
    "# Training accuracy: 99.86 (%)\n",
    "\n",
    "\n",
    "# 100%|███████████████████████████████████████████████████████████████████████████████████████████████████████| 44/44 [02:56<00:00,  4.01s/it]\n",
    "\n",
    "# Validation loss: 0.29071\n",
    "# Validation precision: 0.9879\n",
    "# Validation recall: 0.8059\n",
    "# Validation F1: 0.8877\n",
    "# Validation accuracy: 96.33 (%)\n",
    "\n",
    "\n",
    "# Epoch 117/200\n",
    "\n",
    "# 100%|█████████████████████████████████████████████████████████████████████████████████████████████████████| 176/176 [13:44<00:00,  4.68s/it]\n",
    "\n",
    "# Training loss: 0.00726\n",
    "# Train precision: 0.9902\n",
    "# Train recall: 0.9976\n",
    "# Train F1: 0.9939\n",
    "# Training accuracy: 99.77 (%)\n",
    "\n",
    "\n",
    "# 100%|███████████████████████████████████████████████████████████████████████████████████████████████████████| 44/44 [02:56<00:00,  4.01s/it]\n",
    "\n",
    "# Validation loss: 0.26834\n",
    "# Validation precision: 0.9951\n",
    "# Validation recall: 0.7808\n",
    "# Validation F1: 0.8750\n",
    "# Validation accuracy: 95.87 (%)\n",
    "\n",
    "\n",
    "# Epoch 118/200\n",
    "\n",
    "# 100%|█████████████████████████████████████████████████████████████████████████████████████████████████████| 176/176 [13:45<00:00,  4.69s/it]\n",
    "\n",
    "# Training loss: 0.00406\n",
    "# Train precision: 0.9954\n",
    "# Train recall: 0.9973\n",
    "# Train F1: 0.9963\n",
    "# Training accuracy: 99.86 (%)\n",
    "\n",
    "\n",
    "# 100%|███████████████████████████████████████████████████████████████████████████████████████████████████████| 44/44 [02:57<00:00,  4.03s/it]\n",
    "\n",
    "# Validation loss: 0.35374\n",
    "# Validation precision: 0.9932\n",
    "# Validation recall: 0.7952\n",
    "# Validation F1: 0.8832\n",
    "# Validation accuracy: 95.90 (%)\n",
    "\n",
    "\n",
    "# Epoch 119/200\n",
    "\n",
    "# 100%|█████████████████████████████████████████████████████████████████████████████████████████████████████| 176/176 [13:44<00:00,  4.68s/it]\n",
    "\n",
    "# Training loss: 0.00508\n",
    "# Train precision: 0.9946\n",
    "# Train recall: 0.9982\n",
    "# Train F1: 0.9964\n",
    "# Training accuracy: 99.86 (%)\n",
    "\n",
    "\n",
    "# 100%|███████████████████████████████████████████████████████████████████████████████████████████████████████| 44/44 [02:58<00:00,  4.06s/it]\n",
    "\n",
    "# Validation loss: 0.39210\n",
    "# Validation precision: 0.9863\n",
    "# Validation recall: 0.7989\n",
    "# Validation F1: 0.8828\n",
    "# Validation accuracy: 95.90 (%)\n",
    "\n",
    "\n",
    "# Epoch 120/200\n",
    "\n",
    "# 100%|█████████████████████████████████████████████████████████████████████████████████████████████████████| 176/176 [14:05<00:00,  4.80s/it]\n",
    "\n",
    "# Training loss: 0.00677\n",
    "# Train precision: 0.9934\n",
    "# Train recall: 0.9972\n",
    "# Train F1: 0.9953\n",
    "# Training accuracy: 99.82 (%)\n",
    "\n",
    "\n",
    "# 100%|███████████████████████████████████████████████████████████████████████████████████████████████████████| 44/44 [03:19<00:00,  4.54s/it]\n",
    "\n",
    "# Validation loss: 0.36941\n",
    "# Validation precision: 0.9609\n",
    "# Validation recall: 0.8265\n",
    "# Validation F1: 0.8887\n",
    "# Validation accuracy: 95.83 (%)\n",
    "\n",
    "\n",
    "# Epoch 121/200\n",
    "\n",
    "# 100%|█████████████████████████████████████████████████████████████████████████████████████████████████████| 176/176 [15:12<00:00,  5.18s/it]\n",
    "\n",
    "# Training loss: 0.00646\n",
    "# Train precision: 0.9924\n",
    "# Train recall: 0.9991\n",
    "# Train F1: 0.9958\n",
    "# Training accuracy: 99.83 (%)\n",
    "\n",
    "\n",
    "# 100%|███████████████████████████████████████████████████████████████████████████████████████████████████████| 44/44 [03:19<00:00,  4.53s/it]\n",
    "\n",
    "# Validation loss: 0.35301\n",
    "# Validation precision: 0.9929\n",
    "# Validation recall: 0.8027\n",
    "# Validation F1: 0.8877\n",
    "# Validation accuracy: 96.23 (%)\n",
    "\n",
    "\n",
    "# Epoch 122/200\n",
    "\n",
    "# 100%|█████████████████████████████████████████████████████████████████████████████████████████████████████| 176/176 [15:09<00:00,  5.17s/it]\n",
    "\n",
    "# Training loss: 0.00414\n",
    "# Train precision: 0.9941\n",
    "# Train recall: 0.9991\n",
    "# Train F1: 0.9966\n",
    "# Training accuracy: 99.87 (%)\n",
    "\n",
    "\n",
    "# 100%|███████████████████████████████████████████████████████████████████████████████████████████████████████| 44/44 [02:58<00:00,  4.07s/it]\n",
    "\n",
    "# Validation loss: 0.27241\n",
    "# Validation precision: 0.9933\n",
    "# Validation recall: 0.8232\n",
    "# Validation F1: 0.9003\n",
    "# Validation accuracy: 96.47 (%)\n",
    "\n",
    "\n",
    "# Epoch 123/200\n",
    "\n",
    "# 100%|█████████████████████████████████████████████████████████████████████████████████████████████████████| 176/176 [13:41<00:00,  4.67s/it]\n",
    "\n",
    "# Training loss: 0.00594\n",
    "# Train precision: 0.9926\n",
    "# Train recall: 0.9968\n",
    "# Train F1: 0.9947\n",
    "# Training accuracy: 99.79 (%)\n",
    "\n",
    "\n",
    "# 100%|███████████████████████████████████████████████████████████████████████████████████████████████████████| 44/44 [02:57<00:00,  4.03s/it]\n",
    "\n",
    "# Validation loss: 0.30148\n",
    "# Validation precision: 0.9774\n",
    "# Validation recall: 0.8176\n",
    "# Validation F1: 0.8903\n",
    "# Validation accuracy: 95.83 (%)\n",
    "\n",
    "\n",
    "# Epoch 124/200\n",
    "\n",
    "# 100%|█████████████████████████████████████████████████████████████████████████████████████████████████████| 176/176 [13:47<00:00,  4.70s/it]\n",
    "\n",
    "# Training loss: 0.00853\n",
    "# Train precision: 0.9905\n",
    "# Train recall: 0.9954\n",
    "# Train F1: 0.9930\n",
    "# Training accuracy: 99.72 (%)\n",
    "\n",
    "\n",
    "# 100%|███████████████████████████████████████████████████████████████████████████████████████████████████████| 44/44 [02:56<00:00,  4.00s/it]\n",
    "\n",
    "# Validation loss: 0.26319\n",
    "# Validation precision: 0.9842\n",
    "# Validation recall: 0.8317\n",
    "# Validation F1: 0.9016\n",
    "# Validation accuracy: 96.62 (%)\n",
    "\n",
    "\n",
    "# Epoch 125/200\n",
    "\n",
    "# 100%|█████████████████████████████████████████████████████████████████████████████████████████████████████| 176/176 [13:43<00:00,  4.68s/it]\n",
    "\n",
    "# Training loss: 0.00604\n",
    "# Train precision: 0.9929\n",
    "# Train recall: 0.9962\n",
    "# Train F1: 0.9946\n",
    "# Training accuracy: 99.79 (%)\n",
    "\n",
    "\n",
    "# 100%|███████████████████████████████████████████████████████████████████████████████████████████████████████| 44/44 [02:55<00:00,  3.99s/it]\n",
    "\n",
    "# Validation loss: 0.31154\n",
    "# Validation precision: 0.9929\n",
    "# Validation recall: 0.7970\n",
    "# Validation F1: 0.8842\n",
    "# Validation accuracy: 96.08 (%)\n",
    "\n",
    "\n",
    "# Epoch 126/200\n",
    "\n",
    "# 100%|█████████████████████████████████████████████████████████████████████████████████████████████████████| 176/176 [14:16<00:00,  4.87s/it]\n",
    "\n",
    "# Training loss: 0.00607\n",
    "# Train precision: 0.9922\n",
    "# Train recall: 0.9968\n",
    "# Train F1: 0.9945\n",
    "# Training accuracy: 99.79 (%)\n",
    "\n",
    "\n",
    "# 100%|███████████████████████████████████████████████████████████████████████████████████████████████████████| 44/44 [02:55<00:00,  4.00s/it]\n",
    "\n",
    "# Validation loss: 0.44223\n",
    "# Validation precision: 0.9930\n",
    "# Validation recall: 0.7733\n",
    "# Validation F1: 0.8695\n",
    "# Validation accuracy: 95.48 (%)\n",
    "\n",
    "\n",
    "# Epoch 127/200\n",
    "\n",
    "# 100%|█████████████████████████████████████████████████████████████████████████████████████████████████████| 176/176 [13:44<00:00,  4.68s/it]\n",
    "\n",
    "# Training loss: 0.00493\n",
    "# Train precision: 0.9946\n",
    "# Train recall: 0.9991\n",
    "# Train F1: 0.9968\n",
    "# Training accuracy: 99.88 (%)\n",
    "\n",
    "# Accuracy aumentou de 0.9987 para 0.9988 (127/200)\n",
    "# Saving checkpoint...\n",
    "# F1 aumentou de 0.9966 para 0.9968 (127/200)\n",
    "# Saving checkpoint...\n",
    "\n",
    "# 100%|███████████████████████████████████████████████████████████████████████████████████████████████████████| 44/44 [02:56<00:00,  4.01s/it]\n",
    "\n",
    "# Validation loss: 0.38501\n",
    "# Validation precision: 0.9934\n",
    "# Validation recall: 0.8043\n",
    "# Validation F1: 0.8889\n",
    "# Validation accuracy: 95.98 (%)\n",
    "\n",
    "\n",
    "# Epoch 128/200\n",
    "\n",
    "# 100%|█████████████████████████████████████████████████████████████████████████████████████████████████████| 176/176 [13:44<00:00,  4.69s/it]\n",
    "\n",
    "# Training loss: 0.00788\n",
    "# Train precision: 0.9908\n",
    "# Train recall: 0.9982\n",
    "# Train F1: 0.9945\n",
    "# Training accuracy: 99.79 (%)\n",
    "\n",
    "\n",
    "# 100%|███████████████████████████████████████████████████████████████████████████████████████████████████████| 44/44 [02:56<00:00,  4.01s/it]\n",
    "\n",
    "# Validation loss: 0.40715\n",
    "# Validation precision: 0.9903\n",
    "# Validation recall: 0.7824\n",
    "# Validation F1: 0.8742\n",
    "# Validation accuracy: 95.80 (%)\n",
    "\n",
    "\n",
    "# Epoch 129/200\n",
    "\n",
    "# 100%|█████████████████████████████████████████████████████████████████████████████████████████████████████| 176/176 [13:39<00:00,  4.66s/it]\n",
    "\n",
    "# Training loss: 0.00714\n",
    "# Train precision: 0.9936\n",
    "# Train recall: 0.9954\n",
    "# Train F1: 0.9945\n",
    "# Training accuracy: 99.79 (%)\n",
    "\n",
    "\n",
    "# 100%|███████████████████████████████████████████████████████████████████████████████████████████████████████| 44/44 [02:55<00:00,  3.98s/it]\n",
    "\n",
    "# Validation loss: 0.43086\n",
    "# Validation precision: 0.9901\n",
    "# Validation recall: 0.7624\n",
    "# Validation F1: 0.8614\n",
    "# Validation accuracy: 95.41 (%)\n",
    "\n",
    "\n",
    "# Epoch 130/200\n",
    "\n",
    "# 100%|█████████████████████████████████████████████████████████████████████████████████████████████████████| 176/176 [13:44<00:00,  4.68s/it]\n",
    "\n",
    "# Training loss: 0.00413\n",
    "# Train precision: 0.9935\n",
    "# Train recall: 0.9986\n",
    "# Train F1: 0.9960\n",
    "# Training accuracy: 99.85 (%)\n",
    "\n",
    "\n",
    "# 100%|███████████████████████████████████████████████████████████████████████████████████████████████████████| 44/44 [02:55<00:00,  3.99s/it]\n",
    "\n",
    "# Validation loss: 0.32095\n",
    "# Validation precision: 0.9840\n",
    "# Validation recall: 0.8175\n",
    "# Validation F1: 0.8930\n",
    "# Validation accuracy: 96.33 (%)\n",
    "\n",
    "\n",
    "# Epoch 131/200\n",
    "\n",
    "# 100%|█████████████████████████████████████████████████████████████████████████████████████████████████████| 176/176 [13:43<00:00,  4.68s/it]\n",
    "\n",
    "# Training loss: 0.00701\n",
    "# Train precision: 0.9905\n",
    "# Train recall: 0.9982\n",
    "# Train F1: 0.9943\n",
    "# Training accuracy: 99.78 (%)\n",
    "\n",
    "\n",
    "# 100%|███████████████████████████████████████████████████████████████████████████████████████████████████████| 44/44 [02:56<00:00,  4.01s/it]\n",
    "\n",
    "# Validation loss: 0.36643\n",
    "# Validation precision: 0.9886\n",
    "# Validation recall: 0.7923\n",
    "# Validation F1: 0.8797\n",
    "# Validation accuracy: 95.76 (%)\n",
    "\n",
    "\n",
    "# Epoch 132/200\n",
    "\n",
    "# 100%|█████████████████████████████████████████████████████████████████████████████████████████████████████| 176/176 [13:49<00:00,  4.71s/it]\n",
    "\n",
    "# Training loss: 0.00760\n",
    "# Train precision: 0.9945\n",
    "# Train recall: 0.9968\n",
    "# Train F1: 0.9957\n",
    "# Training accuracy: 99.83 (%)\n",
    "\n",
    "\n",
    "# 100%|███████████████████████████████████████████████████████████████████████████████████████████████████████| 44/44 [02:58<00:00,  4.05s/it]\n",
    "\n",
    "# Validation loss: 0.37080\n",
    "# Validation precision: 0.9209\n",
    "# Validation recall: 0.8056\n",
    "# Validation F1: 0.8594\n",
    "# Validation accuracy: 94.98 (%)\n",
    "\n",
    "\n",
    "# Epoch 133/200\n",
    "\n",
    "# 100%|█████████████████████████████████████████████████████████████████████████████████████████████████████| 176/176 [14:05<00:00,  4.80s/it]\n",
    "\n",
    "# Training loss: 0.01027\n",
    "# Train precision: 0.9881\n",
    "# Train recall: 0.9945\n",
    "# Train F1: 0.9913\n",
    "# Training accuracy: 99.66 (%)\n",
    "\n",
    "\n",
    "# 100%|███████████████████████████████████████████████████████████████████████████████████████████████████████| 44/44 [02:57<00:00,  4.04s/it]\n",
    "\n",
    "# Validation loss: 0.38269\n",
    "# Validation precision: 0.9915\n",
    "# Validation recall: 0.8171\n",
    "# Validation F1: 0.8959\n",
    "# Validation accuracy: 96.12 (%)\n",
    "\n",
    "\n",
    "# Epoch 134/200\n",
    "\n",
    "# 100%|█████████████████████████████████████████████████████████████████████████████████████████████████████| 176/176 [13:45<00:00,  4.69s/it]\n",
    "\n",
    "# Training loss: 0.00498\n",
    "# Train precision: 0.9944\n",
    "# Train recall: 0.9995\n",
    "# Train F1: 0.9969\n",
    "# Training accuracy: 99.88 (%)\n",
    "\n",
    "# Accuracy aumentou de 0.9988 para 0.9988 (134/200)\n",
    "# Saving checkpoint...\n",
    "# F1 aumentou de 0.9968 para 0.9969 (134/200)\n",
    "# Saving checkpoint...\n",
    "\n",
    "# 100%|███████████████████████████████████████████████████████████████████████████████████████████████████████| 44/44 [02:57<00:00,  4.04s/it]\n",
    "\n",
    "# Validation loss: 0.26940\n",
    "# Validation precision: 0.9776\n",
    "# Validation recall: 0.8138\n",
    "# Validation F1: 0.8882\n",
    "# Validation accuracy: 96.08 (%)\n",
    "\n",
    "\n",
    "# Epoch 135/200\n",
    "\n",
    "# 100%|█████████████████████████████████████████████████████████████████████████████████████████████████████| 176/176 [13:42<00:00,  4.68s/it]\n",
    "\n",
    "# Training loss: 0.00526\n",
    "# Train precision: 0.9935\n",
    "# Train recall: 0.9977\n",
    "# Train F1: 0.9956\n",
    "# Training accuracy: 99.83 (%)\n",
    "\n",
    "\n",
    "# 100%|███████████████████████████████████████████████████████████████████████████████████████████████████████| 44/44 [02:54<00:00,  3.98s/it]\n",
    "\n",
    "# Validation loss: 0.41252\n",
    "# Validation precision: 0.9933\n",
    "# Validation recall: 0.7872\n",
    "# Validation F1: 0.8783\n",
    "# Validation accuracy: 95.62 (%)\n",
    "\n",
    "\n",
    "# Epoch 136/200\n",
    "\n",
    "# 100%|█████████████████████████████████████████████████████████████████████████████████████████████████████| 176/176 [13:44<00:00,  4.68s/it]\n",
    "\n",
    "# Training loss: 0.00611\n",
    "# Train precision: 0.9919\n",
    "# Train recall: 0.9971\n",
    "# Train F1: 0.9945\n",
    "# Training accuracy: 99.79 (%)\n",
    "\n",
    "\n",
    "# 100%|███████████████████████████████████████████████████████████████████████████████████████████████████████| 44/44 [02:57<00:00,  4.03s/it]\n",
    "\n",
    "# Validation loss: 0.34942\n",
    "# Validation precision: 0.9908\n",
    "# Validation recall: 0.8026\n",
    "# Validation F1: 0.8868\n",
    "# Validation accuracy: 96.08 (%)\n",
    "\n",
    "\n",
    "# Epoch 137/200\n",
    "\n",
    "# 100%|█████████████████████████████████████████████████████████████████████████████████████████████████████| 176/176 [13:40<00:00,  4.66s/it]\n",
    "\n",
    "# Training loss: 0.00709\n",
    "# Train precision: 0.9931\n",
    "# Train recall: 0.9972\n",
    "# Train F1: 0.9951\n",
    "# Training accuracy: 99.81 (%)\n",
    "\n",
    "\n",
    "# 100%|███████████████████████████████████████████████████████████████████████████████████████████████████████| 44/44 [02:56<00:00,  4.01s/it]\n",
    "\n",
    "# Validation loss: 0.34831\n",
    "# Validation precision: 0.9953\n",
    "# Validation recall: 0.7978\n",
    "# Validation F1: 0.8857\n",
    "# Validation accuracy: 96.08 (%)\n",
    "\n",
    "\n",
    "# Epoch 138/200\n",
    "\n",
    "# 100%|█████████████████████████████████████████████████████████████████████████████████████████████████████| 176/176 [13:37<00:00,  4.65s/it]\n",
    "\n",
    "# Training loss: 0.00485\n",
    "# Train precision: 0.9946\n",
    "# Train recall: 0.9982\n",
    "# Train F1: 0.9964\n",
    "# Training accuracy: 99.86 (%)\n",
    "\n",
    "\n",
    "# 100%|███████████████████████████████████████████████████████████████████████████████████████████████████████| 44/44 [02:55<00:00,  4.00s/it]\n",
    "\n",
    "# Validation loss: 0.24989\n",
    "# Validation precision: 0.9289\n",
    "# Validation recall: 0.8772\n",
    "# Validation F1: 0.9023\n",
    "# Validation accuracy: 96.47 (%)\n",
    "\n",
    "\n",
    "# Epoch 139/200\n",
    "\n",
    "# 100%|█████████████████████████████████████████████████████████████████████████████████████████████████████| 176/176 [13:38<00:00,  4.65s/it]\n",
    "\n",
    "# Training loss: 0.00709\n",
    "# Train precision: 0.9908\n",
    "# Train recall: 0.9981\n",
    "# Train F1: 0.9945\n",
    "# Training accuracy: 99.79 (%)\n",
    "\n",
    "\n",
    "# 100%|███████████████████████████████████████████████████████████████████████████████████████████████████████| 44/44 [02:54<00:00,  3.98s/it]\n",
    "\n",
    "# Validation loss: 0.30798\n",
    "# Validation precision: 0.9933\n",
    "# Validation recall: 0.8142\n",
    "# Validation F1: 0.8949\n",
    "# Validation accuracy: 96.26 (%)\n",
    "\n",
    "\n",
    "# Epoch 140/200\n",
    "\n",
    "# 100%|█████████████████████████████████████████████████████████████████████████████████████████████████████| 176/176 [13:36<00:00,  4.64s/it]\n",
    "\n",
    "# Training loss: 0.00546\n",
    "# Train precision: 0.9934\n",
    "# Train recall: 0.9972\n",
    "# Train F1: 0.9953\n",
    "# Training accuracy: 99.82 (%)\n",
    "\n",
    "\n",
    "# 100%|███████████████████████████████████████████████████████████████████████████████████████████████████████| 44/44 [02:56<00:00,  4.01s/it]\n",
    "\n",
    "# Validation loss: 0.23772\n",
    "# Validation precision: 0.9484\n",
    "# Validation recall: 0.8779\n",
    "# Validation F1: 0.9118\n",
    "# Validation accuracy: 96.58 (%)\n",
    "\n",
    "\n",
    "# Epoch 141/200\n",
    "\n",
    "# 100%|█████████████████████████████████████████████████████████████████████████████████████████████████████| 176/176 [13:37<00:00,  4.65s/it]\n",
    "\n",
    "# Training loss: 0.00775\n",
    "# Train precision: 0.9922\n",
    "# Train recall: 0.9972\n",
    "# Train F1: 0.9947\n",
    "# Training accuracy: 99.79 (%)\n",
    "\n",
    "\n",
    "# 100%|███████████████████████████████████████████████████████████████████████████████████████████████████████| 44/44 [02:55<00:00,  4.00s/it]\n",
    "\n",
    "# Validation loss: 0.34206\n",
    "# Validation precision: 0.9217\n",
    "# Validation recall: 0.8300\n",
    "# Validation F1: 0.8735\n",
    "# Validation accuracy: 95.26 (%)\n",
    "\n",
    "\n",
    "# Epoch 142/200\n",
    "\n",
    "# 100%|█████████████████████████████████████████████████████████████████████████████████████████████████████| 176/176 [13:41<00:00,  4.67s/it]\n",
    "\n",
    "# Training loss: 0.00998\n",
    "# Train precision: 0.9905\n",
    "# Train recall: 0.9959\n",
    "# Train F1: 0.9932\n",
    "# Training accuracy: 99.73 (%)\n",
    "\n",
    "\n",
    "# 100%|███████████████████████████████████████████████████████████████████████████████████████████████████████| 44/44 [02:56<00:00,  4.01s/it]\n",
    "\n",
    "# Validation loss: 0.40032\n",
    "# Validation precision: 0.9938\n",
    "# Validation recall: 0.8177\n",
    "# Validation F1: 0.8972\n",
    "# Validation accuracy: 96.08 (%)\n",
    "\n",
    "\n",
    "# Epoch 143/200\n",
    "\n",
    "# 100%|█████████████████████████████████████████████████████████████████████████████████████████████████████| 176/176 [13:39<00:00,  4.65s/it]\n",
    "\n",
    "# Training loss: 0.00735\n",
    "# Train precision: 0.9937\n",
    "# Train recall: 0.9968\n",
    "# Train F1: 0.9952\n",
    "# Training accuracy: 99.81 (%)\n",
    "\n",
    "\n",
    "# 100%|███████████████████████████████████████████████████████████████████████████████████████████████████████| 44/44 [02:56<00:00,  4.02s/it]\n",
    "\n",
    "# Validation loss: 0.33407\n",
    "# Validation precision: 0.9789\n",
    "# Validation recall: 0.8224\n",
    "# Validation F1: 0.8938\n",
    "# Validation accuracy: 96.08 (%)\n",
    "\n",
    "\n",
    "# Epoch 144/200\n",
    "\n",
    "# 100%|█████████████████████████████████████████████████████████████████████████████████████████████████████| 176/176 [13:40<00:00,  4.66s/it]\n",
    "\n",
    "# Training loss: 0.00643\n",
    "# Train precision: 0.9930\n",
    "# Train recall: 0.9962\n",
    "# Train F1: 0.9946\n",
    "# Training accuracy: 99.79 (%)\n",
    "\n",
    "\n",
    "# 100%|███████████████████████████████████████████████████████████████████████████████████████████████████████| 44/44 [02:57<00:00,  4.04s/it]\n",
    "\n",
    "# Validation loss: 0.31967\n",
    "# Validation precision: 0.9910\n",
    "# Validation recall: 0.8212\n",
    "# Validation F1: 0.8982\n",
    "# Validation accuracy: 96.44 (%)\n",
    "\n",
    "\n",
    "# Epoch 145/200\n",
    "\n",
    "# 100%|█████████████████████████████████████████████████████████████████████████████████████████████████████| 176/176 [13:40<00:00,  4.66s/it]\n",
    "\n",
    "# Training loss: 0.00553\n",
    "# Train precision: 0.9931\n",
    "# Train recall: 0.9974\n",
    "# Train F1: 0.9952\n",
    "# Training accuracy: 99.80 (%)\n",
    "\n",
    "\n",
    "# 100%|███████████████████████████████████████████████████████████████████████████████████████████████████████| 44/44 [02:55<00:00,  3.98s/it]\n",
    "\n",
    "# Validation loss: 0.43934\n",
    "# Validation precision: 0.9928\n",
    "# Validation recall: 0.7615\n",
    "# Validation F1: 0.8619\n",
    "# Validation accuracy: 95.26 (%)\n",
    "\n",
    "\n",
    "# Epoch 146/200\n",
    "\n",
    "# 100%|█████████████████████████████████████████████████████████████████████████████████████████████████████| 176/176 [13:35<00:00,  4.63s/it]\n",
    "\n",
    "# Training loss: 0.00476\n",
    "# Train precision: 0.9946\n",
    "# Train recall: 0.9986\n",
    "# Train F1: 0.9966\n",
    "# Training accuracy: 99.87 (%)\n",
    "\n",
    "\n",
    "# 100%|███████████████████████████████████████████████████████████████████████████████████████████████████████| 44/44 [02:55<00:00,  3.99s/it]\n",
    "\n",
    "# Validation loss: 0.35944\n",
    "# Validation precision: 0.9978\n",
    "# Validation recall: 0.8161\n",
    "# Validation F1: 0.8978\n",
    "# Validation accuracy: 96.30 (%)\n",
    "\n",
    "\n",
    "# Epoch 147/200\n",
    "\n",
    "# 100%|█████████████████████████████████████████████████████████████████████████████████████████████████████| 176/176 [13:42<00:00,  4.67s/it]\n",
    "\n",
    "# Training loss: 0.00300\n",
    "# Train precision: 0.9972\n",
    "# Train recall: 0.9986\n",
    "# Train F1: 0.9979\n",
    "# Training accuracy: 99.92 (%)\n",
    "\n",
    "# Accuracy aumentou de 0.9988 para 0.9992 (147/200)\n",
    "# Saving checkpoint...\n",
    "# F1 aumentou de 0.9969 para 0.9979 (147/200)\n",
    "# Saving checkpoint...\n",
    "\n",
    "# 100%|███████████████████████████████████████████████████████████████████████████████████████████████████████| 44/44 [02:56<00:00,  4.00s/it]\n",
    "\n",
    "# Validation loss: 0.32657\n",
    "# Validation precision: 0.9978\n",
    "# Validation recall: 0.8102\n",
    "# Validation F1: 0.8943\n",
    "# Validation accuracy: 96.26 (%)\n",
    "\n",
    "\n",
    "# Epoch 148/200\n",
    "\n",
    "# 100%|█████████████████████████████████████████████████████████████████████████████████████████████████████| 176/176 [13:41<00:00,  4.67s/it]\n",
    "\n",
    "# Training loss: 0.00455\n",
    "# Train precision: 0.9945\n",
    "# Train recall: 0.9995\n",
    "# Train F1: 0.9970\n",
    "# Training accuracy: 99.88 (%)\n",
    "\n",
    "\n",
    "# 100%|███████████████████████████████████████████████████████████████████████████████████████████████████████| 44/44 [02:55<00:00,  4.00s/it]\n",
    "\n",
    "# Validation loss: 0.46081\n",
    "# Validation precision: 0.9932\n",
    "# Validation recall: 0.7861\n",
    "# Validation F1: 0.8776\n",
    "# Validation accuracy: 95.62 (%)\n",
    "\n",
    "\n",
    "# Epoch 149/200\n",
    "\n",
    "# 100%|█████████████████████████████████████████████████████████████████████████████████████████████████████| 176/176 [13:36<00:00,  4.64s/it]\n",
    "\n",
    "# Training loss: 0.00523\n",
    "# Train precision: 0.9936\n",
    "# Train recall: 0.9991\n",
    "# Train F1: 0.9963\n",
    "# Training accuracy: 99.86 (%)\n",
    "\n",
    "\n",
    "# 100%|███████████████████████████████████████████████████████████████████████████████████████████████████████| 44/44 [02:56<00:00,  4.01s/it]\n",
    "\n",
    "# Validation loss: 0.35334\n",
    "# Validation precision: 0.9952\n",
    "# Validation recall: 0.7546\n",
    "# Validation F1: 0.8583\n",
    "# Validation accuracy: 95.16 (%)\n",
    "\n",
    "\n",
    "# Epoch 150/200\n",
    "\n",
    "# 100%|█████████████████████████████████████████████████████████████████████████████████████████████████████| 176/176 [13:25<00:00,  4.58s/it]\n",
    "\n",
    "# Training loss: 0.00463\n",
    "# Train precision: 0.9955\n",
    "# Train recall: 0.9986\n",
    "# Train F1: 0.9971\n",
    "# Training accuracy: 99.88 (%)\n",
    "\n",
    "\n",
    "# 100%|███████████████████████████████████████████████████████████████████████████████████████████████████████| 44/44 [02:55<00:00,  3.98s/it]\n",
    "\n",
    "# Validation loss: 0.39418\n",
    "# Validation precision: 0.9898\n",
    "# Validation recall: 0.8083\n",
    "# Validation F1: 0.8899\n",
    "# Validation accuracy: 95.73 (%)\n",
    "\n",
    "\n",
    "# Epoch 151/200\n",
    "\n",
    "# 100%|█████████████████████████████████████████████████████████████████████████████████████████████████████| 176/176 [13:38<00:00,  4.65s/it]\n",
    "\n",
    "# Training loss: 0.00649\n",
    "# Train precision: 0.9960\n",
    "# Train recall: 0.9991\n",
    "# Train F1: 0.9976\n",
    "# Training accuracy: 99.90 (%)\n",
    "\n",
    "\n",
    "# 100%|███████████████████████████████████████████████████████████████████████████████████████████████████████| 44/44 [02:55<00:00,  3.99s/it]\n",
    "\n",
    "# Validation loss: 0.46411\n",
    "# Validation precision: 0.9378\n",
    "# Validation recall: 0.6642\n",
    "# Validation F1: 0.7777\n",
    "# Validation accuracy: 92.63 (%)\n",
    "\n",
    "\n",
    "# Epoch 152/200\n",
    "\n",
    "# 100%|█████████████████████████████████████████████████████████████████████████████████████████████████████| 176/176 [13:39<00:00,  4.65s/it]\n",
    "\n",
    "# Training loss: 0.00638\n",
    "# Train precision: 0.9934\n",
    "# Train recall: 0.9971\n",
    "# Train F1: 0.9953\n",
    "# Training accuracy: 99.82 (%)\n",
    "\n",
    "\n",
    "# 100%|███████████████████████████████████████████████████████████████████████████████████████████████████████| 44/44 [02:58<00:00,  4.05s/it]\n",
    "\n",
    "# Validation loss: 0.39579\n",
    "# Validation precision: 0.9957\n",
    "# Validation recall: 0.8226\n",
    "# Validation F1: 0.9009\n",
    "# Validation accuracy: 96.40 (%)\n",
    "\n",
    "\n",
    "# Epoch 153/200\n",
    "\n",
    "# 100%|█████████████████████████████████████████████████████████████████████████████████████████████████████| 176/176 [13:47<00:00,  4.70s/it]\n",
    "\n",
    "# Training loss: 0.00418\n",
    "# Train precision: 0.9945\n",
    "# Train recall: 0.9977\n",
    "# Train F1: 0.9961\n",
    "# Training accuracy: 99.85 (%)\n",
    "\n",
    "\n",
    "# 100%|███████████████████████████████████████████████████████████████████████████████████████████████████████| 44/44 [02:58<00:00,  4.05s/it]\n",
    "\n",
    "# Validation loss: 0.34429\n",
    "# Validation precision: 0.9905\n",
    "# Validation recall: 0.7883\n",
    "# Validation F1: 0.8779\n",
    "# Validation accuracy: 95.87 (%)\n",
    "\n",
    "\n",
    "# Epoch 154/200\n",
    "\n",
    "# 100%|█████████████████████████████████████████████████████████████████████████████████████████████████████| 176/176 [13:48<00:00,  4.70s/it]\n",
    "\n",
    "# Training loss: 0.00544\n",
    "# Train precision: 0.9939\n",
    "# Train recall: 0.9963\n",
    "# Train F1: 0.9951\n",
    "# Training accuracy: 99.81 (%)\n",
    "\n",
    "\n",
    "# 100%|███████████████████████████████████████████████████████████████████████████████████████████████████████| 44/44 [02:59<00:00,  4.08s/it]\n",
    "\n",
    "# Validation loss: 0.45746\n",
    "# Validation precision: 0.9868\n",
    "# Validation recall: 0.7795\n",
    "# Validation F1: 0.8710\n",
    "# Validation accuracy: 95.26 (%)\n",
    "\n",
    "\n",
    "# Epoch 155/200\n",
    "\n",
    "# 100%|█████████████████████████████████████████████████████████████████████████████████████████████████████| 176/176 [13:42<00:00,  4.67s/it]\n",
    "\n",
    "# Training loss: 0.00579\n",
    "# Train precision: 0.9928\n",
    "# Train recall: 0.9982\n",
    "# Train F1: 0.9955\n",
    "# Training accuracy: 99.82 (%)\n",
    "\n",
    "\n",
    "# 100%|███████████████████████████████████████████████████████████████████████████████████████████████████████| 44/44 [03:31<00:00,  4.80s/it]\n",
    "\n",
    "# Validation loss: 0.45823\n",
    "# Validation precision: 0.9908\n",
    "# Validation recall: 0.7784\n",
    "# Validation F1: 0.8718\n",
    "# Validation accuracy: 95.48 (%)\n",
    "\n",
    "\n",
    "# Epoch 156/200\n",
    "\n",
    "# 100%|█████████████████████████████████████████████████████████████████████████████████████████████████████| 176/176 [16:00<00:00,  5.46s/it]\n",
    "\n",
    "# Training loss: 0.00477\n",
    "# Train precision: 0.9953\n",
    "# Train recall: 0.9976\n",
    "# Train F1: 0.9965\n",
    "# Training accuracy: 99.87 (%)\n",
    "\n",
    "\n",
    "# 100%|███████████████████████████████████████████████████████████████████████████████████████████████████████| 44/44 [03:31<00:00,  4.82s/it]\n",
    "\n",
    "# Validation loss: 0.48880\n",
    "# Validation precision: 0.9949\n",
    "# Validation recall: 0.7247\n",
    "# Validation F1: 0.8386\n",
    "# Validation accuracy: 94.69 (%)\n",
    "\n",
    "\n",
    "# Epoch 157/200\n",
    "\n",
    "# 100%|█████████████████████████████████████████████████████████████████████████████████████████████████████| 176/176 [16:03<00:00,  5.47s/it]\n",
    "\n",
    "# Training loss: 0.00474\n",
    "# Train precision: 0.9934\n",
    "# Train recall: 0.9981\n",
    "# Train F1: 0.9958\n",
    "# Training accuracy: 99.84 (%)\n",
    "\n",
    "\n",
    "# 100%|███████████████████████████████████████████████████████████████████████████████████████████████████████| 44/44 [03:31<00:00,  4.81s/it]\n",
    "\n",
    "# Validation loss: 0.36296\n",
    "# Validation precision: 0.9864\n",
    "# Validation recall: 0.8089\n",
    "# Validation F1: 0.8889\n",
    "# Validation accuracy: 96.12 (%)\n",
    "\n",
    "\n",
    "# Epoch 158/200\n",
    "\n",
    "# 100%|█████████████████████████████████████████████████████████████████████████████████████████████████████| 176/176 [16:01<00:00,  5.47s/it]\n",
    "\n",
    "# Training loss: 0.00420\n",
    "# Train precision: 0.9953\n",
    "# Train recall: 0.9972\n",
    "# Train F1: 0.9962\n",
    "# Training accuracy: 99.86 (%)\n",
    "\n",
    "\n",
    "# 100%|███████████████████████████████████████████████████████████████████████████████████████████████████████| 44/44 [03:30<00:00,  4.79s/it]\n",
    "\n",
    "# Validation loss: 0.35991\n",
    "# Validation precision: 0.9936\n",
    "# Validation recall: 0.7969\n",
    "# Validation F1: 0.8845\n",
    "# Validation accuracy: 95.66 (%)\n",
    "\n",
    "\n",
    "# Epoch 159/200\n",
    "\n",
    "# 100%|█████████████████████████████████████████████████████████████████████████████████████████████████████| 176/176 [16:02<00:00,  5.47s/it]\n",
    "\n",
    "# Training loss: 0.00463\n",
    "# Train precision: 0.9944\n",
    "# Train recall: 0.9986\n",
    "# Train F1: 0.9965\n",
    "# Training accuracy: 99.87 (%)\n",
    "\n",
    "\n",
    "# 100%|███████████████████████████████████████████████████████████████████████████████████████████████████████| 44/44 [03:32<00:00,  4.84s/it]\n",
    "\n",
    "# Validation loss: 0.51568\n",
    "# Validation precision: 0.9949\n",
    "# Validation recall: 0.6909\n",
    "# Validation F1: 0.8155\n",
    "# Validation accuracy: 93.73 (%)\n",
    "\n",
    "\n",
    "# Epoch 160/200\n",
    "\n",
    "# 100%|█████████████████████████████████████████████████████████████████████████████████████████████████████| 176/176 [16:06<00:00,  5.49s/it]\n",
    "\n",
    "# Training loss: 0.00302\n",
    "# Train precision: 0.9968\n",
    "# Train recall: 0.9991\n",
    "# Train F1: 0.9979\n",
    "# Training accuracy: 99.92 (%)\n",
    "\n",
    "# F1 aumentou de 0.9979 para 0.9979 (160/200)\n",
    "# Saving checkpoint...\n",
    "\n",
    "# 100%|███████████████████████████████████████████████████████████████████████████████████████████████████████| 44/44 [03:31<00:00,  4.81s/it]\n",
    "\n",
    "# Validation loss: 0.40896\n",
    "# Validation precision: 0.9954\n",
    "# Validation recall: 0.8056\n",
    "# Validation F1: 0.8905\n",
    "# Validation accuracy: 96.19 (%)\n",
    "\n",
    "\n",
    "# Epoch 161/200\n",
    "\n",
    "# 100%|█████████████████████████████████████████████████████████████████████████████████████████████████████| 176/176 [16:04<00:00,  5.48s/it]\n",
    "\n",
    "# Training loss: 0.00492\n",
    "# Train precision: 0.9950\n",
    "# Train recall: 0.9986\n",
    "# Train F1: 0.9968\n",
    "# Training accuracy: 99.88 (%)\n",
    "\n",
    "\n",
    "# 100%|███████████████████████████████████████████████████████████████████████████████████████████████████████| 44/44 [03:32<00:00,  4.84s/it]\n",
    "\n",
    "# Validation loss: 0.32731\n",
    "# Validation precision: 0.9852\n",
    "# Validation recall: 0.8488\n",
    "# Validation F1: 0.9119\n",
    "# Validation accuracy: 96.79 (%)\n",
    "\n",
    "# Accuracy aumentou de 0.9676 para 0.9679 (161/200)\n",
    "# Saving checkpoint...\n",
    "\n",
    "# Epoch 162/200\n",
    "\n",
    "# 100%|█████████████████████████████████████████████████████████████████████████████████████████████████████| 176/176 [15:59<00:00,  5.45s/it]\n",
    "\n",
    "# Training loss: 0.00489\n",
    "# Train precision: 0.9926\n",
    "# Train recall: 0.9986\n",
    "# Train F1: 0.9956\n",
    "# Training accuracy: 99.83 (%)\n",
    "\n",
    "\n",
    "# 100%|███████████████████████████████████████████████████████████████████████████████████████████████████████| 44/44 [03:31<00:00,  4.82s/it]\n",
    "\n",
    "# Validation loss: 0.47958\n",
    "# Validation precision: 0.9926\n",
    "# Validation recall: 0.7795\n",
    "# Validation F1: 0.8732\n",
    "# Validation accuracy: 95.83 (%)\n",
    "\n",
    "\n",
    "# Epoch 163/200\n",
    "\n",
    "# 100%|█████████████████████████████████████████████████████████████████████████████████████████████████████| 176/176 [16:02<00:00,  5.47s/it]\n",
    "\n",
    "# Training loss: 0.00409\n",
    "# Train precision: 0.9959\n",
    "# Train recall: 0.9982\n",
    "# Train F1: 0.9970\n",
    "# Training accuracy: 99.88 (%)\n",
    "\n",
    "\n",
    "# 100%|███████████████████████████████████████████████████████████████████████████████████████████████████████| 44/44 [03:30<00:00,  4.78s/it]\n",
    "\n",
    "# Validation loss: 0.49518\n",
    "# Validation precision: 0.9927\n",
    "# Validation recall: 0.7312\n",
    "# Validation F1: 0.8421\n",
    "# Validation accuracy: 94.55 (%)\n",
    "\n",
    "\n",
    "# Epoch 164/200\n",
    "\n",
    "# 100%|█████████████████████████████████████████████████████████████████████████████████████████████████████| 176/176 [16:00<00:00,  5.46s/it]\n",
    "\n",
    "# Training loss: 0.00451\n",
    "# Train precision: 0.9929\n",
    "# Train recall: 0.9981\n",
    "# Train F1: 0.9955\n",
    "# Training accuracy: 99.83 (%)\n",
    "\n",
    "\n",
    "# 100%|███████████████████████████████████████████████████████████████████████████████████████████████████████| 44/44 [03:31<00:00,  4.80s/it]\n",
    "\n",
    "# Validation loss: 0.40420\n",
    "# Validation precision: 0.9934\n",
    "# Validation recall: 0.7933\n",
    "# Validation F1: 0.8822\n",
    "# Validation accuracy: 95.69 (%)\n",
    "\n",
    "\n",
    "# Epoch 165/200\n",
    "\n",
    "# 100%|█████████████████████████████████████████████████████████████████████████████████████████████████████| 176/176 [16:05<00:00,  5.49s/it]\n",
    "\n",
    "# Training loss: 0.00311\n",
    "# Train precision: 0.9968\n",
    "# Train recall: 0.9986\n",
    "# Train F1: 0.9977\n",
    "# Training accuracy: 99.91 (%)\n",
    "\n",
    "\n",
    "# 100%|███████████████████████████████████████████████████████████████████████████████████████████████████████| 44/44 [03:30<00:00,  4.79s/it]\n",
    "\n",
    "# Validation loss: 0.33626\n",
    "# Validation precision: 0.9917\n",
    "# Validation recall: 0.8463\n",
    "# Validation F1: 0.9133\n",
    "# Validation accuracy: 96.76 (%)\n",
    "\n",
    "# F1 aumentou de 0.9122 para 0.9133 (165/200)\n",
    "# Saving checkpoint...\n",
    "\n",
    "# Epoch 166/200\n",
    "\n",
    "# 100%|█████████████████████████████████████████████████████████████████████████████████████████████████████| 176/176 [16:03<00:00,  5.47s/it]\n",
    "\n",
    "# Training loss: 0.00885\n",
    "# Train precision: 0.9958\n",
    "# Train recall: 0.9972\n",
    "# Train F1: 0.9965\n",
    "# Training accuracy: 99.87 (%)\n",
    "\n",
    "\n",
    "# 100%|███████████████████████████████████████████████████████████████████████████████████████████████████████| 44/44 [03:32<00:00,  4.82s/it]\n",
    "\n",
    "# Validation loss: 0.47231\n",
    "# Validation precision: 0.8346\n",
    "# Validation recall: 0.8393\n",
    "# Validation F1: 0.8369\n",
    "# Validation accuracy: 93.77 (%)\n",
    "\n",
    "\n",
    "# Epoch 167/200\n",
    "\n",
    "# 100%|█████████████████████████████████████████████████████████████████████████████████████████████████████| 176/176 [16:02<00:00,  5.47s/it]\n",
    "\n",
    "# Training loss: 0.01616\n",
    "# Train precision: 0.9830\n",
    "# Train recall: 0.9939\n",
    "# Train F1: 0.9884\n",
    "# Training accuracy: 99.55 (%)\n",
    "\n",
    "\n",
    "# 100%|███████████████████████████████████████████████████████████████████████████████████████████████████████| 44/44 [03:33<00:00,  4.85s/it]\n",
    "\n",
    "# Validation loss: 0.31732\n",
    "# Validation precision: 0.9925\n",
    "# Validation recall: 0.7763\n",
    "# Validation F1: 0.8712\n",
    "# Validation accuracy: 95.80 (%)\n",
    "\n",
    "\n",
    "# Epoch 168/200\n",
    "\n",
    "# 100%|█████████████████████████████████████████████████████████████████████████████████████████████████████| 176/176 [16:00<00:00,  5.46s/it]\n",
    "\n",
    "# Training loss: 0.00490\n",
    "# Train precision: 0.9946\n",
    "# Train recall: 0.9968\n",
    "# Train F1: 0.9957\n",
    "# Training accuracy: 99.83 (%)\n",
    "\n",
    "\n",
    "# 100%|███████████████████████████████████████████████████████████████████████████████████████████████████████| 44/44 [03:33<00:00,  4.85s/it]\n",
    "\n",
    "# Validation loss: 0.33347\n",
    "# Validation precision: 0.9878\n",
    "# Validation recall: 0.7849\n",
    "# Validation F1: 0.8747\n",
    "# Validation accuracy: 95.87 (%)\n",
    "\n",
    "\n",
    "# Epoch 169/200\n",
    "\n",
    "# 100%|█████████████████████████████████████████████████████████████████████████████████████████████████████| 176/176 [16:01<00:00,  5.46s/it]\n",
    "\n",
    "# Training loss: 0.00730\n",
    "# Train precision: 0.9908\n",
    "# Train recall: 0.9951\n",
    "# Train F1: 0.9930\n",
    "# Training accuracy: 99.74 (%)\n",
    "\n",
    "\n",
    "# 100%|███████████████████████████████████████████████████████████████████████████████████████████████████████| 44/44 [03:31<00:00,  4.81s/it]\n",
    "\n",
    "# Validation loss: 0.36681\n",
    "# Validation precision: 0.9955\n",
    "# Validation recall: 0.7932\n",
    "# Validation F1: 0.8829\n",
    "# Validation accuracy: 95.83 (%)\n",
    "\n",
    "\n",
    "# Epoch 170/200\n",
    "\n",
    "# 100%|█████████████████████████████████████████████████████████████████████████████████████████████████████| 176/176 [16:00<00:00,  5.46s/it]\n",
    "\n",
    "# Training loss: 0.00364\n",
    "# Train precision: 0.9968\n",
    "# Train recall: 0.9986\n",
    "# Train F1: 0.9977\n",
    "# Training accuracy: 99.91 (%)\n",
    "\n",
    "\n",
    "# 100%|███████████████████████████████████████████████████████████████████████████████████████████████████████| 44/44 [03:32<00:00,  4.83s/it]\n",
    "\n",
    "# Validation loss: 0.43452\n",
    "# Validation precision: 0.9952\n",
    "# Validation recall: 0.7665\n",
    "# Validation F1: 0.8660\n",
    "# Validation accuracy: 95.41 (%)\n",
    "\n",
    "\n",
    "# Epoch 171/200\n",
    "\n",
    "# 100%|█████████████████████████████████████████████████████████████████████████████████████████████████████| 176/176 [16:01<00:00,  5.47s/it]\n",
    "\n",
    "# Training loss: 0.00539\n",
    "# Train precision: 0.9945\n",
    "# Train recall: 0.9982\n",
    "# Train F1: 0.9963\n",
    "# Training accuracy: 99.86 (%)\n",
    "\n",
    "\n",
    "# 100%|███████████████████████████████████████████████████████████████████████████████████████████████████████| 44/44 [03:32<00:00,  4.84s/it]\n",
    "\n",
    "# Validation loss: 0.52340\n",
    "# Validation precision: 0.9878\n",
    "# Validation recall: 0.7486\n",
    "# Validation F1: 0.8517\n",
    "# Validation accuracy: 94.98 (%)\n",
    "\n",
    "\n",
    "# Epoch 172/200\n",
    "\n",
    "# 100%|█████████████████████████████████████████████████████████████████████████████████████████████████████| 176/176 [16:02<00:00,  5.47s/it]\n",
    "\n",
    "# Training loss: 0.00676\n",
    "# Train precision: 0.9931\n",
    "# Train recall: 0.9977\n",
    "# Train F1: 0.9954\n",
    "# Training accuracy: 99.82 (%)\n",
    "\n",
    "\n",
    "# 100%|███████████████████████████████████████████████████████████████████████████████████████████████████████| 44/44 [03:33<00:00,  4.84s/it]\n",
    "\n",
    "# Validation loss: 0.39666\n",
    "# Validation precision: 0.9953\n",
    "# Validation recall: 0.7790\n",
    "# Validation F1: 0.8740\n",
    "# Validation accuracy: 95.66 (%)\n",
    "\n",
    "\n",
    "# Epoch 173/200\n",
    "\n",
    "# 100%|█████████████████████████████████████████████████████████████████████████████████████████████████████| 176/176 [15:56<00:00,  5.44s/it]\n",
    "\n",
    "# Training loss: 0.00844\n",
    "# Train precision: 0.9939\n",
    "# Train recall: 0.9981\n",
    "# Train F1: 0.9960\n",
    "# Training accuracy: 99.85 (%)\n",
    "\n",
    "\n",
    "# 100%|███████████████████████████████████████████████████████████████████████████████████████████████████████| 44/44 [03:32<00:00,  4.84s/it]\n",
    "\n",
    "# Validation loss: 0.54820\n",
    "# Validation precision: 0.7512\n",
    "# Validation recall: 0.8415\n",
    "# Validation F1: 0.7938\n",
    "# Validation accuracy: 91.45 (%)\n",
    "\n",
    "\n",
    "# Epoch 174/200\n",
    "\n",
    "# 100%|█████████████████████████████████████████████████████████████████████████████████████████████████████| 176/176 [16:03<00:00,  5.47s/it]\n",
    "\n",
    "# Training loss: 0.01719\n",
    "# Train precision: 0.9836\n",
    "# Train recall: 0.9913\n",
    "# Train F1: 0.9874\n",
    "# Training accuracy: 99.51 (%)\n",
    "\n",
    "\n",
    "# 100%|███████████████████████████████████████████████████████████████████████████████████████████████████████| 44/44 [03:32<00:00,  4.84s/it]\n",
    "\n",
    "# Validation loss: 0.47187\n",
    "# Validation precision: 0.9933\n",
    "# Validation recall: 0.7907\n",
    "# Validation F1: 0.8805\n",
    "# Validation accuracy: 95.73 (%)\n",
    "\n",
    "\n",
    "# Epoch 175/200\n",
    "\n",
    "# 100%|█████████████████████████████████████████████████████████████████████████████████████████████████████| 176/176 [16:00<00:00,  5.46s/it]\n",
    "\n",
    "# Training loss: 0.00839\n",
    "# Train precision: 0.9885\n",
    "# Train recall: 0.9958\n",
    "# Train F1: 0.9922\n",
    "# Training accuracy: 99.70 (%)\n",
    "\n",
    "\n",
    "# 100%|███████████████████████████████████████████████████████████████████████████████████████████████████████| 44/44 [03:33<00:00,  4.84s/it]\n",
    "\n",
    "# Validation loss: 0.24496\n",
    "# Validation precision: 0.9834\n",
    "# Validation recall: 0.8716\n",
    "# Validation F1: 0.9241\n",
    "# Validation accuracy: 97.22 (%)\n",
    "\n",
    "# Accuracy aumentou de 0.9679 para 0.9722 (175/200)\n",
    "# Saving checkpoint...\n",
    "# F1 aumentou de 0.9133 para 0.9241 (175/200)\n",
    "# Saving checkpoint...\n",
    "\n",
    "# Epoch 176/200\n",
    "\n",
    "# 100%|█████████████████████████████████████████████████████████████████████████████████████████████████████| 176/176 [16:01<00:00,  5.46s/it]\n",
    "\n",
    "# Training loss: 0.00770\n",
    "# Train precision: 0.9903\n",
    "# Train recall: 0.9986\n",
    "# Train F1: 0.9944\n",
    "# Training accuracy: 99.79 (%)\n",
    "\n",
    "\n",
    "# 100%|███████████████████████████████████████████████████████████████████████████████████████████████████████| 44/44 [03:31<00:00,  4.81s/it]\n",
    "\n",
    "# Validation loss: 0.33864\n",
    "# Validation precision: 0.9880\n",
    "# Validation recall: 0.8035\n",
    "# Validation F1: 0.8863\n",
    "# Validation accuracy: 96.23 (%)\n",
    "\n",
    "\n",
    "# Epoch 177/200\n",
    "\n",
    "# 100%|█████████████████████████████████████████████████████████████████████████████████████████████████████| 176/176 [15:58<00:00,  5.44s/it]\n",
    "\n",
    "# Training loss: 0.00642\n",
    "# Train precision: 0.9925\n",
    "# Train recall: 0.9981\n",
    "# Train F1: 0.9953\n",
    "# Training accuracy: 99.82 (%)\n",
    "\n",
    "\n",
    "# 100%|███████████████████████████████████████████████████████████████████████████████████████████████████████| 44/44 [03:32<00:00,  4.83s/it]\n",
    "\n",
    "# Validation loss: 0.35144\n",
    "# Validation precision: 0.9704\n",
    "# Validation recall: 0.8010\n",
    "# Validation F1: 0.8776\n",
    "# Validation accuracy: 95.44 (%)\n",
    "\n",
    "\n",
    "# Epoch 178/200\n",
    "\n",
    "# 100%|█████████████████████████████████████████████████████████████████████████████████████████████████████| 176/176 [15:59<00:00,  5.45s/it]\n",
    "\n",
    "# Training loss: 0.00544\n",
    "# Train precision: 0.9931\n",
    "# Train recall: 0.9991\n",
    "# Train F1: 0.9961\n",
    "# Training accuracy: 99.85 (%)\n",
    "\n",
    "\n",
    "# 100%|███████████████████████████████████████████████████████████████████████████████████████████████████████| 44/44 [03:32<00:00,  4.83s/it]\n",
    "\n",
    "# Validation loss: 0.38020\n",
    "# Validation precision: 0.9811\n",
    "# Validation recall: 0.7643\n",
    "# Validation F1: 0.8592\n",
    "# Validation accuracy: 95.16 (%)\n",
    "\n",
    "\n",
    "# Epoch 179/200\n",
    "\n",
    "# 100%|█████████████████████████████████████████████████████████████████████████████████████████████████████| 176/176 [16:01<00:00,  5.46s/it]\n",
    "\n",
    "# Training loss: 0.00484\n",
    "# Train precision: 0.9955\n",
    "# Train recall: 0.9977\n",
    "# Train F1: 0.9966\n",
    "# Training accuracy: 99.87 (%)\n",
    "\n",
    "\n",
    "# 100%|███████████████████████████████████████████████████████████████████████████████████████████████████████| 44/44 [03:33<00:00,  4.84s/it]\n",
    "\n",
    "# Validation loss: 0.31561\n",
    "# Validation precision: 0.9927\n",
    "# Validation recall: 0.7938\n",
    "# Validation F1: 0.8822\n",
    "# Validation accuracy: 96.12 (%)\n",
    "\n",
    "\n",
    "# Epoch 180/200\n",
    "\n",
    "# 100%|█████████████████████████████████████████████████████████████████████████████████████████████████████| 176/176 [16:02<00:00,  5.47s/it]\n",
    "\n",
    "# Training loss: 0.00572\n",
    "# Train precision: 0.9936\n",
    "# Train recall: 0.9986\n",
    "# Train F1: 0.9961\n",
    "# Training accuracy: 99.85 (%)\n",
    "\n",
    "\n",
    "# 100%|███████████████████████████████████████████████████████████████████████████████████████████████████████| 44/44 [03:32<00:00,  4.84s/it]\n",
    "\n",
    "# Validation loss: 0.32758\n",
    "# Validation precision: 0.9894\n",
    "# Validation recall: 0.8125\n",
    "# Validation F1: 0.8923\n",
    "# Validation accuracy: 95.98 (%)\n",
    "\n",
    "\n",
    "# Epoch 181/200\n",
    "\n",
    "# 100%|█████████████████████████████████████████████████████████████████████████████████████████████████████| 176/176 [16:03<00:00,  5.47s/it]\n",
    "\n",
    "# Training loss: 0.00480\n",
    "# Train precision: 0.9949\n",
    "# Train recall: 0.9977\n",
    "# Train F1: 0.9963\n",
    "# Training accuracy: 99.86 (%)\n",
    "\n",
    "\n",
    "# 100%|███████████████████████████████████████████████████████████████████████████████████████████████████████| 44/44 [03:32<00:00,  4.83s/it]\n",
    "\n",
    "# Validation loss: 0.35444\n",
    "# Validation precision: 0.9935\n",
    "# Validation recall: 0.8234\n",
    "# Validation F1: 0.9005\n",
    "# Validation accuracy: 96.40 (%)\n",
    "\n",
    "\n",
    "# Epoch 182/200\n",
    "\n",
    "# 100%|█████████████████████████████████████████████████████████████████████████████████████████████████████| 176/176 [16:04<00:00,  5.48s/it]\n",
    "\n",
    "# Training loss: 0.00466\n",
    "# Train precision: 0.9944\n",
    "# Train recall: 0.9991\n",
    "# Train F1: 0.9968\n",
    "# Training accuracy: 99.88 (%)\n",
    "\n",
    "\n",
    "# 100%|███████████████████████████████████████████████████████████████████████████████████████████████████████| 44/44 [03:32<00:00,  4.82s/it]\n",
    "\n",
    "# Validation loss: 0.36760\n",
    "# Validation precision: 0.9932\n",
    "# Validation recall: 0.7956\n",
    "# Validation F1: 0.8835\n",
    "# Validation accuracy: 95.90 (%)\n",
    "\n",
    "\n",
    "# Epoch 183/200\n",
    "\n",
    "# 100%|█████████████████████████████████████████████████████████████████████████████████████████████████████| 176/176 [16:01<00:00,  5.47s/it]\n",
    "\n",
    "# Training loss: 0.00542\n",
    "# Train precision: 0.9946\n",
    "# Train recall: 0.9982\n",
    "# Train F1: 0.9964\n",
    "# Training accuracy: 99.86 (%)\n",
    "\n",
    "\n",
    "# 100%|███████████████████████████████████████████████████████████████████████████████████████████████████████| 44/44 [03:33<00:00,  4.85s/it]\n",
    "\n",
    "# Validation loss: 0.35768\n",
    "# Validation precision: 0.9739\n",
    "# Validation recall: 0.8059\n",
    "# Validation F1: 0.8820\n",
    "# Validation accuracy: 96.08 (%)\n",
    "\n",
    "\n",
    "# Epoch 184/200\n",
    "\n",
    "# 100%|█████████████████████████████████████████████████████████████████████████████████████████████████████| 176/176 [15:55<00:00,  5.43s/it]\n",
    "\n",
    "# Training loss: 0.01003\n",
    "# Train precision: 0.9881\n",
    "# Train recall: 0.9963\n",
    "# Train F1: 0.9922\n",
    "# Training accuracy: 99.70 (%)\n",
    "\n",
    "\n",
    "# 100%|███████████████████████████████████████████████████████████████████████████████████████████████████████| 44/44 [03:29<00:00,  4.77s/it]\n",
    "\n",
    "# Validation loss: 0.37524\n",
    "# Validation precision: 0.9932\n",
    "# Validation recall: 0.8059\n",
    "# Validation F1: 0.8898\n",
    "# Validation accuracy: 96.15 (%)\n",
    "\n",
    "\n",
    "# Epoch 185/200\n",
    "\n",
    "# 100%|█████████████████████████████████████████████████████████████████████████████████████████████████████| 176/176 [15:54<00:00,  5.42s/it]\n",
    "\n",
    "# Training loss: 0.00513\n",
    "# Train precision: 0.9938\n",
    "# Train recall: 0.9990\n",
    "# Train F1: 0.9964\n",
    "# Training accuracy: 99.87 (%)\n",
    "\n",
    "\n",
    "# 100%|███████████████████████████████████████████████████████████████████████████████████████████████████████| 44/44 [03:30<00:00,  4.80s/it]\n",
    "\n",
    "# Validation loss: 0.34351\n",
    "# Validation precision: 0.9912\n",
    "# Validation recall: 0.8115\n",
    "# Validation F1: 0.8924\n",
    "# Validation accuracy: 96.12 (%)\n",
    "\n",
    "\n",
    "# Epoch 186/200\n",
    "\n",
    "# 100%|█████████████████████████████████████████████████████████████████████████████████████████████████████| 176/176 [15:49<00:00,  5.40s/it]\n",
    "\n",
    "# Training loss: 0.00468\n",
    "# Train precision: 0.9962\n",
    "# Train recall: 0.9986\n",
    "# Train F1: 0.9974\n",
    "# Training accuracy: 99.90 (%)\n",
    "\n",
    "\n",
    "# 100%|███████████████████████████████████████████████████████████████████████████████████████████████████████| 44/44 [03:29<00:00,  4.76s/it]\n",
    "\n",
    "# Validation loss: 0.35495\n",
    "# Validation precision: 0.9865\n",
    "# Validation recall: 0.8066\n",
    "# Validation F1: 0.8875\n",
    "# Validation accuracy: 96.05 (%)\n",
    "\n",
    "\n",
    "# Epoch 187/200\n",
    "\n",
    "# 100%|█████████████████████████████████████████████████████████████████████████████████████████████████████| 176/176 [15:53<00:00,  5.42s/it]\n",
    "\n",
    "# Training loss: 0.00562\n",
    "# Train precision: 0.9939\n",
    "# Train recall: 0.9986\n",
    "# Train F1: 0.9962\n",
    "# Training accuracy: 99.86 (%)\n",
    "\n",
    "\n",
    "# 100%|███████████████████████████████████████████████████████████████████████████████████████████████████████| 44/44 [03:29<00:00,  4.76s/it]\n",
    "\n",
    "# Validation loss: 0.24047\n",
    "# Validation precision: 0.9201\n",
    "# Validation recall: 0.8436\n",
    "# Validation F1: 0.8802\n",
    "# Validation accuracy: 95.87 (%)\n",
    "\n",
    "\n",
    "# Epoch 188/200\n",
    "\n",
    "# 100%|█████████████████████████████████████████████████████████████████████████████████████████████████████| 176/176 [15:49<00:00,  5.40s/it]\n",
    "\n",
    "# Training loss: 0.00804\n",
    "# Train precision: 0.9926\n",
    "# Train recall: 0.9981\n",
    "# Train F1: 0.9954\n",
    "# Training accuracy: 99.82 (%)\n",
    "\n",
    "\n",
    "# 100%|███████████████████████████████████████████████████████████████████████████████████████████████████████| 44/44 [03:30<00:00,  4.78s/it]\n",
    "\n",
    "# Validation loss: 0.28953\n",
    "# Validation precision: 0.9887\n",
    "# Validation recall: 0.8096\n",
    "# Validation F1: 0.8902\n",
    "# Validation accuracy: 96.15 (%)\n",
    "\n",
    "\n",
    "# Epoch 189/200\n",
    "\n",
    "# 100%|█████████████████████████████████████████████████████████████████████████████████████████████████████| 176/176 [15:53<00:00,  5.42s/it]\n",
    "\n",
    "# Training loss: 0.00330\n",
    "# Train precision: 0.9968\n",
    "# Train recall: 0.9986\n",
    "# Train F1: 0.9977\n",
    "# Training accuracy: 99.91 (%)\n",
    "\n",
    "\n",
    "# 100%|███████████████████████████████████████████████████████████████████████████████████████████████████████| 44/44 [03:32<00:00,  4.83s/it]\n",
    "\n",
    "# Validation loss: 0.35486\n",
    "# Validation precision: 0.9932\n",
    "# Validation recall: 0.8022\n",
    "# Validation F1: 0.8875\n",
    "# Validation accuracy: 96.05 (%)\n",
    "\n",
    "\n",
    "# Epoch 190/200\n",
    "\n",
    "# 100%|█████████████████████████████████████████████████████████████████████████████████████████████████████| 176/176 [16:04<00:00,  5.48s/it]\n",
    "\n",
    "# Training loss: 0.00609\n",
    "# Train precision: 0.9936\n",
    "# Train recall: 0.9986\n",
    "# Train F1: 0.9961\n",
    "# Training accuracy: 99.85 (%)\n",
    "\n",
    "\n",
    "# 100%|███████████████████████████████████████████████████████████████████████████████████████████████████████| 44/44 [03:30<00:00,  4.78s/it]\n",
    "\n",
    "# Validation loss: 0.38683\n",
    "# Validation precision: 0.9902\n",
    "# Validation recall: 0.7704\n",
    "# Validation F1: 0.8666\n",
    "# Validation accuracy: 95.55 (%)\n",
    "\n",
    "\n",
    "# Epoch 191/200\n",
    "\n",
    "# 100%|█████████████████████████████████████████████████████████████████████████████████████████████████████| 176/176 [16:05<00:00,  5.48s/it]\n",
    "\n",
    "# Training loss: 0.00607\n",
    "# Train precision: 0.9924\n",
    "# Train recall: 0.9981\n",
    "# Train F1: 0.9953\n",
    "# Training accuracy: 99.82 (%)\n",
    "\n",
    "\n",
    "# 100%|███████████████████████████████████████████████████████████████████████████████████████████████████████| 44/44 [03:32<00:00,  4.82s/it]\n",
    "\n",
    "# Validation loss: 0.30444\n",
    "# Validation precision: 0.9862\n",
    "# Validation recall: 0.7934\n",
    "# Validation F1: 0.8793\n",
    "# Validation accuracy: 95.80 (%)\n",
    "\n",
    "\n",
    "# Epoch 192/200\n",
    "\n",
    "# 100%|█████████████████████████████████████████████████████████████████████████████████████████████████████| 176/176 [16:00<00:00,  5.46s/it]\n",
    "\n",
    "# Training loss: 0.00380\n",
    "# Train precision: 0.9963\n",
    "# Train recall: 0.9986\n",
    "# Train F1: 0.9975\n",
    "# Training accuracy: 99.90 (%)\n",
    "\n",
    "\n",
    "# 100%|███████████████████████████████████████████████████████████████████████████████████████████████████████| 44/44 [03:31<00:00,  4.81s/it]\n",
    "\n",
    "# Validation loss: 0.25493\n",
    "# Validation precision: 0.9954\n",
    "# Validation recall: 0.8090\n",
    "# Validation F1: 0.8926\n",
    "# Validation accuracy: 96.30 (%)\n",
    "\n",
    "\n",
    "# Epoch 193/200\n",
    "\n",
    "# 100%|█████████████████████████████████████████████████████████████████████████████████████████████████████| 176/176 [16:00<00:00,  5.46s/it]\n",
    "\n",
    "# Training loss: 0.00860\n",
    "# Train precision: 0.9935\n",
    "# Train recall: 0.9958\n",
    "# Train F1: 0.9947\n",
    "# Training accuracy: 99.79 (%)\n",
    "\n",
    "\n",
    "# 100%|███████████████████████████████████████████████████████████████████████████████████████████████████████| 44/44 [03:32<00:00,  4.83s/it]\n",
    "\n",
    "# Validation loss: 0.57496\n",
    "# Validation precision: 0.9878\n",
    "# Validation recall: 0.7350\n",
    "# Validation F1: 0.8429\n",
    "# Validation accuracy: 94.62 (%)\n",
    "\n",
    "\n",
    "# Epoch 194/200\n",
    "\n",
    "# 100%|█████████████████████████████████████████████████████████████████████████████████████████████████████| 176/176 [16:01<00:00,  5.46s/it]\n",
    "\n",
    "# Training loss: 0.00710\n",
    "# Train precision: 0.9912\n",
    "# Train recall: 0.9967\n",
    "# Train F1: 0.9940\n",
    "# Training accuracy: 99.77 (%)\n",
    "\n",
    "\n",
    "# 100%|███████████████████████████████████████████████████████████████████████████████████████████████████████| 44/44 [03:30<00:00,  4.79s/it]\n",
    "\n",
    "# Validation loss: 0.36084\n",
    "# Validation precision: 0.9976\n",
    "# Validation recall: 0.7753\n",
    "# Validation F1: 0.8725\n",
    "# Validation accuracy: 95.69 (%)\n",
    "\n",
    "\n",
    "# Epoch 195/200\n",
    "\n",
    "# 100%|█████████████████████████████████████████████████████████████████████████████████████████████████████| 176/176 [16:01<00:00,  5.46s/it]\n",
    "\n",
    "# Training loss: 0.01142\n",
    "# Train precision: 0.9911\n",
    "# Train recall: 0.9963\n",
    "# Train F1: 0.9937\n",
    "# Training accuracy: 99.76 (%)\n",
    "\n",
    "\n",
    "# 100%|███████████████████████████████████████████████████████████████████████████████████████████████████████| 44/44 [03:32<00:00,  4.82s/it]\n",
    "\n",
    "# Validation loss: 0.51216\n",
    "# Validation precision: 0.9733\n",
    "# Validation recall: 0.8360\n",
    "# Validation F1: 0.8994\n",
    "# Validation accuracy: 96.23 (%)\n",
    "\n",
    "\n",
    "# Epoch 196/200\n",
    "\n",
    "# 100%|█████████████████████████████████████████████████████████████████████████████████████████████████████| 176/176 [16:06<00:00,  5.49s/it]\n",
    "\n",
    "# Training loss: 0.00665\n",
    "# Train precision: 0.9889\n",
    "# Train recall: 0.9986\n",
    "# Train F1: 0.9937\n",
    "# Training accuracy: 99.76 (%)\n",
    "\n",
    "\n",
    "# 100%|███████████████████████████████████████████████████████████████████████████████████████████████████████| 44/44 [03:32<00:00,  4.82s/it]\n",
    "\n",
    "# Validation loss: 0.38954\n",
    "# Validation precision: 0.9931\n",
    "# Validation recall: 0.7804\n",
    "# Validation F1: 0.8740\n",
    "# Validation accuracy: 95.58 (%)\n",
    "\n",
    "\n",
    "# Epoch 197/200\n",
    "\n",
    "# 100%|█████████████████████████████████████████████████████████████████████████████████████████████████████| 176/176 [16:03<00:00,  5.48s/it]\n",
    "\n",
    "# Training loss: 0.00537\n",
    "# Train precision: 0.9936\n",
    "# Train recall: 0.9968\n",
    "# Train F1: 0.9952\n",
    "# Training accuracy: 99.81 (%)\n",
    "\n",
    "\n",
    "# 100%|███████████████████████████████████████████████████████████████████████████████████████████████████████| 44/44 [03:30<00:00,  4.79s/it]\n",
    "\n",
    "# Validation loss: 0.39557\n",
    "# Validation precision: 0.9930\n",
    "# Validation recall: 0.7723\n",
    "# Validation F1: 0.8689\n",
    "# Validation accuracy: 95.44 (%)\n",
    "\n",
    "\n",
    "# Epoch 198/200\n",
    "\n",
    "# 100%|█████████████████████████████████████████████████████████████████████████████████████████████████████| 176/176 [16:01<00:00,  5.47s/it]\n",
    "\n",
    "# Training loss: 0.00840\n",
    "# Train precision: 0.9935\n",
    "# Train recall: 0.9967\n",
    "# Train F1: 0.9951\n",
    "# Training accuracy: 99.81 (%)\n",
    "\n",
    "\n",
    "# 100%|███████████████████████████████████████████████████████████████████████████████████████████████████████| 44/44 [03:32<00:00,  4.83s/it]\n",
    "\n",
    "# Validation loss: 0.25244\n",
    "# Validation precision: 0.9250\n",
    "# Validation recall: 0.8513\n",
    "# Validation F1: 0.8866\n",
    "# Validation accuracy: 95.62 (%)\n",
    "\n",
    "\n",
    "# Epoch 199/200\n",
    "\n",
    "# 100%|█████████████████████████████████████████████████████████████████████████████████████████████████████| 176/176 [16:05<00:00,  5.49s/it]\n",
    "\n",
    "# Training loss: 0.00515\n",
    "# Train precision: 0.9940\n",
    "# Train recall: 0.9981\n",
    "# Train F1: 0.9960\n",
    "# Training accuracy: 99.85 (%)\n",
    "\n",
    "\n",
    "# 100%|███████████████████████████████████████████████████████████████████████████████████████████████████████| 44/44 [03:31<00:00,  4.81s/it]\n",
    "\n",
    "# Validation loss: 0.34744\n",
    "# Validation precision: 0.9932\n",
    "# Validation recall: 0.8141\n",
    "# Validation F1: 0.8948\n",
    "# Validation accuracy: 96.33 (%)\n",
    "\n",
    "\n",
    "# Epoch 200/200\n",
    "\n",
    "# 100%|█████████████████████████████████████████████████████████████████████████████████████████████████████| 176/176 [16:04<00:00,  5.48s/it]\n",
    "\n",
    "# Training loss: 0.00870\n",
    "# Train precision: 0.9922\n",
    "# Train recall: 0.9977\n",
    "# Train F1: 0.9949\n",
    "# Training accuracy: 99.80 (%)\n",
    "\n",
    "\n",
    "# 100%|███████████████████████████████████████████████████████████████████████████████████████████████████████| 44/44 [03:31<00:00,  4.82s/it]\n",
    "\n",
    "# Validation loss: 0.35956\n",
    "# Validation precision: 0.8861\n",
    "# Validation recall: 0.8586\n",
    "# Validation F1: 0.8722\n",
    "# Validation accuracy: 94.80 (%)\n"
   ]
  },
  {
   "cell_type": "code",
   "execution_count": null,
   "id": "ed9fcaba-0fca-43f9-9500-7a6273c9985e",
   "metadata": {},
   "outputs": [],
   "source": []
  }
 ],
 "metadata": {
  "kernelspec": {
   "display_name": "Python 3 (ipykernel)",
   "language": "python",
   "name": "python3"
  },
  "language_info": {
   "codemirror_mode": {
    "name": "ipython",
    "version": 3
   },
   "file_extension": ".py",
   "mimetype": "text/x-python",
   "name": "python",
   "nbconvert_exporter": "python",
   "pygments_lexer": "ipython3",
   "version": "3.10.12"
  }
 },
 "nbformat": 4,
 "nbformat_minor": 5
}
