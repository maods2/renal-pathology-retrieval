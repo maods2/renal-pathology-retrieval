{
 "cells": [
  {
   "cell_type": "code",
   "execution_count": 1,
   "metadata": {},
   "outputs": [],
   "source": [
    "import numpy as np\n",
    "from sklearn.metrics import precision_score, recall_score"
   ]
  },
  {
   "cell_type": "code",
   "execution_count": 11,
   "metadata": {},
   "outputs": [
    {
     "data": {
      "text/plain": [
       "(100,)"
      ]
     },
     "execution_count": 11,
     "metadata": {},
     "output_type": "execute_result"
    }
   ],
   "source": [
    "rótulos.shape"
   ]
  },
  {
   "cell_type": "code",
   "execution_count": 2,
   "metadata": {},
   "outputs": [
    {
     "name": "stdout",
     "output_type": "stream",
     "text": [
      "Consulta 1 - Precisão: 0.4, Recall: 0.08163265306122448\n",
      "Consulta 2 - Precisão: 0.3, Recall: 0.05263157894736842\n",
      "Consulta 3 - Precisão: 0.4, Recall: 0.10256410256410256\n",
      "Consulta 4 - Precisão: 0.3, Recall: 0.061224489795918366\n",
      "Consulta 5 - Precisão: 0.3, Recall: 0.06382978723404255\n",
      "Consulta 6 - Precisão: 0.3, Recall: 0.06521739130434782\n",
      "Consulta 7 - Precisão: 0.4, Recall: 0.08333333333333333\n",
      "Consulta 8 - Precisão: 0.5, Recall: 0.1\n",
      "Consulta 9 - Precisão: 0.3, Recall: 0.06521739130434782\n",
      "Consulta 10 - Precisão: 0.1, Recall: 0.022222222222222223\n",
      "Média de Precisão: 0.32999999999999996\n",
      "Média de Recall: 0.06978729497669076\n"
     ]
    }
   ],
   "source": [
    "\n",
    "\n",
    "# Suponha que você tenha embeddings de consulta e embeddings de imagens de referência\n",
    "# Substitua esses dados com seus próprios embeddings\n",
    "embeddings_de_consulta = np.random.rand(10, 256)  # 10 embeddings de consulta de exemplo (256 dimensões)\n",
    "embeddings_de_referencia = np.random.rand(100, 256)  # 100 embeddings de referência de exemplo (256 dimensões)\n",
    "\n",
    "# Suponha que você tenha rótulos de relevância para cada consulta\n",
    "# Substitua esses dados com seus próprios rótulos de relevância\n",
    "rótulos_de_relevância = np.random.randint(2, size=(10, 100))  # Matriz de relevância (0 ou 1)\n",
    "\n",
    "# Número de imagens a serem recuperadas para cada consulta\n",
    "k = 10\n",
    "\n",
    "# Recuperação de Imagens\n",
    "imagens_recuperadas = []\n",
    "for embedding_de_consulta, rótulos in zip(embeddings_de_consulta, rótulos_de_relevância):\n",
    "    # Calcula a similaridade entre o embedding de consulta e todos os embeddings de referência\n",
    "    similaridades = np.dot(embeddings_de_referencia, embedding_de_consulta)\n",
    "\n",
    "    # Classifica os índices das imagens de referência com base na similaridade\n",
    "    índices_ordenados = np.argsort(similaridades)[::-1]\n",
    "\n",
    "    # Recupera as top-k imagens mais similares\n",
    "    top_k_imagens = índices_ordenados[:k]\n",
    "\n",
    "    imagens_recuperadas.append(top_k_imagens)\n",
    "\n",
    "# Validando os Resultados\n",
    "precision_scores = []\n",
    "recall_scores = []\n",
    "\n",
    "for i, (imagens_relevantes, rótulos) in enumerate(zip(imagens_recuperadas, rótulos_de_relevância)):\n",
    "    # Calcula as métricas de precisão e recall para cada consulta\n",
    "    precision = precision_score(rótulos, [1 if j in imagens_relevantes else 0 for j in range(len(embeddings_de_referencia))])\n",
    "    recall = recall_score(rótulos, [1 if j in imagens_relevantes else 0 for j in range(len(embeddings_de_referencia))])\n",
    "\n",
    "    print(f\"Consulta {i+1} - Precisão: {precision}, Recall: {recall}\")\n",
    "    \n",
    "    precision_scores.append(precision)\n",
    "    recall_scores.append(recall)\n",
    "\n",
    "# Calcula a média das métricas de precisão e recall para todas as consultas\n",
    "mean_precision = np.mean(precision_scores)\n",
    "mean_recall = np.mean(recall_scores)\n",
    "\n",
    "print(f\"Média de Precisão: {mean_precision}\")\n",
    "print(f\"Média de Recall: {mean_recall}\")"
   ]
  },
  {
   "cell_type": "code",
   "execution_count": null,
   "metadata": {},
   "outputs": [],
   "source": []
  }
 ],
 "metadata": {
  "kernelspec": {
   "display_name": "renal-pathology-retrieval-P_udDvkW",
   "language": "python",
   "name": "python3"
  },
  "language_info": {
   "codemirror_mode": {
    "name": "ipython",
    "version": 3
   },
   "file_extension": ".py",
   "mimetype": "text/x-python",
   "name": "python",
   "nbconvert_exporter": "python",
   "pygments_lexer": "ipython3",
   "version": "3.10.4"
  },
  "orig_nbformat": 4
 },
 "nbformat": 4,
 "nbformat_minor": 2
}
